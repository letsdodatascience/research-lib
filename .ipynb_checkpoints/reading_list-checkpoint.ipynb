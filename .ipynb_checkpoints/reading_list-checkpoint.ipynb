{
 "cells": [
  {
   "cell_type": "markdown",
   "metadata": {},
   "source": [
    "- [The year in AI/ML advances: 2018 roundup](https://medium.com/@xamat/the-year-in-ai-ml-advances-2018-roundup-db52f7f96358)\n",
    "\n",
    "- [TF-Ranking: A Scalable TensorFlow Library for Learning-to-Rank](https://ai.googleblog.com/2018/12/tf-ranking-scalable-tensorflow-library.html)"
   ]
  },
  {
   "cell_type": "markdown",
   "metadata": {},
   "source": [
    "- [pytorch-pretrained-BigGAN](https://github.com/huggingface/pytorch-pretrained-BigGAN)\n",
    "- [BigGanEx: A Dive into the Latent Space of BigGan](https://thegradient.pub/bigganex-a-dive-into-the-latent-space-of-biggan/)"
   ]
  },
  {
   "cell_type": "markdown",
   "metadata": {},
   "source": []
  },
  {
   "cell_type": "markdown",
   "metadata": {},
   "source": [
    "- [temporal-cycle-consistency](https://temporal-cycle-consistency.github.io/)\n",
    "\n",
    "- [Neural Painters: A learned differentiable constraint\n",
    "for generating brushstroke paintings](https://arxiv.org/pdf/1904.08410.pdf)\n",
    "\n",
    "- [Build a Modern Computer from First Principles](https://www.coursera.org/learn/nand2tetris2)\n",
    "\n",
    "- [ Natural Language Understanding and Computational Semantics](https://docs.google.com/document/d/1kXhxA4iit2fhAJJGOb32bb151cKLJtW8xWuyMVwqD6s/edit)"
   ]
  },
  {
   "cell_type": "markdown",
   "metadata": {},
   "source": [
    "### Compilers"
   ]
  },
  {
   "cell_type": "markdown",
   "metadata": {},
   "source": [
    "- [Principles of Compiler Design](https://www.cs.swarthmore.edu/~jpolitz/cs75/s16/s_schedule.html)\n",
    "- [CMSC430: Introduction to Compilers](http://www.cs.umd.edu/class/fall2017/cmsc430/)"
   ]
  },
  {
   "cell_type": "code",
   "execution_count": null,
   "metadata": {},
   "outputs": [],
   "source": []
  },
  {
   "cell_type": "code",
   "execution_count": null,
   "metadata": {},
   "outputs": [],
   "source": []
  },
  {
   "cell_type": "markdown",
   "metadata": {
    "heading_collapsed": true
   },
   "source": [
    "### ML- Fast.ai part2, deep unsupervised learning and mechanism design"
   ]
  },
  {
   "cell_type": "markdown",
   "metadata": {
    "hidden": true
   },
   "source": [
    "- [Partial Convolution Layer for Padding and Image Inpainting\n",
    "](https://github.com/NVIDIA/partialconv)\n",
    "    - https://arxiv.org/pdf/1804.07723.pdf"
   ]
  },
  {
   "cell_type": "markdown",
   "metadata": {
    "hidden": true
   },
   "source": [
    "- Loc2Vec: https://w§ww.sentiance.com/2018/05/03/venue-mapping/\n",
    "- Python for data science: https://jakevdp.github.io/PythonDataScienceHandbook/index.html\n",
    "- swift for tensorflow: \n",
    "- Receptive Fields: https://github.com/fornaxai/receptivefield/blob/master/notebooks/minimal_example_with_pytorch_API.ipynb\n",
    "- https://medium.com/mlreview/a-guide-to-receptive-field-arithmetic-for-convolutional-neural-networks-e0f514068807\n",
    "- https://wyag.thb.lt/\n",
    "- https://github.com/tensorflow/swift/blob/master/docs/WhySwiftForTensorFlow.md\n",
    "- https://www.howtographql.com/\n",
    "- https://dariopavllo.github.io/VideoPose3D/\n",
    "- https://m2dsupsdlclass.github.io/lectures-labs/\n",
    "- https://distill.pub/2019/activation-atlas/\n",
    "- https://matplotlib.org/gallery/specialty_plots/hinton_demo.html\n",
    "- https://github.com/chiphuyen/lazynlp\n",
    "- https://github.com/alvations/Quotables\n",
    "- http://ml4a.github.io/classes/itp-F18/\n",
    "- https://github.com/jotaf98/easy-receptive-fields-pytorch\n",
    "- https://machinethink.net/blog/object-detection/\n",
    "- https://distill.pub/2019/memorization-in-rnns/\n",
    "- \n",
    "https://lilianweng.github.io/lil-log/"
   ]
  },
  {
   "cell_type": "markdown",
   "metadata": {
    "heading_collapsed": true
   },
   "source": [
    "### Network analysis"
   ]
  },
  {
   "cell_type": "markdown",
   "metadata": {
    "hidden": true
   },
   "source": [
    "- http://web.stanford.edu/class/cs224w/index.html\n",
    "- \n",
    "\n",
    "https://www.pornhub.com/view_video.php?viewkey=ph5c1d4bb719a33\n",
    "https://www.analdin.com/videos/187952/mia-melano-office-sex/\n",
    "\n",
    "https://nbviewer.jupyter.org/github/urtrial/neural_ode/blob/master/Neural%20ODEs.ipynb\n",
    "\n",
    "https://ai.facebook.com/blog/open-sourcing-pytorch-biggraph-for-faster-embeddings-of-extremely-large-graphs/\n",
    "\n",
    "\n",
    "\n",
    "http://taskonomy.stanford.edu/\n",
    "\n",
    "https://arxiv.org/abs/1701.07275\n",
    "\n",
    "https://arxiv.org/pdf/1902.00751.pdf\n",
    "\n",
    "\n",
    "\n",
    "https://blogs.dropbox.com/tech/2017/04/creating-a-modern-ocr-pipeline-using-computer-vision-and-deep-learning/\n",
    "\n",
    "https://reactgo.com/\n",
    "\n",
    "https://neptunian.github.io/react-photo-gallery/\n",
    "\n",
    "https://blog.usejournal.com/building-highly-performant-masonry-layouts-with-gatsby-js-54115acc3e72\n",
    "\n",
    "https://www.analdin.com/videos/252909/dark-haired-bombshell-getting-fucked-on-halloween-night/\n",
    "https://www.analdin.com/videos/273307/my-alluring-stepmom-analdin/\n",
    "https://www.analdin.com/videos/276175/karlee-grey-loves-rough-mating/\n",
    "https://reiinakano.github.io/2019/01/27/world-painters.html"
   ]
  },
  {
   "cell_type": "markdown",
   "metadata": {
    "hidden": true
   },
   "source": []
  },
  {
   "cell_type": "markdown",
   "metadata": {
    "heading_collapsed": true
   },
   "source": [
    "### Economics "
   ]
  },
  {
   "cell_type": "markdown",
   "metadata": {
    "hidden": true
   },
   "source": [
    "- https://oyc.yale.edu/economics/econ-252-11/lecture-1\n",
    "\n",
    "\n",
    "http://www.perfectgirls.net/gal/580257/Sexy_blonde_step_sister_knows_how_to_please_her_horny_step_brother__while_alone_at_home"
   ]
  },
  {
   "cell_type": "markdown",
   "metadata": {
    "heading_collapsed": true
   },
   "source": [
    "### NLP research"
   ]
  },
  {
   "cell_type": "markdown",
   "metadata": {
    "hidden": true
   },
   "source": [
    "- https://arxiv.org/abs/1904.03396\n",
    "    - Step-by-Step: Separating Planning from Realization in Neural Data-to-Text Generation\n",
    "    - https://github.com/AmitMY/chimera\n",
    "- https://arxiv.org/pdf/1904.04063.pdf\n",
    "    - Analyzing and Interpreting Neural Networks for NLP: A Report on the First BlackboxNLP Workshop"
   ]
  },
  {
   "cell_type": "markdown",
   "metadata": {
    "hidden": true
   },
   "source": [
    "[Advanced NLP with Spacy](https://course.spacy.io/)"
   ]
  },
  {
   "cell_type": "code",
   "execution_count": null,
   "metadata": {
    "hidden": true
   },
   "outputs": [],
   "source": []
  },
  {
   "cell_type": "markdown",
   "metadata": {
    "heading_collapsed": true
   },
   "source": [
    "### Projects "
   ]
  },
  {
   "cell_type": "markdown",
   "metadata": {
    "hidden": true
   },
   "source": [
    "- Style Transfer\n",
    "- Deep-Unsupervised Learning\n",
    "- Deep Reinforcement Learning \n",
    "- Deep Natural Language Processing\n",
    "- Wavenet \n",
    "- PixelCNN \n",
    "- Library to train neural networks in Pytorch \n",
    "- git clone \n",
    "- slam \n",
    "- pix2pix \n",
    "- everybody dance now \n",
    "- BigGan \n",
    "https://reiinakano.github.io/2019/01/27/world-painters.html\n",
    "\n",
    "https://arxiv.org/abs/1705.06830\n",
    "\n",
    "\n",
    "\n",
    "https://www.kaggle.com/c/imet-2019-fgvc6/data\n",
    "\n",
    "https://www.kaggle.com/c/freesound-audio-tagging-2019/data\n",
    "\n",
    "https://www.kaggle.com/c/jigsaw-unintended-bias-in-toxicity-classification\n",
    "\n",
    "[A Global Analysis of Emoji Usage\t](https://www.aclweb.org/anthology/W16-2610)\n",
    "\n",
    "https://www.youtube.com/watch?v=DkiFjzQgJtg&list=PLUd6W-teJgiUQ91iMd-HfDDML80vczjoY&index=3"
   ]
  },
  {
   "cell_type": "markdown",
   "metadata": {
    "heading_collapsed": true
   },
   "source": [
    "### SLAM Research : Geometric Deep Learning"
   ]
  },
  {
   "cell_type": "markdown",
   "metadata": {
    "hidden": true
   },
   "source": [
    "- [Depth from Videos in the Wild:\n",
    "Unsupervised Monocular Depth Learning from Unknown Cameras](https://arxiv.org/pdf/1904.04998.pdf)"
   ]
  },
  {
   "cell_type": "markdown",
   "metadata": {
    "hidden": true
   },
   "source": [
    "- https://www.youtube.com/watch?v=v-EbtUkPqws\n",
    "- https://www.youtube.com/watch?v=pgomVDoEMrc\n",
    "- https://www.youtube.com/watch?v=ptcBmEHDWds\n",
    "- Geometric Deep Learning on Graphs and Manifolds(NIPS Tutorial) https://www.youtube.com/watch?v=LvmjbXZyoP0\n",
    "- https://sites.google.com/site/deepgeometry2018/\n",
    "- http://geometricdeeplearning.com/\n",
    "- https://www.ipam.ucla.edu/programs/workshops/new-deep-learning-techniques/?tab=schedule\n",
    "- Yan Le cud’s paper: https://arxiv.org/pdf/1611.08097.pdf"
   ]
  },
  {
   "cell_type": "code",
   "execution_count": null,
   "metadata": {
    "hidden": true
   },
   "outputs": [],
   "source": []
  },
  {
   "cell_type": "code",
   "execution_count": null,
   "metadata": {
    "hidden": true
   },
   "outputs": [],
   "source": []
  },
  {
   "cell_type": "markdown",
   "metadata": {
    "heading_collapsed": true
   },
   "source": [
    "### Counterfactual Regret Minimization"
   ]
  },
  {
   "cell_type": "code",
   "execution_count": null,
   "metadata": {
    "hidden": true
   },
   "outputs": [],
   "source": []
  },
  {
   "cell_type": "markdown",
   "metadata": {
    "heading_collapsed": true
   },
   "source": [
    "### GANS"
   ]
  },
  {
   "cell_type": "code",
   "execution_count": null,
   "metadata": {
    "hidden": true
   },
   "outputs": [],
   "source": []
  },
  {
   "cell_type": "markdown",
   "metadata": {
    "hidden": true
   },
   "source": [
    "- [Photos from Crude Sketches: NVIDIA's GauGAN Explained Visually](https://adamdking.com/blog/gaugan/)"
   ]
  },
  {
   "cell_type": "markdown",
   "metadata": {
    "hidden": true
   },
   "source": [
    "- [Semantic Image Synthesis with SPADE\n",
    "](https://github.com/NVlabs/SPADE/blob/master/README.md)"
   ]
  },
  {
   "cell_type": "markdown",
   "metadata": {
    "heading_collapsed": true
   },
   "source": [
    "### Unsupervised Deep Learning "
   ]
  },
  {
   "cell_type": "markdown",
   "metadata": {
    "hidden": true
   },
   "source": [
    "- [Berkely course](https://sites.google.com/view/berkeley-cs294-158-sp19/home)"
   ]
  },
  {
   "cell_type": "markdown",
   "metadata": {
    "hidden": true
   },
   "source": [
    "- https://deepmind.com/blog/unsupervised-learning/\n",
    "- https://players.brightcove.net/5748441669001/rka4xWwYG_default/index.html?videoId=6022992002001"
   ]
  },
  {
   "cell_type": "markdown",
   "metadata": {
    "hidden": true
   },
   "source": [
    "- https://github.com/conormdurkan/autoregressive-energy-machines/tree/master/pytorch\n",
    "    - [Autoregressive Energy Machines](https://arxiv.org/abs/1904.05626)"
   ]
  },
  {
   "cell_type": "markdown",
   "metadata": {
    "hidden": true
   },
   "source": [
    "- https://github.com/NVIDIA/partialconv"
   ]
  },
  {
   "cell_type": "code",
   "execution_count": null,
   "metadata": {
    "hidden": true
   },
   "outputs": [],
   "source": []
  },
  {
   "cell_type": "code",
   "execution_count": null,
   "metadata": {
    "hidden": true
   },
   "outputs": [],
   "source": []
  },
  {
   "cell_type": "markdown",
   "metadata": {
    "heading_collapsed": true
   },
   "source": [
    "### DL Production"
   ]
  },
  {
   "cell_type": "code",
   "execution_count": null,
   "metadata": {
    "hidden": true
   },
   "outputs": [],
   "source": []
  },
  {
   "cell_type": "markdown",
   "metadata": {
    "hidden": true
   },
   "source": [
    "[Putting DL in production berkley bootcamp](https://fullstackdeeplearning.com/march2019#)"
   ]
  },
  {
   "cell_type": "markdown",
   "metadata": {
    "hidden": true
   },
   "source": []
  },
  {
   "cell_type": "code",
   "execution_count": null,
   "metadata": {
    "hidden": true
   },
   "outputs": [],
   "source": []
  }
 ],
 "metadata": {
  "kernelspec": {
   "display_name": "my-fastai",
   "language": "python",
   "name": "my-fastai"
  },
  "language_info": {
   "codemirror_mode": {
    "name": "ipython",
    "version": 3
   },
   "file_extension": ".py",
   "mimetype": "text/x-python",
   "name": "python",
   "nbconvert_exporter": "python",
   "pygments_lexer": "ipython3",
   "version": "3.6.8"
  }
 },
 "nbformat": 4,
 "nbformat_minor": 2
}
