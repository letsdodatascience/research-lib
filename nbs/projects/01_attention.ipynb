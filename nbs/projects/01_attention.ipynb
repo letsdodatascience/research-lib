{
 "cells": [
  {
   "cell_type": "markdown",
   "metadata": {},
   "source": [
    "- https://lilianweng.github.io/lil-log/2018/06/24/attention-attention.html\n",
    "- http://mostafadehghani.com/2019/05/05/universal-transformers/\n",
    "- http://jalammar.github.io/illustrated-transformer/\n",
    "- https://vimeo.com/232544904"
   ]
  },
  {
   "cell_type": "code",
   "execution_count": 1,
   "metadata": {},
   "outputs": [],
   "source": [
    "# !conda install -c pytorch -c fastai fastai --yes"
   ]
  },
  {
   "cell_type": "markdown",
   "metadata": {},
   "source": [
    "We are going to study attention in deep learning. We are going to follow [Lilian's](https://lilianweng.github.io/lil-log/2018/06/24/attention-attention.html) amazing blog post on `Attention`."
   ]
  },
  {
   "cell_type": "markdown",
   "metadata": {},
   "source": [
    "> Attention has been a fairly popular concept and a useful tool in the deep learning community in recent years. In this post, we are gonna look into how attention was invented, and various attention mechanisms and models, such as transformer and SNAIL."
   ]
  },
  {
   "cell_type": "markdown",
   "metadata": {},
   "source": [
    "In a nutshell, attention in the deep learning can be broadly interpreted as a vector of importance weights: in order to predict or infer one element, such as a pixel in an image or a word in a sentence, we estimate using the attention vector how strongly it is correlated with (or “attends to” as you may have read in many papers) other elements and take the sum of their values weighted by the attention vector as the approximation of the target."
   ]
  },
  {
   "cell_type": "code",
   "execution_count": 1,
   "metadata": {},
   "outputs": [
    {
     "name": "stdout",
     "output_type": "stream",
     "text": [
      "/Users/vks/Desktop/deep-unsupervised-learning/fai-part2/research-lib/nbs/projects\r\n"
     ]
    }
   ],
   "source": [
    "!pwd"
   ]
  },
  {
   "cell_type": "code",
   "execution_count": 2,
   "metadata": {},
   "outputs": [],
   "source": [
    "import sys\n",
    "sys.path.insert(0, '../')"
   ]
  },
  {
   "cell_type": "code",
   "execution_count": 3,
   "metadata": {},
   "outputs": [],
   "source": [
    "from lib.nb_07 import *"
   ]
  },
  {
   "cell_type": "code",
   "execution_count": 4,
   "metadata": {},
   "outputs": [],
   "source": [
    "import warnings\n",
    "warnings.filterwarnings('ignore')"
   ]
  },
  {
   "cell_type": "markdown",
   "metadata": {},
   "source": [
    "## Seq2Seq: Translating French questions to English Questions"
   ]
  },
  {
   "cell_type": "markdown",
   "metadata": {
    "heading_collapsed": true
   },
   "source": [
    "### Data"
   ]
  },
  {
   "cell_type": "markdown",
   "metadata": {
    "heading_collapsed": true,
    "hidden": true
   },
   "source": [
    "#### Get Data"
   ]
  },
  {
   "cell_type": "markdown",
   "metadata": {
    "hidden": true
   },
   "source": [
    "Getting the dataset."
   ]
  },
  {
   "cell_type": "code",
   "execution_count": null,
   "metadata": {
    "hidden": true
   },
   "outputs": [],
   "source": [
    "path = datasets.Config().data_path()"
   ]
  },
  {
   "cell_type": "code",
   "execution_count": null,
   "metadata": {
    "hidden": true
   },
   "outputs": [],
   "source": [
    "#! wget https://s3.amazonaws.com/fast-ai-nlp/giga-fren.tgz -P {path}"
   ]
  },
  {
   "cell_type": "code",
   "execution_count": null,
   "metadata": {
    "hidden": true
   },
   "outputs": [],
   "source": [
    "#! tar xf {path}/giga-fren.tgz -C {path} "
   ]
  },
  {
   "cell_type": "code",
   "execution_count": null,
   "metadata": {
    "hidden": true
   },
   "outputs": [],
   "source": [
    "(path/\"giga-fren\").ls()"
   ]
  },
  {
   "cell_type": "code",
   "execution_count": null,
   "metadata": {
    "hidden": true
   },
   "outputs": [],
   "source": [
    "# with open(path/'giga-fren/giga-fren.release2.fixed.fr') as f:\n",
    "#     fr = f.read().split('\\n')"
   ]
  },
  {
   "cell_type": "code",
   "execution_count": null,
   "metadata": {
    "hidden": true
   },
   "outputs": [],
   "source": [
    "# with open(path/'giga-fren/giga-fren.release2.fixed.en') as f:\n",
    "#     en = f.read().split('\\n')"
   ]
  },
  {
   "cell_type": "code",
   "execution_count": null,
   "metadata": {
    "hidden": true
   },
   "outputs": [],
   "source": [
    "# re_eq = re.compile('^(Wh[^?.!]+\\?)')\n",
    "# re_fq = re.compile('^([^?.!]+\\?)')\n",
    "# en_fname = path/'giga-fren/giga-fren.release2.fixed.en'\n",
    "# fr_fname = path/'giga-fren/giga-fren.release2.fixed.fr'"
   ]
  },
  {
   "cell_type": "code",
   "execution_count": null,
   "metadata": {
    "hidden": true
   },
   "outputs": [],
   "source": [
    "# lines = ((re_eq.search(eq), re_fq.search(fq)) \n",
    "#         for eq, fq in zip(open(en_fname, encoding='utf-8'), open(fr_fname, encoding='utf-8')))\n",
    "# qs = [(e.group(), f.group()) for e,f in lines if e and f]"
   ]
  },
  {
   "cell_type": "code",
   "execution_count": null,
   "metadata": {
    "hidden": true
   },
   "outputs": [],
   "source": [
    "# qs = [(q1,q2) for q1,q2 in qs]\n",
    "# df = pd.DataFrame({'fr': [q[1] for q in qs], 'en': [q[0] for q in qs]}, columns = ['en', 'fr'])\n",
    "# df.to_csv(path/'questions_easy.csv', index=False)"
   ]
  },
  {
   "cell_type": "code",
   "execution_count": null,
   "metadata": {
    "hidden": true
   },
   "outputs": [],
   "source": [
    "path = datasets.Config().data_path()/'giga-fren'\n",
    "path.ls()"
   ]
  },
  {
   "cell_type": "markdown",
   "metadata": {
    "heading_collapsed": true,
    "hidden": true
   },
   "source": [
    "#### Databunch"
   ]
  },
  {
   "cell_type": "code",
   "execution_count": 5,
   "metadata": {
    "hidden": true
   },
   "outputs": [],
   "source": [
    "path = datasets.Config().data_path()"
   ]
  },
  {
   "cell_type": "code",
   "execution_count": 6,
   "metadata": {
    "hidden": true
   },
   "outputs": [
    {
     "data": {
      "text/html": [
       "<div>\n",
       "<style scoped>\n",
       "    .dataframe tbody tr th:only-of-type {\n",
       "        vertical-align: middle;\n",
       "    }\n",
       "\n",
       "    .dataframe tbody tr th {\n",
       "        vertical-align: top;\n",
       "    }\n",
       "\n",
       "    .dataframe thead th {\n",
       "        text-align: right;\n",
       "    }\n",
       "</style>\n",
       "<table border=\"1\" class=\"dataframe\">\n",
       "  <thead>\n",
       "    <tr style=\"text-align: right;\">\n",
       "      <th></th>\n",
       "      <th>en</th>\n",
       "      <th>fr</th>\n",
       "    </tr>\n",
       "  </thead>\n",
       "  <tbody>\n",
       "    <tr>\n",
       "      <th>0</th>\n",
       "      <td>What is light ?</td>\n",
       "      <td>Qu’est-ce que la lumière?</td>\n",
       "    </tr>\n",
       "    <tr>\n",
       "      <th>1</th>\n",
       "      <td>Who are we?</td>\n",
       "      <td>Où sommes-nous?</td>\n",
       "    </tr>\n",
       "    <tr>\n",
       "      <th>2</th>\n",
       "      <td>Where did we come from?</td>\n",
       "      <td>D'où venons-nous?</td>\n",
       "    </tr>\n",
       "    <tr>\n",
       "      <th>3</th>\n",
       "      <td>What would we do without it?</td>\n",
       "      <td>Que ferions-nous sans elle ?</td>\n",
       "    </tr>\n",
       "    <tr>\n",
       "      <th>4</th>\n",
       "      <td>What is the absolute location (latitude and lo...</td>\n",
       "      <td>Quelle sont les coordonnées (latitude et longi...</td>\n",
       "    </tr>\n",
       "    <tr>\n",
       "      <th>5</th>\n",
       "      <td>What is the major aboriginal group on Vancouve...</td>\n",
       "      <td>Quel est le groupe autochtone principal sur l’...</td>\n",
       "    </tr>\n",
       "    <tr>\n",
       "      <th>6</th>\n",
       "      <td>What are the advantages and disadvantages of u...</td>\n",
       "      <td>Quels sont les avantages et les désavantages d...</td>\n",
       "    </tr>\n",
       "    <tr>\n",
       "      <th>7</th>\n",
       "      <td>What types of land cover are associated with t...</td>\n",
       "      <td>À quel type de couverture des terres associez-...</td>\n",
       "    </tr>\n",
       "    <tr>\n",
       "      <th>8</th>\n",
       "      <td>What is the population of Canada?</td>\n",
       "      <td>Quelle est la population du Canada ?</td>\n",
       "    </tr>\n",
       "    <tr>\n",
       "      <th>9</th>\n",
       "      <td>Which province is the most populated?</td>\n",
       "      <td>Quelle est la province la plus peuplée ?</td>\n",
       "    </tr>\n",
       "  </tbody>\n",
       "</table>\n",
       "</div>"
      ],
      "text/plain": [
       "                                                  en  \\\n",
       "0                                    What is light ?   \n",
       "1                                        Who are we?   \n",
       "2                            Where did we come from?   \n",
       "3                       What would we do without it?   \n",
       "4  What is the absolute location (latitude and lo...   \n",
       "5  What is the major aboriginal group on Vancouve...   \n",
       "6  What are the advantages and disadvantages of u...   \n",
       "7  What types of land cover are associated with t...   \n",
       "8                  What is the population of Canada?   \n",
       "9              Which province is the most populated?   \n",
       "\n",
       "                                                  fr  \n",
       "0                          Qu’est-ce que la lumière?  \n",
       "1                                    Où sommes-nous?  \n",
       "2                                  D'où venons-nous?  \n",
       "3                       Que ferions-nous sans elle ?  \n",
       "4  Quelle sont les coordonnées (latitude et longi...  \n",
       "5  Quel est le groupe autochtone principal sur l’...  \n",
       "6  Quels sont les avantages et les désavantages d...  \n",
       "7  À quel type de couverture des terres associez-...  \n",
       "8               Quelle est la population du Canada ?  \n",
       "9           Quelle est la province la plus peuplée ?  "
      ]
     },
     "execution_count": 6,
     "metadata": {},
     "output_type": "execute_result"
    }
   ],
   "source": [
    "df = pd.read_csv(path/'questions_easy.csv')\n",
    "df.head(n=10)"
   ]
  },
  {
   "cell_type": "code",
   "execution_count": 8,
   "metadata": {
    "hidden": true
   },
   "outputs": [
    {
     "data": {
      "text/plain": [
       "(52331, 2)"
      ]
     },
     "execution_count": 8,
     "metadata": {},
     "output_type": "execute_result"
    }
   ],
   "source": [
    "df.shape"
   ]
  },
  {
   "cell_type": "markdown",
   "metadata": {
    "hidden": true
   },
   "source": [
    "> there are 52331 unique question answer pairs."
   ]
  },
  {
   "cell_type": "markdown",
   "metadata": {
    "hidden": true
   },
   "source": [
    "What we need to do:\n",
    "\n",
    "- Get files: `ImageList`\n",
    "- Split validation set\n",
    "  - random%, folder name, csv, ...\n",
    "- Label: \n",
    "  - folder name, file name/re, csv, ...\n",
    "- Transform per image (optional)\n",
    "- Transform to tensor\n",
    "- DataLoader\n",
    "- Transform per batch (optional)\n",
    "- DataBunch\n",
    "- Add test set (optional)"
   ]
  },
  {
   "cell_type": "code",
   "execution_count": 7,
   "metadata": {
    "hidden": true
   },
   "outputs": [],
   "source": [
    "raw_data = df.to_numpy()"
   ]
  },
  {
   "cell_type": "code",
   "execution_count": 8,
   "metadata": {
    "hidden": true
   },
   "outputs": [],
   "source": [
    "il = TextList(raw_data)"
   ]
  },
  {
   "cell_type": "code",
   "execution_count": 9,
   "metadata": {
    "hidden": true
   },
   "outputs": [
    {
     "data": {
      "text/plain": [
       "TextList (52331 items)\n",
       "[array(['What is light ?', 'Qu’est-ce que la lumière?'], dtype=object), array(['Who are we?', 'Où sommes-nous?'], dtype=object), array(['Where did we come from?', \"D'où venons-nous?\"], dtype=object), array(['What would we do without it?', 'Que ferions-nous sans elle ?'], dtype=object), array(['What is the absolute location (latitude and longitude) of Badger, Newfoundland and Labrador?',\n",
       "       'Quelle sont les coordonnées (latitude et longitude) de Badger, à Terre-Neuve-etLabrador?'], dtype=object), array(['What is the major aboriginal group on Vancouver Island?',\n",
       "       'Quel est le groupe autochtone principal sur l’île de Vancouver?'], dtype=object), array(['What are the advantages and disadvantages of using an online atlas versus a paper atlas?',\n",
       "       'Quels sont les avantages et les désavantages d’utiliser un atlas en ligne comparativement à un atlas en copie papier?'],\n",
       "      dtype=object), array(['What types of land cover are associated with the colours below?',\n",
       "       'À quel type de couverture des terres associez-vous les couleurs ci-dessous?'], dtype=object), array(['What is the population of Canada?', 'Quelle est la population du Canada ?'], dtype=object), array(['Which province is the most populated?', 'Quelle est la province la plus peuplée ?'], dtype=object)...]\n",
       "Path: ."
      ]
     },
     "execution_count": 9,
     "metadata": {},
     "output_type": "execute_result"
    }
   ],
   "source": [
    "il"
   ]
  },
  {
   "cell_type": "code",
   "execution_count": 10,
   "metadata": {
    "hidden": true
   },
   "outputs": [
    {
     "data": {
      "text/plain": [
       "array(['What is light ?', 'Qu’est-ce que la lumière?'], dtype=object)"
      ]
     },
     "execution_count": 10,
     "metadata": {},
     "output_type": "execute_result"
    }
   ],
   "source": [
    "il[0]"
   ]
  },
  {
   "cell_type": "code",
   "execution_count": 17,
   "metadata": {
    "hidden": true
   },
   "outputs": [],
   "source": [
    "random.seed(42)\n",
    "sd = SplitData.split_by_func(il, partial(random_splitter, p_valid=0.05))"
   ]
  },
  {
   "cell_type": "code",
   "execution_count": 18,
   "metadata": {
    "hidden": true
   },
   "outputs": [
    {
     "data": {
      "text/plain": [
       "SplitData\n",
       "Train: TextList (49732 items)\n",
       "[array(['What is light ?', 'Qu’est-ce que la lumière?'], dtype=object), array(['Where did we come from?', \"D'où venons-nous?\"], dtype=object), array(['What would we do without it?', 'Que ferions-nous sans elle ?'], dtype=object), array(['What is the absolute location (latitude and longitude) of Badger, Newfoundland and Labrador?',\n",
       "       'Quelle sont les coordonnées (latitude et longitude) de Badger, à Terre-Neuve-etLabrador?'], dtype=object), array(['What is the major aboriginal group on Vancouver Island?',\n",
       "       'Quel est le groupe autochtone principal sur l’île de Vancouver?'], dtype=object), array(['What are the advantages and disadvantages of using an online atlas versus a paper atlas?',\n",
       "       'Quels sont les avantages et les désavantages d’utiliser un atlas en ligne comparativement à un atlas en copie papier?'],\n",
       "      dtype=object), array(['What types of land cover are associated with the colours below?',\n",
       "       'À quel type de couverture des terres associez-vous les couleurs ci-dessous?'], dtype=object), array(['What is the population of Canada?', 'Quelle est la population du Canada ?'], dtype=object), array(['Which province has the highest population density?',\n",
       "       'Quelle est la province ayant la plus forte densité de population ?'], dtype=object), array(['Which province is the least populated?', 'Quelle est la province la moins peuplée ?'], dtype=object)...]\n",
       "Path: .\n",
       "Valid: TextList (2599 items)\n",
       "[array(['Who are we?', 'Où sommes-nous?'], dtype=object), array(['Which province is the most populated?', 'Quelle est la province la plus peuplée ?'], dtype=object), array(['Which territory is the least populated?', 'Quelle est le territoire le moins peuplé ?'], dtype=object), array([\"What is Canada's population density?\", 'Quelle est la densité de la population canadienne?'], dtype=object), array(['What is a Medicine/Borderline product?', 'What is a Medicine/Borderline product?'], dtype=object), array(['Who is the Distributor?', \"Qu'est-ce qu'un distributeur?\"], dtype=object), array(['What is the Council for Automotive Human Resources (CAHR)?',\n",
       "       'Qu’est-ce que le Conseil des ressources humaines de l’automobile (CRHA)?'], dtype=object), array(['Where can I find information about programs and services for children?',\n",
       "       'Où puis-je trouver des renseignements au sujet de la connectivité Internet dans les collectivités autochtones du Canada?'],\n",
       "      dtype=object), array(['What are Boolean operators?', \"Qu'est-ce que les opérateurs booléens?\"], dtype=object), array(['What is the Bilingual Query Module?', \"Qu'est-ce que le module d'interrogation bilingue?\"], dtype=object)...]\n",
       "Path: ."
      ]
     },
     "execution_count": 18,
     "metadata": {},
     "output_type": "execute_result"
    }
   ],
   "source": [
    "sd"
   ]
  },
  {
   "cell_type": "markdown",
   "metadata": {
    "hidden": true
   },
   "source": [
    "```python\n",
    "def label_by_func(sd, f, proc_x=None, proc_y=None):\n",
    "    train = LabeledData.label_by_func(sd.train, f, proc_x=proc_x, proc_y=proc_y)\n",
    "    valid = LabeledData.label_by_func(sd.valid, f, proc_x=proc_x, proc_y=proc_y)\n",
    "    return SplitData(train,valid)\n",
    "```"
   ]
  },
  {
   "cell_type": "markdown",
   "metadata": {
    "hidden": true
   },
   "source": [
    "```python\n",
    "class LabeledData():\n",
    "    def process(self, il, proc): return il.new(compose(il.items, proc))\n",
    "\n",
    "    def __init__(self, x, y, proc_x=None, proc_y=None):\n",
    "        self.x,self.y = self.process(x, proc_x),self.process(y, proc_y)\n",
    "        self.proc_x,self.proc_y = proc_x,proc_y\n",
    "\n",
    "    def __repr__(self): return f'{self.__class__.__name__}\\nx: {self.x}\\ny: {self.y}\\n'\n",
    "    def __getitem__(self,idx): return self.x[idx],self.y[idx]\n",
    "    def __len__(self): return len(self.x)\n",
    "\n",
    "    def x_obj(self, idx): return self.obj(self.x, idx, self.proc_x)\n",
    "    def y_obj(self, idx): return self.obj(self.y, idx, self.proc_y)\n",
    "\n",
    "    def obj(self, items, idx, procs):\n",
    "        isint = isinstance(idx, int) or (isinstance(idx,torch.LongTensor) and not idx.ndim)\n",
    "        item = items[idx]\n",
    "        for proc in reversed(listify(procs)):\n",
    "            item = proc.deproc1(item) if isint else proc.deprocess(item)\n",
    "        return item\n",
    "\n",
    "    @classmethod\n",
    "    def label_by_func(cls, il, f, proc_x=None, proc_y=None):\n",
    "        return cls(il, _label_by_func(il, f), proc_x=proc_x, proc_y=proc_y)\n",
    "```"
   ]
  },
  {
   "cell_type": "code",
   "execution_count": 19,
   "metadata": {
    "hidden": true
   },
   "outputs": [],
   "source": [
    "def label_txt2txt_sd(sd, proc_x=None, proc_y=None):\n",
    "    \n",
    "    #train\n",
    "    x_train = TextList([x for x, y in sd.train])\n",
    "    y_train = TextList([y for x, y in sd.train])\n",
    "    ll_train = LabeledData(x_train, y_train, proc_x=proc_x, proc_y=proc_y)\n",
    "    \n",
    "    #train\n",
    "    x_valid = TextList([x for x, y in sd.valid])\n",
    "    y_valid = TextList([y for x, y in sd.valid])\n",
    "    ll_valid = LabeledData(x_valid, y_valid, proc_x=proc_x, proc_y=proc_y)\n",
    "    \n",
    "    return SplitData(ll_train,ll_valid)"
   ]
  },
  {
   "cell_type": "code",
   "execution_count": 20,
   "metadata": {
    "hidden": true
   },
   "outputs": [],
   "source": [
    "proc_x = [TokenizeProcessor(lang=\"en\"), NumericalizeProcessor()]\n",
    "proc_y = [TokenizeProcessor(lang=\"fr\"), NumericalizeProcessor()]"
   ]
  },
  {
   "cell_type": "code",
   "execution_count": 21,
   "metadata": {
    "hidden": true
   },
   "outputs": [
    {
     "data": {
      "text/plain": [
       "(<lib.nb_05.NumericalizeProcessor at 0x1a26e4bda0>,\n",
       " <lib.nb_05.NumericalizeProcessor at 0x1a26e64e10>)"
      ]
     },
     "execution_count": 21,
     "metadata": {},
     "output_type": "execute_result"
    }
   ],
   "source": [
    "proc_x[-1], proc_y[-1]"
   ]
  },
  {
   "cell_type": "code",
   "execution_count": 22,
   "metadata": {
    "hidden": true
   },
   "outputs": [
    {
     "data": {
      "text/html": [
       "\n",
       "    <div>\n",
       "        <style>\n",
       "            /* Turns off some styling */\n",
       "            progress {\n",
       "                /* gets rid of default border in Firefox and Opera. */\n",
       "                border: none;\n",
       "                /* Needs to be in here for Safari polyfill so background images work as expected. */\n",
       "                background-size: auto;\n",
       "            }\n",
       "            .progress-bar-interrupted, .progress-bar-interrupted::-webkit-progress-bar {\n",
       "                background: #F44336;\n",
       "            }\n",
       "        </style>\n",
       "      <progress value='25' class='' max='25', style='width:300px; height:20px; vertical-align: middle;'></progress>\n",
       "      100.00% [25/25 00:07<00:00]\n",
       "    </div>\n",
       "    "
      ],
      "text/plain": [
       "<IPython.core.display.HTML object>"
      ]
     },
     "metadata": {},
     "output_type": "display_data"
    },
    {
     "data": {
      "text/html": [
       "\n",
       "    <div>\n",
       "        <style>\n",
       "            /* Turns off some styling */\n",
       "            progress {\n",
       "                /* gets rid of default border in Firefox and Opera. */\n",
       "                border: none;\n",
       "                /* Needs to be in here for Safari polyfill so background images work as expected. */\n",
       "                background-size: auto;\n",
       "            }\n",
       "            .progress-bar-interrupted, .progress-bar-interrupted::-webkit-progress-bar {\n",
       "                background: #F44336;\n",
       "            }\n",
       "        </style>\n",
       "      <progress value='25' class='' max='25', style='width:300px; height:20px; vertical-align: middle;'></progress>\n",
       "      100.00% [25/25 00:38<00:00]\n",
       "    </div>\n",
       "    "
      ],
      "text/plain": [
       "<IPython.core.display.HTML object>"
      ]
     },
     "metadata": {},
     "output_type": "display_data"
    },
    {
     "data": {
      "text/html": [
       "\n",
       "    <div>\n",
       "        <style>\n",
       "            /* Turns off some styling */\n",
       "            progress {\n",
       "                /* gets rid of default border in Firefox and Opera. */\n",
       "                border: none;\n",
       "                /* Needs to be in here for Safari polyfill so background images work as expected. */\n",
       "                background-size: auto;\n",
       "            }\n",
       "            .progress-bar-interrupted, .progress-bar-interrupted::-webkit-progress-bar {\n",
       "                background: #F44336;\n",
       "            }\n",
       "        </style>\n",
       "      <progress value='2' class='' max='2', style='width:300px; height:20px; vertical-align: middle;'></progress>\n",
       "      100.00% [2/2 00:01<00:00]\n",
       "    </div>\n",
       "    "
      ],
      "text/plain": [
       "<IPython.core.display.HTML object>"
      ]
     },
     "metadata": {},
     "output_type": "display_data"
    },
    {
     "data": {
      "text/html": [
       "\n",
       "    <div>\n",
       "        <style>\n",
       "            /* Turns off some styling */\n",
       "            progress {\n",
       "                /* gets rid of default border in Firefox and Opera. */\n",
       "                border: none;\n",
       "                /* Needs to be in here for Safari polyfill so background images work as expected. */\n",
       "                background-size: auto;\n",
       "            }\n",
       "            .progress-bar-interrupted, .progress-bar-interrupted::-webkit-progress-bar {\n",
       "                background: #F44336;\n",
       "            }\n",
       "        </style>\n",
       "      <progress value='2' class='' max='2', style='width:300px; height:20px; vertical-align: middle;'></progress>\n",
       "      100.00% [2/2 00:04<00:00]\n",
       "    </div>\n",
       "    "
      ],
      "text/plain": [
       "<IPython.core.display.HTML object>"
      ]
     },
     "metadata": {},
     "output_type": "display_data"
    }
   ],
   "source": [
    "ll = label_txt2txt_sd(sd, proc_x=proc_x, proc_y=proc_y)"
   ]
  },
  {
   "cell_type": "code",
   "execution_count": 23,
   "metadata": {
    "hidden": true
   },
   "outputs": [
    {
     "data": {
      "text/plain": [
       "((<lib.nb_05.NumericalizeProcessor at 0x1a26e4bda0>,\n",
       "  <lib.nb_05.NumericalizeProcessor at 0x1a26e4bda0>),\n",
       " (<lib.nb_05.NumericalizeProcessor at 0x1a26e64e10>,\n",
       "  <lib.nb_05.NumericalizeProcessor at 0x1a26e64e10>))"
      ]
     },
     "execution_count": 23,
     "metadata": {},
     "output_type": "execute_result"
    }
   ],
   "source": [
    "(ll.train.proc_x[-1], ll.valid.proc_x[-1]), (ll.train.proc_y[-1], ll.valid.proc_y[-1])"
   ]
  },
  {
   "cell_type": "markdown",
   "metadata": {
    "hidden": true
   },
   "source": [
    "If we do not do this, we get different lengths of otoi and vocab whihc is weird, this should be fixed later."
   ]
  },
  {
   "cell_type": "code",
   "execution_count": 24,
   "metadata": {
    "hidden": true
   },
   "outputs": [],
   "source": [
    "ll.train.proc_x[-1].otoi = None\n",
    "ll.train.proc_x[-1].otoi = collections.defaultdict(int,{v:k for k,v in enumerate(ll.train.proc_x[-1].vocab)})\n",
    "\n",
    "ll.train.proc_y[-1].otoi = None\n",
    "ll.train.proc_y[-1].otoi = collections.defaultdict(int,{v:k for k,v in enumerate(ll.train.proc_y[-1].vocab)})"
   ]
  },
  {
   "cell_type": "code",
   "execution_count": 25,
   "metadata": {
    "hidden": true
   },
   "outputs": [
    {
     "data": {
      "text/plain": [
       "(11580, 11580)"
      ]
     },
     "execution_count": 25,
     "metadata": {},
     "output_type": "execute_result"
    }
   ],
   "source": [
    "len(ll.train.proc_x[-1].vocab), len(ll.train.proc_x[-1].otoi)"
   ]
  },
  {
   "cell_type": "code",
   "execution_count": 26,
   "metadata": {
    "hidden": true
   },
   "outputs": [
    {
     "data": {
      "text/plain": [
       "(11580, 11580)"
      ]
     },
     "execution_count": 26,
     "metadata": {},
     "output_type": "execute_result"
    }
   ],
   "source": [
    "len(ll.valid.proc_x[-1].vocab), len(ll.valid.proc_x[-1].otoi)"
   ]
  },
  {
   "cell_type": "code",
   "execution_count": 27,
   "metadata": {
    "hidden": true
   },
   "outputs": [
    {
     "data": {
      "text/plain": [
       "(15147, 15147)"
      ]
     },
     "execution_count": 27,
     "metadata": {},
     "output_type": "execute_result"
    }
   ],
   "source": [
    "len(ll.train.proc_y[-1].vocab), len(ll.train.proc_y[-1].otoi)"
   ]
  },
  {
   "cell_type": "code",
   "execution_count": 28,
   "metadata": {
    "hidden": true
   },
   "outputs": [
    {
     "data": {
      "text/plain": [
       "(15147, 15147)"
      ]
     },
     "execution_count": 28,
     "metadata": {},
     "output_type": "execute_result"
    }
   ],
   "source": [
    "len(ll.valid.proc_y[-1].vocab), len(ll.valid.proc_y[-1].otoi)"
   ]
  },
  {
   "cell_type": "code",
   "execution_count": 29,
   "metadata": {
    "hidden": true
   },
   "outputs": [
    {
     "data": {
      "text/plain": [
       "((<lib.nb_05.NumericalizeProcessor at 0x1a26e4bda0>,\n",
       "  <lib.nb_05.NumericalizeProcessor at 0x1a26e4bda0>),\n",
       " (<lib.nb_05.NumericalizeProcessor at 0x1a26e64e10>,\n",
       "  <lib.nb_05.NumericalizeProcessor at 0x1a26e64e10>))"
      ]
     },
     "execution_count": 29,
     "metadata": {},
     "output_type": "execute_result"
    }
   ],
   "source": [
    "(ll.train.proc_x[-1], ll.valid.proc_x[-1]), (ll.train.proc_y[-1], ll.valid.proc_y[-1])"
   ]
  },
  {
   "cell_type": "code",
   "execution_count": null,
   "metadata": {
    "hidden": true
   },
   "outputs": [],
   "source": []
  },
  {
   "cell_type": "code",
   "execution_count": 30,
   "metadata": {
    "hidden": true
   },
   "outputs": [
    {
     "data": {
      "text/plain": [
       "SplitData\n",
       "Train: LabeledData\n",
       "x: TextList (49732 items)\n",
       "[[2, 7, 10, 14, 1412, 8, 3], [2, 7, 40, 62, 49, 267, 48, 8, 3], [2, 7, 10, 43, 49, 20, 465, 42, 8, 3], [2, 7, 10, 14, 9, 3659, 1070, 50, 4756, 13, 6423, 47, 11, 7, 5713, 17, 7, 2310, 13, 7, 7401, 8, 3], [2, 7, 10, 14, 9, 331, 294, 263, 27, 7, 3324, 7, 2248, 8, 3], [2, 7, 10, 16, 9, 406, 13, 906, 11, 296, 52, 1337, 5714, 1413, 18, 1129, 5714, 8, 3], [2, 7, 10, 154, 11, 538, 955, 16, 407, 39, 9, 2935, 2050, 8, 3], [2, 7, 10, 14, 9, 323, 11, 7, 46, 8, 3], [2, 7, 37, 744, 63, 9, 687, 323, 3482, 8, 3], [2, 7, 37, 744, 14, 9, 838, 7402, 8, 3]...]\n",
       "Path: .\n",
       "y: TextList (49732 items)\n",
       "[[2, 7, 45, 18, 44, 19, 12, 2061, 8, 3], [2, 29, 65, 9212, 11, 62, 8, 3], [2, 7, 19, 11317, 11, 62, 294, 67, 8, 3], [2, 7, 39, 20, 10, 4069, 61, 4593, 14, 7812, 54, 9, 7, 0, 17, 16, 7, 964, 11, 7, 7813, 11, 0, 8, 3], [2, 7, 34, 18, 13, 238, 1300, 667, 38, 27, 2697, 9, 7, 4314, 8, 3], [2, 7, 26, 20, 10, 115, 14, 10, 2601, 35, 177, 32, 6258, 22, 520, 2517, 16, 32, 6258, 22, 2313, 2314, 8, 3], [2, 16, 34, 148, 9, 1914, 15, 856, 7814, 11, 31, 10, 2890, 3511, 8, 3], [2, 7, 39, 18, 12, 297, 25, 7, 59, 8, 3], [2, 7, 39, 18, 12, 736, 737, 12, 52, 2793, 3684, 9, 297, 8, 3], [2, 7, 39, 18, 12, 736, 12, 360, 0, 8, 3]...]\n",
       "Path: .\n",
       "\n",
       "Valid: LabeledData\n",
       "x: TextList (2599 items)\n",
       "[[2, 7, 24, 16, 49, 8, 3], [2, 7, 37, 744, 14, 9, 73, 7402, 8, 3], [2, 7, 37, 1482, 14, 9, 838, 7402, 8, 3], [2, 7, 10, 14, 7, 46, 59, 323, 3482, 8, 3], [2, 7, 10, 14, 18, 7, 1590, 55, 7, 0, 241, 8, 3], [2, 7, 24, 14, 9, 7, 4456, 8, 3], [2, 7, 10, 14, 9, 7, 441, 19, 7, 5715, 7, 184, 7, 202, 50, 4760, 47, 8, 3], [2, 7, 40, 33, 38, 124, 56, 44, 191, 13, 101, 19, 249, 8, 3], [2, 7, 10, 16, 7, 0, 2322, 8, 3], [2, 7, 10, 14, 9, 7, 1738, 7, 7408, 7, 3870, 8, 3]...]\n",
       "Path: .\n",
       "y: TextList (2599 items)\n",
       "[[2, 7, 65, 708, 11, 62, 8, 3], [2, 7, 39, 18, 12, 736, 12, 52, 0, 8, 3], [2, 7, 39, 18, 13, 1143, 13, 360, 0, 8, 3], [2, 7, 39, 18, 12, 3684, 9, 12, 297, 328, 8, 3], [2, 7, 377, 998, 43, 7, 0, 95, 7, 0, 0, 8, 3], [2, 7, 40, 18, 44, 40, 32, 4595, 8, 3], [2, 7, 45, 18, 44, 19, 13, 7, 263, 15, 185, 755, 9, 27, 4073, 61, 6262, 54, 8, 3], [2, 7, 65, 107, 199, 15, 100, 42, 159, 9, 12, 11588, 7, 684, 30, 10, 566, 333, 25, 7, 59, 8, 3], [2, 7, 40, 18, 44, 19, 10, 5347, 0, 8, 3], [2, 7, 40, 18, 44, 19, 13, 4598, 29, 6265, 3106, 8, 3]...]\n",
       "Path: .\n"
      ]
     },
     "execution_count": 30,
     "metadata": {},
     "output_type": "execute_result"
    }
   ],
   "source": [
    "ll"
   ]
  },
  {
   "cell_type": "code",
   "execution_count": 31,
   "metadata": {
    "hidden": true
   },
   "outputs": [],
   "source": [
    "en_vocab = ll.train.proc_x[-1].vocab\n",
    "fr_vocab = ll.train.proc_y[-1].vocab"
   ]
  },
  {
   "cell_type": "code",
   "execution_count": 32,
   "metadata": {
    "hidden": true
   },
   "outputs": [
    {
     "data": {
      "text/plain": [
       "(11580, 15147)"
      ]
     },
     "execution_count": 32,
     "metadata": {},
     "output_type": "execute_result"
    }
   ],
   "source": [
    "len(en_vocab), len(fr_vocab)"
   ]
  },
  {
   "cell_type": "code",
   "execution_count": 33,
   "metadata": {
    "hidden": true
   },
   "outputs": [
    {
     "data": {
      "text/plain": [
       "LabeledData\n",
       "x: TextList (49732 items)\n",
       "[[2, 7, 10, 14, 1412, 8, 3], [2, 7, 40, 62, 49, 267, 48, 8, 3], [2, 7, 10, 43, 49, 20, 465, 42, 8, 3], [2, 7, 10, 14, 9, 3659, 1070, 50, 4756, 13, 6423, 47, 11, 7, 5713, 17, 7, 2310, 13, 7, 7401, 8, 3], [2, 7, 10, 14, 9, 331, 294, 263, 27, 7, 3324, 7, 2248, 8, 3], [2, 7, 10, 16, 9, 406, 13, 906, 11, 296, 52, 1337, 5714, 1413, 18, 1129, 5714, 8, 3], [2, 7, 10, 154, 11, 538, 955, 16, 407, 39, 9, 2935, 2050, 8, 3], [2, 7, 10, 14, 9, 323, 11, 7, 46, 8, 3], [2, 7, 37, 744, 63, 9, 687, 323, 3482, 8, 3], [2, 7, 37, 744, 14, 9, 838, 7402, 8, 3]...]\n",
       "Path: .\n",
       "y: TextList (49732 items)\n",
       "[[2, 7, 45, 18, 44, 19, 12, 2061, 8, 3], [2, 29, 65, 9212, 11, 62, 8, 3], [2, 7, 19, 11317, 11, 62, 294, 67, 8, 3], [2, 7, 39, 20, 10, 4069, 61, 4593, 14, 7812, 54, 9, 7, 0, 17, 16, 7, 964, 11, 7, 7813, 11, 0, 8, 3], [2, 7, 34, 18, 13, 238, 1300, 667, 38, 27, 2697, 9, 7, 4314, 8, 3], [2, 7, 26, 20, 10, 115, 14, 10, 2601, 35, 177, 32, 6258, 22, 520, 2517, 16, 32, 6258, 22, 2313, 2314, 8, 3], [2, 16, 34, 148, 9, 1914, 15, 856, 7814, 11, 31, 10, 2890, 3511, 8, 3], [2, 7, 39, 18, 12, 297, 25, 7, 59, 8, 3], [2, 7, 39, 18, 12, 736, 737, 12, 52, 2793, 3684, 9, 297, 8, 3], [2, 7, 39, 18, 12, 736, 12, 360, 0, 8, 3]...]\n",
       "Path: ."
      ]
     },
     "execution_count": 33,
     "metadata": {},
     "output_type": "execute_result"
    }
   ],
   "source": [
    "ll.train"
   ]
  },
  {
   "cell_type": "code",
   "execution_count": 34,
   "metadata": {
    "hidden": true
   },
   "outputs": [
    {
     "data": {
      "text/plain": [
       "('xxbos xxmaj what is the population of xxmaj aboriginal people in xxmaj canada ? xxeos',\n",
       " 'xxbos xxmaj quelle est la population autochtone au xxmaj canada ? xxeos')"
      ]
     },
     "execution_count": 34,
     "metadata": {},
     "output_type": "execute_result"
    }
   ],
   "source": [
    "idx=10\n",
    "ll.train.x_obj(idx), ll.train.y_obj(idx)"
   ]
  },
  {
   "cell_type": "code",
   "execution_count": 35,
   "metadata": {
    "hidden": true
   },
   "outputs": [
    {
     "data": {
      "text/plain": [
       "defaultdict(int,\n",
       "            {'xxunk': 0,\n",
       "             'xxpad': 1,\n",
       "             'xxbos': 2,\n",
       "             'xxeos': 3,\n",
       "             'xxrep': 4,\n",
       "             'xxwrep': 5,\n",
       "             'xxup': 6,\n",
       "             'xxmaj': 7,\n",
       "             '?': 8,\n",
       "             'the': 9,\n",
       "             'what': 10,\n",
       "             'of': 11,\n",
       "             'to': 12,\n",
       "             'and': 13,\n",
       "             'is': 14,\n",
       "             'in': 15,\n",
       "             'are': 16,\n",
       "             ',': 17,\n",
       "             'a': 18,\n",
       "             'for': 19,\n",
       "             'do': 20,\n",
       "             'why': 21,\n",
       "             'be': 22,\n",
       "             'you': 23,\n",
       "             'who': 24,\n",
       "             'or': 25,\n",
       "             '-': 26,\n",
       "             'on': 27,\n",
       "             'this': 28,\n",
       "             'that': 29,\n",
       "             'have': 30,\n",
       "             'your': 31,\n",
       "             'when': 32,\n",
       "             'can': 33,\n",
       "             'should': 34,\n",
       "             'will': 35,\n",
       "             'does': 36,\n",
       "             'which': 37,\n",
       "             'i': 38,\n",
       "             'with': 39,\n",
       "             'where': 40,\n",
       "             'if': 41,\n",
       "             'it': 42,\n",
       "             'would': 43,\n",
       "             'about': 44,\n",
       "             '\"': 45,\n",
       "             'canada': 46,\n",
       "             ')': 47,\n",
       "             'from': 48,\n",
       "             'we': 49,\n",
       "             '(': 50,\n",
       "             'not': 51,\n",
       "             'an': 52,\n",
       "             'by': 53,\n",
       "             'as': 54,\n",
       "             '/': 55,\n",
       "             'information': 56,\n",
       "             'health': 57,\n",
       "             'these': 58,\n",
       "             \"'s\": 59,\n",
       "             'was': 60,\n",
       "             'they': 61,\n",
       "             'did': 62,\n",
       "             'has': 63,\n",
       "             'their': 64,\n",
       "             'other': 65,\n",
       "             'were': 66,\n",
       "             'at': 67,\n",
       "             'been': 68,\n",
       "             '’s': 69,\n",
       "             'program': 70,\n",
       "             'new': 71,\n",
       "             'use': 72,\n",
       "             'most': 73,\n",
       "             'how': 74,\n",
       "             'need': 75,\n",
       "             'my': 76,\n",
       "             'role': 77,\n",
       "             'government': 78,\n",
       "             'more': 79,\n",
       "             'between': 80,\n",
       "             'public': 81,\n",
       "             'could': 82,\n",
       "             'canadian': 83,\n",
       "             'people': 84,\n",
       "             'research': 85,\n",
       "             'our': 86,\n",
       "             'there': 87,\n",
       "             'impact': 88,\n",
       "             'work': 89,\n",
       "             'happens': 90,\n",
       "             'used': 91,\n",
       "             'so': 92,\n",
       "             'mean': 93,\n",
       "             'such': 94,\n",
       "             'important': 95,\n",
       "             'policy': 96,\n",
       "             'being': 97,\n",
       "             'done': 98,\n",
       "             'its': 99,\n",
       "             'some': 100,\n",
       "             'services': 101,\n",
       "             'any': 102,\n",
       "             'think': 103,\n",
       "             'level': 104,\n",
       "             'time': 105,\n",
       "             'make': 106,\n",
       "             'development': 107,\n",
       "             'service': 108,\n",
       "             'process': 109,\n",
       "             'take': 110,\n",
       "             'community': 111,\n",
       "             'kind': 112,\n",
       "             'available': 113,\n",
       "             'all': 114,\n",
       "             'national': 115,\n",
       "             'project': 116,\n",
       "             'best': 117,\n",
       "             'into': 118,\n",
       "             'like': 119,\n",
       "             'benefits': 120,\n",
       "             'support': 121,\n",
       "             'them': 122,\n",
       "             'under': 123,\n",
       "             'find': 124,\n",
       "             'system': 125,\n",
       "             'required': 126,\n",
       "             'get': 127,\n",
       "             'one': 128,\n",
       "             'change': 129,\n",
       "             'activities': 130,\n",
       "             'management': 131,\n",
       "             'changes': 132,\n",
       "             'made': 133,\n",
       "             'future': 134,\n",
       "             'place': 135,\n",
       "             'main': 136,\n",
       "             'type': 137,\n",
       "             'issues': 138,\n",
       "             'first': 139,\n",
       "             'ensure': 140,\n",
       "             'international': 141,\n",
       "             'care': 142,\n",
       "             'business': 143,\n",
       "             'current': 144,\n",
       "             'social': 145,\n",
       "             'help': 146,\n",
       "             'factors': 147,\n",
       "             'risk': 148,\n",
       "             'rights': 149,\n",
       "             'than': 150,\n",
       "             'doing': 151,\n",
       "             'key': 152,\n",
       "             'organization': 153,\n",
       "             'types': 154,\n",
       "             'measures': 155,\n",
       "             'taken': 156,\n",
       "             'women': 157,\n",
       "             'european': 158,\n",
       "             'might': 159,\n",
       "             'funding': 160,\n",
       "             'training': 161,\n",
       "             'know': 162,\n",
       "             'out': 163,\n",
       "             'plan': 164,\n",
       "             'see': 165,\n",
       "             'environmental': 166,\n",
       "             \"n't\": 167,\n",
       "             'now': 168,\n",
       "             'apply': 169,\n",
       "             'up': 170,\n",
       "             'years': 171,\n",
       "             'those': 172,\n",
       "             'needs': 173,\n",
       "             'different': 174,\n",
       "             'following': 175,\n",
       "             'want': 176,\n",
       "             'challenges': 177,\n",
       "             'results': 178,\n",
       "             'act': 179,\n",
       "             'objectives': 180,\n",
       "             'tax': 181,\n",
       "             'federal': 182,\n",
       "             'application': 183,\n",
       "             'human': 184,\n",
       "             'country': 185,\n",
       "             'next': 186,\n",
       "             'us': 187,\n",
       "             'each': 188,\n",
       "             'economic': 189,\n",
       "             'after': 190,\n",
       "             'programs': 191,\n",
       "             'effects': 192,\n",
       "             'access': 193,\n",
       "             'knowledge': 194,\n",
       "             'countries': 195,\n",
       "             'needed': 196,\n",
       "             'data': 197,\n",
       "             'impacts': 198,\n",
       "             'world': 199,\n",
       "             'products': 200,\n",
       "             'food': 201,\n",
       "             'resources': 202,\n",
       "             'steps': 203,\n",
       "             'term': 204,\n",
       "             'within': 205,\n",
       "             'over': 206,\n",
       "             'may': 207,\n",
       "             'play': 208,\n",
       "             'trade': 209,\n",
       "             'had': 210,\n",
       "             'cost': 211,\n",
       "             'must': 212,\n",
       "             'involved': 213,\n",
       "             'education': 214,\n",
       "             'status': 215,\n",
       "             'terms': 216,\n",
       "             'working': 217,\n",
       "             'way': 218,\n",
       "             'responsible': 219,\n",
       "             'say': 220,\n",
       "             'life': 221,\n",
       "             'specific': 222,\n",
       "             'difference': 223,\n",
       "             'costs': 224,\n",
       "             'area': 225,\n",
       "             'potential': 226,\n",
       "             'order': 227,\n",
       "             'requirements': 228,\n",
       "             'language': 229,\n",
       "             'areas': 230,\n",
       "             'sector': 231,\n",
       "             'go': 232,\n",
       "             'effect': 233,\n",
       "             'effective': 234,\n",
       "             'industry': 235,\n",
       "             'considered': 236,\n",
       "             'decision': 237,\n",
       "             'eligible': 238,\n",
       "             'provide': 239,\n",
       "             'appropriate': 240,\n",
       "             'product': 241,\n",
       "             'action': 242,\n",
       "             'during': 243,\n",
       "             'canadians': 244,\n",
       "             \"'\": 245,\n",
       "             'financial': 246,\n",
       "             'conditions': 247,\n",
       "             'year': 248,\n",
       "             'children': 249,\n",
       "             'long': 250,\n",
       "             'non': 251,\n",
       "             'happen': 252,\n",
       "             'implications': 253,\n",
       "             'situation': 254,\n",
       "             'report': 255,\n",
       "             'family': 256,\n",
       "             'protection': 257,\n",
       "             'form': 258,\n",
       "             'then': 259,\n",
       "             'water': 260,\n",
       "             'related': 261,\n",
       "             'assessment': 262,\n",
       "             'group': 263,\n",
       "             'market': 264,\n",
       "             'commission': 265,\n",
       "             'two': 266,\n",
       "             'come': 267,\n",
       "             '–': 268,\n",
       "             'europe': 269,\n",
       "             'address': 270,\n",
       "             'going': 271,\n",
       "             'member': 272,\n",
       "             'part': 273,\n",
       "             'consider': 274,\n",
       "             'no': 275,\n",
       "             ':': 276,\n",
       "             'through': 277,\n",
       "             'expect': 278,\n",
       "             'criteria': 279,\n",
       "             'respect': 280,\n",
       "             'good': 281,\n",
       "             'while': 282,\n",
       "             'relationship': 283,\n",
       "             'eu': 284,\n",
       "             'value': 285,\n",
       "             'quality': 286,\n",
       "             'communities': 287,\n",
       "             'policies': 288,\n",
       "             'kinds': 289,\n",
       "             'right': 290,\n",
       "             'risks': 291,\n",
       "             'before': 292,\n",
       "             'approach': 293,\n",
       "             'aboriginal': 294,\n",
       "             'his': 295,\n",
       "             'using': 296,\n",
       "             'benefit': 297,\n",
       "             'based': 298,\n",
       "             'environment': 299,\n",
       "             'job': 300,\n",
       "             'date': 301,\n",
       "             'experience': 302,\n",
       "             'better': 303,\n",
       "             'company': 304,\n",
       "             'groups': 305,\n",
       "             'proposed': 306,\n",
       "             'agreement': 307,\n",
       "             'purpose': 308,\n",
       "             'he': 309,\n",
       "             'levels': 310,\n",
       "             'barriers': 311,\n",
       "             'general': 312,\n",
       "             'security': 313,\n",
       "             'problems': 314,\n",
       "             'issue': 315,\n",
       "             'look': 316,\n",
       "             'learning': 317,\n",
       "             'number': 318,\n",
       "             'position': 319,\n",
       "             'makes': 320,\n",
       "             'projects': 321,\n",
       "             'employment': 322,\n",
       "             'population': 323,\n",
       "             'practices': 324,\n",
       "             'n’t': 325,\n",
       "             'strategy': 326,\n",
       "             'her': 327,\n",
       "             'states': 328,\n",
       "             'evidence': 329,\n",
       "             'regarding': 330,\n",
       "             'major': 331,\n",
       "             'making': 332,\n",
       "             'state': 333,\n",
       "             'members': 334,\n",
       "             'society': 335,\n",
       "             'goals': 336,\n",
       "             'strategies': 337,\n",
       "             'personal': 338,\n",
       "             'department': 339,\n",
       "             'employees': 340,\n",
       "             'person': 341,\n",
       "             'safety': 342,\n",
       "             'law': 343,\n",
       "             'legal': 344,\n",
       "             'learn': 345,\n",
       "             'achieve': 346,\n",
       "             'improve': 347,\n",
       "             'priorities': 348,\n",
       "             'rate': 349,\n",
       "             'regulations': 350,\n",
       "             'receive': 351,\n",
       "             'necessary': 352,\n",
       "             'political': 353,\n",
       "             'given': 354,\n",
       "             'contact': 355,\n",
       "             'activity': 356,\n",
       "             'period': 357,\n",
       "             'school': 358,\n",
       "             'provided': 359,\n",
       "             'else': 360,\n",
       "             'but': 361,\n",
       "             'income': 362,\n",
       "             'result': 363,\n",
       "             'initiative': 364,\n",
       "             'implementation': 365,\n",
       "             'actions': 366,\n",
       "             'name': 367,\n",
       "             'percentage': 368,\n",
       "             'well': 369,\n",
       "             'developing': 370,\n",
       "             'study': 371,\n",
       "             'success': 372,\n",
       "             'same': 373,\n",
       "             'whether': 374,\n",
       "             'included': 375,\n",
       "             'drug': 376,\n",
       "             'individual': 377,\n",
       "             'learned': 378,\n",
       "             'youth': 379,\n",
       "             'special': 380,\n",
       "             'become': 381,\n",
       "             'return': 382,\n",
       "             'including': 383,\n",
       "             'investment': 384,\n",
       "             'progress': 385,\n",
       "             'both': 386,\n",
       "             'tools': 387,\n",
       "             'only': 388,\n",
       "             'others': 389,\n",
       "             'particular': 390,\n",
       "             'performance': 391,\n",
       "             'local': 392,\n",
       "             'review': 393,\n",
       "             'cultural': 394,\n",
       "             'common': 395,\n",
       "             'agency': 396,\n",
       "             'today': 397,\n",
       "             'values': 398,\n",
       "             'high': 399,\n",
       "             'consequences': 400,\n",
       "             'standards': 401,\n",
       "             'opportunities': 402,\n",
       "             'expected': 403,\n",
       "             'framework': 404,\n",
       "             'me': 405,\n",
       "             'advantages': 406,\n",
       "             'associated': 407,\n",
       "             'possible': 408,\n",
       "             'questions': 409,\n",
       "             'air': 410,\n",
       "             'offer': 411,\n",
       "             'responsibilities': 412,\n",
       "             'likely': 413,\n",
       "             'reporting': 414,\n",
       "             'mechanisms': 415,\n",
       "             'organizations': 416,\n",
       "             'participation': 417,\n",
       "             'evaluation': 418,\n",
       "             'property': 419,\n",
       "             'child': 420,\n",
       "             'skills': 421,\n",
       "             'pay': 422,\n",
       "             'outcomes': 423,\n",
       "             'capacity': 424,\n",
       "             'put': 425,\n",
       "             'home': 426,\n",
       "             'own': 427,\n",
       "             'case': 428,\n",
       "             'sources': 429,\n",
       "             'problem': 430,\n",
       "             'natural': 431,\n",
       "             'technology': 432,\n",
       "             'things': 433,\n",
       "             'institutions': 434,\n",
       "             'lessons': 435,\n",
       "             'young': 436,\n",
       "             'day': 437,\n",
       "             'rules': 438,\n",
       "             'give': 439,\n",
       "             'further': 440,\n",
       "             'council': 441,\n",
       "             'exist': 442,\n",
       "             'amount': 443,\n",
       "             'committee': 444,\n",
       "             'site': 445,\n",
       "             'protect': 446,\n",
       "             'systems': 447,\n",
       "             'e': 448,\n",
       "             'taking': 449,\n",
       "             'interest': 450,\n",
       "             'responsibility': 451,\n",
       "             'priority': 452,\n",
       "             'governments': 453,\n",
       "             'meet': 454,\n",
       "             'initiatives': 455,\n",
       "             'contribution': 456,\n",
       "             'three': 457,\n",
       "             'many': 458,\n",
       "             'currently': 459,\n",
       "             'money': 460,\n",
       "             'against': 461,\n",
       "             'regional': 462,\n",
       "             'question': 463,\n",
       "             'survey': 464,\n",
       "             'without': 465,\n",
       "             'she': 466,\n",
       "             'view': 467,\n",
       "             'successful': 468,\n",
       "             'foreign': 469,\n",
       "             'planning': 470,\n",
       "             'union': 471,\n",
       "             'increase': 472,\n",
       "             'start': 473,\n",
       "             'total': 474,\n",
       "             'strengths': 475,\n",
       "             'processes': 476,\n",
       "             'provincial': 477,\n",
       "             'official': 478,\n",
       "             'office': 479,\n",
       "             'legislation': 480,\n",
       "             'additional': 481,\n",
       "             'private': 482,\n",
       "             'age': 483,\n",
       "             'gender': 484,\n",
       "             'practice': 485,\n",
       "             'global': 486,\n",
       "             'existing': 487,\n",
       "             'nature': 488,\n",
       "             'documents': 489,\n",
       "             'forms': 490,\n",
       "             'already': 491,\n",
       "             'reduce': 492,\n",
       "             'promote': 493,\n",
       "             'ca': 494,\n",
       "             'develop': 495,\n",
       "             'relevant': 496,\n",
       "             'roles': 497,\n",
       "             'assistance': 498,\n",
       "             'various': 499,\n",
       "             'privacy': 500,\n",
       "             'list': 501,\n",
       "             'regulatory': 502,\n",
       "             'whom': 503,\n",
       "             'sustainable': 504,\n",
       "             'bring': 505,\n",
       "             'subject': 506,\n",
       "             'elements': 507,\n",
       "             'disease': 508,\n",
       "             'another': 509,\n",
       "             'region': 510,\n",
       "             'ways': 511,\n",
       "             'nations': 512,\n",
       "             'medical': 513,\n",
       "             '\\u2028': 514,\n",
       "             'obtain': 515,\n",
       "             'regulation': 516,\n",
       "             'aspects': 517,\n",
       "             'treatment': 518,\n",
       "             'control': 519,\n",
       "             'participate': 520,\n",
       "             'field': 521,\n",
       "             'end': 522,\n",
       "             'past': 523,\n",
       "             'feel': 524,\n",
       "             'account': 525,\n",
       "             'plans': 526,\n",
       "             'am': 527,\n",
       "             'claim': 528,\n",
       "             'media': 529,\n",
       "             '1': 530,\n",
       "             'budget': 531,\n",
       "             'here': 532,\n",
       "             'found': 533,\n",
       "             'events': 534,\n",
       "             'contribute': 535,\n",
       "             'reasons': 536,\n",
       "             'options': 537,\n",
       "             'land': 538,\n",
       "             'tell': 539,\n",
       "             'point': 540,\n",
       "             'much': 541,\n",
       "             'line': 542,\n",
       "             'happened': 543,\n",
       "             'targets': 544,\n",
       "             'principles': 545,\n",
       "             'rates': 546,\n",
       "             'culture': 547,\n",
       "             'concerns': 548,\n",
       "             'still': 549,\n",
       "             'decisions': 550,\n",
       "             'outside': 551,\n",
       "             'include': 552,\n",
       "             'authority': 553,\n",
       "             'positive': 554,\n",
       "             'delivery': 555,\n",
       "             'board': 556,\n",
       "             'set': 557,\n",
       "             'among': 558,\n",
       "             'example': 559,\n",
       "             'context': 560,\n",
       "             'drugs': 561,\n",
       "             'section': 562,\n",
       "             'small': 563,\n",
       "             'basis': 564,\n",
       "             'regard': 565,\n",
       "             'scope': 566,\n",
       "             'relation': 567,\n",
       "             '‘': 568,\n",
       "             'matter': 569,\n",
       "             'patients': 570,\n",
       "             'design': 571,\n",
       "             'achieved': 572,\n",
       "             'live': 573,\n",
       "             'individuals': 574,\n",
       "             'primary': 575,\n",
       "             'present': 576,\n",
       "             'opinion': 577,\n",
       "             'conflict': 578,\n",
       "             'workers': 579,\n",
       "             'proposal': 580,\n",
       "             'having': 581,\n",
       "             'face': 582,\n",
       "             'someone': 583,\n",
       "             'affected': 584,\n",
       "             'force': 585,\n",
       "             'students': 586,\n",
       "             'identified': 587,\n",
       "             'self': 588,\n",
       "             'parliament': 589,\n",
       "             'climate': 590,\n",
       "             'characteristics': 591,\n",
       "             'companies': 592,\n",
       "             'standard': 593,\n",
       "             'methods': 594,\n",
       "             'growth': 595,\n",
       "             'approaches': 596,\n",
       "             '—': 597,\n",
       "             'men': 598,\n",
       "             'leave': 599,\n",
       "             'keep': 600,\n",
       "             'internet': 601,\n",
       "             'focus': 602,\n",
       "             'able': 603,\n",
       "             'guidelines': 604,\n",
       "             'employee': 605,\n",
       "             'affect': 606,\n",
       "             'negotiations': 607,\n",
       "             'military': 608,\n",
       "             'citizens': 609,\n",
       "             'heritage': 610,\n",
       "             'effectiveness': 611,\n",
       "             'file': 612,\n",
       "             'useful': 613,\n",
       "             'asked': 614,\n",
       "             'partners': 615,\n",
       "             'pension': 616,\n",
       "             'differences': 617,\n",
       "             'changed': 618,\n",
       "             'weaknesses': 619,\n",
       "             'influence': 620,\n",
       "             'implementing': 621,\n",
       "             'languages': 622,\n",
       "             'obligations': 623,\n",
       "             'developed': 624,\n",
       "             'species': 625,\n",
       "             'production': 626,\n",
       "             'electronic': 627,\n",
       "             'implemented': 628,\n",
       "             'code': 629,\n",
       "             'court': 630,\n",
       "             'covered': 631,\n",
       "             'families': 632,\n",
       "             ';': 633,\n",
       "             'last': 634,\n",
       "             'authorities': 635,\n",
       "             'energy': 636,\n",
       "             'traditional': 637,\n",
       "             'lead': 638,\n",
       "             'participants': 639,\n",
       "             '%': 640,\n",
       "             'living': 641,\n",
       "             'capital': 642,\n",
       "             'real': 643,\n",
       "             'gst': 644,\n",
       "             'cf': 645,\n",
       "             'require': 646,\n",
       "             'labour': 647,\n",
       "             'records': 648,\n",
       "             'power': 649,\n",
       "             'goods': 650,\n",
       "             'payments': 651,\n",
       "             'staff': 652,\n",
       "             'applied': 653,\n",
       "             'co': 654,\n",
       "             'registered': 655,\n",
       "             'interests': 656,\n",
       "             'advice': 657,\n",
       "             'travel': 658,\n",
       "             'involvement': 659,\n",
       "             'minister': 660,\n",
       "             'parties': 661,\n",
       "             'structure': 662,\n",
       "             'partner': 663,\n",
       "             'guide': 664,\n",
       "             'agreements': 665,\n",
       "             'understanding': 666,\n",
       "             'trends': 667,\n",
       "             'forces': 668,\n",
       "             'means': 669,\n",
       "             'technical': 670,\n",
       "             'stakeholders': 671,\n",
       "             'average': 672,\n",
       "             'response': 673,\n",
       "             'innovation': 674,\n",
       "             'rural': 675,\n",
       "             'physical': 676,\n",
       "             'fund': 677,\n",
       "             'team': 678,\n",
       "             'clinical': 679,\n",
       "             'deal': 680,\n",
       "             'five': 681,\n",
       "             'communication': 682,\n",
       "             'gaps': 683,\n",
       "             'model': 684,\n",
       "             'analysis': 685,\n",
       "             'fish': 686,\n",
       "             'highest': 687,\n",
       "             'businesses': 688,\n",
       "             'towards': 689,\n",
       "             'professional': 690,\n",
       "             'building': 691,\n",
       "             'definition': 692,\n",
       "             'university': 693,\n",
       "             'second': 694,\n",
       "             'sport': 695,\n",
       "             'patent': 696,\n",
       "             '2006': 697,\n",
       "             'measure': 698,\n",
       "             'since': 699,\n",
       "             'reason': 700,\n",
       "             'received': 701,\n",
       "             'less': 702,\n",
       "             'agencies': 703,\n",
       "             'ask': 704,\n",
       "             'meeting': 705,\n",
       "             'prevent': 706,\n",
       "             'healthy': 707,\n",
       "             'source': 708,\n",
       "             'determine': 709,\n",
       "             'decide': 710,\n",
       "             'choose': 711,\n",
       "             'economy': 712,\n",
       "             'meant': 713,\n",
       "             'institution': 714,\n",
       "             'recommendations': 715,\n",
       "             'foods': 716,\n",
       "             'annual': 717,\n",
       "             'implement': 718,\n",
       "             'monitoring': 719,\n",
       "             'departments': 720,\n",
       "             'document': 721,\n",
       "             'back': 722,\n",
       "             'content': 723,\n",
       "             'greatest': 724,\n",
       "             'payment': 725,\n",
       "             'objective': 726,\n",
       "             'happening': 727,\n",
       "             'extent': 728,\n",
       "             'side': 729,\n",
       "             'believe': 730,\n",
       "             'event': 731,\n",
       "             'patient': 732,\n",
       "             'really': 733,\n",
       "             'added': 734,\n",
       "             'transfer': 735,\n",
       "             'registration': 736,\n",
       "             'just': 737,\n",
       "             'unit': 738,\n",
       "             'procedures': 739,\n",
       "             'centre': 740,\n",
       "             'third': 741,\n",
       "             'call': 742,\n",
       "             'hst': 743,\n",
       "             'province': 744,\n",
       "             'overall': 745,\n",
       "             'defence': 746,\n",
       "             'funds': 747,\n",
       "             'credit': 748,\n",
       "             'even': 749,\n",
       "             'material': 750,\n",
       "             'compliance': 751,\n",
       "             'consumers': 752,\n",
       "             'request': 753,\n",
       "             'maximum': 754,\n",
       "             'low': 755,\n",
       "             'claims': 756,\n",
       "             'free': 757,\n",
       "             'vision': 758,\n",
       "             'search': 759,\n",
       "             'insurance': 760,\n",
       "             'applications': 761,\n",
       "             'domestic': 762,\n",
       "             'paid': 763,\n",
       "             'selection': 764,\n",
       "             'balance': 765,\n",
       "             'features': 766,\n",
       "             'copyright': 767,\n",
       "             'strategic': 768,\n",
       "             'addressed': 769,\n",
       "             'ethical': 770,\n",
       "             'uses': 771,\n",
       "             'body': 772,\n",
       "             'target': 773,\n",
       "             'nation': 774,\n",
       "             'critical': 775,\n",
       "             'test': 776,\n",
       "             'significant': 777,\n",
       "             'causes': 778,\n",
       "             'fit': 779,\n",
       "             'behind': 780,\n",
       "             'sectors': 781,\n",
       "             'infrastructure': 782,\n",
       "             'french': 783,\n",
       "             'create': 784,\n",
       "             'exposure': 785,\n",
       "             'cooperation': 786,\n",
       "             'employer': 787,\n",
       "             'proportion': 788,\n",
       "             'studies': 789,\n",
       "             'whose': 790,\n",
       "             'down': 791,\n",
       "             'concerned': 792,\n",
       "             'resource': 793,\n",
       "             'similar': 794,\n",
       "             'established': 795,\n",
       "             'far': 796,\n",
       "             'encourage': 797,\n",
       "             'mandate': 798,\n",
       "             'particularly': 799,\n",
       "             'degree': 800,\n",
       "             'build': 801,\n",
       "             'convention': 802,\n",
       "             'minimum': 803,\n",
       "             'hold': 804,\n",
       "             'dialogue': 805,\n",
       "             'sort': 806,\n",
       "             'consumer': 807,\n",
       "             'components': 808,\n",
       "             'completed': 809,\n",
       "             'city': 810,\n",
       "             'full': 811,\n",
       "             'negative': 812,\n",
       "             'efforts': 813,\n",
       "             'represent': 814,\n",
       "             'alternative': 815,\n",
       "             'stage': 816,\n",
       "             'procedure': 817,\n",
       "             'complete': 818,\n",
       "             'contract': 819,\n",
       "             'follow': 820,\n",
       "             'career': 821,\n",
       "             'bill': 822,\n",
       "             'provisions': 823,\n",
       "             'materials': 824,\n",
       "             'off': 825,\n",
       "             'looking': 826,\n",
       "             'experiences': 827,\n",
       "             'park': 828,\n",
       "             'financing': 829,\n",
       "             'stop': 830,\n",
       "             'submit': 831,\n",
       "             'intellectual': 832,\n",
       "             'integration': 833,\n",
       "             'whole': 834,\n",
       "             'adverse': 835,\n",
       "             'instruments': 836,\n",
       "             'scientific': 837,\n",
       "             'least': 838,\n",
       "             'contributed': 839,\n",
       "             'once': 840,\n",
       "             'send': 841,\n",
       "             'concern': 842,\n",
       "             'known': 843,\n",
       "             'expectations': 844,\n",
       "             'also': 845,\n",
       "             'technologies': 846,\n",
       "             'longer': 847,\n",
       "             'views': 848,\n",
       "             'arrangements': 849,\n",
       "             'agenda': 850,\n",
       "             'leadership': 851,\n",
       "             'around': 852,\n",
       "             'programme': 853,\n",
       "             'supply': 854,\n",
       "             'competition': 855,\n",
       "             'ones': 856,\n",
       "             'network': 857,\n",
       "             'equipment': 858,\n",
       "             'option': 859,\n",
       "             'together': 860,\n",
       "             'identify': 861,\n",
       "             'workplace': 862,\n",
       "             'difficult': 863,\n",
       "             'early': 864,\n",
       "             'register': 865,\n",
       "             'share': 866,\n",
       "             'begin': 867,\n",
       "             'due': 868,\n",
       "             'outcome': 869,\n",
       "             'exactly': 870,\n",
       "             'researchers': 871,\n",
       "             'organizational': 872,\n",
       "             'occur': 873,\n",
       "             'prevention': 874,\n",
       "             'indicators': 875,\n",
       "             'coming': 876,\n",
       "             'rather': 877,\n",
       "             'reports': 878,\n",
       "             'operations': 879,\n",
       "             'statements': 880,\n",
       "             'models': 881,\n",
       "             'relative': 882,\n",
       "             'reported': 883,\n",
       "             'attention': 884,\n",
       "             'regions': 885,\n",
       "             'partnership': 886,\n",
       "             'size': 887,\n",
       "             'designated': 888,\n",
       "             'often': 889,\n",
       "             'purposes': 890,\n",
       "             'civil': 891,\n",
       "             'cancer': 892,\n",
       "             'treaty': 893,\n",
       "             'corporate': 894,\n",
       "             'users': 895,\n",
       "             'higher': 896,\n",
       "             'integrated': 897,\n",
       "             'awareness': 898,\n",
       "             'reach': 899,\n",
       "             'limits': 900,\n",
       "             'above': 901,\n",
       "             'assess': 902,\n",
       "             'reserve': 903,\n",
       "             'complaint': 904,\n",
       "             'genetic': 905,\n",
       "             'disadvantages': 906,\n",
       "             'single': 907,\n",
       "             'suggest': 908,\n",
       "             'united': 909,\n",
       "             'permit': 910,\n",
       "             'recent': 911,\n",
       "             'operational': 912,\n",
       "             'testing': 913,\n",
       "             'ozone': 914,\n",
       "             'receiving': 915,\n",
       "             'networks': 916,\n",
       "             'party': 917,\n",
       "             'external': 918,\n",
       "             'licence': 919,\n",
       "             'industrial': 920,\n",
       "             'provinces': 921,\n",
       "             'contributions': 922,\n",
       "             'export': 923,\n",
       "             'governance': 924,\n",
       "             'recommend': 925,\n",
       "             'educational': 926,\n",
       "             'clients': 927,\n",
       "             'unique': 928,\n",
       "             'basic': 929,\n",
       "             'open': 930,\n",
       "             'web': 931,\n",
       "             'deliver': 932,\n",
       "             'commercial': 933,\n",
       "             'symptoms': 934,\n",
       "             'advantage': 935,\n",
       "             'achieving': 936,\n",
       "             'situations': 937,\n",
       "             'partnerships': 938,\n",
       "             'history': 939,\n",
       "             'laws': 940,\n",
       "             'recommended': 941,\n",
       "             'improvements': 942,\n",
       "             'minority': 943,\n",
       "             'ip': 944,\n",
       "             'goal': 945,\n",
       "             'markets': 946,\n",
       "             'distribution': 947,\n",
       "             'cases': 948,\n",
       "             'short': 949,\n",
       "             'per': 950,\n",
       "             'reasonable': 951,\n",
       "             'works': 952,\n",
       "             'accountability': 953,\n",
       "             'cra': 954,\n",
       "             'cover': 955,\n",
       "             'something': 956,\n",
       "             'criminal': 957,\n",
       "             'certain': 958,\n",
       "             '10': 959,\n",
       "             'across': 960,\n",
       "             'sites': 961,\n",
       "             'acceptable': 962,\n",
       "             'client': 963,\n",
       "             'reference': 964,\n",
       "             'housing': 965,\n",
       "             'promotion': 966,\n",
       "             'understand': 967,\n",
       "             'large': 968,\n",
       "             'discrimination': 969,\n",
       "             'price': 970,\n",
       "             'border': 971,\n",
       "             'allow': 972,\n",
       "             'providing': 973,\n",
       "             'move': 974,\n",
       "             'increasing': 975,\n",
       "             'north': 976,\n",
       "             'games': 977,\n",
       "             'themselves': 978,\n",
       "             'located': 979,\n",
       "             'safe': 980,\n",
       "             'notice': 981,\n",
       "             'talk': 982,\n",
       "             'bank': 983,\n",
       "             '2007': 984,\n",
       "             'demand': 985,\n",
       "             'effectively': 986,\n",
       "             '2005': 987,\n",
       "             'message': 988,\n",
       "             'describes': 989,\n",
       "             'violence': 990,\n",
       "             'decides': 991,\n",
       "             'substances': 992,\n",
       "             'especially': 993,\n",
       "             'smoking': 994,\n",
       "             'anything': 995,\n",
       "             'thing': 996,\n",
       "             'great': 997,\n",
       "             'method': 998,\n",
       "             'equity': 999,\n",
       "             ...})"
      ]
     },
     "execution_count": 35,
     "metadata": {},
     "output_type": "execute_result"
    }
   ],
   "source": [
    "ll.train.proc_x[-1].otoi"
   ]
  },
  {
   "cell_type": "markdown",
   "metadata": {
    "hidden": true
   },
   "source": [
    "Now we are ready to create databunch"
   ]
  },
  {
   "cell_type": "markdown",
   "metadata": {
    "hidden": true
   },
   "source": [
    "```python\n",
    "class DataBunch():\n",
    "    def __init__(self, train_dl, valid_dl, c_in=None, c_out=None):\n",
    "        self.train_dl,self.valid_dl,self.c_in,self.c_out = train_dl,valid_dl,c_in,c_out\n",
    "\n",
    "    @property\n",
    "    def train_ds(self): return self.train_dl.dataset\n",
    "\n",
    "    @property\n",
    "    def valid_ds(self): return self.valid_dl.dataset\n",
    "```"
   ]
  },
  {
   "cell_type": "markdown",
   "metadata": {
    "hidden": true
   },
   "source": [
    "In our dataset, `x's` and `y's` are of different lengths."
   ]
  },
  {
   "cell_type": "code",
   "execution_count": 36,
   "metadata": {
    "hidden": true
   },
   "outputs": [],
   "source": [
    "def get_lens(ll):\n",
    "    en_len, fr_len = [], []\n",
    "    for x,y in ll.train:\n",
    "        en_len.append(len(x))\n",
    "        fr_len.append(len(y))\n",
    "    return en_len, fr_len"
   ]
  },
  {
   "cell_type": "code",
   "execution_count": 37,
   "metadata": {
    "hidden": true
   },
   "outputs": [],
   "source": [
    "en_len, fr_len = get_lens(ll)"
   ]
  },
  {
   "cell_type": "code",
   "execution_count": 38,
   "metadata": {
    "hidden": true
   },
   "outputs": [
    {
     "data": {
      "text/plain": [
       "<matplotlib.legend.Legend at 0x1a2ec00588>"
      ]
     },
     "execution_count": 38,
     "metadata": {},
     "output_type": "execute_result"
    },
    {
     "data": {
      "image/png": "[encoded data removed]",
      "text/plain": [
       "<Figure size 1440x360 with 3 Axes>"
      ]
     },
     "metadata": {
      "needs_background": "light"
     },
     "output_type": "display_data"
    }
   ],
   "source": [
    "fig, ax = plt.subplots(3,1, figsize=(20,5))\n",
    "ax[0].plot(en_len)\n",
    "ax[0].legend([\"english_lengths\"])\n",
    "ax[1].plot(fr_len, color=\"orange\")\n",
    "ax[1].legend([\"french_lengths\"])\n",
    "ax[2].plot(np.array(en_len)- np.array(fr_len), color=\"r\")\n",
    "ax[2].legend([\"residual_lengths\"])"
   ]
  },
  {
   "cell_type": "markdown",
   "metadata": {
    "hidden": true
   },
   "source": [
    "We will need to pad `x` sentences so as to form a databunch, because `x's` will go into our moedel and if they are of different length, we will not be able to leverage GPU capability fully."
   ]
  },
  {
   "cell_type": "markdown",
   "metadata": {
    "hidden": true
   },
   "source": [
    "```python\n",
    "class SortSampler(Sampler):\n",
    "    \n",
    "    def __init__(self, data_source, key):\n",
    "        self.data_source, self.key = data_source, key\n",
    "        \n",
    "    def __len__(self):\n",
    "        return len(self.data_source)\n",
    "    \n",
    "    def __iter__(self):\n",
    "        return iter(sorted(list(range(len(self.data_source))), key=self.key, reverse=True))\n",
    "```"
   ]
  },
  {
   "cell_type": "markdown",
   "metadata": {
    "hidden": true
   },
   "source": [
    "```python\n",
    "class SortishSampler(Sampler):\n",
    "    def __init__(self, data_source, key, bs):\n",
    "        self.data_source,self.key,self.bs = data_source,key,bs\n",
    "\n",
    "    def __len__(self) -> int: return len(self.data_source)\n",
    "\n",
    "    def __iter__(self):\n",
    "        idxs = torch.randperm(len(self.data_source))\n",
    "        megabatches = [idxs[i:i+self.bs*50] for i in range(0, len(idxs), self.bs*50)]\n",
    "        sorted_idx = torch.cat([tensor(sorted(s, key=self.key, reverse=True)) for s in megabatches])\n",
    "        batches = [sorted_idx[i:i+self.bs] for i in range(0, len(sorted_idx), self.bs)]\n",
    "        max_idx = torch.argmax(tensor([self.key(ck[0]) for ck in batches]))  # find the chunk with the largest key,\n",
    "        batches[0],batches[max_idx] = batches[max_idx],batches[0]            # then make sure it goes first.\n",
    "        batch_idxs = torch.randperm(len(batches)-2)\n",
    "        sorted_idx = torch.cat([batches[i+1] for i in batch_idxs]) if len(batches) > 1 else LongTensor([])\n",
    "        sorted_idx = torch.cat([batches[0], sorted_idx, batches[-1]])\n",
    "        return iter(sorted_idx)\n",
    "```"
   ]
  },
  {
   "cell_type": "markdown",
   "metadata": {
    "hidden": true
   },
   "source": [
    "We remove the items where one of the target is more than 30 tokens long."
   ]
  },
  {
   "cell_type": "code",
   "execution_count": 39,
   "metadata": {
    "hidden": true
   },
   "outputs": [],
   "source": [
    "lens = np.array([(len(x), len(y)) for x, y in zip(ll.train.x, ll.train.y)])"
   ]
  },
  {
   "cell_type": "code",
   "execution_count": 40,
   "metadata": {
    "hidden": true
   },
   "outputs": [
    {
     "data": {
      "text/plain": [
       "(26.0, 31.0)"
      ]
     },
     "execution_count": 40,
     "metadata": {},
     "output_type": "execute_result"
    }
   ],
   "source": [
    "np.percentile(lens[:,0], 90), np.percentile(lens[:,1], 90)"
   ]
  },
  {
   "cell_type": "code",
   "execution_count": 41,
   "metadata": {
    "hidden": true
   },
   "outputs": [
    {
     "data": {
      "text/plain": [
       "SplitData\n",
       "Train: LabeledData\n",
       "x: TextList (49732 items)\n",
       "[[2, 7, 10, 14, 1412, 8, 3], [2, 7, 40, 62, 49, 267, 48, 8, 3], [2, 7, 10, 43, 49, 20, 465, 42, 8, 3], [2, 7, 10, 14, 9, 3659, 1070, 50, 4756, 13, 6423, 47, 11, 7, 5713, 17, 7, 2310, 13, 7, 7401, 8, 3], [2, 7, 10, 14, 9, 331, 294, 263, 27, 7, 3324, 7, 2248, 8, 3], [2, 7, 10, 16, 9, 406, 13, 906, 11, 296, 52, 1337, 5714, 1413, 18, 1129, 5714, 8, 3], [2, 7, 10, 154, 11, 538, 955, 16, 407, 39, 9, 2935, 2050, 8, 3], [2, 7, 10, 14, 9, 323, 11, 7, 46, 8, 3], [2, 7, 37, 744, 63, 9, 687, 323, 3482, 8, 3], [2, 7, 37, 744, 14, 9, 838, 7402, 8, 3]...]\n",
       "Path: .\n",
       "y: TextList (49732 items)\n",
       "[[2, 7, 45, 18, 44, 19, 12, 2061, 8, 3], [2, 29, 65, 9212, 11, 62, 8, 3], [2, 7, 19, 11317, 11, 62, 294, 67, 8, 3], [2, 7, 39, 20, 10, 4069, 61, 4593, 14, 7812, 54, 9, 7, 0, 17, 16, 7, 964, 11, 7, 7813, 11, 0, 8, 3], [2, 7, 34, 18, 13, 238, 1300, 667, 38, 27, 2697, 9, 7, 4314, 8, 3], [2, 7, 26, 20, 10, 115, 14, 10, 2601, 35, 177, 32, 6258, 22, 520, 2517, 16, 32, 6258, 22, 2313, 2314, 8, 3], [2, 16, 34, 148, 9, 1914, 15, 856, 7814, 11, 31, 10, 2890, 3511, 8, 3], [2, 7, 39, 18, 12, 297, 25, 7, 59, 8, 3], [2, 7, 39, 18, 12, 736, 737, 12, 52, 2793, 3684, 9, 297, 8, 3], [2, 7, 39, 18, 12, 736, 12, 360, 0, 8, 3]...]\n",
       "Path: .\n",
       "\n",
       "Valid: LabeledData\n",
       "x: TextList (2599 items)\n",
       "[[2, 7, 24, 16, 49, 8, 3], [2, 7, 37, 744, 14, 9, 73, 7402, 8, 3], [2, 7, 37, 1482, 14, 9, 838, 7402, 8, 3], [2, 7, 10, 14, 7, 46, 59, 323, 3482, 8, 3], [2, 7, 10, 14, 18, 7, 1590, 55, 7, 0, 241, 8, 3], [2, 7, 24, 14, 9, 7, 4456, 8, 3], [2, 7, 10, 14, 9, 7, 441, 19, 7, 5715, 7, 184, 7, 202, 50, 4760, 47, 8, 3], [2, 7, 40, 33, 38, 124, 56, 44, 191, 13, 101, 19, 249, 8, 3], [2, 7, 10, 16, 7, 0, 2322, 8, 3], [2, 7, 10, 14, 9, 7, 1738, 7, 7408, 7, 3870, 8, 3]...]\n",
       "Path: .\n",
       "y: TextList (2599 items)\n",
       "[[2, 7, 65, 708, 11, 62, 8, 3], [2, 7, 39, 18, 12, 736, 12, 52, 0, 8, 3], [2, 7, 39, 18, 13, 1143, 13, 360, 0, 8, 3], [2, 7, 39, 18, 12, 3684, 9, 12, 297, 328, 8, 3], [2, 7, 377, 998, 43, 7, 0, 95, 7, 0, 0, 8, 3], [2, 7, 40, 18, 44, 40, 32, 4595, 8, 3], [2, 7, 45, 18, 44, 19, 13, 7, 263, 15, 185, 755, 9, 27, 4073, 61, 6262, 54, 8, 3], [2, 7, 65, 107, 199, 15, 100, 42, 159, 9, 12, 11588, 7, 684, 30, 10, 566, 333, 25, 7, 59, 8, 3], [2, 7, 40, 18, 44, 19, 10, 5347, 0, 8, 3], [2, 7, 40, 18, 44, 19, 13, 4598, 29, 6265, 3106, 8, 3]...]\n",
       "Path: .\n"
      ]
     },
     "execution_count": 41,
     "metadata": {},
     "output_type": "execute_result"
    }
   ],
   "source": [
    "ll"
   ]
  },
  {
   "cell_type": "code",
   "execution_count": 42,
   "metadata": {
    "hidden": true
   },
   "outputs": [],
   "source": [
    "def cleanup_ll(ll, length=30):\n",
    "    \"Delets the questions where there length is greater than length\"\n",
    "    for i, (x, y) in enumerate(zip(ll.train.x, ll.train.y)):\n",
    "        if len(x) > length or len(y) > length:\n",
    "            del ll.train.x[i]\n",
    "            del ll.train.y[i]\n",
    "            \n",
    "    for i, (x, y) in enumerate(zip(ll.valid.x, ll.valid.y)):\n",
    "        if len(x) > length or len(y) > length:\n",
    "            del ll.valid.x[i]\n",
    "            del ll.valid.y[i]\n",
    "    \n",
    "    return ll "
   ]
  },
  {
   "cell_type": "code",
   "execution_count": 43,
   "metadata": {
    "hidden": true
   },
   "outputs": [],
   "source": [
    "ll = cleanup_ll(ll, length=30)"
   ]
  },
  {
   "cell_type": "code",
   "execution_count": 44,
   "metadata": {
    "hidden": true
   },
   "outputs": [
    {
     "data": {
      "text/plain": [
       "SplitData\n",
       "Train: LabeledData\n",
       "x: TextList (45119 items)\n",
       "[[2, 7, 10, 14, 1412, 8, 3], [2, 7, 40, 62, 49, 267, 48, 8, 3], [2, 7, 10, 43, 49, 20, 465, 42, 8, 3], [2, 7, 10, 14, 9, 3659, 1070, 50, 4756, 13, 6423, 47, 11, 7, 5713, 17, 7, 2310, 13, 7, 7401, 8, 3], [2, 7, 10, 14, 9, 331, 294, 263, 27, 7, 3324, 7, 2248, 8, 3], [2, 7, 10, 16, 9, 406, 13, 906, 11, 296, 52, 1337, 5714, 1413, 18, 1129, 5714, 8, 3], [2, 7, 10, 154, 11, 538, 955, 16, 407, 39, 9, 2935, 2050, 8, 3], [2, 7, 10, 14, 9, 323, 11, 7, 46, 8, 3], [2, 7, 37, 744, 63, 9, 687, 323, 3482, 8, 3], [2, 7, 37, 744, 14, 9, 838, 7402, 8, 3]...]\n",
       "Path: .\n",
       "y: TextList (45119 items)\n",
       "[[2, 7, 45, 18, 44, 19, 12, 2061, 8, 3], [2, 29, 65, 9212, 11, 62, 8, 3], [2, 7, 19, 11317, 11, 62, 294, 67, 8, 3], [2, 7, 39, 20, 10, 4069, 61, 4593, 14, 7812, 54, 9, 7, 0, 17, 16, 7, 964, 11, 7, 7813, 11, 0, 8, 3], [2, 7, 34, 18, 13, 238, 1300, 667, 38, 27, 2697, 9, 7, 4314, 8, 3], [2, 7, 26, 20, 10, 115, 14, 10, 2601, 35, 177, 32, 6258, 22, 520, 2517, 16, 32, 6258, 22, 2313, 2314, 8, 3], [2, 16, 34, 148, 9, 1914, 15, 856, 7814, 11, 31, 10, 2890, 3511, 8, 3], [2, 7, 39, 18, 12, 297, 25, 7, 59, 8, 3], [2, 7, 39, 18, 12, 736, 737, 12, 52, 2793, 3684, 9, 297, 8, 3], [2, 7, 39, 18, 12, 736, 12, 360, 0, 8, 3]...]\n",
       "Path: .\n",
       "\n",
       "Valid: LabeledData\n",
       "x: TextList (2325 items)\n",
       "[[2, 7, 24, 16, 49, 8, 3], [2, 7, 37, 744, 14, 9, 73, 7402, 8, 3], [2, 7, 37, 1482, 14, 9, 838, 7402, 8, 3], [2, 7, 10, 14, 7, 46, 59, 323, 3482, 8, 3], [2, 7, 10, 14, 18, 7, 1590, 55, 7, 0, 241, 8, 3], [2, 7, 24, 14, 9, 7, 4456, 8, 3], [2, 7, 10, 14, 9, 7, 441, 19, 7, 5715, 7, 184, 7, 202, 50, 4760, 47, 8, 3], [2, 7, 40, 33, 38, 124, 56, 44, 191, 13, 101, 19, 249, 8, 3], [2, 7, 10, 16, 7, 0, 2322, 8, 3], [2, 7, 10, 14, 9, 7, 1738, 7, 7408, 7, 3870, 8, 3]...]\n",
       "Path: .\n",
       "y: TextList (2325 items)\n",
       "[[2, 7, 65, 708, 11, 62, 8, 3], [2, 7, 39, 18, 12, 736, 12, 52, 0, 8, 3], [2, 7, 39, 18, 13, 1143, 13, 360, 0, 8, 3], [2, 7, 39, 18, 12, 3684, 9, 12, 297, 328, 8, 3], [2, 7, 377, 998, 43, 7, 0, 95, 7, 0, 0, 8, 3], [2, 7, 40, 18, 44, 40, 32, 4595, 8, 3], [2, 7, 45, 18, 44, 19, 13, 7, 263, 15, 185, 755, 9, 27, 4073, 61, 6262, 54, 8, 3], [2, 7, 65, 107, 199, 15, 100, 42, 159, 9, 12, 11588, 7, 684, 30, 10, 566, 333, 25, 7, 59, 8, 3], [2, 7, 40, 18, 44, 19, 10, 5347, 0, 8, 3], [2, 7, 40, 18, 44, 19, 13, 4598, 29, 6265, 3106, 8, 3]...]\n",
       "Path: .\n"
      ]
     },
     "execution_count": 44,
     "metadata": {},
     "output_type": "execute_result"
    }
   ],
   "source": [
    "ll"
   ]
  },
  {
   "cell_type": "code",
   "execution_count": null,
   "metadata": {
    "hidden": true
   },
   "outputs": [],
   "source": []
  },
  {
   "cell_type": "code",
   "execution_count": null,
   "metadata": {
    "hidden": true
   },
   "outputs": [],
   "source": []
  },
  {
   "cell_type": "code",
   "execution_count": null,
   "metadata": {
    "hidden": true
   },
   "outputs": [],
   "source": []
  },
  {
   "cell_type": "code",
   "execution_count": null,
   "metadata": {
    "hidden": true
   },
   "outputs": [],
   "source": []
  },
  {
   "cell_type": "markdown",
   "metadata": {
    "hidden": true
   },
   "source": [
    "`FYI`: `LabelledData` Object is a `Dataset`."
   ]
  },
  {
   "cell_type": "markdown",
   "metadata": {
    "hidden": true
   },
   "source": [
    "```python\n",
    "DataLoader(\n",
    "    dataset,\n",
    "    batch_size=1,\n",
    "    shuffle=False,\n",
    "    sampler=None,\n",
    "    batch_sampler=None,\n",
    "    num_workers=0,\n",
    "    collate_fn=<function default_collate at 0x1a1e6009d8>,\n",
    "    pin_memory=True,\n",
    "    drop_last=False,\n",
    "    timeout=0,\n",
    "    worker_init_fn=None,\n",
    ")\n",
    "```"
   ]
  },
  {
   "cell_type": "code",
   "execution_count": 45,
   "metadata": {
    "hidden": true
   },
   "outputs": [],
   "source": [
    "def seq2seq_collate(samples, pad_idx=1, pad_first=True, backwards=False):\n",
    "    \"Function that collect samples and adds padding. Flips token order if needed\"\n",
    "    #print(samples[0])\n",
    "    #samples = to_data(samples)\n",
    "    max_len_x,max_len_y = max([len(s[0]) for s in samples]),max([len(s[1]) for s in samples])\n",
    "    res_x = torch.zeros(len(samples), max_len_x).long() + pad_idx\n",
    "    res_y = torch.zeros(len(samples), max_len_y).long() + pad_idx\n",
    "    if backwards: pad_first = not pad_first\n",
    "    for i,s in enumerate(samples):\n",
    "        if pad_first: \n",
    "            res_x[i,-len(s[0]):],res_y[i,-len(s[1]):] = torch.LongTensor(s[0]),torch.LongTensor(s[1])\n",
    "        else:         \n",
    "            res_x[i,:len(s[0]):],res_y[i,:len(s[1]):] = torch.LongTensor(s[0]),torch.LongTensor(s[1])\n",
    "    if backwards: res_x,res_y = res_x.flip(1),res_y.flip(1)\n",
    "    return res_x,res_y"
   ]
  },
  {
   "cell_type": "code",
   "execution_count": 46,
   "metadata": {
    "hidden": true
   },
   "outputs": [],
   "source": [
    "def get_se2seq_dls(ll, train_bs, val_bs, pad_idx=1, pad_first=False, backwards=False, c_fn=seq2seq_collate):\n",
    "    datasets=[ll.train, ll.valid]\n",
    "    collate_fn = partial(c_fn, pad_idx=pad_idx, pad_first=pad_first, backwards=backwards)\n",
    "    train_sampler = SortishSampler(datasets[0].x, key=lambda t: len(datasets[0][t][0]), bs=bs//2)\n",
    "    train_dl = DataLoader(datasets[0], batch_size=train_bs, sampler=train_sampler, \n",
    "                          collate_fn=seq2seq_collate,drop_last=True)\n",
    "    \n",
    "    dataloaders = [train_dl]\n",
    "    for ds in datasets[1:]:\n",
    "        lengths = [len(t) for t in ds.x.items]\n",
    "        sampler = SortSampler(ds.x, key=lengths.__getitem__)\n",
    "        dataloaders.append(DataLoader(ds, batch_size=val_bs, sampler=sampler, collate_fn=collate_fn))\n",
    "        \n",
    "    return dataloaders"
   ]
  },
  {
   "cell_type": "code",
   "execution_count": 47,
   "metadata": {
    "hidden": true
   },
   "outputs": [],
   "source": [
    "bs = 64"
   ]
  },
  {
   "cell_type": "code",
   "execution_count": 48,
   "metadata": {
    "hidden": true
   },
   "outputs": [],
   "source": [
    "train_dl, valid_dl = get_se2seq_dls(ll, bs, bs*2)"
   ]
  },
  {
   "cell_type": "code",
   "execution_count": 49,
   "metadata": {
    "hidden": true
   },
   "outputs": [],
   "source": [
    "x, y = next(iter(train_dl))"
   ]
  },
  {
   "cell_type": "code",
   "execution_count": 50,
   "metadata": {
    "hidden": true
   },
   "outputs": [
    {
     "data": {
      "text/plain": [
       "(torch.Size([64, 120]), torch.Size([64, 158]))"
      ]
     },
     "execution_count": 50,
     "metadata": {},
     "output_type": "execute_result"
    }
   ],
   "source": [
    "x.shape, y.shape"
   ]
  },
  {
   "cell_type": "code",
   "execution_count": 51,
   "metadata": {
    "hidden": true
   },
   "outputs": [
    {
     "data": {
      "text/plain": [
       "tensor([[   2,    7,   40,  ...,  523,    8,    3],\n",
       "        [   1,    1,    1,  ...,  629,    8,    3],\n",
       "        [   1,    1,    1,  ...,  544,    8,    3],\n",
       "        ...,\n",
       "        [   1,    1,    1,  ...,  319,    8,    3],\n",
       "        [   1,    1,    1,  ...,  782,    8,    3],\n",
       "        [   1,    1,    1,  ..., 1474,    8,    3]])"
      ]
     },
     "execution_count": 51,
     "metadata": {},
     "output_type": "execute_result"
    }
   ],
   "source": [
    "x"
   ]
  },
  {
   "cell_type": "code",
   "execution_count": 52,
   "metadata": {
    "hidden": true
   },
   "outputs": [],
   "source": [
    "def seq2seq_databunch(ll, bs=64):\n",
    "    return DataBunch(*get_se2seq_dls(ll, bs, bs*2))"
   ]
  },
  {
   "cell_type": "code",
   "execution_count": 53,
   "metadata": {
    "hidden": true
   },
   "outputs": [],
   "source": [
    "data = seq2seq_databunch(ll)"
   ]
  },
  {
   "cell_type": "code",
   "execution_count": 54,
   "metadata": {
    "hidden": true
   },
   "outputs": [
    {
     "data": {
      "text/plain": [
       "LabeledData\n",
       "x: TextList (45119 items)\n",
       "[[2, 7, 10, 14, 1412, 8, 3], [2, 7, 40, 62, 49, 267, 48, 8, 3], [2, 7, 10, 43, 49, 20, 465, 42, 8, 3], [2, 7, 10, 14, 9, 3659, 1070, 50, 4756, 13, 6423, 47, 11, 7, 5713, 17, 7, 2310, 13, 7, 7401, 8, 3], [2, 7, 10, 14, 9, 331, 294, 263, 27, 7, 3324, 7, 2248, 8, 3], [2, 7, 10, 16, 9, 406, 13, 906, 11, 296, 52, 1337, 5714, 1413, 18, 1129, 5714, 8, 3], [2, 7, 10, 154, 11, 538, 955, 16, 407, 39, 9, 2935, 2050, 8, 3], [2, 7, 10, 14, 9, 323, 11, 7, 46, 8, 3], [2, 7, 37, 744, 63, 9, 687, 323, 3482, 8, 3], [2, 7, 37, 744, 14, 9, 838, 7402, 8, 3]...]\n",
       "Path: .\n",
       "y: TextList (45119 items)\n",
       "[[2, 7, 45, 18, 44, 19, 12, 2061, 8, 3], [2, 29, 65, 9212, 11, 62, 8, 3], [2, 7, 19, 11317, 11, 62, 294, 67, 8, 3], [2, 7, 39, 20, 10, 4069, 61, 4593, 14, 7812, 54, 9, 7, 0, 17, 16, 7, 964, 11, 7, 7813, 11, 0, 8, 3], [2, 7, 34, 18, 13, 238, 1300, 667, 38, 27, 2697, 9, 7, 4314, 8, 3], [2, 7, 26, 20, 10, 115, 14, 10, 2601, 35, 177, 32, 6258, 22, 520, 2517, 16, 32, 6258, 22, 2313, 2314, 8, 3], [2, 16, 34, 148, 9, 1914, 15, 856, 7814, 11, 31, 10, 2890, 3511, 8, 3], [2, 7, 39, 18, 12, 297, 25, 7, 59, 8, 3], [2, 7, 39, 18, 12, 736, 737, 12, 52, 2793, 3684, 9, 297, 8, 3], [2, 7, 39, 18, 12, 736, 12, 360, 0, 8, 3]...]\n",
       "Path: ."
      ]
     },
     "execution_count": 54,
     "metadata": {},
     "output_type": "execute_result"
    }
   ],
   "source": [
    "data.train_dl.dataset"
   ]
  },
  {
   "cell_type": "code",
   "execution_count": 55,
   "metadata": {
    "hidden": true
   },
   "outputs": [
    {
     "data": {
      "text/plain": [
       "LabeledData\n",
       "x: TextList (2325 items)\n",
       "[[2, 7, 24, 16, 49, 8, 3], [2, 7, 37, 744, 14, 9, 73, 7402, 8, 3], [2, 7, 37, 1482, 14, 9, 838, 7402, 8, 3], [2, 7, 10, 14, 7, 46, 59, 323, 3482, 8, 3], [2, 7, 10, 14, 18, 7, 1590, 55, 7, 0, 241, 8, 3], [2, 7, 24, 14, 9, 7, 4456, 8, 3], [2, 7, 10, 14, 9, 7, 441, 19, 7, 5715, 7, 184, 7, 202, 50, 4760, 47, 8, 3], [2, 7, 40, 33, 38, 124, 56, 44, 191, 13, 101, 19, 249, 8, 3], [2, 7, 10, 16, 7, 0, 2322, 8, 3], [2, 7, 10, 14, 9, 7, 1738, 7, 7408, 7, 3870, 8, 3]...]\n",
       "Path: .\n",
       "y: TextList (2325 items)\n",
       "[[2, 7, 65, 708, 11, 62, 8, 3], [2, 7, 39, 18, 12, 736, 12, 52, 0, 8, 3], [2, 7, 39, 18, 13, 1143, 13, 360, 0, 8, 3], [2, 7, 39, 18, 12, 3684, 9, 12, 297, 328, 8, 3], [2, 7, 377, 998, 43, 7, 0, 95, 7, 0, 0, 8, 3], [2, 7, 40, 18, 44, 40, 32, 4595, 8, 3], [2, 7, 45, 18, 44, 19, 13, 7, 263, 15, 185, 755, 9, 27, 4073, 61, 6262, 54, 8, 3], [2, 7, 65, 107, 199, 15, 100, 42, 159, 9, 12, 11588, 7, 684, 30, 10, 566, 333, 25, 7, 59, 8, 3], [2, 7, 40, 18, 44, 19, 10, 5347, 0, 8, 3], [2, 7, 40, 18, 44, 19, 13, 4598, 29, 6265, 3106, 8, 3]...]\n",
       "Path: ."
      ]
     },
     "execution_count": 55,
     "metadata": {},
     "output_type": "execute_result"
    }
   ],
   "source": [
    "data.valid_dl.dataset"
   ]
  },
  {
   "cell_type": "code",
   "execution_count": null,
   "metadata": {
    "hidden": true
   },
   "outputs": [],
   "source": []
  },
  {
   "cell_type": "code",
   "execution_count": 56,
   "metadata": {
    "hidden": true
   },
   "outputs": [],
   "source": [
    "x,y = next(iter(data.train_dl))"
   ]
  },
  {
   "cell_type": "code",
   "execution_count": 57,
   "metadata": {
    "hidden": true
   },
   "outputs": [
    {
     "data": {
      "text/plain": [
       "(torch.Size([64, 120]), torch.Size([64, 158]))"
      ]
     },
     "execution_count": 57,
     "metadata": {},
     "output_type": "execute_result"
    }
   ],
   "source": [
    "x.shape, y.shape"
   ]
  },
  {
   "cell_type": "code",
   "execution_count": 58,
   "metadata": {
    "hidden": true
   },
   "outputs": [],
   "source": [
    "x,y = next(iter(data.valid_dl))"
   ]
  },
  {
   "cell_type": "code",
   "execution_count": 59,
   "metadata": {
    "hidden": true,
    "scrolled": true
   },
   "outputs": [
    {
     "data": {
      "text/plain": [
       "(torch.Size([128, 56]), torch.Size([128, 68]))"
      ]
     },
     "execution_count": 59,
     "metadata": {},
     "output_type": "execute_result"
    }
   ],
   "source": [
    "x.shape, y.shape"
   ]
  },
  {
   "cell_type": "markdown",
   "metadata": {},
   "source": [
    "### Modelling"
   ]
  },
  {
   "cell_type": "markdown",
   "metadata": {
    "heading_collapsed": true
   },
   "source": [
    "#### **Pretrained Embeddings**"
   ]
  },
  {
   "cell_type": "code",
   "execution_count": 62,
   "metadata": {
    "hidden": true
   },
   "outputs": [],
   "source": [
    "# !git clone https://github.com/facebookresearch/fastText.git\n",
    "# !cd fastText\n",
    "# !pip install ."
   ]
  },
  {
   "cell_type": "code",
   "execution_count": 63,
   "metadata": {
    "hidden": true
   },
   "outputs": [],
   "source": [
    "import fastText as ft"
   ]
  },
  {
   "cell_type": "markdown",
   "metadata": {
    "hidden": true
   },
   "source": [
    "From Documentation [here](https://github.com/facebookresearch/fastText/blob/master/docs/crawl-vectors.md)\n",
    ">We distribute pre-trained word vectors for 157 languages, trained on Common Crawl and Wikipedia using fastText. These models were trained using CBOW with position-weights, in dimension 300, with character n-grams of length 5, a window of size 5 and 10 negatives. We also distribute three new word analogy datasets, for French, Hindi and Polish."
   ]
  },
  {
   "cell_type": "markdown",
   "metadata": {
    "hidden": true
   },
   "source": [
    "Download Pretrained Binary Embeddings for English and French:\n",
    "- English(4.2GB): https://dl.fbaipublicfiles.com/fasttext/vectors-crawl/cc.en.300.bin.gz\n",
    "- French(4.2GB): https://dl.fbaipublicfiles.com/fasttext/vectors-crawl/cc.fr.300.bin.gz"
   ]
  },
  {
   "cell_type": "code",
   "execution_count": 64,
   "metadata": {
    "hidden": true
   },
   "outputs": [],
   "source": [
    "emb_path = Path(\"./../../ft_embedding/\")"
   ]
  },
  {
   "cell_type": "code",
   "execution_count": 65,
   "metadata": {
    "hidden": true
   },
   "outputs": [],
   "source": [
    "fr_vecs = ft.load_model(str((emb_path/'cc.fr.300.bin')))\n",
    "en_vecs = ft.load_model(str((emb_path/'cc.en.300.bin')))"
   ]
  },
  {
   "cell_type": "code",
   "execution_count": 66,
   "metadata": {
    "hidden": true
   },
   "outputs": [
    {
     "data": {
      "text/plain": [
       "(2000000,\n",
       " [',',\n",
       "  'the',\n",
       "  '.',\n",
       "  'and',\n",
       "  'to',\n",
       "  'of',\n",
       "  'a',\n",
       "  '</s>',\n",
       "  'in',\n",
       "  'is',\n",
       "  ':',\n",
       "  'I',\n",
       "  'for',\n",
       "  'that',\n",
       "  ')',\n",
       "  '\"',\n",
       "  '(',\n",
       "  'on',\n",
       "  'with',\n",
       "  'it',\n",
       "  'you',\n",
       "  'The',\n",
       "  'was',\n",
       "  'as',\n",
       "  'are',\n",
       "  'at',\n",
       "  '/',\n",
       "  '’',\n",
       "  'be',\n",
       "  'by',\n",
       "  \"'s\",\n",
       "  'this',\n",
       "  'have',\n",
       "  'from',\n",
       "  'or',\n",
       "  '!',\n",
       "  'not',\n",
       "  'your',\n",
       "  'an',\n",
       "  \"'\",\n",
       "  'but',\n",
       "  '?',\n",
       "  'can',\n",
       "  '-',\n",
       "  'will',\n",
       "  's',\n",
       "  'my',\n",
       "  'has',\n",
       "  'all',\n",
       "  'we',\n",
       "  'they',\n",
       "  'he',\n",
       "  'his',\n",
       "  'more',\n",
       "  'one',\n",
       "  'about',\n",
       "  'their',\n",
       "  \"'t\",\n",
       "  'so',\n",
       "  'which',\n",
       "  'It',\n",
       "  'out',\n",
       "  'up',\n",
       "  '...',\n",
       "  'were',\n",
       "  'had',\n",
       "  'who',\n",
       "  'like',\n",
       "  ';',\n",
       "  '“',\n",
       "  'our',\n",
       "  'would',\n",
       "  '”',\n",
       "  'time',\n",
       "  'been',\n",
       "  'if',\n",
       "  'also',\n",
       "  'just',\n",
       "  'when',\n",
       "  'her',\n",
       "  'This',\n",
       "  'me',\n",
       "  'there',\n",
       "  'do',\n",
       "  'what',\n",
       "  'some',\n",
       "  'other',\n",
       "  'In',\n",
       "  'them',\n",
       "  '–',\n",
       "  '1',\n",
       "  'get',\n",
       "  'new',\n",
       "  'into',\n",
       "  '&',\n",
       "  'We',\n",
       "  'than',\n",
       "  'A',\n",
       "  'no',\n",
       "  'only',\n",
       "  'first',\n",
       "  'any',\n",
       "  'its',\n",
       "  'people',\n",
       "  '2',\n",
       "  '$',\n",
       "  'very',\n",
       "  't',\n",
       "  'over',\n",
       "  'she',\n",
       "  '%',\n",
       "  'how',\n",
       "  'make',\n",
       "  'You',\n",
       "  'said',\n",
       "  'He',\n",
       "  'two',\n",
       "  'may',\n",
       "  'know',\n",
       "  'then',\n",
       "  'see',\n",
       "  'after',\n",
       "  'most',\n",
       "  'good',\n",
       "  'years',\n",
       "  'If',\n",
       "  'these',\n",
       "  'now',\n",
       "  '3',\n",
       "  'use',\n",
       "  'because',\n",
       "  'well',\n",
       "  'work',\n",
       "  'could',\n",
       "  'us',\n",
       "  'don',\n",
       "  'way',\n",
       "  'much',\n",
       "  'back',\n",
       "  'many',\n",
       "  'think',\n",
       "  'where',\n",
       "  'even',\n",
       "  'him',\n",
       "  'through',\n",
       "  'am',\n",
       "  '10',\n",
       "  '|',\n",
       "  'here',\n",
       "  '#',\n",
       "  'made',\n",
       "  'year',\n",
       "  'should',\n",
       "  '*',\n",
       "  'really',\n",
       "  'being',\n",
       "  'such',\n",
       "  'need',\n",
       "  'great',\n",
       "  'And',\n",
       "  ']',\n",
       "  '4',\n",
       "  '[',\n",
       "  '5',\n",
       "  'day',\n",
       "  'before',\n",
       "  'want',\n",
       "  'used',\n",
       "  'go',\n",
       "  'those',\n",
       "  '…',\n",
       "  'But',\n",
       "  'right',\n",
       "  \"'m\",\n",
       "  'take',\n",
       "  '—',\n",
       "  'May',\n",
       "  'still',\n",
       "  'last',\n",
       "  'off',\n",
       "  'too',\n",
       "  'New',\n",
       "  'going',\n",
       "  'best',\n",
       "  'find',\n",
       "  'love',\n",
       "  'did',\n",
       "  'while',\n",
       "  'home',\n",
       "  'There',\n",
       "  'They',\n",
       "  'same',\n",
       "  'around',\n",
       "  'help',\n",
       "  'down',\n",
       "  'information',\n",
       "  'UTC',\n",
       "  'place',\n",
       "  'i',\n",
       "  '2017',\n",
       "  'For',\n",
       "  'little',\n",
       "  'life',\n",
       "  'between',\n",
       "  'each',\n",
       "  'own',\n",
       "  'both',\n",
       "  '12',\n",
       "  '6',\n",
       "  'world',\n",
       "  'part',\n",
       "  'few',\n",
       "  '8',\n",
       "  '7',\n",
       "  'talk',\n",
       "  'As',\n",
       "  'look',\n",
       "  '2012',\n",
       "  'things',\n",
       "  '11',\n",
       "  'say',\n",
       "  'does',\n",
       "  'every',\n",
       "  'something',\n",
       "  '2013',\n",
       "  'during',\n",
       "  'got',\n",
       "  'So',\n",
       "  \"'ve\",\n",
       "  'What',\n",
       "  'since',\n",
       "  'found',\n",
       "  'long',\n",
       "  'different',\n",
       "  'says',\n",
       "  '>',\n",
       "  'never',\n",
       "  'another',\n",
       "  '�',\n",
       "  'Ã',\n",
       "  'better',\n",
       "  '2016',\n",
       "  'using',\n",
       "  '+',\n",
       "  'free',\n",
       "  '20',\n",
       "  'under',\n",
       "  'three',\n",
       "  'family',\n",
       "  'She',\n",
       "  'including',\n",
       "  'That',\n",
       "  'always',\n",
       "  '\\\\',\n",
       "  'next',\n",
       "  'come',\n",
       "  'without',\n",
       "  'My',\n",
       "  'again',\n",
       "  '9',\n",
       "  'game',\n",
       "  \"'re\",\n",
       "  '15',\n",
       "  '2011',\n",
       "  'When',\n",
       "  'days',\n",
       "  'set',\n",
       "  '30',\n",
       "  'All',\n",
       "  'number',\n",
       "  '2014',\n",
       "  'end',\n",
       "  'lot',\n",
       "  'business',\n",
       "  'sure',\n",
       "  'system',\n",
       "  'book',\n",
       "  '2015',\n",
       "  'against',\n",
       "  'high',\n",
       "  '=',\n",
       "  '2010',\n",
       "  'must',\n",
       "  'available',\n",
       "  'To',\n",
       "  'might',\n",
       "  'show',\n",
       "  'area',\n",
       "  'Â',\n",
       "  'week',\n",
       "  '00',\n",
       "  'away',\n",
       "  'team',\n",
       "  'March',\n",
       "  'name',\n",
       "  'until',\n",
       "  'April',\n",
       "  'give',\n",
       "  'thing',\n",
       "  'read',\n",
       "  'put',\n",
       "  \"'ll\",\n",
       "  'On',\n",
       "  'small',\n",
       "  'school',\n",
       "  'feel',\n",
       "  'second',\n",
       "  'company',\n",
       "  'June',\n",
       "  'old',\n",
       "  'didn',\n",
       "  'page',\n",
       "  'keep',\n",
       "  'top',\n",
       "  'why',\n",
       "  'January',\n",
       "  'site',\n",
       "  '18',\n",
       "  'post',\n",
       "  'today',\n",
       "  '16',\n",
       "  'within',\n",
       "  '0',\n",
       "  'service',\n",
       "  'having',\n",
       "  'looking',\n",
       "  'American',\n",
       "  'point',\n",
       "  'data',\n",
       "  'though',\n",
       "  '½',\n",
       "  'July',\n",
       "  'University',\n",
       "  'full',\n",
       "  '14',\n",
       "  'm',\n",
       "  'able',\n",
       "  'left',\n",
       "  'With',\n",
       "  'support',\n",
       "  'United',\n",
       "  '2009',\n",
       "  '13',\n",
       "  'experience',\n",
       "  'room',\n",
       "  '¿',\n",
       "  'water',\n",
       "  'state',\n",
       "  '‘',\n",
       "  'big',\n",
       "  'order',\n",
       "  'October',\n",
       "  'No',\n",
       "  'article',\n",
       "  'case',\n",
       "  'making',\n",
       "  'enough',\n",
       "  'ago',\n",
       "  'house',\n",
       "  'September',\n",
       "  '17',\n",
       "  'children',\n",
       "  'One',\n",
       "  'local',\n",
       "  'December',\n",
       "  'start',\n",
       "  'times',\n",
       "  'February',\n",
       "  'called',\n",
       "  'August',\n",
       "  '25',\n",
       "  'November',\n",
       "  'ever',\n",
       "  'More',\n",
       "  '2008',\n",
       "  'done',\n",
       "  'change',\n",
       "  'play',\n",
       "  'group',\n",
       "  'working',\n",
       "  'based',\n",
       "  'online',\n",
       "  'http',\n",
       "  'course',\n",
       "  'least',\n",
       "  'doesn',\n",
       "  'money',\n",
       "  'won',\n",
       "  'man',\n",
       "  'less',\n",
       "  '@',\n",
       "  'important',\n",
       "  'After',\n",
       "  '24',\n",
       "  'How',\n",
       "  '22',\n",
       "  'try',\n",
       "  'getting',\n",
       "  'thought',\n",
       "  'public',\n",
       "  'actually',\n",
       "  'already',\n",
       "  'night',\n",
       "  'person',\n",
       "  're',\n",
       "  '21',\n",
       "  'went',\n",
       "  '..',\n",
       "  'story',\n",
       "  'several',\n",
       "  '--',\n",
       "  'later',\n",
       "  'makes',\n",
       "  'side',\n",
       "  'list',\n",
       "  'following',\n",
       "  '19',\n",
       "  'came',\n",
       "  'By',\n",
       "  'doing',\n",
       "  'power',\n",
       "  'large',\n",
       "  'season',\n",
       "  'provide',\n",
       "  'website',\n",
       "  'bit',\n",
       "  'far',\n",
       "  'real',\n",
       "  'known',\n",
       "  'took',\n",
       "  'PM',\n",
       "  'city',\n",
       "  '23',\n",
       "  'let',\n",
       "  'At',\n",
       "  'along',\n",
       "  'together',\n",
       "  'per',\n",
       "  '}',\n",
       "  'often',\n",
       "  'These',\n",
       "  'music',\n",
       "  'hard',\n",
       "  'God',\n",
       "  'share',\n",
       "  'Your',\n",
       "  'Our',\n",
       "  'line',\n",
       "  'process',\n",
       "  'care',\n",
       "  'others',\n",
       "  'open',\n",
       "  'John',\n",
       "  'car',\n",
       "  'services',\n",
       "  'include',\n",
       "  'food',\n",
       "  'started',\n",
       "  'easy',\n",
       "  'country',\n",
       "  'months',\n",
       "  'fact',\n",
       "  'women',\n",
       "  'yet',\n",
       "  'students',\n",
       "  '2007',\n",
       "  'someone',\n",
       "  'once',\n",
       "  'live',\n",
       "  'problem',\n",
       "  'run',\n",
       "  'video',\n",
       "  've',\n",
       "  'become',\n",
       "  'government',\n",
       "  'everything',\n",
       "  'series',\n",
       "  'However',\n",
       "  'anything',\n",
       "  'four',\n",
       "  'pm',\n",
       "  'means',\n",
       "  'stay',\n",
       "  '100',\n",
       "  'early',\n",
       "  'possible',\n",
       "  'past',\n",
       "  'design',\n",
       "  'quality',\n",
       "  'City',\n",
       "  'seen',\n",
       "  'States',\n",
       "  'given',\n",
       "  'pretty',\n",
       "  'State',\n",
       "  'blog',\n",
       "  'U.S.',\n",
       "  \"'d\",\n",
       "  'film',\n",
       "  'nice',\n",
       "  'history',\n",
       "  'job',\n",
       "  'call',\n",
       "  'Now',\n",
       "  'kind',\n",
       "  'believe',\n",
       "  'community',\n",
       "  'needs',\n",
       "  'level',\n",
       "  'program',\n",
       "  'body',\n",
       "  'view',\n",
       "  'friends',\n",
       "  'control',\n",
       "  'comes',\n",
       "  'York',\n",
       "  'products',\n",
       "  'form',\n",
       "  'above',\n",
       "  '26',\n",
       "  'School',\n",
       "  'health',\n",
       "  'minutes',\n",
       "  'probably',\n",
       "  'World',\n",
       "  'hours',\n",
       "  'fun',\n",
       "  'National',\n",
       "  'US',\n",
       "  'either',\n",
       "  'County',\n",
       "  'head',\n",
       "  '28',\n",
       "  'example',\n",
       "  'product',\n",
       "  'please',\n",
       "  'close',\n",
       "  'beautiful',\n",
       "  'market',\n",
       "  'across',\n",
       "  'whole',\n",
       "  'offer',\n",
       "  'quite',\n",
       "  'trying',\n",
       "  'price',\n",
       "  'told',\n",
       "  'idea',\n",
       "  'members',\n",
       "  'light',\n",
       "  '27',\n",
       "  'million',\n",
       "  'single',\n",
       "  'His',\n",
       "  'perfect',\n",
       "  'Please',\n",
       "  'hope',\n",
       "  'access',\n",
       "  'research',\n",
       "  'due',\n",
       "  '2006',\n",
       "  'tell',\n",
       "  'seems',\n",
       "  'South',\n",
       "  'added',\n",
       "  'almost',\n",
       "  'current',\n",
       "  'short',\n",
       "  'bad',\n",
       "  'Not',\n",
       "  '50',\n",
       "  'games',\n",
       "  'project',\n",
       "  'review',\n",
       "  'hand',\n",
       "  'email',\n",
       "  'near',\n",
       "  'below',\n",
       "  'men',\n",
       "  'wanted',\n",
       "  '29',\n",
       "  'create',\n",
       "  'nothing',\n",
       "  'question',\n",
       "  'de',\n",
       "  'special',\n",
       "  'everyone',\n",
       "  'content',\n",
       "  'Posted',\n",
       "  'future',\n",
       "  'rather',\n",
       "  'check',\n",
       "  'taking',\n",
       "  'Thanks',\n",
       "  'works',\n",
       "  'From',\n",
       "  'month',\n",
       "  'front',\n",
       "  'law',\n",
       "  'space',\n",
       "  'news',\n",
       "  'Here',\n",
       "  'reason',\n",
       "  'add',\n",
       "  'isn',\n",
       "  'anyone',\n",
       "  'report',\n",
       "  'whether',\n",
       "  'major',\n",
       "  'main',\n",
       "  'young',\n",
       "  'development',\n",
       "  'North',\n",
       "  'event',\n",
       "  '•',\n",
       "  'results',\n",
       "  'personal',\n",
       "  'especially',\n",
       "  'mean',\n",
       "  'issue',\n",
       "  'five',\n",
       "  'social',\n",
       "  'original',\n",
       "  'age',\n",
       "  '....',\n",
       "  'born',\n",
       "  'taken',\n",
       "  'living',\n",
       "  'buy',\n",
       "  'd',\n",
       "  'll',\n",
       "  'Reply',\n",
       "  'reading',\n",
       "  'English',\n",
       "  'mind',\n",
       "  'study',\n",
       "  'building',\n",
       "  'result',\n",
       "  'type',\n",
       "  'looks',\n",
       "  'located',\n",
       "  'features',\n",
       "  'words',\n",
       "  'party',\n",
       "  'needed',\n",
       "  'size',\n",
       "  'plan',\n",
       "  'issues',\n",
       "  'else',\n",
       "  'search',\n",
       "  'black',\n",
       "  'version',\n",
       "  'News',\n",
       "  'included',\n",
       "  'Read',\n",
       "  'books',\n",
       "  'House',\n",
       "  'provided',\n",
       "  'Just',\n",
       "  'visit',\n",
       "  'couple',\n",
       "  'white',\n",
       "  'present',\n",
       "  'link',\n",
       "  'pay',\n",
       "  'coming',\n",
       "  'Some',\n",
       "  'face',\n",
       "  'kids',\n",
       "  'questions',\n",
       "  'friend',\n",
       "  'understand',\n",
       "  'however',\n",
       "  'human',\n",
       "  'became',\n",
       "  'ï',\n",
       "  'value',\n",
       "  'move',\n",
       "  'further',\n",
       "  'member',\n",
       "  'among',\n",
       "  'half',\n",
       "  'weeks',\n",
       "  'third',\n",
       "  'media',\n",
       "  'true',\n",
       "  'America',\n",
       "  '»',\n",
       "  'soon',\n",
       "  'range',\n",
       "  'received',\n",
       "  'While',\n",
       "  'points',\n",
       "  'held',\n",
       "  'image',\n",
       "  'title',\n",
       "  'property',\n",
       "  'town',\n",
       "  'shows',\n",
       "  'offers',\n",
       "  'movie',\n",
       "  'happy',\n",
       "  'asked',\n",
       "  'outside',\n",
       "  '£',\n",
       "  'various',\n",
       "  'writing',\n",
       "  'etc',\n",
       "  'class',\n",
       "  '31',\n",
       "  'Is',\n",
       "  'contact',\n",
       "  'TV',\n",
       "  'upon',\n",
       "  'An',\n",
       "  'style',\n",
       "  'phone',\n",
       "  'stop',\n",
       "  'created',\n",
       "  'location',\n",
       "  'Click',\n",
       "  'wrote',\n",
       "  'running',\n",
       "  'art',\n",
       "  'low',\n",
       "  'child',\n",
       "  'heart',\n",
       "  'date',\n",
       "  'Do',\n",
       "  'matter',\n",
       "  'simple',\n",
       "  'address',\n",
       "  'played',\n",
       "  'similar',\n",
       "  'simply',\n",
       "  'office',\n",
       "  'enjoy',\n",
       "  'myself',\n",
       "  'saw',\n",
       "  'behind',\n",
       "  'complete',\n",
       "  'Center',\n",
       "  'card',\n",
       "  'death',\n",
       "  'problems',\n",
       "  'cannot',\n",
       "  'performance',\n",
       "  'Also',\n",
       "  'turn',\n",
       "  'action',\n",
       "  'learn',\n",
       "  'via',\n",
       "  'general',\n",
       "  'deal',\n",
       "  'includes',\n",
       "  'cost',\n",
       "  'bring',\n",
       "  'written',\n",
       "  'takes',\n",
       "  'window',\n",
       "  'Of',\n",
       "  'former',\n",
       "  'First',\n",
       "  'air',\n",
       "  'leave',\n",
       "  'likely',\n",
       "  'field',\n",
       "  'lost',\n",
       "  'areas',\n",
       "  'private',\n",
       "  'industry',\n",
       "  'store',\n",
       "  'usually',\n",
       "  'late',\n",
       "  '2005',\n",
       "  'lead',\n",
       "  'Then',\n",
       "  '40',\n",
       "  'clear',\n",
       "  'win',\n",
       "  'total',\n",
       "  'West',\n",
       "  'common',\n",
       "  'morning',\n",
       "  'Home',\n",
       "  'events',\n",
       "  'Day',\n",
       "  'released',\n",
       "  'Google',\n",
       "  'position',\n",
       "  'return',\n",
       "  'required',\n",
       "  'subject',\n",
       "  'account',\n",
       "  'ask',\n",
       "  'gets',\n",
       "  'comment',\n",
       "  'companies',\n",
       "  'provides',\n",
       "  'published',\n",
       "  'energy',\n",
       "  'currently',\n",
       "  'clean',\n",
       "  'President',\n",
       "  'instead',\n",
       "  'comments',\n",
       "  'final',\n",
       "  'longer',\n",
       "  'training',\n",
       "  'playing',\n",
       "  '¯',\n",
       "  'period',\n",
       "  'interest',\n",
       "  'word',\n",
       "  'amount',\n",
       "  'source',\n",
       "  'rest',\n",
       "  'record',\n",
       "  'worked',\n",
       "  'Great',\n",
       "  'model',\n",
       "  'addition',\n",
       "  'technology',\n",
       "  'wasn',\n",
       "  '<',\n",
       "  'web',\n",
       "  'details',\n",
       "  'role',\n",
       "  'College',\n",
       "  'goes',\n",
       "  'Well',\n",
       "  'Park',\n",
       "  'Free',\n",
       "  'began',\n",
       "  'professional',\n",
       "  'changes',\n",
       "  'strong',\n",
       "  'meet',\n",
       "  'watch',\n",
       "  'hotel',\n",
       "  'certain',\n",
       "  'saying',\n",
       "  'sense',\n",
       "  'forward',\n",
       "  'gave',\n",
       "  'color',\n",
       "  'recently',\n",
       "  'inside',\n",
       "  'wrong',\n",
       "  'album',\n",
       "  'staff',\n",
       "  'designed',\n",
       "  'paper',\n",
       "  'amazing',\n",
       "  'drive',\n",
       "  'woman',\n",
       "  'hit',\n",
       "  'user',\n",
       "  'rights',\n",
       "  'decided',\n",
       "  'recent',\n",
       "  'key',\n",
       "  'continue',\n",
       "  'rate',\n",
       "  'posted',\n",
       "  'itself',\n",
       "  'code',\n",
       "  'favorite',\n",
       "  'seem',\n",
       "  'International',\n",
       "  'political',\n",
       "  'View',\n",
       "  'Thank',\n",
       "  'maybe',\n",
       "  'percent',\n",
       "  'remember',\n",
       "  'Why',\n",
       "  '~',\n",
       "  'London',\n",
       "  'test',\n",
       "  'stuff',\n",
       "  'write',\n",
       "  'computer',\n",
       "  'cause',\n",
       "  'cut',\n",
       "  'according',\n",
       "  'built',\n",
       "  'player',\n",
       "  'popular',\n",
       "  'High',\n",
       "  'Most',\n",
       "  '01',\n",
       "  'management',\n",
       "  'interesting',\n",
       "  'son',\n",
       "  'ways',\n",
       "  'education',\n",
       "  'sound',\n",
       "  'summer',\n",
       "  'ready',\n",
       "  'natural',\n",
       "  'national',\n",
       "  'software',\n",
       "  '·',\n",
       "  'David',\n",
       "  'tried',\n",
       "  'yourself',\n",
       "  'players',\n",
       "  'hot',\n",
       "  'higher',\n",
       "  'policy',\n",
       "  'related',\n",
       "  'Don',\n",
       "  'miles',\n",
       "  'entire',\n",
       "  'specific',\n",
       "  'wonderful',\n",
       "  'Yes',\n",
       "  'felt',\n",
       "  'section',\n",
       "  'British',\n",
       "  'thinking',\n",
       "  'x',\n",
       "  'release',\n",
       "  'song',\n",
       "  'San',\n",
       "  'six',\n",
       "  'heard',\n",
       "  'particular',\n",
       "  'users',\n",
       "  'War',\n",
       "  'average',\n",
       "  'hear',\n",
       "  'Best',\n",
       "  'themselves',\n",
       "  'security',\n",
       "  'file',\n",
       "  'https',\n",
       "  'ones',\n",
       "  '05',\n",
       "  'oil',\n",
       "  'Dr.',\n",
       "  'Facebook',\n",
       "  'See',\n",
       "  'California',\n",
       "  'cover',\n",
       "  'allow',\n",
       "  'center',\n",
       "  'Friday',\n",
       "  'terms',\n",
       "  'road',\n",
       "  'receive',\n",
       "  'board',\n",
       "  'war',\n",
       "  'material',\n",
       "  'wife',\n",
       "  'lives',\n",
       "  'sometimes',\n",
       "  'parts',\n",
       "  'UK',\n",
       "  'individual',\n",
       "  'chance',\n",
       "  'Health',\n",
       "  'items',\n",
       "  'answer',\n",
       "  'girl',\n",
       "  'himself',\n",
       "  'India',\n",
       "  'Street',\n",
       "  'walk',\n",
       "  'definitely',\n",
       "  'C',\n",
       "  'production',\n",
       "  'worth',\n",
       "  'systems',\n",
       "  'character',\n",
       "  'throughout',\n",
       "  'reviews',\n",
       "  'giving',\n",
       "  'career',\n",
       "  'increase',\n",
       "  'unique',\n",
       "  'mother',\n",
       "  'completely',\n",
       "  'picture',\n",
       "  'although',\n",
       "  'St.',\n",
       "  'additional',\n",
       "  'customers',\n",
       "  'sex',\n",
       "  'choose',\n",
       "  'parents',\n",
       "  '09',\n",
       "  'involved',\n",
       "  'medical',\n",
       "  'follow',\n",
       "  'piece',\n",
       "  'articles',\n",
       "  'red',\n",
       "  'Washington',\n",
       "  'band',\n",
       "  ...])"
      ]
     },
     "execution_count": 66,
     "metadata": {},
     "output_type": "execute_result"
    }
   ],
   "source": [
    "len(en_vecs.get_words()), en_vecs.get_words()"
   ]
  },
  {
   "cell_type": "markdown",
   "metadata": {
    "hidden": true
   },
   "source": [
    "similarity between `country` ans `countries`"
   ]
  },
  {
   "cell_type": "code",
   "execution_count": 67,
   "metadata": {
    "hidden": true
   },
   "outputs": [],
   "source": [
    "from scipy import spatial"
   ]
  },
  {
   "cell_type": "code",
   "execution_count": 68,
   "metadata": {
    "hidden": true
   },
   "outputs": [
    {
     "data": {
      "text/plain": [
       "0.585395872592926"
      ]
     },
     "execution_count": 68,
     "metadata": {},
     "output_type": "execute_result"
    }
   ],
   "source": [
    "word_a = en_vecs.get_word_vector(\"country\")\n",
    "word_b = en_vecs.get_word_vector(\"countries\")\n",
    "1 - spatial.distance.cosine(word_a, word_b)"
   ]
  },
  {
   "cell_type": "code",
   "execution_count": 69,
   "metadata": {
    "hidden": true
   },
   "outputs": [
    {
     "data": {
      "text/plain": [
       "array([-0.067891, -0.016435,  0.006704, -0.037412, ..., -0.165234,  0.065119, -0.121807, -0.055102], dtype=float32)"
      ]
     },
     "execution_count": 69,
     "metadata": {},
     "output_type": "execute_result"
    }
   ],
   "source": [
    "en_vecs.get_word_vector(\"king\") - en_vecs.get_word_vector(\"queen\")"
   ]
  },
  {
   "cell_type": "code",
   "execution_count": 70,
   "metadata": {
    "hidden": true
   },
   "outputs": [
    {
     "data": {
      "text/plain": [
       "array([ 0.179449, -0.101761, -0.103363, -0.287188, ..., -0.124929,  0.726034, -0.181963, -0.044665], dtype=float32)"
      ]
     },
     "execution_count": 70,
     "metadata": {},
     "output_type": "execute_result"
    }
   ],
   "source": [
    "en_vecs.get_word_vector(\"he\") - en_vecs.get_word_vector(\"she\")"
   ]
  },
  {
   "cell_type": "code",
   "execution_count": 71,
   "metadata": {
    "hidden": true
   },
   "outputs": [
    {
     "data": {
      "text/plain": [
       "0.38982707262039185"
      ]
     },
     "execution_count": 71,
     "metadata": {},
     "output_type": "execute_result"
    }
   ],
   "source": [
    "word_a = en_vecs.get_word_vector(\"king\") - en_vecs.get_word_vector(\"queen\")\n",
    "word_b = en_vecs.get_word_vector(\"he\") - en_vecs.get_word_vector(\"she\")\n",
    "1 - spatial.distance.cosine(word_a, word_b)"
   ]
  },
  {
   "cell_type": "code",
   "execution_count": null,
   "metadata": {
    "hidden": true
   },
   "outputs": [],
   "source": []
  },
  {
   "cell_type": "code",
   "execution_count": null,
   "metadata": {
    "hidden": true
   },
   "outputs": [],
   "source": []
  },
  {
   "cell_type": "code",
   "execution_count": 72,
   "metadata": {
    "hidden": true
   },
   "outputs": [],
   "source": [
    "def create_emb(vecs, otoi, em_sz=300, mult=1.):\n",
    "    emb = nn.Embedding(len(otoi), em_sz, padding_idx=1)\n",
    "    wgts = emb.weight.data\n",
    "    vec_dic = {w:vecs.get_word_vector(w) for w in vecs.get_words()}\n",
    "    miss = []\n",
    "    count = 0\n",
    "    for w,i in otoi.items():\n",
    "        try: wgts[i] = tensor(vec_dic[w])\n",
    "        except: \n",
    "            count +=1\n",
    "            miss.append(w)\n",
    "    print(f\"Missed Vocab items: {count}, vocab has {(count/len(otoi))*100}% missing tokens\")\n",
    "    return emb, vec_dic, miss"
   ]
  },
  {
   "cell_type": "code",
   "execution_count": 73,
   "metadata": {
    "hidden": true
   },
   "outputs": [
    {
     "name": "stdout",
     "output_type": "stream",
     "text": [
      "Encoder has 11580 vocab tokens\n",
      "Decoder has 15147 vocab tokens\n"
     ]
    }
   ],
   "source": [
    "print(f\"Encoder has {len(data.train_dl.dataset.proc_x[-1].otoi)} vocab tokens\")\n",
    "print(f\"Decoder has {len(data.train_dl.dataset.proc_y[-1].otoi)} vocab tokens\")"
   ]
  },
  {
   "cell_type": "code",
   "execution_count": 74,
   "metadata": {
    "hidden": true
   },
   "outputs": [
    {
     "data": {
      "text/plain": [
       "(11580, 11580)"
      ]
     },
     "execution_count": 74,
     "metadata": {},
     "output_type": "execute_result"
    }
   ],
   "source": [
    "len(data.train_dl.dataset.proc_x[-1].otoi), len(data.train_dl.dataset.proc_x[-1].vocab)"
   ]
  },
  {
   "cell_type": "code",
   "execution_count": 75,
   "metadata": {
    "hidden": true
   },
   "outputs": [
    {
     "data": {
      "text/plain": [
       "(15147, 15147)"
      ]
     },
     "execution_count": 75,
     "metadata": {},
     "output_type": "execute_result"
    }
   ],
   "source": [
    "len(data.train_dl.dataset.proc_y[-1].otoi), len(data.train_dl.dataset.proc_y[-1].vocab)"
   ]
  },
  {
   "cell_type": "code",
   "execution_count": 76,
   "metadata": {
    "hidden": true
   },
   "outputs": [
    {
     "name": "stdout",
     "output_type": "stream",
     "text": [
      "Missed Vocab items: 624, vocab has 5.3886010362694305% missing tokens\n",
      "Missed Vocab items: 851, vocab has 5.618274245725226% missing tokens\n"
     ]
    }
   ],
   "source": [
    "emb_enc, enc_vec_dic, enc_miss_tokens = create_emb(en_vecs, data.train_dl.dataset.proc_x[-1].otoi)\n",
    "emb_dec, dec_vec_dic, dec_miss_tokens = create_emb(fr_vecs, data.train_dl.dataset.proc_y[-1].otoi)"
   ]
  },
  {
   "cell_type": "code",
   "execution_count": null,
   "metadata": {
    "hidden": true
   },
   "outputs": [],
   "source": []
  },
  {
   "cell_type": "code",
   "execution_count": null,
   "metadata": {
    "hidden": true
   },
   "outputs": [],
   "source": []
  },
  {
   "cell_type": "code",
   "execution_count": 77,
   "metadata": {
    "hidden": true
   },
   "outputs": [],
   "source": [
    "model_path = Path(\"./\")"
   ]
  },
  {
   "cell_type": "code",
   "execution_count": 78,
   "metadata": {
    "hidden": true
   },
   "outputs": [],
   "source": [
    "os.makedirs(model_path/\"models\", exist_ok=True)"
   ]
  },
  {
   "cell_type": "code",
   "execution_count": 79,
   "metadata": {
    "hidden": true
   },
   "outputs": [],
   "source": [
    "torch.save(emb_enc, model_path/'models'/'en_emb.pth')\n",
    "torch.save(emb_dec, model_path/'models'/'fr_emb.pth')"
   ]
  },
  {
   "cell_type": "markdown",
   "metadata": {
    "hidden": true
   },
   "source": [
    "Let's free some RAM"
   ]
  },
  {
   "cell_type": "code",
   "execution_count": 80,
   "metadata": {
    "hidden": true
   },
   "outputs": [],
   "source": [
    "del fr_vecs\n",
    "del en_vecs"
   ]
  },
  {
   "cell_type": "code",
   "execution_count": null,
   "metadata": {
    "hidden": true
   },
   "outputs": [],
   "source": []
  },
  {
   "cell_type": "markdown",
   "metadata": {
    "hidden": true
   },
   "source": [
    "save away"
   ]
  },
  {
   "cell_type": "markdown",
   "metadata": {
    "hidden": true
   },
   "source": [
    "ll,vocab and embeddings"
   ]
  },
  {
   "cell_type": "code",
   "execution_count": null,
   "metadata": {
    "hidden": true
   },
   "outputs": [],
   "source": []
  },
  {
   "cell_type": "markdown",
   "metadata": {},
   "source": [
    "#### QRNN seq2seq"
   ]
  },
  {
   "cell_type": "markdown",
   "metadata": {},
   "source": [
    "Encoder - Decoder Architecture"
   ]
  },
  {
   "cell_type": "code",
   "execution_count": 81,
   "metadata": {},
   "outputs": [],
   "source": [
    "from fastai.text.models.qrnn import QRNN, QRNNLayer"
   ]
  },
  {
   "cell_type": "markdown",
   "metadata": {},
   "source": [
    "The encoder is a (quasi) recurrent neural net and we feed it our input sentence, producing an output (that we discard for now) and a hidden state. That hidden state is then given to the decoder (an other RNN) which uses it in conjunction with the outputs it predicts to get produce the translation. We loop until the decoder produces a padding token (or at 30 iterations to make sure it's not an infinite loop at the beginning of training)."
   ]
  },
  {
   "cell_type": "markdown",
   "metadata": {},
   "source": [
    "![](./../images/seq2seq.png)"
   ]
  },
  {
   "cell_type": "code",
   "execution_count": 82,
   "metadata": {},
   "outputs": [
    {
     "data": {
      "text/plain": [
       "defaultdict(int,\n",
       "            {'xxunk': 0,\n",
       "             'xxpad': 1,\n",
       "             'xxbos': 2,\n",
       "             'xxeos': 3,\n",
       "             'xxrep': 4,\n",
       "             'xxwrep': 5,\n",
       "             'xxup': 6,\n",
       "             'xxmaj': 7,\n",
       "             '?': 8,\n",
       "             'the': 9,\n",
       "             'what': 10,\n",
       "             'of': 11,\n",
       "             'to': 12,\n",
       "             'and': 13,\n",
       "             'is': 14,\n",
       "             'in': 15,\n",
       "             'are': 16,\n",
       "             ',': 17,\n",
       "             'a': 18,\n",
       "             'for': 19,\n",
       "             'do': 20,\n",
       "             'why': 21,\n",
       "             'be': 22,\n",
       "             'you': 23,\n",
       "             'who': 24,\n",
       "             'or': 25,\n",
       "             '-': 26,\n",
       "             'on': 27,\n",
       "             'this': 28,\n",
       "             'that': 29,\n",
       "             'have': 30,\n",
       "             'your': 31,\n",
       "             'when': 32,\n",
       "             'can': 33,\n",
       "             'should': 34,\n",
       "             'will': 35,\n",
       "             'does': 36,\n",
       "             'which': 37,\n",
       "             'i': 38,\n",
       "             'with': 39,\n",
       "             'where': 40,\n",
       "             'if': 41,\n",
       "             'it': 42,\n",
       "             'would': 43,\n",
       "             'about': 44,\n",
       "             '\"': 45,\n",
       "             'canada': 46,\n",
       "             ')': 47,\n",
       "             'from': 48,\n",
       "             'we': 49,\n",
       "             '(': 50,\n",
       "             'not': 51,\n",
       "             'an': 52,\n",
       "             'by': 53,\n",
       "             'as': 54,\n",
       "             '/': 55,\n",
       "             'information': 56,\n",
       "             'health': 57,\n",
       "             'these': 58,\n",
       "             \"'s\": 59,\n",
       "             'was': 60,\n",
       "             'they': 61,\n",
       "             'did': 62,\n",
       "             'has': 63,\n",
       "             'their': 64,\n",
       "             'other': 65,\n",
       "             'were': 66,\n",
       "             'at': 67,\n",
       "             'been': 68,\n",
       "             '’s': 69,\n",
       "             'program': 70,\n",
       "             'new': 71,\n",
       "             'use': 72,\n",
       "             'most': 73,\n",
       "             'how': 74,\n",
       "             'need': 75,\n",
       "             'my': 76,\n",
       "             'role': 77,\n",
       "             'government': 78,\n",
       "             'more': 79,\n",
       "             'between': 80,\n",
       "             'public': 81,\n",
       "             'could': 82,\n",
       "             'canadian': 83,\n",
       "             'people': 84,\n",
       "             'research': 85,\n",
       "             'our': 86,\n",
       "             'there': 87,\n",
       "             'impact': 88,\n",
       "             'work': 89,\n",
       "             'happens': 90,\n",
       "             'used': 91,\n",
       "             'so': 92,\n",
       "             'mean': 93,\n",
       "             'such': 94,\n",
       "             'important': 95,\n",
       "             'policy': 96,\n",
       "             'being': 97,\n",
       "             'done': 98,\n",
       "             'its': 99,\n",
       "             'some': 100,\n",
       "             'services': 101,\n",
       "             'any': 102,\n",
       "             'think': 103,\n",
       "             'level': 104,\n",
       "             'time': 105,\n",
       "             'make': 106,\n",
       "             'development': 107,\n",
       "             'service': 108,\n",
       "             'process': 109,\n",
       "             'take': 110,\n",
       "             'community': 111,\n",
       "             'kind': 112,\n",
       "             'available': 113,\n",
       "             'all': 114,\n",
       "             'national': 115,\n",
       "             'project': 116,\n",
       "             'best': 117,\n",
       "             'into': 118,\n",
       "             'like': 119,\n",
       "             'benefits': 120,\n",
       "             'support': 121,\n",
       "             'them': 122,\n",
       "             'under': 123,\n",
       "             'find': 124,\n",
       "             'system': 125,\n",
       "             'required': 126,\n",
       "             'get': 127,\n",
       "             'one': 128,\n",
       "             'change': 129,\n",
       "             'activities': 130,\n",
       "             'management': 131,\n",
       "             'changes': 132,\n",
       "             'made': 133,\n",
       "             'future': 134,\n",
       "             'place': 135,\n",
       "             'main': 136,\n",
       "             'type': 137,\n",
       "             'issues': 138,\n",
       "             'first': 139,\n",
       "             'ensure': 140,\n",
       "             'international': 141,\n",
       "             'care': 142,\n",
       "             'business': 143,\n",
       "             'current': 144,\n",
       "             'social': 145,\n",
       "             'help': 146,\n",
       "             'factors': 147,\n",
       "             'risk': 148,\n",
       "             'rights': 149,\n",
       "             'than': 150,\n",
       "             'doing': 151,\n",
       "             'key': 152,\n",
       "             'organization': 153,\n",
       "             'types': 154,\n",
       "             'measures': 155,\n",
       "             'taken': 156,\n",
       "             'women': 157,\n",
       "             'european': 158,\n",
       "             'might': 159,\n",
       "             'funding': 160,\n",
       "             'training': 161,\n",
       "             'know': 162,\n",
       "             'out': 163,\n",
       "             'plan': 164,\n",
       "             'see': 165,\n",
       "             'environmental': 166,\n",
       "             \"n't\": 167,\n",
       "             'now': 168,\n",
       "             'apply': 169,\n",
       "             'up': 170,\n",
       "             'years': 171,\n",
       "             'those': 172,\n",
       "             'needs': 173,\n",
       "             'different': 174,\n",
       "             'following': 175,\n",
       "             'want': 176,\n",
       "             'challenges': 177,\n",
       "             'results': 178,\n",
       "             'act': 179,\n",
       "             'objectives': 180,\n",
       "             'tax': 181,\n",
       "             'federal': 182,\n",
       "             'application': 183,\n",
       "             'human': 184,\n",
       "             'country': 185,\n",
       "             'next': 186,\n",
       "             'us': 187,\n",
       "             'each': 188,\n",
       "             'economic': 189,\n",
       "             'after': 190,\n",
       "             'programs': 191,\n",
       "             'effects': 192,\n",
       "             'access': 193,\n",
       "             'knowledge': 194,\n",
       "             'countries': 195,\n",
       "             'needed': 196,\n",
       "             'data': 197,\n",
       "             'impacts': 198,\n",
       "             'world': 199,\n",
       "             'products': 200,\n",
       "             'food': 201,\n",
       "             'resources': 202,\n",
       "             'steps': 203,\n",
       "             'term': 204,\n",
       "             'within': 205,\n",
       "             'over': 206,\n",
       "             'may': 207,\n",
       "             'play': 208,\n",
       "             'trade': 209,\n",
       "             'had': 210,\n",
       "             'cost': 211,\n",
       "             'must': 212,\n",
       "             'involved': 213,\n",
       "             'education': 214,\n",
       "             'status': 215,\n",
       "             'terms': 216,\n",
       "             'working': 217,\n",
       "             'way': 218,\n",
       "             'responsible': 219,\n",
       "             'say': 220,\n",
       "             'life': 221,\n",
       "             'specific': 222,\n",
       "             'difference': 223,\n",
       "             'costs': 224,\n",
       "             'area': 225,\n",
       "             'potential': 226,\n",
       "             'order': 227,\n",
       "             'requirements': 228,\n",
       "             'language': 229,\n",
       "             'areas': 230,\n",
       "             'sector': 231,\n",
       "             'go': 232,\n",
       "             'effect': 233,\n",
       "             'effective': 234,\n",
       "             'industry': 235,\n",
       "             'considered': 236,\n",
       "             'decision': 237,\n",
       "             'eligible': 238,\n",
       "             'provide': 239,\n",
       "             'appropriate': 240,\n",
       "             'product': 241,\n",
       "             'action': 242,\n",
       "             'during': 243,\n",
       "             'canadians': 244,\n",
       "             \"'\": 245,\n",
       "             'financial': 246,\n",
       "             'conditions': 247,\n",
       "             'year': 248,\n",
       "             'children': 249,\n",
       "             'long': 250,\n",
       "             'non': 251,\n",
       "             'happen': 252,\n",
       "             'implications': 253,\n",
       "             'situation': 254,\n",
       "             'report': 255,\n",
       "             'family': 256,\n",
       "             'protection': 257,\n",
       "             'form': 258,\n",
       "             'then': 259,\n",
       "             'water': 260,\n",
       "             'related': 261,\n",
       "             'assessment': 262,\n",
       "             'group': 263,\n",
       "             'market': 264,\n",
       "             'commission': 265,\n",
       "             'two': 266,\n",
       "             'come': 267,\n",
       "             '–': 268,\n",
       "             'europe': 269,\n",
       "             'address': 270,\n",
       "             'going': 271,\n",
       "             'member': 272,\n",
       "             'part': 273,\n",
       "             'consider': 274,\n",
       "             'no': 275,\n",
       "             ':': 276,\n",
       "             'through': 277,\n",
       "             'expect': 278,\n",
       "             'criteria': 279,\n",
       "             'respect': 280,\n",
       "             'good': 281,\n",
       "             'while': 282,\n",
       "             'relationship': 283,\n",
       "             'eu': 284,\n",
       "             'value': 285,\n",
       "             'quality': 286,\n",
       "             'communities': 287,\n",
       "             'policies': 288,\n",
       "             'kinds': 289,\n",
       "             'right': 290,\n",
       "             'risks': 291,\n",
       "             'before': 292,\n",
       "             'approach': 293,\n",
       "             'aboriginal': 294,\n",
       "             'his': 295,\n",
       "             'using': 296,\n",
       "             'benefit': 297,\n",
       "             'based': 298,\n",
       "             'environment': 299,\n",
       "             'job': 300,\n",
       "             'date': 301,\n",
       "             'experience': 302,\n",
       "             'better': 303,\n",
       "             'company': 304,\n",
       "             'groups': 305,\n",
       "             'proposed': 306,\n",
       "             'agreement': 307,\n",
       "             'purpose': 308,\n",
       "             'he': 309,\n",
       "             'levels': 310,\n",
       "             'barriers': 311,\n",
       "             'general': 312,\n",
       "             'security': 313,\n",
       "             'problems': 314,\n",
       "             'issue': 315,\n",
       "             'look': 316,\n",
       "             'learning': 317,\n",
       "             'number': 318,\n",
       "             'position': 319,\n",
       "             'makes': 320,\n",
       "             'projects': 321,\n",
       "             'employment': 322,\n",
       "             'population': 323,\n",
       "             'practices': 324,\n",
       "             'n’t': 325,\n",
       "             'strategy': 326,\n",
       "             'her': 327,\n",
       "             'states': 328,\n",
       "             'evidence': 329,\n",
       "             'regarding': 330,\n",
       "             'major': 331,\n",
       "             'making': 332,\n",
       "             'state': 333,\n",
       "             'members': 334,\n",
       "             'society': 335,\n",
       "             'goals': 336,\n",
       "             'strategies': 337,\n",
       "             'personal': 338,\n",
       "             'department': 339,\n",
       "             'employees': 340,\n",
       "             'person': 341,\n",
       "             'safety': 342,\n",
       "             'law': 343,\n",
       "             'legal': 344,\n",
       "             'learn': 345,\n",
       "             'achieve': 346,\n",
       "             'improve': 347,\n",
       "             'priorities': 348,\n",
       "             'rate': 349,\n",
       "             'regulations': 350,\n",
       "             'receive': 351,\n",
       "             'necessary': 352,\n",
       "             'political': 353,\n",
       "             'given': 354,\n",
       "             'contact': 355,\n",
       "             'activity': 356,\n",
       "             'period': 357,\n",
       "             'school': 358,\n",
       "             'provided': 359,\n",
       "             'else': 360,\n",
       "             'but': 361,\n",
       "             'income': 362,\n",
       "             'result': 363,\n",
       "             'initiative': 364,\n",
       "             'implementation': 365,\n",
       "             'actions': 366,\n",
       "             'name': 367,\n",
       "             'percentage': 368,\n",
       "             'well': 369,\n",
       "             'developing': 370,\n",
       "             'study': 371,\n",
       "             'success': 372,\n",
       "             'same': 373,\n",
       "             'whether': 374,\n",
       "             'included': 375,\n",
       "             'drug': 376,\n",
       "             'individual': 377,\n",
       "             'learned': 378,\n",
       "             'youth': 379,\n",
       "             'special': 380,\n",
       "             'become': 381,\n",
       "             'return': 382,\n",
       "             'including': 383,\n",
       "             'investment': 384,\n",
       "             'progress': 385,\n",
       "             'both': 386,\n",
       "             'tools': 387,\n",
       "             'only': 388,\n",
       "             'others': 389,\n",
       "             'particular': 390,\n",
       "             'performance': 391,\n",
       "             'local': 392,\n",
       "             'review': 393,\n",
       "             'cultural': 394,\n",
       "             'common': 395,\n",
       "             'agency': 396,\n",
       "             'today': 397,\n",
       "             'values': 398,\n",
       "             'high': 399,\n",
       "             'consequences': 400,\n",
       "             'standards': 401,\n",
       "             'opportunities': 402,\n",
       "             'expected': 403,\n",
       "             'framework': 404,\n",
       "             'me': 405,\n",
       "             'advantages': 406,\n",
       "             'associated': 407,\n",
       "             'possible': 408,\n",
       "             'questions': 409,\n",
       "             'air': 410,\n",
       "             'offer': 411,\n",
       "             'responsibilities': 412,\n",
       "             'likely': 413,\n",
       "             'reporting': 414,\n",
       "             'mechanisms': 415,\n",
       "             'organizations': 416,\n",
       "             'participation': 417,\n",
       "             'evaluation': 418,\n",
       "             'property': 419,\n",
       "             'child': 420,\n",
       "             'skills': 421,\n",
       "             'pay': 422,\n",
       "             'outcomes': 423,\n",
       "             'capacity': 424,\n",
       "             'put': 425,\n",
       "             'home': 426,\n",
       "             'own': 427,\n",
       "             'case': 428,\n",
       "             'sources': 429,\n",
       "             'problem': 430,\n",
       "             'natural': 431,\n",
       "             'technology': 432,\n",
       "             'things': 433,\n",
       "             'institutions': 434,\n",
       "             'lessons': 435,\n",
       "             'young': 436,\n",
       "             'day': 437,\n",
       "             'rules': 438,\n",
       "             'give': 439,\n",
       "             'further': 440,\n",
       "             'council': 441,\n",
       "             'exist': 442,\n",
       "             'amount': 443,\n",
       "             'committee': 444,\n",
       "             'site': 445,\n",
       "             'protect': 446,\n",
       "             'systems': 447,\n",
       "             'e': 448,\n",
       "             'taking': 449,\n",
       "             'interest': 450,\n",
       "             'responsibility': 451,\n",
       "             'priority': 452,\n",
       "             'governments': 453,\n",
       "             'meet': 454,\n",
       "             'initiatives': 455,\n",
       "             'contribution': 456,\n",
       "             'three': 457,\n",
       "             'many': 458,\n",
       "             'currently': 459,\n",
       "             'money': 460,\n",
       "             'against': 461,\n",
       "             'regional': 462,\n",
       "             'question': 463,\n",
       "             'survey': 464,\n",
       "             'without': 465,\n",
       "             'she': 466,\n",
       "             'view': 467,\n",
       "             'successful': 468,\n",
       "             'foreign': 469,\n",
       "             'planning': 470,\n",
       "             'union': 471,\n",
       "             'increase': 472,\n",
       "             'start': 473,\n",
       "             'total': 474,\n",
       "             'strengths': 475,\n",
       "             'processes': 476,\n",
       "             'provincial': 477,\n",
       "             'official': 478,\n",
       "             'office': 479,\n",
       "             'legislation': 480,\n",
       "             'additional': 481,\n",
       "             'private': 482,\n",
       "             'age': 483,\n",
       "             'gender': 484,\n",
       "             'practice': 485,\n",
       "             'global': 486,\n",
       "             'existing': 487,\n",
       "             'nature': 488,\n",
       "             'documents': 489,\n",
       "             'forms': 490,\n",
       "             'already': 491,\n",
       "             'reduce': 492,\n",
       "             'promote': 493,\n",
       "             'ca': 494,\n",
       "             'develop': 495,\n",
       "             'relevant': 496,\n",
       "             'roles': 497,\n",
       "             'assistance': 498,\n",
       "             'various': 499,\n",
       "             'privacy': 500,\n",
       "             'list': 501,\n",
       "             'regulatory': 502,\n",
       "             'whom': 503,\n",
       "             'sustainable': 504,\n",
       "             'bring': 505,\n",
       "             'subject': 506,\n",
       "             'elements': 507,\n",
       "             'disease': 508,\n",
       "             'another': 509,\n",
       "             'region': 510,\n",
       "             'ways': 511,\n",
       "             'nations': 512,\n",
       "             'medical': 513,\n",
       "             '\\u2028': 514,\n",
       "             'obtain': 515,\n",
       "             'regulation': 516,\n",
       "             'aspects': 517,\n",
       "             'treatment': 518,\n",
       "             'control': 519,\n",
       "             'participate': 520,\n",
       "             'field': 521,\n",
       "             'end': 522,\n",
       "             'past': 523,\n",
       "             'feel': 524,\n",
       "             'account': 525,\n",
       "             'plans': 526,\n",
       "             'am': 527,\n",
       "             'claim': 528,\n",
       "             'media': 529,\n",
       "             '1': 530,\n",
       "             'budget': 531,\n",
       "             'here': 532,\n",
       "             'found': 533,\n",
       "             'events': 534,\n",
       "             'contribute': 535,\n",
       "             'reasons': 536,\n",
       "             'options': 537,\n",
       "             'land': 538,\n",
       "             'tell': 539,\n",
       "             'point': 540,\n",
       "             'much': 541,\n",
       "             'line': 542,\n",
       "             'happened': 543,\n",
       "             'targets': 544,\n",
       "             'principles': 545,\n",
       "             'rates': 546,\n",
       "             'culture': 547,\n",
       "             'concerns': 548,\n",
       "             'still': 549,\n",
       "             'decisions': 550,\n",
       "             'outside': 551,\n",
       "             'include': 552,\n",
       "             'authority': 553,\n",
       "             'positive': 554,\n",
       "             'delivery': 555,\n",
       "             'board': 556,\n",
       "             'set': 557,\n",
       "             'among': 558,\n",
       "             'example': 559,\n",
       "             'context': 560,\n",
       "             'drugs': 561,\n",
       "             'section': 562,\n",
       "             'small': 563,\n",
       "             'basis': 564,\n",
       "             'regard': 565,\n",
       "             'scope': 566,\n",
       "             'relation': 567,\n",
       "             '‘': 568,\n",
       "             'matter': 569,\n",
       "             'patients': 570,\n",
       "             'design': 571,\n",
       "             'achieved': 572,\n",
       "             'live': 573,\n",
       "             'individuals': 574,\n",
       "             'primary': 575,\n",
       "             'present': 576,\n",
       "             'opinion': 577,\n",
       "             'conflict': 578,\n",
       "             'workers': 579,\n",
       "             'proposal': 580,\n",
       "             'having': 581,\n",
       "             'face': 582,\n",
       "             'someone': 583,\n",
       "             'affected': 584,\n",
       "             'force': 585,\n",
       "             'students': 586,\n",
       "             'identified': 587,\n",
       "             'self': 588,\n",
       "             'parliament': 589,\n",
       "             'climate': 590,\n",
       "             'characteristics': 591,\n",
       "             'companies': 592,\n",
       "             'standard': 593,\n",
       "             'methods': 594,\n",
       "             'growth': 595,\n",
       "             'approaches': 596,\n",
       "             '—': 597,\n",
       "             'men': 598,\n",
       "             'leave': 599,\n",
       "             'keep': 600,\n",
       "             'internet': 601,\n",
       "             'focus': 602,\n",
       "             'able': 603,\n",
       "             'guidelines': 604,\n",
       "             'employee': 605,\n",
       "             'affect': 606,\n",
       "             'negotiations': 607,\n",
       "             'military': 608,\n",
       "             'citizens': 609,\n",
       "             'heritage': 610,\n",
       "             'effectiveness': 611,\n",
       "             'file': 612,\n",
       "             'useful': 613,\n",
       "             'asked': 614,\n",
       "             'partners': 615,\n",
       "             'pension': 616,\n",
       "             'differences': 617,\n",
       "             'changed': 618,\n",
       "             'weaknesses': 619,\n",
       "             'influence': 620,\n",
       "             'implementing': 621,\n",
       "             'languages': 622,\n",
       "             'obligations': 623,\n",
       "             'developed': 624,\n",
       "             'species': 625,\n",
       "             'production': 626,\n",
       "             'electronic': 627,\n",
       "             'implemented': 628,\n",
       "             'code': 629,\n",
       "             'court': 630,\n",
       "             'covered': 631,\n",
       "             'families': 632,\n",
       "             ';': 633,\n",
       "             'last': 634,\n",
       "             'authorities': 635,\n",
       "             'energy': 636,\n",
       "             'traditional': 637,\n",
       "             'lead': 638,\n",
       "             'participants': 639,\n",
       "             '%': 640,\n",
       "             'living': 641,\n",
       "             'capital': 642,\n",
       "             'real': 643,\n",
       "             'gst': 644,\n",
       "             'cf': 645,\n",
       "             'require': 646,\n",
       "             'labour': 647,\n",
       "             'records': 648,\n",
       "             'power': 649,\n",
       "             'goods': 650,\n",
       "             'payments': 651,\n",
       "             'staff': 652,\n",
       "             'applied': 653,\n",
       "             'co': 654,\n",
       "             'registered': 655,\n",
       "             'interests': 656,\n",
       "             'advice': 657,\n",
       "             'travel': 658,\n",
       "             'involvement': 659,\n",
       "             'minister': 660,\n",
       "             'parties': 661,\n",
       "             'structure': 662,\n",
       "             'partner': 663,\n",
       "             'guide': 664,\n",
       "             'agreements': 665,\n",
       "             'understanding': 666,\n",
       "             'trends': 667,\n",
       "             'forces': 668,\n",
       "             'means': 669,\n",
       "             'technical': 670,\n",
       "             'stakeholders': 671,\n",
       "             'average': 672,\n",
       "             'response': 673,\n",
       "             'innovation': 674,\n",
       "             'rural': 675,\n",
       "             'physical': 676,\n",
       "             'fund': 677,\n",
       "             'team': 678,\n",
       "             'clinical': 679,\n",
       "             'deal': 680,\n",
       "             'five': 681,\n",
       "             'communication': 682,\n",
       "             'gaps': 683,\n",
       "             'model': 684,\n",
       "             'analysis': 685,\n",
       "             'fish': 686,\n",
       "             'highest': 687,\n",
       "             'businesses': 688,\n",
       "             'towards': 689,\n",
       "             'professional': 690,\n",
       "             'building': 691,\n",
       "             'definition': 692,\n",
       "             'university': 693,\n",
       "             'second': 694,\n",
       "             'sport': 695,\n",
       "             'patent': 696,\n",
       "             '2006': 697,\n",
       "             'measure': 698,\n",
       "             'since': 699,\n",
       "             'reason': 700,\n",
       "             'received': 701,\n",
       "             'less': 702,\n",
       "             'agencies': 703,\n",
       "             'ask': 704,\n",
       "             'meeting': 705,\n",
       "             'prevent': 706,\n",
       "             'healthy': 707,\n",
       "             'source': 708,\n",
       "             'determine': 709,\n",
       "             'decide': 710,\n",
       "             'choose': 711,\n",
       "             'economy': 712,\n",
       "             'meant': 713,\n",
       "             'institution': 714,\n",
       "             'recommendations': 715,\n",
       "             'foods': 716,\n",
       "             'annual': 717,\n",
       "             'implement': 718,\n",
       "             'monitoring': 719,\n",
       "             'departments': 720,\n",
       "             'document': 721,\n",
       "             'back': 722,\n",
       "             'content': 723,\n",
       "             'greatest': 724,\n",
       "             'payment': 725,\n",
       "             'objective': 726,\n",
       "             'happening': 727,\n",
       "             'extent': 728,\n",
       "             'side': 729,\n",
       "             'believe': 730,\n",
       "             'event': 731,\n",
       "             'patient': 732,\n",
       "             'really': 733,\n",
       "             'added': 734,\n",
       "             'transfer': 735,\n",
       "             'registration': 736,\n",
       "             'just': 737,\n",
       "             'unit': 738,\n",
       "             'procedures': 739,\n",
       "             'centre': 740,\n",
       "             'third': 741,\n",
       "             'call': 742,\n",
       "             'hst': 743,\n",
       "             'province': 744,\n",
       "             'overall': 745,\n",
       "             'defence': 746,\n",
       "             'funds': 747,\n",
       "             'credit': 748,\n",
       "             'even': 749,\n",
       "             'material': 750,\n",
       "             'compliance': 751,\n",
       "             'consumers': 752,\n",
       "             'request': 753,\n",
       "             'maximum': 754,\n",
       "             'low': 755,\n",
       "             'claims': 756,\n",
       "             'free': 757,\n",
       "             'vision': 758,\n",
       "             'search': 759,\n",
       "             'insurance': 760,\n",
       "             'applications': 761,\n",
       "             'domestic': 762,\n",
       "             'paid': 763,\n",
       "             'selection': 764,\n",
       "             'balance': 765,\n",
       "             'features': 766,\n",
       "             'copyright': 767,\n",
       "             'strategic': 768,\n",
       "             'addressed': 769,\n",
       "             'ethical': 770,\n",
       "             'uses': 771,\n",
       "             'body': 772,\n",
       "             'target': 773,\n",
       "             'nation': 774,\n",
       "             'critical': 775,\n",
       "             'test': 776,\n",
       "             'significant': 777,\n",
       "             'causes': 778,\n",
       "             'fit': 779,\n",
       "             'behind': 780,\n",
       "             'sectors': 781,\n",
       "             'infrastructure': 782,\n",
       "             'french': 783,\n",
       "             'create': 784,\n",
       "             'exposure': 785,\n",
       "             'cooperation': 786,\n",
       "             'employer': 787,\n",
       "             'proportion': 788,\n",
       "             'studies': 789,\n",
       "             'whose': 790,\n",
       "             'down': 791,\n",
       "             'concerned': 792,\n",
       "             'resource': 793,\n",
       "             'similar': 794,\n",
       "             'established': 795,\n",
       "             'far': 796,\n",
       "             'encourage': 797,\n",
       "             'mandate': 798,\n",
       "             'particularly': 799,\n",
       "             'degree': 800,\n",
       "             'build': 801,\n",
       "             'convention': 802,\n",
       "             'minimum': 803,\n",
       "             'hold': 804,\n",
       "             'dialogue': 805,\n",
       "             'sort': 806,\n",
       "             'consumer': 807,\n",
       "             'components': 808,\n",
       "             'completed': 809,\n",
       "             'city': 810,\n",
       "             'full': 811,\n",
       "             'negative': 812,\n",
       "             'efforts': 813,\n",
       "             'represent': 814,\n",
       "             'alternative': 815,\n",
       "             'stage': 816,\n",
       "             'procedure': 817,\n",
       "             'complete': 818,\n",
       "             'contract': 819,\n",
       "             'follow': 820,\n",
       "             'career': 821,\n",
       "             'bill': 822,\n",
       "             'provisions': 823,\n",
       "             'materials': 824,\n",
       "             'off': 825,\n",
       "             'looking': 826,\n",
       "             'experiences': 827,\n",
       "             'park': 828,\n",
       "             'financing': 829,\n",
       "             'stop': 830,\n",
       "             'submit': 831,\n",
       "             'intellectual': 832,\n",
       "             'integration': 833,\n",
       "             'whole': 834,\n",
       "             'adverse': 835,\n",
       "             'instruments': 836,\n",
       "             'scientific': 837,\n",
       "             'least': 838,\n",
       "             'contributed': 839,\n",
       "             'once': 840,\n",
       "             'send': 841,\n",
       "             'concern': 842,\n",
       "             'known': 843,\n",
       "             'expectations': 844,\n",
       "             'also': 845,\n",
       "             'technologies': 846,\n",
       "             'longer': 847,\n",
       "             'views': 848,\n",
       "             'arrangements': 849,\n",
       "             'agenda': 850,\n",
       "             'leadership': 851,\n",
       "             'around': 852,\n",
       "             'programme': 853,\n",
       "             'supply': 854,\n",
       "             'competition': 855,\n",
       "             'ones': 856,\n",
       "             'network': 857,\n",
       "             'equipment': 858,\n",
       "             'option': 859,\n",
       "             'together': 860,\n",
       "             'identify': 861,\n",
       "             'workplace': 862,\n",
       "             'difficult': 863,\n",
       "             'early': 864,\n",
       "             'register': 865,\n",
       "             'share': 866,\n",
       "             'begin': 867,\n",
       "             'due': 868,\n",
       "             'outcome': 869,\n",
       "             'exactly': 870,\n",
       "             'researchers': 871,\n",
       "             'organizational': 872,\n",
       "             'occur': 873,\n",
       "             'prevention': 874,\n",
       "             'indicators': 875,\n",
       "             'coming': 876,\n",
       "             'rather': 877,\n",
       "             'reports': 878,\n",
       "             'operations': 879,\n",
       "             'statements': 880,\n",
       "             'models': 881,\n",
       "             'relative': 882,\n",
       "             'reported': 883,\n",
       "             'attention': 884,\n",
       "             'regions': 885,\n",
       "             'partnership': 886,\n",
       "             'size': 887,\n",
       "             'designated': 888,\n",
       "             'often': 889,\n",
       "             'purposes': 890,\n",
       "             'civil': 891,\n",
       "             'cancer': 892,\n",
       "             'treaty': 893,\n",
       "             'corporate': 894,\n",
       "             'users': 895,\n",
       "             'higher': 896,\n",
       "             'integrated': 897,\n",
       "             'awareness': 898,\n",
       "             'reach': 899,\n",
       "             'limits': 900,\n",
       "             'above': 901,\n",
       "             'assess': 902,\n",
       "             'reserve': 903,\n",
       "             'complaint': 904,\n",
       "             'genetic': 905,\n",
       "             'disadvantages': 906,\n",
       "             'single': 907,\n",
       "             'suggest': 908,\n",
       "             'united': 909,\n",
       "             'permit': 910,\n",
       "             'recent': 911,\n",
       "             'operational': 912,\n",
       "             'testing': 913,\n",
       "             'ozone': 914,\n",
       "             'receiving': 915,\n",
       "             'networks': 916,\n",
       "             'party': 917,\n",
       "             'external': 918,\n",
       "             'licence': 919,\n",
       "             'industrial': 920,\n",
       "             'provinces': 921,\n",
       "             'contributions': 922,\n",
       "             'export': 923,\n",
       "             'governance': 924,\n",
       "             'recommend': 925,\n",
       "             'educational': 926,\n",
       "             'clients': 927,\n",
       "             'unique': 928,\n",
       "             'basic': 929,\n",
       "             'open': 930,\n",
       "             'web': 931,\n",
       "             'deliver': 932,\n",
       "             'commercial': 933,\n",
       "             'symptoms': 934,\n",
       "             'advantage': 935,\n",
       "             'achieving': 936,\n",
       "             'situations': 937,\n",
       "             'partnerships': 938,\n",
       "             'history': 939,\n",
       "             'laws': 940,\n",
       "             'recommended': 941,\n",
       "             'improvements': 942,\n",
       "             'minority': 943,\n",
       "             'ip': 944,\n",
       "             'goal': 945,\n",
       "             'markets': 946,\n",
       "             'distribution': 947,\n",
       "             'cases': 948,\n",
       "             'short': 949,\n",
       "             'per': 950,\n",
       "             'reasonable': 951,\n",
       "             'works': 952,\n",
       "             'accountability': 953,\n",
       "             'cra': 954,\n",
       "             'cover': 955,\n",
       "             'something': 956,\n",
       "             'criminal': 957,\n",
       "             'certain': 958,\n",
       "             '10': 959,\n",
       "             'across': 960,\n",
       "             'sites': 961,\n",
       "             'acceptable': 962,\n",
       "             'client': 963,\n",
       "             'reference': 964,\n",
       "             'housing': 965,\n",
       "             'promotion': 966,\n",
       "             'understand': 967,\n",
       "             'large': 968,\n",
       "             'discrimination': 969,\n",
       "             'price': 970,\n",
       "             'border': 971,\n",
       "             'allow': 972,\n",
       "             'providing': 973,\n",
       "             'move': 974,\n",
       "             'increasing': 975,\n",
       "             'north': 976,\n",
       "             'games': 977,\n",
       "             'themselves': 978,\n",
       "             'located': 979,\n",
       "             'safe': 980,\n",
       "             'notice': 981,\n",
       "             'talk': 982,\n",
       "             'bank': 983,\n",
       "             '2007': 984,\n",
       "             'demand': 985,\n",
       "             'effectively': 986,\n",
       "             '2005': 987,\n",
       "             'message': 988,\n",
       "             'describes': 989,\n",
       "             'violence': 990,\n",
       "             'decides': 991,\n",
       "             'substances': 992,\n",
       "             'especially': 993,\n",
       "             'smoking': 994,\n",
       "             'anything': 995,\n",
       "             'thing': 996,\n",
       "             'great': 997,\n",
       "             'method': 998,\n",
       "             'equity': 999,\n",
       "             ...})"
      ]
     },
     "execution_count": 82,
     "metadata": {},
     "output_type": "execute_result"
    }
   ],
   "source": [
    "data.train_dl.dataset.proc_x[-1].otoi"
   ]
  },
  {
   "cell_type": "code",
   "execution_count": 134,
   "metadata": {},
   "outputs": [],
   "source": [
    "class Seq2SeqQRNN(nn.Module):\n",
    "    def __init__(self, emb_enc, emb_dec, n_hid, max_len, n_layers=2, p_inp:float=0.15, p_enc:float=0.25, \n",
    "                 p_dec:float=0.1, p_out:float=0.35, p_hid:float=0.05, bos_idx:int=2, pad_idx:int=1):\n",
    "        super().__init__()\n",
    "        self.n_layers,self.n_hid,self.max_len,self.bos_idx,self.pad_idx = n_layers,n_hid,max_len,bos_idx,pad_idx\n",
    "        self.emb_enc = emb_enc\n",
    "        self.emb_enc_drop = nn.Dropout(p_inp)\n",
    "        self.encoder = QRNN(emb_enc.weight.size(1), n_hid, n_layers=n_layers, dropout=p_enc)\n",
    "        self.out_enc = nn.Linear(n_hid, emb_enc.weight.size(1), bias=False)\n",
    "        self.hid_dp  = nn.Dropout(p_hid)\n",
    "        self.emb_dec = emb_dec\n",
    "        self.decoder = QRNN(emb_dec.weight.size(1), emb_dec.weight.size(1), n_layers=n_layers, dropout=p_dec)\n",
    "        self.out_drop = nn.Dropout(p_out)\n",
    "        self.out = nn.Linear(emb_dec.weight.size(1), emb_dec.weight.size(0))\n",
    "        self.out.weight.data = self.emb_dec.weight.data\n",
    "        \n",
    "    def forward(self, inp):\n",
    "#         print(f\"input shape: {inp.shape}\")\n",
    "        bs,sl = inp.size()\n",
    "#         print(f\"bs:{bs} sl:{sl}\")\n",
    "        self.encoder.reset()\n",
    "        self.decoder.reset()\n",
    "        hid = self.initHidden(bs)\n",
    "#         print(f\"state shape (hid): {hid.shape}\")\n",
    "        emb = self.emb_enc_drop(self.emb_enc(inp))\n",
    "#         print(f\"emb shape: {emb.shape}\")\n",
    "        enc_out, hid = self.encoder(emb, hid)\n",
    "#         print(f\"enc_out shape: {enc_out.shape}, hid shape: {hid.shape}\")\n",
    "        hid = self.out_enc(self.hid_dp(hid)) # ======\n",
    "#         print(f\"Linear layer mapping applied to hid\")\n",
    "#         print(f\"hid: {hid.shape}\")\n",
    "\n",
    "        dec_inp = inp.new_zeros(bs).long() + self.bos_idx\n",
    "#         print(f\"dec_inp: {dec_inp.shape}\")\n",
    "#         print(dec_inp)\n",
    "        outs = []\n",
    "        for i in range(self.max_len):\n",
    "            emb = self.emb_dec(dec_inp).unsqueeze(1)\n",
    "#             print(f\"Decoder Embedding of inp: {emb.shape}\")\n",
    "            out, hid = self.decoder(emb, hid) # hid is the state we transfer from encoder ========\n",
    "#             print(f\"out: {out.shape}\")#, hid: {hid.shape}\")\n",
    "            out = self.out(self.out_drop(out[:,0]))\n",
    "            outs.append(out)\n",
    "            dec_inp = out.max(1)[1]\n",
    "            if (dec_inp==self.pad_idx).all(): break\n",
    "                \n",
    "        result = torch.stack(outs, dim=1)\n",
    "#         print(f\"result shape: {result.shape}\")\n",
    "        return result\n",
    "    \n",
    "    def initHidden(self, bs): return next(self.parameters()).new_zeros(self.n_layers, bs, self.n_hid)"
   ]
  },
  {
   "cell_type": "code",
   "execution_count": 128,
   "metadata": {},
   "outputs": [],
   "source": [
    "x,y = next(iter(data.train_dl))"
   ]
  },
  {
   "cell_type": "code",
   "execution_count": 129,
   "metadata": {},
   "outputs": [
    {
     "data": {
      "text/plain": [
       "(torch.Size([64, 120]), torch.Size([64, 158]))"
      ]
     },
     "execution_count": 129,
     "metadata": {},
     "output_type": "execute_result"
    }
   ],
   "source": [
    "x.shape, y.shape"
   ]
  },
  {
   "cell_type": "code",
   "execution_count": 130,
   "metadata": {},
   "outputs": [],
   "source": [
    "model = Seq2SeqQRNN(emb_enc, emb_dec, 256, 30, n_layers=2)"
   ]
  },
  {
   "cell_type": "code",
   "execution_count": 131,
   "metadata": {
    "scrolled": false
   },
   "outputs": [
    {
     "name": "stdout",
     "output_type": "stream",
     "text": [
      "input shape: torch.Size([64, 120])\n",
      "bs:64 sl:120\n",
      "state shape (hid): torch.Size([2, 64, 256])\n",
      "emb shape: torch.Size([64, 120, 300])\n",
      "enc_out shape: torch.Size([64, 120, 256]), hid shape: torch.Size([2, 64, 256])\n",
      "Linear layer mapping applied to hid\n",
      "hid: torch.Size([2, 64, 300])\n",
      "dec_inp: torch.Size([64])\n",
      "tensor([2, 2, 2, 2, 2, 2, 2, 2, 2, 2, 2, 2, 2, 2, 2, 2, 2, 2, 2, 2, 2, 2, 2, 2,\n",
      "        2, 2, 2, 2, 2, 2, 2, 2, 2, 2, 2, 2, 2, 2, 2, 2, 2, 2, 2, 2, 2, 2, 2, 2,\n",
      "        2, 2, 2, 2, 2, 2, 2, 2, 2, 2, 2, 2, 2, 2, 2, 2])\n",
      "Decoder Embedding of inp: torch.Size([64, 1, 300])\n",
      "out: torch.Size([64, 1, 300])\n",
      "Decoder Embedding of inp: torch.Size([64, 1, 300])\n",
      "out: torch.Size([64, 1, 300])\n",
      "Decoder Embedding of inp: torch.Size([64, 1, 300])\n",
      "out: torch.Size([64, 1, 300])\n",
      "Decoder Embedding of inp: torch.Size([64, 1, 300])\n",
      "out: torch.Size([64, 1, 300])\n",
      "Decoder Embedding of inp: torch.Size([64, 1, 300])\n",
      "out: torch.Size([64, 1, 300])\n",
      "Decoder Embedding of inp: torch.Size([64, 1, 300])\n",
      "out: torch.Size([64, 1, 300])\n",
      "Decoder Embedding of inp: torch.Size([64, 1, 300])\n",
      "out: torch.Size([64, 1, 300])\n",
      "Decoder Embedding of inp: torch.Size([64, 1, 300])\n",
      "out: torch.Size([64, 1, 300])\n",
      "Decoder Embedding of inp: torch.Size([64, 1, 300])\n",
      "out: torch.Size([64, 1, 300])\n",
      "Decoder Embedding of inp: torch.Size([64, 1, 300])\n",
      "out: torch.Size([64, 1, 300])\n",
      "Decoder Embedding of inp: torch.Size([64, 1, 300])\n",
      "out: torch.Size([64, 1, 300])\n",
      "Decoder Embedding of inp: torch.Size([64, 1, 300])\n",
      "out: torch.Size([64, 1, 300])\n",
      "Decoder Embedding of inp: torch.Size([64, 1, 300])\n",
      "out: torch.Size([64, 1, 300])\n",
      "Decoder Embedding of inp: torch.Size([64, 1, 300])\n",
      "out: torch.Size([64, 1, 300])\n",
      "Decoder Embedding of inp: torch.Size([64, 1, 300])\n",
      "out: torch.Size([64, 1, 300])\n",
      "Decoder Embedding of inp: torch.Size([64, 1, 300])\n",
      "out: torch.Size([64, 1, 300])\n",
      "Decoder Embedding of inp: torch.Size([64, 1, 300])\n",
      "out: torch.Size([64, 1, 300])\n",
      "Decoder Embedding of inp: torch.Size([64, 1, 300])\n",
      "out: torch.Size([64, 1, 300])\n",
      "Decoder Embedding of inp: torch.Size([64, 1, 300])\n",
      "out: torch.Size([64, 1, 300])\n",
      "Decoder Embedding of inp: torch.Size([64, 1, 300])\n",
      "out: torch.Size([64, 1, 300])\n",
      "Decoder Embedding of inp: torch.Size([64, 1, 300])\n",
      "out: torch.Size([64, 1, 300])\n",
      "Decoder Embedding of inp: torch.Size([64, 1, 300])\n",
      "out: torch.Size([64, 1, 300])\n",
      "Decoder Embedding of inp: torch.Size([64, 1, 300])\n",
      "out: torch.Size([64, 1, 300])\n",
      "Decoder Embedding of inp: torch.Size([64, 1, 300])\n",
      "out: torch.Size([64, 1, 300])\n",
      "Decoder Embedding of inp: torch.Size([64, 1, 300])\n",
      "out: torch.Size([64, 1, 300])\n",
      "Decoder Embedding of inp: torch.Size([64, 1, 300])\n",
      "out: torch.Size([64, 1, 300])\n",
      "Decoder Embedding of inp: torch.Size([64, 1, 300])\n",
      "out: torch.Size([64, 1, 300])\n",
      "Decoder Embedding of inp: torch.Size([64, 1, 300])\n",
      "out: torch.Size([64, 1, 300])\n",
      "Decoder Embedding of inp: torch.Size([64, 1, 300])\n",
      "out: torch.Size([64, 1, 300])\n",
      "Decoder Embedding of inp: torch.Size([64, 1, 300])\n",
      "out: torch.Size([64, 1, 300])\n",
      "result shape: torch.Size([64, 30, 15147])\n"
     ]
    }
   ],
   "source": [
    "outs = model(x)"
   ]
  },
  {
   "cell_type": "code",
   "execution_count": 91,
   "metadata": {},
   "outputs": [
    {
     "data": {
      "text/plain": [
       "torch.Size([64, 30, 15147])"
      ]
     },
     "execution_count": 91,
     "metadata": {},
     "output_type": "execute_result"
    }
   ],
   "source": [
    "outs.shape"
   ]
  },
  {
   "cell_type": "code",
   "execution_count": null,
   "metadata": {},
   "outputs": [],
   "source": []
  },
  {
   "cell_type": "code",
   "execution_count": 158,
   "metadata": {},
   "outputs": [],
   "source": [
    "class Seq2SeqQRNN(nn.Module):\n",
    "    def __init__(self, emb_enc, emb_dec, n_hid, max_len, n_layers=2, p_inp:float=0.15, p_enc:float=0.25, \n",
    "                 p_dec:float=0.1, p_out:float=0.35, p_hid:float=0.05, bos_idx:int=2, pad_idx:int=1):\n",
    "        super().__init__()\n",
    "        self.n_layers,self.n_hid,self.max_len,self.bos_idx,self.pad_idx = n_layers,n_hid,max_len,bos_idx,pad_idx\n",
    "        self.emb_enc = emb_enc\n",
    "        self.emb_enc_drop = nn.Dropout(p_inp)\n",
    "        self.encoder = QRNN(emb_enc.weight.size(1), n_hid, n_layers=n_layers, dropout=p_enc)\n",
    "        self.out_enc = nn.Linear(n_hid, emb_enc.weight.size(1), bias=False)\n",
    "        self.hid_dp  = nn.Dropout(p_hid)\n",
    "        self.emb_dec = emb_dec\n",
    "        self.decoder = QRNN(emb_dec.weight.size(1), emb_dec.weight.size(1), n_layers=n_layers, dropout=p_dec)\n",
    "        self.out_drop = nn.Dropout(p_out)\n",
    "        self.out = nn.Linear(emb_dec.weight.size(1), emb_dec.weight.size(0))\n",
    "        self.out.weight.data = self.emb_dec.weight.data\n",
    "        \n",
    "    def forward(self, inp):\n",
    "        bs,sl = inp.size()\n",
    "        self.encoder.reset()\n",
    "        self.decoder.reset()\n",
    "        hid = self.initHidden(bs)\n",
    "        emb = self.emb_enc_drop(self.emb_enc(inp))\n",
    "        enc_out, hid = self.encoder(emb, hid)\n",
    "        hid = self.out_enc(self.hid_dp(hid))\n",
    "\n",
    "        dec_inp = inp.new_zeros(bs).long() + self.bos_idx\n",
    "        outs = []\n",
    "        for i in range(self.max_len):\n",
    "            emb = self.emb_dec(dec_inp).unsqueeze(1)\n",
    "            out, hid = self.decoder(emb, hid)\n",
    "            out = self.out(self.out_drop(out[:,0]))\n",
    "            outs.append(out)\n",
    "            dec_inp = out.max(1)[1]\n",
    "            if (dec_inp==self.pad_idx).all(): break\n",
    "        return torch.stack(outs, dim=1)\n",
    "    \n",
    "    def initHidden(self, bs): return next(self.parameters()).new_zeros(self.n_layers, bs, self.n_hid)"
   ]
  },
  {
   "cell_type": "code",
   "execution_count": 159,
   "metadata": {},
   "outputs": [
    {
     "data": {
      "text/plain": [
       "__main__.Seq2SeqQRNN"
      ]
     },
     "execution_count": 159,
     "metadata": {},
     "output_type": "execute_result"
    }
   ],
   "source": [
    "Seq2SeqQRNN"
   ]
  },
  {
   "cell_type": "markdown",
   "metadata": {},
   "source": [
    "###### seq2seq loss"
   ]
  },
  {
   "cell_type": "markdown",
   "metadata": {},
   "source": [
    "```python\n",
    "def cross_entropy_flat(input, target):\n",
    "    bs,sl = target.size()\n",
    "    return F.cross_entropy(input.view(bs * sl, -1), target.view(bs * sl))\n",
    "```"
   ]
  },
  {
   "cell_type": "code",
   "execution_count": null,
   "metadata": {},
   "outputs": [],
   "source": [
    "def seq2seq_loss(out, targ, pad_idx=1):\n",
    "    bs,targ_len = targ.size()\n",
    "    _,out_len,vs = out.size()\n",
    "    if targ_len>out_len: out  = F.pad(out,  (0,0,0,targ_len-out_len,0,0), value=pad_idx)\n",
    "    if out_len>targ_len: targ = F.pad(targ, (0,out_len-targ_len,0,0), value=pad_idx)\n",
    "    return cross_entropy_flat(out, targ)"
   ]
  },
  {
   "cell_type": "code",
   "execution_count": 191,
   "metadata": {},
   "outputs": [],
   "source": [
    "def seq2seq_loss(inputs, targets):\n",
    "    #pdb.set_trace()\n",
    "    src_bs, src_seq_len, nc = inputs.shape\n",
    "    trg_bs, trg_seq_len = targets.shape\n",
    "    \n",
    "    if trg_seq_len > src_seq_len: inputs = F.pad(inputs, (0,0,0,trg_seq_len - src_seq_len, 0,0))\n",
    "\n",
    "    inputs = inputs[:, :trg_seq_len]\n",
    "    return F.cross_entropy(inputs.contiguous().view(-1, nc), targets.contiguous().view(-1))"
   ]
  },
  {
   "cell_type": "code",
   "execution_count": null,
   "metadata": {},
   "outputs": [],
   "source": [
    "def seq2seq_acc(out, targ, pad_idx=1):\n",
    "    bs,targ_len = targ.size()\n",
    "    _,out_len,vs = out.size()\n",
    "    if targ_len>out_len: out  = F.pad(out,  (0,0,0,targ_len-out_len,0,0), value=pad_idx)\n",
    "    if out_len>targ_len: targ = F.pad(targ, (0,out_len-targ_len,0,0), value=pad_idx)\n",
    "    out = out.argmax(2)\n",
    "    return (out==targ).float().mean()"
   ]
  },
  {
   "cell_type": "markdown",
   "metadata": {},
   "source": [
    "##### **Finding the learning rate**"
   ]
  },
  {
   "cell_type": "code",
   "execution_count": null,
   "metadata": {},
   "outputs": [],
   "source": [
    "class LR_Find(Callback):\n",
    "    _order=1\n",
    "    def __init__(self, max_iter=100, min_lr=1e-6, max_lr=10):\n",
    "        self.max_iter,self.min_lr,self.max_lr = max_iter,min_lr,max_lr\n",
    "        self.best_loss = 1e9\n",
    "        \n",
    "    def begin_batch(self): \n",
    "        if not self.in_train: return\n",
    "        pos = self.n_iter/self.max_iter\n",
    "        lr = self.min_lr * (self.max_lr/self.min_lr) ** pos\n",
    "        for pg in self.opt.hypers: pg['lr'] = lr\n",
    "            \n",
    "    def after_step(self):\n",
    "        if self.n_iter>=self.max_iter or self.loss>self.best_loss*10:\n",
    "            raise CancelTrainException()\n",
    "        if self.loss < self.best_loss: self.best_loss = self.loss"
   ]
  },
  {
   "cell_type": "code",
   "execution_count": null,
   "metadata": {},
   "outputs": [],
   "source": [
    "cbs = [partial(AvgStatsCallback,seq2seq_acc),\n",
    "       partial(CudaCallback, get_device()), \n",
    "       Recorder,\n",
    "       LR_Find,\n",
    "       ProgressCallback]"
   ]
  },
  {
   "cell_type": "code",
   "execution_count": null,
   "metadata": {},
   "outputs": [],
   "source": []
  },
  {
   "cell_type": "code",
   "execution_count": null,
   "metadata": {},
   "outputs": [],
   "source": [
    "model = Seq2SeqQRNN(emb_enc, emb_dec, 256, 30, n_layers=2)\n",
    "learn = Learner(model, data, loss_func=seq2seq_loss, cb_funcs=cbs, opt_func=adam_opt())"
   ]
  },
  {
   "cell_type": "code",
   "execution_count": null,
   "metadata": {},
   "outputs": [],
   "source": [
    "path"
   ]
  },
  {
   "cell_type": "code",
   "execution_count": null,
   "metadata": {},
   "outputs": [],
   "source": [
    "torch.save(learn.model.state_dict(), path/\"init_model.pth\")"
   ]
  },
  {
   "cell_type": "code",
   "execution_count": null,
   "metadata": {
    "scrolled": true
   },
   "outputs": [],
   "source": [
    "learn.fit(1)"
   ]
  },
  {
   "cell_type": "code",
   "execution_count": null,
   "metadata": {},
   "outputs": [],
   "source": [
    "learn.recorder.plot(skip_last=15)"
   ]
  },
  {
   "cell_type": "code",
   "execution_count": null,
   "metadata": {},
   "outputs": [],
   "source": [
    "learn.recorder.plot_lr()"
   ]
  },
  {
   "cell_type": "code",
   "execution_count": null,
   "metadata": {},
   "outputs": [],
   "source": [
    "learn.model.load_state_dict(torch.load(path/\"init_model.pth\", map_location=get_device()))"
   ]
  },
  {
   "cell_type": "code",
   "execution_count": null,
   "metadata": {},
   "outputs": [],
   "source": []
  },
  {
   "cell_type": "code",
   "execution_count": null,
   "metadata": {},
   "outputs": [],
   "source": []
  },
  {
   "cell_type": "code",
   "execution_count": null,
   "metadata": {},
   "outputs": [],
   "source": []
  },
  {
   "cell_type": "markdown",
   "metadata": {},
   "source": [
    "#### Training a model"
   ]
  },
  {
   "cell_type": "code",
   "execution_count": 211,
   "metadata": {},
   "outputs": [],
   "source": [
    "cbs = [partial(AvgStatsCallback,seq2seq_acc),\n",
    "       partial(CudaCallback, get_device()), \n",
    "       Recorder,\n",
    "       partial(SaveModelCallback, every=\"epoch\", savename=\"check_model\"),\n",
    "       partial(GradientClipping, clip=0.1),\n",
    "       ProgressCallback]"
   ]
  },
  {
   "cell_type": "code",
   "execution_count": 212,
   "metadata": {},
   "outputs": [],
   "source": [
    "emb_enc = torch.load(model_path/'models'/'en_emb.pth')\n",
    "emb_dec = torch.load(model_path/'models'/'fr_emb.pth')"
   ]
  },
  {
   "cell_type": "code",
   "execution_count": 213,
   "metadata": {},
   "outputs": [
    {
     "data": {
      "text/plain": [
       "IncompatibleKeys(missing_keys=[], unexpected_keys=[])"
      ]
     },
     "execution_count": 213,
     "metadata": {},
     "output_type": "execute_result"
    }
   ],
   "source": [
    "model = Seq2SeqQRNN(emb_enc, emb_dec, 256, 50, n_layers=2,  \n",
    "                    p_enc=0.0, p_dec=0.0, p_out=0.0, p_hid=0.0)\n",
    "learn = Learner(model, data, loss_func=seq2seq_loss, cb_funcs=cbs, opt_func=adam_opt())\n",
    "# load the model for which the lr_find was run\n",
    "learn.model.load_state_dict(torch.load(path/\"init_model.pth\", map_location=get_device()))"
   ]
  },
  {
   "cell_type": "code",
   "execution_count": 214,
   "metadata": {},
   "outputs": [],
   "source": [
    "#export\n",
    "def cos_1cycle_anneal(start, high, end):\n",
    "    return [sched_cos(start, high), sched_cos(high, end)]"
   ]
  },
  {
   "cell_type": "code",
   "execution_count": 216,
   "metadata": {},
   "outputs": [],
   "source": [
    "lr = 1e-5 # 1e-2 #\n",
    "sched_lr  = combine_scheds([0.3,0.7], cos_1cycle_anneal(lr/10., lr, lr/1e5))\n",
    "sched_mom = combine_scheds([0.3,0.7], cos_1cycle_anneal(0.8, 0.7, 0.8))\n",
    "cbsched = [ParamScheduler('lr', sched_lr), ParamScheduler('mom', sched_mom)]"
   ]
  },
  {
   "cell_type": "code",
   "execution_count": 217,
   "metadata": {
    "scrolled": true
   },
   "outputs": [
    {
     "data": {
      "text/html": [
       "<table border=\"1\" class=\"dataframe\">\n",
       "  <thead>\n",
       "    <tr style=\"text-align: left;\">\n",
       "      <th>epoch</th>\n",
       "      <th>train_loss</th>\n",
       "      <th>train_seq2seq_acc</th>\n",
       "      <th>valid_loss</th>\n",
       "      <th>valid_seq2seq_acc</th>\n",
       "      <th>time</th>\n",
       "    </tr>\n",
       "  </thead>\n",
       "  <tbody>\n",
       "  </tbody>\n",
       "</table>"
      ],
      "text/plain": [
       "<IPython.core.display.HTML object>"
      ]
     },
     "metadata": {},
     "output_type": "display_data"
    },
    {
     "ename": "KeyboardInterrupt",
     "evalue": "",
     "output_type": "error",
     "traceback": [
      "\u001b[0;31m--------------------------------------------------------------\u001b[0m",
      "\u001b[0;31mKeyboardInterrupt\u001b[0m            Traceback (most recent call last)",
      "\u001b[0;32m<ipython-input-217-27402909c8ef>\u001b[0m in \u001b[0;36m<module>\u001b[0;34m\u001b[0m\n\u001b[0;32m----> 1\u001b[0;31m \u001b[0mlearn\u001b[0m\u001b[0;34m.\u001b[0m\u001b[0mfit\u001b[0m\u001b[0;34m(\u001b[0m\u001b[0;36m1\u001b[0m\u001b[0;34m,\u001b[0m \u001b[0mcbs\u001b[0m\u001b[0;34m=\u001b[0m\u001b[0mcbsched\u001b[0m\u001b[0;34m)\u001b[0m\u001b[0;34m\u001b[0m\u001b[0;34m\u001b[0m\u001b[0m\n\u001b[0m",
      "\u001b[0;32m~/Desktop/deep-unsupervised-learning/fai-part2/research-lib/nbs/lib/nb_02.py\u001b[0m in \u001b[0;36mfit\u001b[0;34m(self, epochs, cbs, reset_opt)\u001b[0m\n\u001b[1;32m    212\u001b[0m             \u001b[0;32mfor\u001b[0m \u001b[0mepoch\u001b[0m \u001b[0;32min\u001b[0m \u001b[0mrange\u001b[0m\u001b[0;34m(\u001b[0m\u001b[0mepochs\u001b[0m\u001b[0;34m)\u001b[0m\u001b[0;34m:\u001b[0m\u001b[0;34m\u001b[0m\u001b[0;34m\u001b[0m\u001b[0m\n\u001b[1;32m    213\u001b[0m                 \u001b[0mself\u001b[0m\u001b[0;34m.\u001b[0m\u001b[0mdo_begin_epoch\u001b[0m\u001b[0;34m(\u001b[0m\u001b[0mepoch\u001b[0m\u001b[0;34m)\u001b[0m\u001b[0;34m\u001b[0m\u001b[0;34m\u001b[0m\u001b[0m\n\u001b[0;32m--> 214\u001b[0;31m                 \u001b[0;32mif\u001b[0m \u001b[0;32mnot\u001b[0m \u001b[0mself\u001b[0m\u001b[0;34m(\u001b[0m\u001b[0;34m'begin_epoch'\u001b[0m\u001b[0;34m)\u001b[0m\u001b[0;34m:\u001b[0m \u001b[0mself\u001b[0m\u001b[0;34m.\u001b[0m\u001b[0mall_batches\u001b[0m\u001b[0;34m(\u001b[0m\u001b[0;34m)\u001b[0m\u001b[0;34m\u001b[0m\u001b[0;34m\u001b[0m\u001b[0m\n\u001b[0m\u001b[1;32m    215\u001b[0m \u001b[0;34m\u001b[0m\u001b[0m\n\u001b[1;32m    216\u001b[0m                 \u001b[0;32mwith\u001b[0m \u001b[0mtorch\u001b[0m\u001b[0;34m.\u001b[0m\u001b[0mno_grad\u001b[0m\u001b[0;34m(\u001b[0m\u001b[0;34m)\u001b[0m\u001b[0;34m:\u001b[0m\u001b[0;34m\u001b[0m\u001b[0;34m\u001b[0m\u001b[0m\n",
      "\u001b[0;32m~/Desktop/deep-unsupervised-learning/fai-part2/research-lib/nbs/lib/nb_02.py\u001b[0m in \u001b[0;36mall_batches\u001b[0;34m(self)\u001b[0m\n\u001b[1;32m    191\u001b[0m         \u001b[0mself\u001b[0m\u001b[0;34m.\u001b[0m\u001b[0miters\u001b[0m \u001b[0;34m=\u001b[0m \u001b[0mlen\u001b[0m\u001b[0;34m(\u001b[0m\u001b[0mself\u001b[0m\u001b[0;34m.\u001b[0m\u001b[0mdl\u001b[0m\u001b[0;34m)\u001b[0m\u001b[0;34m\u001b[0m\u001b[0;34m\u001b[0m\u001b[0m\n\u001b[1;32m    192\u001b[0m         \u001b[0;32mtry\u001b[0m\u001b[0;34m:\u001b[0m\u001b[0;34m\u001b[0m\u001b[0;34m\u001b[0m\u001b[0m\n\u001b[0;32m--> 193\u001b[0;31m             \u001b[0;32mfor\u001b[0m \u001b[0mi\u001b[0m\u001b[0;34m,\u001b[0m\u001b[0;34m(\u001b[0m\u001b[0mxb\u001b[0m\u001b[0;34m,\u001b[0m\u001b[0myb\u001b[0m\u001b[0;34m)\u001b[0m \u001b[0;32min\u001b[0m \u001b[0menumerate\u001b[0m\u001b[0;34m(\u001b[0m\u001b[0mself\u001b[0m\u001b[0;34m.\u001b[0m\u001b[0mdl\u001b[0m\u001b[0;34m)\u001b[0m\u001b[0;34m:\u001b[0m \u001b[0mself\u001b[0m\u001b[0;34m.\u001b[0m\u001b[0mone_batch\u001b[0m\u001b[0;34m(\u001b[0m\u001b[0mi\u001b[0m\u001b[0;34m,\u001b[0m \u001b[0mxb\u001b[0m\u001b[0;34m,\u001b[0m \u001b[0myb\u001b[0m\u001b[0;34m)\u001b[0m\u001b[0;34m\u001b[0m\u001b[0;34m\u001b[0m\u001b[0m\n\u001b[0m\u001b[1;32m    194\u001b[0m         \u001b[0;32mexcept\u001b[0m \u001b[0mCancelEpochException\u001b[0m\u001b[0;34m:\u001b[0m \u001b[0mself\u001b[0m\u001b[0;34m(\u001b[0m\u001b[0;34m'after_cancel_epoch'\u001b[0m\u001b[0;34m)\u001b[0m\u001b[0;34m\u001b[0m\u001b[0;34m\u001b[0m\u001b[0m\n\u001b[1;32m    195\u001b[0m \u001b[0;34m\u001b[0m\u001b[0m\n",
      "\u001b[0;32m~/Desktop/deep-unsupervised-learning/fai-part2/research-lib/nbs/lib/nb_02.py\u001b[0m in \u001b[0;36mone_batch\u001b[0;34m(self, i, xb, yb)\u001b[0m\n\u001b[1;32m    179\u001b[0m             \u001b[0mself\u001b[0m\u001b[0;34m.\u001b[0m\u001b[0miter\u001b[0m \u001b[0;34m=\u001b[0m \u001b[0mi\u001b[0m\u001b[0;34m\u001b[0m\u001b[0;34m\u001b[0m\u001b[0m\n\u001b[1;32m    180\u001b[0m             \u001b[0mself\u001b[0m\u001b[0;34m.\u001b[0m\u001b[0mxb\u001b[0m\u001b[0;34m,\u001b[0m\u001b[0mself\u001b[0m\u001b[0;34m.\u001b[0m\u001b[0myb\u001b[0m \u001b[0;34m=\u001b[0m \u001b[0mxb\u001b[0m\u001b[0;34m,\u001b[0m\u001b[0myb\u001b[0m\u001b[0;34m;\u001b[0m                        \u001b[0mself\u001b[0m\u001b[0;34m(\u001b[0m\u001b[0;34m'begin_batch'\u001b[0m\u001b[0;34m)\u001b[0m\u001b[0;34m\u001b[0m\u001b[0;34m\u001b[0m\u001b[0m\n\u001b[0;32m--> 181\u001b[0;31m             \u001b[0mself\u001b[0m\u001b[0;34m.\u001b[0m\u001b[0mpred\u001b[0m \u001b[0;34m=\u001b[0m \u001b[0mself\u001b[0m\u001b[0;34m.\u001b[0m\u001b[0mmodel\u001b[0m\u001b[0;34m(\u001b[0m\u001b[0mself\u001b[0m\u001b[0;34m.\u001b[0m\u001b[0mxb\u001b[0m\u001b[0;34m)\u001b[0m\u001b[0;34m;\u001b[0m                \u001b[0mself\u001b[0m\u001b[0;34m(\u001b[0m\u001b[0;34m'after_pred'\u001b[0m\u001b[0;34m)\u001b[0m\u001b[0;34m\u001b[0m\u001b[0;34m\u001b[0m\u001b[0m\n\u001b[0m\u001b[1;32m    182\u001b[0m             \u001b[0mself\u001b[0m\u001b[0;34m.\u001b[0m\u001b[0mloss\u001b[0m \u001b[0;34m=\u001b[0m \u001b[0mself\u001b[0m\u001b[0;34m.\u001b[0m\u001b[0mloss_func\u001b[0m\u001b[0;34m(\u001b[0m\u001b[0mself\u001b[0m\u001b[0;34m.\u001b[0m\u001b[0mpred\u001b[0m\u001b[0;34m,\u001b[0m \u001b[0mself\u001b[0m\u001b[0;34m.\u001b[0m\u001b[0myb\u001b[0m\u001b[0;34m)\u001b[0m\u001b[0;34m;\u001b[0m \u001b[0mself\u001b[0m\u001b[0;34m(\u001b[0m\u001b[0;34m'after_loss'\u001b[0m\u001b[0;34m)\u001b[0m\u001b[0;34m\u001b[0m\u001b[0;34m\u001b[0m\u001b[0m\n\u001b[1;32m    183\u001b[0m             \u001b[0;32mif\u001b[0m \u001b[0;32mnot\u001b[0m \u001b[0mself\u001b[0m\u001b[0;34m.\u001b[0m\u001b[0min_train\u001b[0m\u001b[0;34m:\u001b[0m \u001b[0;32mreturn\u001b[0m\u001b[0;34m\u001b[0m\u001b[0;34m\u001b[0m\u001b[0m\n",
      "\u001b[0;32m~/anaconda3/envs/my-fastai/lib/python3.6/site-packages/torch/nn/modules/module.py\u001b[0m in \u001b[0;36m__call__\u001b[0;34m(self, *input, **kwargs)\u001b[0m\n\u001b[1;32m    491\u001b[0m             \u001b[0mresult\u001b[0m \u001b[0;34m=\u001b[0m \u001b[0mself\u001b[0m\u001b[0;34m.\u001b[0m\u001b[0m_slow_forward\u001b[0m\u001b[0;34m(\u001b[0m\u001b[0;34m*\u001b[0m\u001b[0minput\u001b[0m\u001b[0;34m,\u001b[0m \u001b[0;34m**\u001b[0m\u001b[0mkwargs\u001b[0m\u001b[0;34m)\u001b[0m\u001b[0;34m\u001b[0m\u001b[0;34m\u001b[0m\u001b[0m\n\u001b[1;32m    492\u001b[0m         \u001b[0;32melse\u001b[0m\u001b[0;34m:\u001b[0m\u001b[0;34m\u001b[0m\u001b[0;34m\u001b[0m\u001b[0m\n\u001b[0;32m--> 493\u001b[0;31m             \u001b[0mresult\u001b[0m \u001b[0;34m=\u001b[0m \u001b[0mself\u001b[0m\u001b[0;34m.\u001b[0m\u001b[0mforward\u001b[0m\u001b[0;34m(\u001b[0m\u001b[0;34m*\u001b[0m\u001b[0minput\u001b[0m\u001b[0;34m,\u001b[0m \u001b[0;34m**\u001b[0m\u001b[0mkwargs\u001b[0m\u001b[0;34m)\u001b[0m\u001b[0;34m\u001b[0m\u001b[0;34m\u001b[0m\u001b[0m\n\u001b[0m\u001b[1;32m    494\u001b[0m         \u001b[0;32mfor\u001b[0m \u001b[0mhook\u001b[0m \u001b[0;32min\u001b[0m \u001b[0mself\u001b[0m\u001b[0;34m.\u001b[0m\u001b[0m_forward_hooks\u001b[0m\u001b[0;34m.\u001b[0m\u001b[0mvalues\u001b[0m\u001b[0;34m(\u001b[0m\u001b[0;34m)\u001b[0m\u001b[0;34m:\u001b[0m\u001b[0;34m\u001b[0m\u001b[0;34m\u001b[0m\u001b[0m\n\u001b[1;32m    495\u001b[0m             \u001b[0mhook_result\u001b[0m \u001b[0;34m=\u001b[0m \u001b[0mhook\u001b[0m\u001b[0;34m(\u001b[0m\u001b[0mself\u001b[0m\u001b[0;34m,\u001b[0m \u001b[0minput\u001b[0m\u001b[0;34m,\u001b[0m \u001b[0mresult\u001b[0m\u001b[0;34m)\u001b[0m\u001b[0;34m\u001b[0m\u001b[0;34m\u001b[0m\u001b[0m\n",
      "\u001b[0;32m<ipython-input-158-44559629333d>\u001b[0m in \u001b[0;36mforward\u001b[0;34m(self, inp)\u001b[0m\n\u001b[1;32m     21\u001b[0m         \u001b[0mhid\u001b[0m \u001b[0;34m=\u001b[0m \u001b[0mself\u001b[0m\u001b[0;34m.\u001b[0m\u001b[0minitHidden\u001b[0m\u001b[0;34m(\u001b[0m\u001b[0mbs\u001b[0m\u001b[0;34m)\u001b[0m\u001b[0;34m\u001b[0m\u001b[0;34m\u001b[0m\u001b[0m\n\u001b[1;32m     22\u001b[0m         \u001b[0memb\u001b[0m \u001b[0;34m=\u001b[0m \u001b[0mself\u001b[0m\u001b[0;34m.\u001b[0m\u001b[0memb_enc_drop\u001b[0m\u001b[0;34m(\u001b[0m\u001b[0mself\u001b[0m\u001b[0;34m.\u001b[0m\u001b[0memb_enc\u001b[0m\u001b[0;34m(\u001b[0m\u001b[0minp\u001b[0m\u001b[0;34m)\u001b[0m\u001b[0;34m)\u001b[0m\u001b[0;34m\u001b[0m\u001b[0;34m\u001b[0m\u001b[0m\n\u001b[0;32m---> 23\u001b[0;31m         \u001b[0menc_out\u001b[0m\u001b[0;34m,\u001b[0m \u001b[0mhid\u001b[0m \u001b[0;34m=\u001b[0m \u001b[0mself\u001b[0m\u001b[0;34m.\u001b[0m\u001b[0mencoder\u001b[0m\u001b[0;34m(\u001b[0m\u001b[0memb\u001b[0m\u001b[0;34m,\u001b[0m \u001b[0mhid\u001b[0m\u001b[0;34m)\u001b[0m\u001b[0;34m\u001b[0m\u001b[0;34m\u001b[0m\u001b[0m\n\u001b[0m\u001b[1;32m     24\u001b[0m         \u001b[0mhid\u001b[0m \u001b[0;34m=\u001b[0m \u001b[0mself\u001b[0m\u001b[0;34m.\u001b[0m\u001b[0mout_enc\u001b[0m\u001b[0;34m(\u001b[0m\u001b[0mself\u001b[0m\u001b[0;34m.\u001b[0m\u001b[0mhid_dp\u001b[0m\u001b[0;34m(\u001b[0m\u001b[0mhid\u001b[0m\u001b[0;34m)\u001b[0m\u001b[0;34m)\u001b[0m\u001b[0;34m\u001b[0m\u001b[0;34m\u001b[0m\u001b[0m\n\u001b[1;32m     25\u001b[0m \u001b[0;34m\u001b[0m\u001b[0m\n",
      "\u001b[0;32m~/anaconda3/envs/my-fastai/lib/python3.6/site-packages/torch/nn/modules/module.py\u001b[0m in \u001b[0;36m__call__\u001b[0;34m(self, *input, **kwargs)\u001b[0m\n\u001b[1;32m    491\u001b[0m             \u001b[0mresult\u001b[0m \u001b[0;34m=\u001b[0m \u001b[0mself\u001b[0m\u001b[0;34m.\u001b[0m\u001b[0m_slow_forward\u001b[0m\u001b[0;34m(\u001b[0m\u001b[0;34m*\u001b[0m\u001b[0minput\u001b[0m\u001b[0;34m,\u001b[0m \u001b[0;34m**\u001b[0m\u001b[0mkwargs\u001b[0m\u001b[0;34m)\u001b[0m\u001b[0;34m\u001b[0m\u001b[0;34m\u001b[0m\u001b[0m\n\u001b[1;32m    492\u001b[0m         \u001b[0;32melse\u001b[0m\u001b[0;34m:\u001b[0m\u001b[0;34m\u001b[0m\u001b[0;34m\u001b[0m\u001b[0m\n\u001b[0;32m--> 493\u001b[0;31m             \u001b[0mresult\u001b[0m \u001b[0;34m=\u001b[0m \u001b[0mself\u001b[0m\u001b[0;34m.\u001b[0m\u001b[0mforward\u001b[0m\u001b[0;34m(\u001b[0m\u001b[0;34m*\u001b[0m\u001b[0minput\u001b[0m\u001b[0;34m,\u001b[0m \u001b[0;34m**\u001b[0m\u001b[0mkwargs\u001b[0m\u001b[0;34m)\u001b[0m\u001b[0;34m\u001b[0m\u001b[0;34m\u001b[0m\u001b[0m\n\u001b[0m\u001b[1;32m    494\u001b[0m         \u001b[0;32mfor\u001b[0m \u001b[0mhook\u001b[0m \u001b[0;32min\u001b[0m \u001b[0mself\u001b[0m\u001b[0;34m.\u001b[0m\u001b[0m_forward_hooks\u001b[0m\u001b[0;34m.\u001b[0m\u001b[0mvalues\u001b[0m\u001b[0;34m(\u001b[0m\u001b[0;34m)\u001b[0m\u001b[0;34m:\u001b[0m\u001b[0;34m\u001b[0m\u001b[0;34m\u001b[0m\u001b[0m\n\u001b[1;32m    495\u001b[0m             \u001b[0mhook_result\u001b[0m \u001b[0;34m=\u001b[0m \u001b[0mhook\u001b[0m\u001b[0;34m(\u001b[0m\u001b[0mself\u001b[0m\u001b[0;34m,\u001b[0m \u001b[0minput\u001b[0m\u001b[0;34m,\u001b[0m \u001b[0mresult\u001b[0m\u001b[0;34m)\u001b[0m\u001b[0;34m\u001b[0m\u001b[0;34m\u001b[0m\u001b[0m\n",
      "\u001b[0;32m~/anaconda3/envs/my-fastai/lib/python3.6/site-packages/fastai/text/models/qrnn.py\u001b[0m in \u001b[0;36mforward\u001b[0;34m(self, inp, hid)\u001b[0m\n\u001b[1;32m    156\u001b[0m         \u001b[0;32mif\u001b[0m \u001b[0mself\u001b[0m\u001b[0;34m.\u001b[0m\u001b[0mbidirectional\u001b[0m\u001b[0;34m:\u001b[0m \u001b[0minp_bwd\u001b[0m \u001b[0;34m=\u001b[0m \u001b[0minp\u001b[0m\u001b[0;34m.\u001b[0m\u001b[0mclone\u001b[0m\u001b[0;34m(\u001b[0m\u001b[0;34m)\u001b[0m\u001b[0;34m\u001b[0m\u001b[0;34m\u001b[0m\u001b[0m\n\u001b[1;32m    157\u001b[0m         \u001b[0;32mfor\u001b[0m \u001b[0mi\u001b[0m\u001b[0;34m,\u001b[0m \u001b[0mlayer\u001b[0m \u001b[0;32min\u001b[0m \u001b[0menumerate\u001b[0m\u001b[0;34m(\u001b[0m\u001b[0mself\u001b[0m\u001b[0;34m.\u001b[0m\u001b[0mlayers\u001b[0m\u001b[0;34m)\u001b[0m\u001b[0;34m:\u001b[0m\u001b[0;34m\u001b[0m\u001b[0;34m\u001b[0m\u001b[0m\n\u001b[0;32m--> 158\u001b[0;31m             \u001b[0minp\u001b[0m\u001b[0;34m,\u001b[0m \u001b[0mh\u001b[0m \u001b[0;34m=\u001b[0m \u001b[0mlayer\u001b[0m\u001b[0;34m(\u001b[0m\u001b[0minp\u001b[0m\u001b[0;34m,\u001b[0m \u001b[0;32mNone\u001b[0m \u001b[0;32mif\u001b[0m \u001b[0mhid\u001b[0m \u001b[0;32mis\u001b[0m \u001b[0;32mNone\u001b[0m \u001b[0;32melse\u001b[0m \u001b[0mhid\u001b[0m\u001b[0;34m[\u001b[0m\u001b[0;36m2\u001b[0m\u001b[0;34m*\u001b[0m\u001b[0mi\u001b[0m \u001b[0;32mif\u001b[0m \u001b[0mself\u001b[0m\u001b[0;34m.\u001b[0m\u001b[0mbidirectional\u001b[0m \u001b[0;32melse\u001b[0m \u001b[0mi\u001b[0m\u001b[0;34m]\u001b[0m\u001b[0;34m)\u001b[0m\u001b[0;34m\u001b[0m\u001b[0;34m\u001b[0m\u001b[0m\n\u001b[0m\u001b[1;32m    159\u001b[0m             \u001b[0mnew_hid\u001b[0m\u001b[0;34m.\u001b[0m\u001b[0mappend\u001b[0m\u001b[0;34m(\u001b[0m\u001b[0mh\u001b[0m\u001b[0;34m)\u001b[0m\u001b[0;34m\u001b[0m\u001b[0;34m\u001b[0m\u001b[0m\n\u001b[1;32m    160\u001b[0m             \u001b[0;32mif\u001b[0m \u001b[0mself\u001b[0m\u001b[0;34m.\u001b[0m\u001b[0mbidirectional\u001b[0m\u001b[0;34m:\u001b[0m\u001b[0;34m\u001b[0m\u001b[0;34m\u001b[0m\u001b[0m\n",
      "\u001b[0;32m~/anaconda3/envs/my-fastai/lib/python3.6/site-packages/torch/nn/modules/module.py\u001b[0m in \u001b[0;36m__call__\u001b[0;34m(self, *input, **kwargs)\u001b[0m\n\u001b[1;32m    491\u001b[0m             \u001b[0mresult\u001b[0m \u001b[0;34m=\u001b[0m \u001b[0mself\u001b[0m\u001b[0;34m.\u001b[0m\u001b[0m_slow_forward\u001b[0m\u001b[0;34m(\u001b[0m\u001b[0;34m*\u001b[0m\u001b[0minput\u001b[0m\u001b[0;34m,\u001b[0m \u001b[0;34m**\u001b[0m\u001b[0mkwargs\u001b[0m\u001b[0;34m)\u001b[0m\u001b[0;34m\u001b[0m\u001b[0;34m\u001b[0m\u001b[0m\n\u001b[1;32m    492\u001b[0m         \u001b[0;32melse\u001b[0m\u001b[0;34m:\u001b[0m\u001b[0;34m\u001b[0m\u001b[0;34m\u001b[0m\u001b[0m\n\u001b[0;32m--> 493\u001b[0;31m             \u001b[0mresult\u001b[0m \u001b[0;34m=\u001b[0m \u001b[0mself\u001b[0m\u001b[0;34m.\u001b[0m\u001b[0mforward\u001b[0m\u001b[0;34m(\u001b[0m\u001b[0;34m*\u001b[0m\u001b[0minput\u001b[0m\u001b[0;34m,\u001b[0m \u001b[0;34m**\u001b[0m\u001b[0mkwargs\u001b[0m\u001b[0;34m)\u001b[0m\u001b[0;34m\u001b[0m\u001b[0;34m\u001b[0m\u001b[0m\n\u001b[0m\u001b[1;32m    494\u001b[0m         \u001b[0;32mfor\u001b[0m \u001b[0mhook\u001b[0m \u001b[0;32min\u001b[0m \u001b[0mself\u001b[0m\u001b[0;34m.\u001b[0m\u001b[0m_forward_hooks\u001b[0m\u001b[0;34m.\u001b[0m\u001b[0mvalues\u001b[0m\u001b[0;34m(\u001b[0m\u001b[0;34m)\u001b[0m\u001b[0;34m:\u001b[0m\u001b[0;34m\u001b[0m\u001b[0;34m\u001b[0m\u001b[0m\n\u001b[1;32m    495\u001b[0m             \u001b[0mhook_result\u001b[0m \u001b[0;34m=\u001b[0m \u001b[0mhook\u001b[0m\u001b[0;34m(\u001b[0m\u001b[0mself\u001b[0m\u001b[0;34m,\u001b[0m \u001b[0minput\u001b[0m\u001b[0;34m,\u001b[0m \u001b[0mresult\u001b[0m\u001b[0;34m)\u001b[0m\u001b[0;34m\u001b[0m\u001b[0;34m\u001b[0m\u001b[0m\n",
      "\u001b[0;32m~/anaconda3/envs/my-fastai/lib/python3.6/site-packages/fastai/text/models/qrnn.py\u001b[0m in \u001b[0;36mforward\u001b[0;34m(self, inp, hid)\u001b[0m\n\u001b[1;32m     99\u001b[0m \u001b[0;34m\u001b[0m\u001b[0m\n\u001b[1;32m    100\u001b[0m     \u001b[0;32mdef\u001b[0m \u001b[0mforward\u001b[0m\u001b[0;34m(\u001b[0m\u001b[0mself\u001b[0m\u001b[0;34m,\u001b[0m \u001b[0minp\u001b[0m\u001b[0;34m,\u001b[0m \u001b[0mhid\u001b[0m\u001b[0;34m=\u001b[0m\u001b[0;32mNone\u001b[0m\u001b[0;34m)\u001b[0m\u001b[0;34m:\u001b[0m\u001b[0;34m\u001b[0m\u001b[0;34m\u001b[0m\u001b[0m\n\u001b[0;32m--> 101\u001b[0;31m         \u001b[0my\u001b[0m \u001b[0;34m=\u001b[0m \u001b[0mself\u001b[0m\u001b[0;34m.\u001b[0m\u001b[0mlinear\u001b[0m\u001b[0;34m(\u001b[0m\u001b[0mself\u001b[0m\u001b[0;34m.\u001b[0m\u001b[0m_get_source\u001b[0m\u001b[0;34m(\u001b[0m\u001b[0minp\u001b[0m\u001b[0;34m)\u001b[0m\u001b[0;34m)\u001b[0m\u001b[0;34m\u001b[0m\u001b[0;34m\u001b[0m\u001b[0m\n\u001b[0m\u001b[1;32m    102\u001b[0m         \u001b[0;32mif\u001b[0m \u001b[0mself\u001b[0m\u001b[0;34m.\u001b[0m\u001b[0moutput_gate\u001b[0m\u001b[0;34m:\u001b[0m \u001b[0mz_gate\u001b[0m\u001b[0;34m,\u001b[0m\u001b[0mf_gate\u001b[0m\u001b[0;34m,\u001b[0m\u001b[0mo_gate\u001b[0m \u001b[0;34m=\u001b[0m \u001b[0my\u001b[0m\u001b[0;34m.\u001b[0m\u001b[0mchunk\u001b[0m\u001b[0;34m(\u001b[0m\u001b[0;36m3\u001b[0m\u001b[0;34m,\u001b[0m \u001b[0mdim\u001b[0m\u001b[0;34m=\u001b[0m\u001b[0;36m2\u001b[0m\u001b[0;34m)\u001b[0m\u001b[0;34m\u001b[0m\u001b[0;34m\u001b[0m\u001b[0m\n\u001b[1;32m    103\u001b[0m         \u001b[0;32melse\u001b[0m\u001b[0;34m:\u001b[0m                \u001b[0mz_gate\u001b[0m\u001b[0;34m,\u001b[0m\u001b[0mf_gate\u001b[0m        \u001b[0;34m=\u001b[0m \u001b[0my\u001b[0m\u001b[0;34m.\u001b[0m\u001b[0mchunk\u001b[0m\u001b[0;34m(\u001b[0m\u001b[0;36m2\u001b[0m\u001b[0;34m,\u001b[0m \u001b[0mdim\u001b[0m\u001b[0;34m=\u001b[0m\u001b[0;36m2\u001b[0m\u001b[0;34m)\u001b[0m\u001b[0;34m\u001b[0m\u001b[0;34m\u001b[0m\u001b[0m\n",
      "\u001b[0;32m~/anaconda3/envs/my-fastai/lib/python3.6/site-packages/torch/nn/modules/module.py\u001b[0m in \u001b[0;36m__call__\u001b[0;34m(self, *input, **kwargs)\u001b[0m\n\u001b[1;32m    491\u001b[0m             \u001b[0mresult\u001b[0m \u001b[0;34m=\u001b[0m \u001b[0mself\u001b[0m\u001b[0;34m.\u001b[0m\u001b[0m_slow_forward\u001b[0m\u001b[0;34m(\u001b[0m\u001b[0;34m*\u001b[0m\u001b[0minput\u001b[0m\u001b[0;34m,\u001b[0m \u001b[0;34m**\u001b[0m\u001b[0mkwargs\u001b[0m\u001b[0;34m)\u001b[0m\u001b[0;34m\u001b[0m\u001b[0;34m\u001b[0m\u001b[0m\n\u001b[1;32m    492\u001b[0m         \u001b[0;32melse\u001b[0m\u001b[0;34m:\u001b[0m\u001b[0;34m\u001b[0m\u001b[0;34m\u001b[0m\u001b[0m\n\u001b[0;32m--> 493\u001b[0;31m             \u001b[0mresult\u001b[0m \u001b[0;34m=\u001b[0m \u001b[0mself\u001b[0m\u001b[0;34m.\u001b[0m\u001b[0mforward\u001b[0m\u001b[0;34m(\u001b[0m\u001b[0;34m*\u001b[0m\u001b[0minput\u001b[0m\u001b[0;34m,\u001b[0m \u001b[0;34m**\u001b[0m\u001b[0mkwargs\u001b[0m\u001b[0;34m)\u001b[0m\u001b[0;34m\u001b[0m\u001b[0;34m\u001b[0m\u001b[0m\n\u001b[0m\u001b[1;32m    494\u001b[0m         \u001b[0;32mfor\u001b[0m \u001b[0mhook\u001b[0m \u001b[0;32min\u001b[0m \u001b[0mself\u001b[0m\u001b[0;34m.\u001b[0m\u001b[0m_forward_hooks\u001b[0m\u001b[0;34m.\u001b[0m\u001b[0mvalues\u001b[0m\u001b[0;34m(\u001b[0m\u001b[0;34m)\u001b[0m\u001b[0;34m:\u001b[0m\u001b[0;34m\u001b[0m\u001b[0;34m\u001b[0m\u001b[0m\n\u001b[1;32m    495\u001b[0m             \u001b[0mhook_result\u001b[0m \u001b[0;34m=\u001b[0m \u001b[0mhook\u001b[0m\u001b[0;34m(\u001b[0m\u001b[0mself\u001b[0m\u001b[0;34m,\u001b[0m \u001b[0minput\u001b[0m\u001b[0;34m,\u001b[0m \u001b[0mresult\u001b[0m\u001b[0;34m)\u001b[0m\u001b[0;34m\u001b[0m\u001b[0;34m\u001b[0m\u001b[0m\n",
      "\u001b[0;32m~/anaconda3/envs/my-fastai/lib/python3.6/site-packages/torch/nn/modules/linear.py\u001b[0m in \u001b[0;36mforward\u001b[0;34m(self, input)\u001b[0m\n\u001b[1;32m     90\u001b[0m     \u001b[0;34m@\u001b[0m\u001b[0mweak_script_method\u001b[0m\u001b[0;34m\u001b[0m\u001b[0;34m\u001b[0m\u001b[0m\n\u001b[1;32m     91\u001b[0m     \u001b[0;32mdef\u001b[0m \u001b[0mforward\u001b[0m\u001b[0;34m(\u001b[0m\u001b[0mself\u001b[0m\u001b[0;34m,\u001b[0m \u001b[0minput\u001b[0m\u001b[0;34m)\u001b[0m\u001b[0;34m:\u001b[0m\u001b[0;34m\u001b[0m\u001b[0;34m\u001b[0m\u001b[0m\n\u001b[0;32m---> 92\u001b[0;31m         \u001b[0;32mreturn\u001b[0m \u001b[0mF\u001b[0m\u001b[0;34m.\u001b[0m\u001b[0mlinear\u001b[0m\u001b[0;34m(\u001b[0m\u001b[0minput\u001b[0m\u001b[0;34m,\u001b[0m \u001b[0mself\u001b[0m\u001b[0;34m.\u001b[0m\u001b[0mweight\u001b[0m\u001b[0;34m,\u001b[0m \u001b[0mself\u001b[0m\u001b[0;34m.\u001b[0m\u001b[0mbias\u001b[0m\u001b[0;34m)\u001b[0m\u001b[0;34m\u001b[0m\u001b[0;34m\u001b[0m\u001b[0m\n\u001b[0m\u001b[1;32m     93\u001b[0m \u001b[0;34m\u001b[0m\u001b[0m\n\u001b[1;32m     94\u001b[0m     \u001b[0;32mdef\u001b[0m \u001b[0mextra_repr\u001b[0m\u001b[0;34m(\u001b[0m\u001b[0mself\u001b[0m\u001b[0;34m)\u001b[0m\u001b[0;34m:\u001b[0m\u001b[0;34m\u001b[0m\u001b[0;34m\u001b[0m\u001b[0m\n",
      "\u001b[0;32m~/anaconda3/envs/my-fastai/lib/python3.6/site-packages/torch/nn/functional.py\u001b[0m in \u001b[0;36mlinear\u001b[0;34m(input, weight, bias)\u001b[0m\n\u001b[1;32m   1406\u001b[0m         \u001b[0mret\u001b[0m \u001b[0;34m=\u001b[0m \u001b[0mtorch\u001b[0m\u001b[0;34m.\u001b[0m\u001b[0maddmm\u001b[0m\u001b[0;34m(\u001b[0m\u001b[0mbias\u001b[0m\u001b[0;34m,\u001b[0m \u001b[0minput\u001b[0m\u001b[0;34m,\u001b[0m \u001b[0mweight\u001b[0m\u001b[0;34m.\u001b[0m\u001b[0mt\u001b[0m\u001b[0;34m(\u001b[0m\u001b[0;34m)\u001b[0m\u001b[0;34m)\u001b[0m\u001b[0;34m\u001b[0m\u001b[0;34m\u001b[0m\u001b[0m\n\u001b[1;32m   1407\u001b[0m     \u001b[0;32melse\u001b[0m\u001b[0;34m:\u001b[0m\u001b[0;34m\u001b[0m\u001b[0;34m\u001b[0m\u001b[0m\n\u001b[0;32m-> 1408\u001b[0;31m         \u001b[0moutput\u001b[0m \u001b[0;34m=\u001b[0m \u001b[0minput\u001b[0m\u001b[0;34m.\u001b[0m\u001b[0mmatmul\u001b[0m\u001b[0;34m(\u001b[0m\u001b[0mweight\u001b[0m\u001b[0;34m.\u001b[0m\u001b[0mt\u001b[0m\u001b[0;34m(\u001b[0m\u001b[0;34m)\u001b[0m\u001b[0;34m)\u001b[0m\u001b[0;34m\u001b[0m\u001b[0;34m\u001b[0m\u001b[0m\n\u001b[0m\u001b[1;32m   1409\u001b[0m         \u001b[0;32mif\u001b[0m \u001b[0mbias\u001b[0m \u001b[0;32mis\u001b[0m \u001b[0;32mnot\u001b[0m \u001b[0;32mNone\u001b[0m\u001b[0;34m:\u001b[0m\u001b[0;34m\u001b[0m\u001b[0;34m\u001b[0m\u001b[0m\n\u001b[1;32m   1410\u001b[0m             \u001b[0moutput\u001b[0m \u001b[0;34m+=\u001b[0m \u001b[0mbias\u001b[0m\u001b[0;34m\u001b[0m\u001b[0;34m\u001b[0m\u001b[0m\n",
      "\u001b[0;31mKeyboardInterrupt\u001b[0m: "
     ]
    }
   ],
   "source": [
    "learn.fit(1, cbs=cbsched)"
   ]
  },
  {
   "cell_type": "markdown",
   "metadata": {},
   "source": [
    "Model is not learning anything at the moment. `Investigate`"
   ]
  },
  {
   "cell_type": "code",
   "execution_count": null,
   "metadata": {},
   "outputs": [],
   "source": []
  },
  {
   "cell_type": "markdown",
   "metadata": {},
   "source": [
    "#### Get predictions"
   ]
  },
  {
   "cell_type": "code",
   "execution_count": 110,
   "metadata": {},
   "outputs": [],
   "source": [
    "x,y = next(iter(learn.data.train_dl))"
   ]
  },
  {
   "cell_type": "code",
   "execution_count": 111,
   "metadata": {},
   "outputs": [
    {
     "data": {
      "text/plain": [
       "(torch.Size([64, 120]), torch.Size([64, 158]))"
      ]
     },
     "execution_count": 111,
     "metadata": {},
     "output_type": "execute_result"
    }
   ],
   "source": [
    "x.shape, y.shape"
   ]
  },
  {
   "cell_type": "code",
   "execution_count": 112,
   "metadata": {},
   "outputs": [
    {
     "data": {
      "text/plain": [
       "Seq2SeqQRNN(\n",
       "  (emb_enc): Embedding(11580, 300, padding_idx=1)\n",
       "  (emb_enc_drop): Dropout(p=0.15)\n",
       "  (encoder): QRNN(\n",
       "    (layers): ModuleList(\n",
       "      (0): QRNNLayer(\n",
       "        (linear): Linear(in_features=600, out_features=768, bias=True)\n",
       "      )\n",
       "      (1): QRNNLayer(\n",
       "        (linear): Linear(in_features=256, out_features=768, bias=True)\n",
       "      )\n",
       "    )\n",
       "  )\n",
       "  (out_enc): Linear(in_features=256, out_features=300, bias=False)\n",
       "  (hid_dp): Dropout(p=0.05)\n",
       "  (emb_dec): Embedding(15147, 300, padding_idx=1)\n",
       "  (decoder): QRNN(\n",
       "    (layers): ModuleList(\n",
       "      (0): QRNNLayer(\n",
       "        (linear): Linear(in_features=600, out_features=900, bias=True)\n",
       "      )\n",
       "      (1): QRNNLayer(\n",
       "        (linear): Linear(in_features=300, out_features=900, bias=True)\n",
       "      )\n",
       "    )\n",
       "  )\n",
       "  (out_drop): Dropout(p=0.35)\n",
       "  (out): Linear(in_features=300, out_features=15147, bias=True)\n",
       ")"
      ]
     },
     "execution_count": 112,
     "metadata": {},
     "output_type": "execute_result"
    }
   ],
   "source": [
    "learn.model.eval()"
   ]
  },
  {
   "cell_type": "code",
   "execution_count": 113,
   "metadata": {},
   "outputs": [],
   "source": [
    "out = learn.model(x)"
   ]
  },
  {
   "cell_type": "code",
   "execution_count": 114,
   "metadata": {},
   "outputs": [
    {
     "data": {
      "text/plain": [
       "torch.Size([64, 1, 15147])"
      ]
     },
     "execution_count": 114,
     "metadata": {},
     "output_type": "execute_result"
    }
   ],
   "source": [
    "out.shape"
   ]
  },
  {
   "cell_type": "code",
   "execution_count": null,
   "metadata": {},
   "outputs": [],
   "source": [
    "learn.model.train()"
   ]
  },
  {
   "cell_type": "code",
   "execution_count": null,
   "metadata": {},
   "outputs": [],
   "source": []
  },
  {
   "cell_type": "code",
   "execution_count": null,
   "metadata": {},
   "outputs": [],
   "source": []
  },
  {
   "cell_type": "code",
   "execution_count": null,
   "metadata": {},
   "outputs": [],
   "source": []
  },
  {
   "cell_type": "code",
   "execution_count": null,
   "metadata": {},
   "outputs": [],
   "source": []
  },
  {
   "cell_type": "code",
   "execution_count": 122,
   "metadata": {},
   "outputs": [],
   "source": [
    "def get_predictions(learn):\n",
    "    learn.model.eval()\n",
    "    inputs, targets, outputs = [],[],[]\n",
    "    \n",
    "    with torch.no_grad():\n",
    "        for xb,yb in progress_bar(learn.data.valid_dl):\n",
    "            print(f\"inps: {xb.shape}\")\n",
    "            out = learn.model(xb)\n",
    "            print(f\"outs: {out.shape}\")\n",
    "            for x in xb:\n",
    "                inputs.append(learn.data.train_dl.dataset.obj([x],0, learn.data.train_dl.dataset.proc_x))\n",
    "#                 targets.append(learn.data.train_dl.dataset.obj([y],0, learn.data.train_dl.dataset.proc_y))\n",
    "#                 outputs.append(learn.data.train_dl.dataset.obj([z.argmax(1)],0, learn.data.train_dl.dataset.proc_y))\n",
    "                \n",
    "            for y in yb:\n",
    "#                 inputs.append(learn.data.train_dl.dataset.obj([x],0, learn.data.train_dl.dataset.proc_x))\n",
    "                targets.append(learn.data.train_dl.dataset.obj([y],0, learn.data.train_dl.dataset.proc_y))\n",
    "#                 outputs.append(learn.data.train_dl.dataset.obj([z.argmax(1)],0, learn.data.train_dl.dataset.proc_y))\n",
    "                \n",
    "            for z in out:\n",
    "#                 inputs.append(learn.data.train_dl.dataset.obj([x],0, learn.data.train_dl.dataset.proc_x))\n",
    "#                 targets.append(learn.data.train_dl.dataset.obj([y],0, learn.data.train_dl.dataset.proc_y))\n",
    "                outputs.append(learn.data.train_dl.dataset.obj([z.argmax(1)],0, learn.data.train_dl.dataset.proc_y))\n",
    "\n",
    "    return inputs, targets, outputs"
   ]
  },
  {
   "cell_type": "code",
   "execution_count": 123,
   "metadata": {
    "scrolled": true
   },
   "outputs": [
    {
     "data": {
      "text/html": [
       "\n",
       "    <div>\n",
       "        <style>\n",
       "            /* Turns off some styling */\n",
       "            progress {\n",
       "                /* gets rid of default border in Firefox and Opera. */\n",
       "                border: none;\n",
       "                /* Needs to be in here for Safari polyfill so background images work as expected. */\n",
       "                background-size: auto;\n",
       "            }\n",
       "            .progress-bar-interrupted, .progress-bar-interrupted::-webkit-progress-bar {\n",
       "                background: #F44336;\n",
       "            }\n",
       "        </style>\n",
       "      <progress value='19' class='' max='19', style='width:300px; height:20px; vertical-align: middle;'></progress>\n",
       "      100.00% [19/19 00:02<00:00]\n",
       "    </div>\n",
       "    "
      ],
      "text/plain": [
       "<IPython.core.display.HTML object>"
      ]
     },
     "metadata": {},
     "output_type": "display_data"
    },
    {
     "name": "stdout",
     "output_type": "stream",
     "text": [
      "inps: torch.Size([128, 56])\n",
      "outs: torch.Size([128, 1, 15147])\n",
      "inps: torch.Size([128, 24])\n",
      "outs: torch.Size([128, 1, 15147])\n",
      "inps: torch.Size([128, 22])\n",
      "outs: torch.Size([128, 1, 15147])\n",
      "inps: torch.Size([128, 20])\n",
      "outs: torch.Size([128, 1, 15147])\n",
      "inps: torch.Size([128, 19])\n",
      "outs: torch.Size([128, 1, 15147])\n",
      "inps: torch.Size([128, 18])\n",
      "outs: torch.Size([128, 1, 15147])\n",
      "inps: torch.Size([128, 17])\n",
      "outs: torch.Size([128, 1, 15147])\n",
      "inps: torch.Size([128, 16])\n",
      "outs: torch.Size([128, 1, 15147])\n",
      "inps: torch.Size([128, 15])\n",
      "outs: torch.Size([128, 1, 15147])\n",
      "inps: torch.Size([128, 15])\n",
      "outs: torch.Size([128, 1, 15147])\n",
      "inps: torch.Size([128, 14])\n",
      "outs: torch.Size([128, 1, 15147])\n",
      "inps: torch.Size([128, 13])\n",
      "outs: torch.Size([128, 1, 15147])\n",
      "inps: torch.Size([128, 12])\n",
      "outs: torch.Size([128, 1, 15147])\n",
      "inps: torch.Size([128, 12])\n",
      "outs: torch.Size([128, 1, 15147])\n",
      "inps: torch.Size([128, 11])\n",
      "outs: torch.Size([128, 1, 15147])\n",
      "inps: torch.Size([128, 10])\n",
      "outs: torch.Size([128, 1, 15147])\n",
      "inps: torch.Size([128, 10])\n",
      "outs: torch.Size([128, 1, 15147])\n",
      "inps: torch.Size([128, 9])\n",
      "outs: torch.Size([128, 1, 15147])\n",
      "inps: torch.Size([21, 7])\n",
      "outs: torch.Size([21, 1, 15147])\n"
     ]
    }
   ],
   "source": [
    "inputs, targets, outputs = get_predictions(learn)"
   ]
  },
  {
   "cell_type": "markdown",
   "metadata": {},
   "source": [
    "model is only predicting xpad at which point, it stops producing next tokens. Something is wrong, Not sure what"
   ]
  },
  {
   "cell_type": "code",
   "execution_count": 286,
   "metadata": {},
   "outputs": [
    {
     "data": {
      "text/plain": [
       "(['xxbos xxmaj what is the opinion of the federal , provincial and municipal governments as to the effect of current and proposed trade and investment agreements such as nafta , ftaa and the xxunk on their ability to fulfill obligations under the xxmaj covenant and what processes have been put in place to review these questions ? xxeos',\n",
       "  'xxbos xxmaj what does the xxmaj office of the xxmaj superintendent of xxmaj bankruptcy mean by the term \" xxmaj trustee \" in xxmaj part 1 of the xxmaj annual xxmaj banking xxmaj report ( abr ) xxmaj form ( xxmaj schedule 3 of directive xxunk ) , and which trustee license numbers should be included ? xxeos'],\n",
       " [\"xxbos xxmaj quel est l' avis du xxmaj gouvernement fédéral et des gouvernements provinciaux et municipaux quant à l' effet des accords sur le commerce et les investissements actuels ou envisagés tels que l' xxmaj accord de libre-échange nord-américain , la zone de libre-échange des xxmaj amériques et l' xxmaj accord multilatéral sur l' investissement , sur leur capacité à s' acquitter de leurs obligations en vertu du xxmaj pacte et quelles ont été les procédures mises en place pour examiner ces questions ? xxeos\",\n",
       "  \"xxbos xxmaj dans la partie 1 du formulaire du xxmaj rapport bancaire annuel ( annexe 3 de la xxmaj directive xxunk ) , qu' est -ce que le xxmaj bureau du xxunk des faillites ( bsf ) veut dire en utilisant « syndic » dans la xxmaj déclaration du syndic et quels numéros de licence de syndic doivent être inclus ? xxeos xxpad xxpad xxpad xxpad xxpad xxpad xxpad xxpad xxpad xxpad xxpad xxpad xxpad xxpad xxpad xxpad xxpad xxpad xxpad xxpad xxpad xxpad xxpad\"],\n",
       " ['xxpad', 'xxpad'])"
      ]
     },
     "execution_count": 286,
     "metadata": {},
     "output_type": "execute_result"
    }
   ],
   "source": [
    "inputs[:2], targets[:2], outputs[:2]"
   ]
  },
  {
   "cell_type": "code",
   "execution_count": 124,
   "metadata": {},
   "outputs": [
    {
     "data": {
      "text/plain": [
       "(2325, 2325, 2325)"
      ]
     },
     "execution_count": 124,
     "metadata": {},
     "output_type": "execute_result"
    }
   ],
   "source": [
    "len(inputs), len(targets), len(outputs)"
   ]
  },
  {
   "cell_type": "code",
   "execution_count": 125,
   "metadata": {},
   "outputs": [
    {
     "data": {
      "text/plain": [
       "('xxbos xxmaj where additional mitigating controls have been put in place , is management satisfied that these controls are effective and that the risks involved have been reduced to an acceptable level ( considering impact and likelihood of the risk ) ? xxeos xxpad xxpad xxpad xxpad xxpad xxpad xxpad xxpad xxpad xxpad xxpad xxpad xxpad',\n",
       " \"xxbos xxmaj lorsque des fonctions sensibles ont été retirées et transférées à un autre membre du personnel , l' encadrement a -t -il pu établir que les risques associés avaient bien été efficacement atténués ? xxeos xxpad xxpad xxpad xxpad xxpad xxpad xxpad xxpad xxpad xxpad xxpad xxpad xxpad xxpad xxpad xxpad xxpad xxpad xxpad xxpad xxpad xxpad xxpad xxpad xxpad xxpad xxpad xxpad xxpad xxpad xxpad xxpad\",\n",
       " 'xxpad')"
      ]
     },
     "execution_count": 125,
     "metadata": {},
     "output_type": "execute_result"
    }
   ],
   "source": [
    "seek = 3\n",
    "inputs[seek], targets[seek], outputs[seek]"
   ]
  },
  {
   "cell_type": "code",
   "execution_count": 126,
   "metadata": {},
   "outputs": [
    {
     "data": {
      "text/plain": [
       "('xxbos xxmaj what was the level of collaboration on climate change between the two levels of government prior to the inception of oe ? xxeos xxpad xxpad xxpad xxpad xxpad xxpad xxpad xxpad xxpad xxpad xxpad xxpad xxpad xxpad xxpad xxpad xxpad xxpad xxpad xxpad xxpad xxpad xxpad xxpad xxpad xxpad xxpad xxpad xxpad xxpad xxpad',\n",
       " 'xxbos xxmaj quel a été le niveau de collaboration en matière de changements climatiques entre les deux ordres de gouvernement avant la mise en œuvre de l’ enp ? xxeos xxpad xxpad xxpad xxpad xxpad xxpad xxpad xxpad xxpad xxpad xxpad xxpad xxpad xxpad xxpad xxpad xxpad xxpad xxpad xxpad xxpad xxpad xxpad xxpad xxpad xxpad xxpad xxpad xxpad xxpad xxpad xxpad xxpad xxpad xxpad xxpad xxpad xxpad',\n",
       " 'xxpad')"
      ]
     },
     "execution_count": 126,
     "metadata": {},
     "output_type": "execute_result"
    }
   ],
   "source": [
    "seek = 100\n",
    "inputs[seek], targets[seek], outputs[seek]"
   ]
  },
  {
   "cell_type": "code",
   "execution_count": null,
   "metadata": {},
   "outputs": [],
   "source": []
  },
  {
   "cell_type": "markdown",
   "metadata": {},
   "source": [
    "### Debugging the model "
   ]
  },
  {
   "cell_type": "code",
   "execution_count": null,
   "metadata": {},
   "outputs": [],
   "source": [
    "nn.Embedding(19110,300)"
   ]
  },
  {
   "cell_type": "code",
   "execution_count": null,
   "metadata": {},
   "outputs": [],
   "source": []
  },
  {
   "cell_type": "code",
   "execution_count": 218,
   "metadata": {},
   "outputs": [
    {
     "data": {
      "text/plain": [
       "Embedding(11268, 300, padding_idx=1)"
      ]
     },
     "execution_count": 218,
     "metadata": {},
     "output_type": "execute_result"
    }
   ],
   "source": [
    "learn.model.emb_enc"
   ]
  },
  {
   "cell_type": "code",
   "execution_count": null,
   "metadata": {},
   "outputs": [],
   "source": [
    "en_vocab.index(\"country\")"
   ]
  },
  {
   "cell_type": "code",
   "execution_count": null,
   "metadata": {},
   "outputs": [],
   "source": [
    "learn.model.eval()"
   ]
  },
  {
   "cell_type": "code",
   "execution_count": null,
   "metadata": {
    "scrolled": true
   },
   "outputs": [],
   "source": [
    "learn.model.emb_enc(tensor(10)).data.numpy()"
   ]
  },
  {
   "cell_type": "code",
   "execution_count": null,
   "metadata": {},
   "outputs": [],
   "source": [
    "def get_emb_vec(word, emb, vocab):\n",
    "    return emb(tensor(vocab.index(\"what\"))).data.numpy()"
   ]
  },
  {
   "cell_type": "code",
   "execution_count": null,
   "metadata": {},
   "outputs": [],
   "source": [
    "countries_vec = get_emb_vec(\"countries\", emb_enc, vocab=en_vocab)"
   ]
  },
  {
   "cell_type": "code",
   "execution_count": null,
   "metadata": {},
   "outputs": [],
   "source": [
    "country_vec = get_emb_vec(\"country\", emb_enc, vocab=en_vocab)"
   ]
  },
  {
   "cell_type": "code",
   "execution_count": null,
   "metadata": {},
   "outputs": [],
   "source": []
  },
  {
   "cell_type": "code",
   "execution_count": null,
   "metadata": {},
   "outputs": [],
   "source": [
    "result = 1 - spatial.distance.cosine(countries_vec, country_vec)\n",
    "result"
   ]
  },
  {
   "cell_type": "code",
   "execution_count": null,
   "metadata": {},
   "outputs": [],
   "source": [
    "def get_word_similarity(word_A, word_B, vocab=en_vocab):\n",
    "    A_vec = get_emb_vec(word_A, vocab=vocab)\n",
    "    B_vec = get_emb_vec(word_A, vocab=vocab)\n",
    "    result = 1 - spatial.distance.cosine(countries_vec, country_vec)\n",
    "    return result"
   ]
  },
  {
   "cell_type": "code",
   "execution_count": null,
   "metadata": {},
   "outputs": [],
   "source": [
    "get_word_similarity(\"countries\", \"country\", vocab=en_vocab)"
   ]
  },
  {
   "cell_type": "code",
   "execution_count": null,
   "metadata": {},
   "outputs": [],
   "source": [
    "get_word_similarity(\"he\", \"dog\", vocab=en_vocab)"
   ]
  },
  {
   "cell_type": "code",
   "execution_count": null,
   "metadata": {},
   "outputs": [],
   "source": [
    "learn.model.emb_enc.weight.data.numpy()"
   ]
  },
  {
   "cell_type": "code",
   "execution_count": null,
   "metadata": {},
   "outputs": [],
   "source": [
    "en_vocab.index(\"she\")"
   ]
  },
  {
   "cell_type": "code",
   "execution_count": 290,
   "metadata": {},
   "outputs": [
    {
     "data": {
      "text/plain": [
       "(0.00020116309, 0.23975705)"
      ]
     },
     "execution_count": 290,
     "metadata": {},
     "output_type": "execute_result"
    }
   ],
   "source": [
    "learn.model.emb_enc.weight.data.numpy().mean(), learn.model.emb_enc.weight.data.numpy().std()"
   ]
  },
  {
   "cell_type": "code",
   "execution_count": 291,
   "metadata": {},
   "outputs": [
    {
     "data": {
      "text/plain": [
       "(-0.0008780555, 0.24237052)"
      ]
     },
     "execution_count": 291,
     "metadata": {},
     "output_type": "execute_result"
    }
   ],
   "source": [
    "learn.model.emb_dec.weight.data.numpy().mean(), learn.model.emb_dec.weight.data.numpy().std()"
   ]
  },
  {
   "cell_type": "code",
   "execution_count": 292,
   "metadata": {},
   "outputs": [],
   "source": [
    "test_embedding = nn.Embedding(11268,300)"
   ]
  },
  {
   "cell_type": "code",
   "execution_count": 293,
   "metadata": {},
   "outputs": [
    {
     "data": {
      "text/plain": [
       "(0.00043479208, 1.00023)"
      ]
     },
     "execution_count": 293,
     "metadata": {},
     "output_type": "execute_result"
    }
   ],
   "source": [
    "test_embedding.weight.data.numpy().mean(), test_embedding.weight.data.numpy().std()"
   ]
  },
  {
   "cell_type": "markdown",
   "metadata": {},
   "source": [
    "Checking if the model has learnt by calculating the loss from learned and a new untrained model"
   ]
  },
  {
   "cell_type": "code",
   "execution_count": 234,
   "metadata": {},
   "outputs": [],
   "source": [
    "x,y = next(iter(data.train_dl))"
   ]
  },
  {
   "cell_type": "code",
   "execution_count": 235,
   "metadata": {},
   "outputs": [
    {
     "data": {
      "text/plain": [
       "(torch.Size([64, 179]), torch.Size([64, 177]))"
      ]
     },
     "execution_count": 235,
     "metadata": {},
     "output_type": "execute_result"
    }
   ],
   "source": [
    "x.shape, y.shape"
   ]
  },
  {
   "cell_type": "code",
   "execution_count": 236,
   "metadata": {},
   "outputs": [],
   "source": [
    "model = Seq2SeqQRNN(emb_enc, emb_dec, 256, 30, n_layers=2)"
   ]
  },
  {
   "cell_type": "code",
   "execution_count": 237,
   "metadata": {
    "scrolled": false
   },
   "outputs": [],
   "source": [
    "outs = model(x)"
   ]
  },
  {
   "cell_type": "code",
   "execution_count": 238,
   "metadata": {},
   "outputs": [
    {
     "data": {
      "text/plain": [
       "torch.Size([64, 30, 14716])"
      ]
     },
     "execution_count": 238,
     "metadata": {},
     "output_type": "execute_result"
    }
   ],
   "source": [
    "outs.shape"
   ]
  },
  {
   "cell_type": "code",
   "execution_count": 239,
   "metadata": {},
   "outputs": [
    {
     "data": {
      "text/plain": [
       "tensor(9.6233, grad_fn=<NllLossBackward>)"
      ]
     },
     "execution_count": 239,
     "metadata": {},
     "output_type": "execute_result"
    }
   ],
   "source": [
    "seq2seq_loss(outs, y)"
   ]
  },
  {
   "cell_type": "code",
   "execution_count": 240,
   "metadata": {
    "collapsed": true
   },
   "outputs": [
    {
     "data": {
      "text/plain": [
       "Seq2SeqQRNN(\n",
       "  (emb_enc): Embedding(11268, 300, padding_idx=1)\n",
       "  (emb_enc_drop): Dropout(p=0.15)\n",
       "  (encoder): QRNN(\n",
       "    (layers): ModuleList(\n",
       "      (0): QRNNLayer(\n",
       "        (linear): Linear(in_features=600, out_features=768, bias=True)\n",
       "      )\n",
       "      (1): QRNNLayer(\n",
       "        (linear): Linear(in_features=256, out_features=768, bias=True)\n",
       "      )\n",
       "    )\n",
       "  )\n",
       "  (out_enc): Linear(in_features=256, out_features=300, bias=False)\n",
       "  (hid_dp): Dropout(p=0.05)\n",
       "  (emb_dec): Embedding(14716, 300, padding_idx=1)\n",
       "  (decoder): QRNN(\n",
       "    (layers): ModuleList(\n",
       "      (0): QRNNLayer(\n",
       "        (linear): Linear(in_features=600, out_features=900, bias=True)\n",
       "      )\n",
       "      (1): QRNNLayer(\n",
       "        (linear): Linear(in_features=300, out_features=900, bias=True)\n",
       "      )\n",
       "    )\n",
       "  )\n",
       "  (out_drop): Dropout(p=0.35)\n",
       "  (out): Linear(in_features=300, out_features=14716, bias=True)\n",
       ")"
      ]
     },
     "execution_count": 240,
     "metadata": {},
     "output_type": "execute_result"
    }
   ],
   "source": [
    "learn.model.eval()"
   ]
  },
  {
   "cell_type": "code",
   "execution_count": 241,
   "metadata": {},
   "outputs": [],
   "source": [
    "outs = learn.model(x)"
   ]
  },
  {
   "cell_type": "code",
   "execution_count": 242,
   "metadata": {},
   "outputs": [
    {
     "data": {
      "text/plain": [
       "tensor(9.5423, grad_fn=<NllLossBackward>)"
      ]
     },
     "execution_count": 242,
     "metadata": {},
     "output_type": "execute_result"
    }
   ],
   "source": [
    "seq2seq_loss(outs, y)"
   ]
  },
  {
   "cell_type": "markdown",
   "metadata": {},
   "source": [
    "the loss is pretty much the same, indicating nothing has been learnt."
   ]
  },
  {
   "cell_type": "code",
   "execution_count": 247,
   "metadata": {
    "scrolled": true
   },
   "outputs": [
    {
     "data": {
      "text/plain": [
       "tensor([ 0.2401,  0.2031,  0.1832,  0.2171, -0.0473, -0.3082, -0.0011, -0.0289,\n",
       "        -0.2395, -0.1497,  0.0066, -0.0778,  0.1862,  0.1748,  0.0791,  0.0541,\n",
       "        -0.3321,  0.0370, -0.1699,  0.0915, -0.0260,  0.0261,  0.1555,  0.1727,\n",
       "         0.0147,  0.0768, -0.1331, -0.0587,  0.0098,  0.3628, -0.2885, -0.1653,\n",
       "         0.1333, -0.0808,  0.1416,  0.2881,  0.1038,  0.0473,  0.0769,  0.0045,\n",
       "         0.1630, -0.0993, -0.1769,  0.0231, -0.2812, -0.0150,  0.1250,  0.1198,\n",
       "        -0.0401,  0.1851,  0.0828,  0.0337, -0.0906,  0.2683, -0.0905, -0.0633,\n",
       "         0.1162, -0.0876, -0.2628, -0.1547, -0.0460,  0.1208, -0.0299, -0.0335,\n",
       "        -0.0720, -0.0599,  0.0821,  0.1856, -0.3330,  0.1103, -0.0348, -0.0992,\n",
       "        -0.0480, -0.0410, -0.1535, -0.2319,  0.0789, -0.0466, -0.0983,  0.0319,\n",
       "        -0.1254,  0.0245,  0.1328, -0.0243,  0.1437, -0.0455,  0.1431,  0.0478,\n",
       "         0.0541,  0.0650, -0.0975,  0.1100,  0.0606, -0.2040,  0.1636,  0.0746,\n",
       "         0.0059,  0.2718, -0.0400, -0.1389,  0.0947,  0.1586, -0.1706, -0.1538,\n",
       "        -0.0283,  0.0851,  0.0129, -0.2322, -0.1435, -0.0093,  0.2949, -0.0895,\n",
       "         0.0617,  0.1009,  0.0588, -0.1918, -0.2224,  0.2324, -0.1312,  0.2380,\n",
       "         0.0640, -0.1066,  0.0291, -0.1373,  0.0564, -0.0431,  0.0725, -0.0166,\n",
       "         0.1416, -0.1003, -0.0769, -0.0244,  0.0869, -0.0607,  0.2129, -0.0978,\n",
       "         0.2418,  0.3741,  0.0407, -0.1063, -0.0394,  0.1072, -0.0585, -0.1780,\n",
       "        -0.0329,  0.0197, -0.2841,  0.1680, -0.1867, -0.1769, -0.0722, -0.0110,\n",
       "         0.0358,  0.0910,  0.0044, -0.0042,  0.1416,  0.1792,  0.0722, -0.1361,\n",
       "        -0.0140, -0.0662,  0.2704, -0.2985, -0.1131,  0.0238, -0.0646,  0.0877,\n",
       "        -0.0756, -0.1316, -0.1547,  0.2510, -0.0717,  0.1728, -0.0373,  0.2681,\n",
       "        -0.1602,  0.0619, -0.2395,  0.0249,  0.0994, -0.1761, -0.0282, -0.1637,\n",
       "         0.0930, -0.0451,  0.0939, -0.1190, -0.0595, -0.0147,  0.0212,  0.2021,\n",
       "        -0.0030,  0.0511, -0.0234,  0.1068, -0.0351, -0.2681, -0.2669, -0.0478,\n",
       "         0.1176,  0.0278, -0.0143,  0.0378, -0.0448,  0.0553, -0.0737,  0.0587,\n",
       "         0.1762,  0.2278, -0.0636, -0.0671,  0.0539,  0.1108, -0.0952,  0.0693,\n",
       "        -0.0780,  0.0392, -0.2269,  0.1279,  0.0026,  0.0431,  0.1425, -0.0444,\n",
       "        -0.1244, -0.0275,  0.0256,  0.0825,  0.0438,  0.0817,  0.2813,  0.1639,\n",
       "         0.0399,  0.0905, -0.0526, -0.0617,  0.0991, -0.0030,  0.0452, -0.0800,\n",
       "        -0.0367,  0.0879,  0.2319, -0.1660,  0.2634,  0.1804,  0.0684,  0.1910,\n",
       "        -0.1805, -0.0621, -0.0415,  0.0652, -0.0958,  0.3069, -0.3570, -0.0560,\n",
       "        -0.1430,  0.0533,  0.0395,  0.0824, -0.0045, -0.0489, -0.0437,  0.0697,\n",
       "        -0.0462, -0.0416,  0.1909, -0.0607, -0.0949,  0.0303,  0.0252, -0.0088,\n",
       "        -0.0101, -0.0160, -0.1096, -0.0387, -0.1063,  0.1554,  0.0526, -0.0545,\n",
       "        -0.1193,  0.0767, -0.0712, -0.1641,  0.1825,  0.1057, -0.1096, -0.0544,\n",
       "        -0.0736, -0.2459, -0.1703,  0.0532, -0.1961, -0.0039, -0.0040,  0.0993,\n",
       "         0.1813,  0.2743,  0.0697, -0.0173], grad_fn=<EmbeddingBackward>)"
      ]
     },
     "execution_count": 247,
     "metadata": {},
     "output_type": "execute_result"
    }
   ],
   "source": [
    "emb_enc(tensor(data.train_dl.dataset.proc_x[-1].vocab.index(\"sex\")))"
   ]
  },
  {
   "cell_type": "code",
   "execution_count": 248,
   "metadata": {
    "scrolled": true
   },
   "outputs": [
    {
     "data": {
      "text/plain": [
       "tensor([ 0.2401,  0.2031,  0.1832,  0.2171, -0.0473, -0.3082, -0.0011, -0.0289,\n",
       "        -0.2395, -0.1497,  0.0066, -0.0778,  0.1862,  0.1748,  0.0791,  0.0541,\n",
       "        -0.3321,  0.0370, -0.1699,  0.0915, -0.0260,  0.0261,  0.1555,  0.1727,\n",
       "         0.0147,  0.0768, -0.1331, -0.0587,  0.0098,  0.3628, -0.2885, -0.1653,\n",
       "         0.1333, -0.0808,  0.1416,  0.2881,  0.1038,  0.0473,  0.0769,  0.0045,\n",
       "         0.1630, -0.0993, -0.1769,  0.0231, -0.2812, -0.0150,  0.1250,  0.1198,\n",
       "        -0.0401,  0.1851,  0.0828,  0.0337, -0.0906,  0.2683, -0.0905, -0.0633,\n",
       "         0.1162, -0.0876, -0.2628, -0.1547, -0.0460,  0.1208, -0.0299, -0.0335,\n",
       "        -0.0720, -0.0599,  0.0821,  0.1856, -0.3330,  0.1103, -0.0348, -0.0992,\n",
       "        -0.0480, -0.0410, -0.1535, -0.2319,  0.0789, -0.0466, -0.0983,  0.0319,\n",
       "        -0.1254,  0.0245,  0.1328, -0.0243,  0.1437, -0.0455,  0.1431,  0.0478,\n",
       "         0.0541,  0.0650, -0.0975,  0.1100,  0.0606, -0.2040,  0.1636,  0.0746,\n",
       "         0.0059,  0.2718, -0.0400, -0.1389,  0.0947,  0.1586, -0.1706, -0.1538,\n",
       "        -0.0283,  0.0851,  0.0129, -0.2322, -0.1435, -0.0093,  0.2949, -0.0895,\n",
       "         0.0617,  0.1009,  0.0588, -0.1918, -0.2224,  0.2324, -0.1312,  0.2380,\n",
       "         0.0640, -0.1066,  0.0291, -0.1373,  0.0564, -0.0431,  0.0725, -0.0166,\n",
       "         0.1416, -0.1003, -0.0769, -0.0244,  0.0869, -0.0607,  0.2129, -0.0978,\n",
       "         0.2418,  0.3741,  0.0407, -0.1063, -0.0394,  0.1072, -0.0585, -0.1780,\n",
       "        -0.0329,  0.0197, -0.2841,  0.1680, -0.1867, -0.1769, -0.0722, -0.0110,\n",
       "         0.0358,  0.0910,  0.0044, -0.0042,  0.1416,  0.1792,  0.0722, -0.1361,\n",
       "        -0.0140, -0.0662,  0.2704, -0.2985, -0.1131,  0.0238, -0.0646,  0.0877,\n",
       "        -0.0756, -0.1316, -0.1547,  0.2510, -0.0717,  0.1728, -0.0373,  0.2681,\n",
       "        -0.1602,  0.0619, -0.2395,  0.0249,  0.0994, -0.1761, -0.0282, -0.1637,\n",
       "         0.0930, -0.0451,  0.0939, -0.1190, -0.0595, -0.0147,  0.0212,  0.2021,\n",
       "        -0.0030,  0.0511, -0.0234,  0.1068, -0.0351, -0.2681, -0.2669, -0.0478,\n",
       "         0.1176,  0.0278, -0.0143,  0.0378, -0.0448,  0.0553, -0.0737,  0.0587,\n",
       "         0.1762,  0.2278, -0.0636, -0.0671,  0.0539,  0.1108, -0.0952,  0.0693,\n",
       "        -0.0780,  0.0392, -0.2269,  0.1279,  0.0026,  0.0431,  0.1425, -0.0444,\n",
       "        -0.1244, -0.0275,  0.0256,  0.0825,  0.0438,  0.0817,  0.2813,  0.1639,\n",
       "         0.0399,  0.0905, -0.0526, -0.0617,  0.0991, -0.0030,  0.0452, -0.0800,\n",
       "        -0.0367,  0.0879,  0.2319, -0.1660,  0.2634,  0.1804,  0.0684,  0.1910,\n",
       "        -0.1805, -0.0621, -0.0415,  0.0652, -0.0958,  0.3069, -0.3570, -0.0560,\n",
       "        -0.1430,  0.0533,  0.0395,  0.0824, -0.0045, -0.0489, -0.0437,  0.0697,\n",
       "        -0.0462, -0.0416,  0.1909, -0.0607, -0.0949,  0.0303,  0.0252, -0.0088,\n",
       "        -0.0101, -0.0160, -0.1096, -0.0387, -0.1063,  0.1554,  0.0526, -0.0545,\n",
       "        -0.1193,  0.0767, -0.0712, -0.1641,  0.1825,  0.1057, -0.1096, -0.0544,\n",
       "        -0.0736, -0.2459, -0.1703,  0.0532, -0.1961, -0.0039, -0.0040,  0.0993,\n",
       "         0.1813,  0.2743,  0.0697, -0.0173], grad_fn=<EmbeddingBackward>)"
      ]
     },
     "execution_count": 248,
     "metadata": {},
     "output_type": "execute_result"
    }
   ],
   "source": [
    "learn.model.emb_enc(tensor(data.train_dl.dataset.proc_x[-1].vocab.index(\"sex\")))"
   ]
  },
  {
   "cell_type": "code",
   "execution_count": 246,
   "metadata": {},
   "outputs": [
    {
     "data": {
      "text/plain": [
       "1556"
      ]
     },
     "execution_count": 246,
     "metadata": {},
     "output_type": "execute_result"
    }
   ],
   "source": [
    "data.train_dl.dataset.proc_x[-1].vocab.index(\"sex\")"
   ]
  },
  {
   "cell_type": "code",
   "execution_count": null,
   "metadata": {},
   "outputs": [],
   "source": []
  }
 ],
 "metadata": {
  "kernelspec": {
   "display_name": "my-fastai",
   "language": "python",
   "name": "my-fastai"
  },
  "language_info": {
   "codemirror_mode": {
    "name": "ipython",
    "version": 3
   },
   "file_extension": ".py",
   "mimetype": "text/x-python",
   "name": "python",
   "nbconvert_exporter": "python",
   "pygments_lexer": "ipython3",
   "version": "3.6.8"
  }
 },
 "nbformat": 4,
 "nbformat_minor": 2
}
