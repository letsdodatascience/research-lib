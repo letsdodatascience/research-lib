{
 "cells": [
  {
   "cell_type": "code",
   "execution_count": 1,
   "metadata": {},
   "outputs": [],
   "source": [
    "%load_ext autoreload\n",
    "%autoreload 2\n",
    "%matplotlib inline"
   ]
  },
  {
   "cell_type": "code",
   "execution_count": 2,
   "metadata": {},
   "outputs": [],
   "source": [
    "import warnings\n",
    "warnings.filterwarnings('ignore')"
   ]
  },
  {
   "cell_type": "code",
   "execution_count": 3,
   "metadata": {},
   "outputs": [],
   "source": [
    "#export\n",
    "from lib.nb_04 import *"
   ]
  },
  {
   "cell_type": "markdown",
   "metadata": {},
   "source": [
    "- https://medium.com/huggingface/multi-label-text-classification-using-bert-the-mighty-transformer-69714fa3fb3d\n",
    "- https://www.youtube.com/channel/UCXvHuBMbgJw67i5vrMBBobA\n",
    "- https://arxiv.org/pdf/1904.10324.pdf\n",
    "- https://www.youtube.com/watch?v=5vcj8kSwBCY&list=PLoROMvodv4rOhcuXMZkNm7j3fVwBBY42z&index=15&t=2416s\n",
    "- https://ai.googleblog.com/2019/04/evaluating-unsupervised-learning-of.html\n",
    "- https://www.youtube.com/watch?v=qzljG6DKgic&feature=youtu.be\n",
    "- https://arxiv.org/pdf/1904.11272.pdf"
   ]
  },
  {
   "cell_type": "markdown",
   "metadata": {
    "heading_collapsed": true
   },
   "source": [
    "### Images Recap"
   ]
  },
  {
   "cell_type": "code",
   "execution_count": 4,
   "metadata": {
    "hidden": true
   },
   "outputs": [],
   "source": [
    "bs=64"
   ]
  },
  {
   "cell_type": "code",
   "execution_count": 5,
   "metadata": {
    "hidden": true
   },
   "outputs": [],
   "source": [
    "path = datasets.untar_data(datasets.URLs.IMAGENETTE_160)\n",
    "tfms = [MakeRGB(), ResizeFixed(128), to_byte_tensor, to_float_tensor]\n",
    "\n",
    "il = ImageList.from_files(path, tfms=tfms)\n",
    "sd = SplitData.split_by_func(il, partial(grandparent_splitter, valid_name='val'))\n",
    "ll = label_by_func(sd, parent_labeler, proc_y=CategoryProcessor())\n",
    "data = ll.to_databunch(bs, c_in=3, c_out=10, num_workers=4)"
   ]
  },
  {
   "cell_type": "code",
   "execution_count": 6,
   "metadata": {
    "hidden": true
   },
   "outputs": [
    {
     "data": {
      "text/plain": [
       "LabeledData\n",
       "x: ImageList (12894 items)\n",
       "[PosixPath('/Users/vks/.fastai/data/imagenette-160/train/n03394916/n03394916_58454.JPEG'), PosixPath('/Users/vks/.fastai/data/imagenette-160/train/n03394916/n03394916_32588.JPEG'), PosixPath('/Users/vks/.fastai/data/imagenette-160/train/n03394916/n03394916_32422.JPEG'), PosixPath('/Users/vks/.fastai/data/imagenette-160/train/n03394916/n03394916_33663.JPEG'), PosixPath('/Users/vks/.fastai/data/imagenette-160/train/n03394916/n03394916_27948.JPEG'), PosixPath('/Users/vks/.fastai/data/imagenette-160/train/n03394916/n03394916_38644.JPEG'), PosixPath('/Users/vks/.fastai/data/imagenette-160/train/n03394916/n03394916_35076.JPEG'), PosixPath('/Users/vks/.fastai/data/imagenette-160/train/n03394916/n03394916_38214.JPEG'), PosixPath('/Users/vks/.fastai/data/imagenette-160/train/n03394916/n03394916_23008.JPEG'), PosixPath('/Users/vks/.fastai/data/imagenette-160/train/n03394916/n03394916_33008.JPEG')...]\n",
       "Path: /Users/vks/.fastai/data/imagenette-160\n",
       "y: ItemList (12894 items)\n",
       "[0, 0, 0, 0, 0, 0, 0, 0, 0, 0...]\n",
       "Path: /Users/vks/.fastai/data/imagenette-160"
      ]
     },
     "execution_count": 6,
     "metadata": {},
     "output_type": "execute_result"
    }
   ],
   "source": [
    "data.train_ds"
   ]
  },
  {
   "cell_type": "code",
   "execution_count": 7,
   "metadata": {
    "hidden": true
   },
   "outputs": [
    {
     "data": {
      "text/plain": [
       "LabeledData\n",
       "x: ImageList (500 items)\n",
       "[PosixPath('/Users/vks/.fastai/data/imagenette-160/val/n03394916/ILSVRC2012_val_00046669.JPEG'), PosixPath('/Users/vks/.fastai/data/imagenette-160/val/n03394916/ILSVRC2012_val_00033682.JPEG'), PosixPath('/Users/vks/.fastai/data/imagenette-160/val/n03394916/ILSVRC2012_val_00005548.JPEG'), PosixPath('/Users/vks/.fastai/data/imagenette-160/val/n03394916/ILSVRC2012_val_00028723.JPEG'), PosixPath('/Users/vks/.fastai/data/imagenette-160/val/n03394916/ILSVRC2012_val_00048303.JPEG'), PosixPath('/Users/vks/.fastai/data/imagenette-160/val/n03394916/ILSVRC2012_val_00048138.JPEG'), PosixPath('/Users/vks/.fastai/data/imagenette-160/val/n03394916/ILSVRC2012_val_00025761.JPEG'), PosixPath('/Users/vks/.fastai/data/imagenette-160/val/n03394916/ILSVRC2012_val_00017407.JPEG'), PosixPath('/Users/vks/.fastai/data/imagenette-160/val/n03394916/ILSVRC2012_val_00035433.JPEG'), PosixPath('/Users/vks/.fastai/data/imagenette-160/val/n03394916/ILSVRC2012_val_00041247.JPEG')...]\n",
       "Path: /Users/vks/.fastai/data/imagenette-160\n",
       "y: ItemList (500 items)\n",
       "[0, 0, 0, 0, 0, 0, 0, 0, 0, 0...]\n",
       "Path: /Users/vks/.fastai/data/imagenette-160"
      ]
     },
     "execution_count": 7,
     "metadata": {},
     "output_type": "execute_result"
    }
   ],
   "source": [
    "data.valid_ds"
   ]
  },
  {
   "cell_type": "markdown",
   "metadata": {},
   "source": [
    "## Text"
   ]
  },
  {
   "cell_type": "markdown",
   "metadata": {},
   "source": [
    "### Text ItemList"
   ]
  },
  {
   "cell_type": "code",
   "execution_count": 8,
   "metadata": {},
   "outputs": [],
   "source": [
    "path = datasets.untar_data(datasets.URLs.IMDB)"
   ]
  },
  {
   "cell_type": "code",
   "execution_count": 9,
   "metadata": {},
   "outputs": [
    {
     "data": {
      "text/plain": [
       "[PosixPath('/Users/vks/.fastai/data/imdb/ld.pkl'),\n",
       " PosixPath('/Users/vks/.fastai/data/imdb/test'),\n",
       " PosixPath('/Users/vks/.fastai/data/imdb/tmp_clas'),\n",
       " PosixPath('/Users/vks/.fastai/data/imdb/imdb.vocab'),\n",
       " PosixPath('/Users/vks/.fastai/data/imdb/unsup'),\n",
       " PosixPath('/Users/vks/.fastai/data/imdb/README'),\n",
       " PosixPath('/Users/vks/.fastai/data/imdb/tmp_lm'),\n",
       " PosixPath('/Users/vks/.fastai/data/imdb/ll_clas.pkl'),\n",
       " PosixPath('/Users/vks/.fastai/data/imdb/train')]"
      ]
     },
     "execution_count": 9,
     "metadata": {},
     "output_type": "execute_result"
    }
   ],
   "source": [
    "path.ls()"
   ]
  },
  {
   "cell_type": "code",
   "execution_count": 10,
   "metadata": {},
   "outputs": [],
   "source": [
    "#export\n",
    "def read_file(fn): \n",
    "    with open(fn, 'r', encoding = 'utf8') as f: return f.read()\n",
    "    \n",
    "class TextList(ItemList):\n",
    "    @classmethod\n",
    "    def from_files(cls, path, extensions='.txt', recurse=True, include=None, **kwargs):\n",
    "        return cls(get_files(path, extensions, recurse=recurse, include=include), path, **kwargs)\n",
    "    \n",
    "    def get(self, i):\n",
    "        if isinstance(i, Path): return read_file(i)\n",
    "        return i"
   ]
  },
  {
   "cell_type": "code",
   "execution_count": 11,
   "metadata": {},
   "outputs": [],
   "source": [
    "il = TextList.from_files(path, include=['train', 'test', 'unsup'])"
   ]
  },
  {
   "cell_type": "code",
   "execution_count": 12,
   "metadata": {},
   "outputs": [
    {
     "data": {
      "text/plain": [
       "100000"
      ]
     },
     "execution_count": 12,
     "metadata": {},
     "output_type": "execute_result"
    }
   ],
   "source": [
    "len(il.items)"
   ]
  },
  {
   "cell_type": "code",
   "execution_count": 13,
   "metadata": {},
   "outputs": [
    {
     "data": {
      "text/plain": [
       "TextList (100000 items)\n",
       "[PosixPath('/Users/vks/.fastai/data/imdb/test/neg/1821_4.txt'), PosixPath('/Users/vks/.fastai/data/imdb/test/neg/9487_1.txt'), PosixPath('/Users/vks/.fastai/data/imdb/test/neg/4604_4.txt'), PosixPath('/Users/vks/.fastai/data/imdb/test/neg/2828_2.txt'), PosixPath('/Users/vks/.fastai/data/imdb/test/neg/10890_1.txt'), PosixPath('/Users/vks/.fastai/data/imdb/test/neg/3351_4.txt'), PosixPath('/Users/vks/.fastai/data/imdb/test/neg/8070_2.txt'), PosixPath('/Users/vks/.fastai/data/imdb/test/neg/1027_4.txt'), PosixPath('/Users/vks/.fastai/data/imdb/test/neg/8248_3.txt'), PosixPath('/Users/vks/.fastai/data/imdb/test/neg/4290_4.txt')...]\n",
       "Path: /Users/vks/.fastai/data/imdb"
      ]
     },
     "execution_count": 13,
     "metadata": {},
     "output_type": "execute_result"
    }
   ],
   "source": [
    "il"
   ]
  },
  {
   "cell_type": "code",
   "execution_count": 14,
   "metadata": {},
   "outputs": [
    {
     "data": {
      "text/plain": [
       "\"Subspecies is set in Romania where two American college students Michele (Laura Mae Tate) & Lillian (Michelle McBride) arrive to study local folklore with the aid of local friend Mara (Irina Movila). There they rent rooms in a hotel & become curious about the mysterious ruins of a nearby castle, it turns out that a powerful & evil Vampire named Radu (Anders Hove) lives there who has stolen the Bloodstone from his father King Vladislav (Angus Scrimm). Radu takes a fancy to the three girls & starts drinking the blood of Mara & Lillian, meanwhile Michele falls for a guy named Stefan (Michael Watson) who just so happens to be Radu's brother. Michele & Stefan decide to team up & rid the world of the evil Radu...<br /><br />Directed by Ted Nicolaou this film seems to be quite highly regarded amongst genre fans & while it's not terrible I certainly wouldn't call it very good & I could't really see anything much to get excited about. Subspecies is a rather slow going film, not that much actually happens & while it does try to stay close to certain classic Vampire lore there's all this nonsense about a Bloodstone & some little monsters that grow from the tips of Radu's severed fingers for some reason. Subspecies could have been a half decent film if not for the fact that it's dull, I really can't remember that much about it, good or bad. The character's are alright but some f the dialogue is silly & there's a scene which bugged me near the start when the girls are at the castle ruins & one says they have to go because it's getting dark yet it's still clearly the middle of the day & very bright. There's also a scene where one of the American girls finds a coffin that hotel's attic & doesn't really seem that bothered by it, I am not being funny but is some bloke whose house I was staying at had a coffin in his attic I would be very, very worried if you know what I mean. I don't think I would ever want to watch it again, there's no real threat, the plot is weak that mixes classic Vampire themes with silly subplots & I was distinctly unmoved by it all. Not the worst film ever but hardly the best either.<br /><br />The film looks alright with nice locations & some local scenery although you feel the look is down to the budget rather than the makers attempt a authenticity. There's not much gore apart from a decapitation & some broken off finger tips. For no apparent reason the makers throw in some average looking stop-motion animated monsters that really don't do anything or have much significance to the story.<br /><br />Filmed on the cheap by Charles Band's Full Moon Entertainment production company in Bucharest in Romania, the production values are alright & better than many later day Band productions. The acting isn't great with many of the cast putting in below par performances while genre regular Angus Scrimm has a small cameo at the start. There's a little bit of style here on occasion with a few scene reminding heavily of the original Nosferatu (1922) in particular the bit showing Radu's shadow coming down the stair with his long claw like fingernails standing out.<br /><br />Subspecies is a film that many seem to like for reasons I don't quite see, I thought it was throughly average at best & overall rather dull. Followed by Bloodstone: Subspecies II (1993), Bloodlust: Subspecies III (1994), Subspecies 4: Bloodstorm (1998) & the spin0off film Vampire Journals (1997).\""
      ]
     },
     "execution_count": 14,
     "metadata": {},
     "output_type": "execute_result"
    }
   ],
   "source": [
    "txt = il[20]\n",
    "txt"
   ]
  },
  {
   "cell_type": "code",
   "execution_count": 15,
   "metadata": {},
   "outputs": [
    {
     "data": {
      "text/plain": [
       "PosixPath('/Users/vks/.fastai/data/imdb/test/neg/2351_4.txt')"
      ]
     },
     "execution_count": 15,
     "metadata": {},
     "output_type": "execute_result"
    }
   ],
   "source": [
    "il.items[20]"
   ]
  },
  {
   "cell_type": "code",
   "execution_count": 16,
   "metadata": {},
   "outputs": [],
   "source": [
    "#export\n",
    "import random"
   ]
  },
  {
   "cell_type": "code",
   "execution_count": 17,
   "metadata": {},
   "outputs": [],
   "source": [
    "#export\n",
    "def random_splitter(item, p_valid=0.1):\n",
    "    return random.random() < p_valid"
   ]
  },
  {
   "cell_type": "code",
   "execution_count": 18,
   "metadata": {},
   "outputs": [
    {
     "data": {
      "text/plain": [
       "TextList (100000 items)\n",
       "[PosixPath('/Users/vks/.fastai/data/imdb/test/neg/1821_4.txt'), PosixPath('/Users/vks/.fastai/data/imdb/test/neg/9487_1.txt'), PosixPath('/Users/vks/.fastai/data/imdb/test/neg/4604_4.txt'), PosixPath('/Users/vks/.fastai/data/imdb/test/neg/2828_2.txt'), PosixPath('/Users/vks/.fastai/data/imdb/test/neg/10890_1.txt'), PosixPath('/Users/vks/.fastai/data/imdb/test/neg/3351_4.txt'), PosixPath('/Users/vks/.fastai/data/imdb/test/neg/8070_2.txt'), PosixPath('/Users/vks/.fastai/data/imdb/test/neg/1027_4.txt'), PosixPath('/Users/vks/.fastai/data/imdb/test/neg/8248_3.txt'), PosixPath('/Users/vks/.fastai/data/imdb/test/neg/4290_4.txt')...]\n",
       "Path: /Users/vks/.fastai/data/imdb"
      ]
     },
     "execution_count": 18,
     "metadata": {},
     "output_type": "execute_result"
    }
   ],
   "source": [
    "il"
   ]
  },
  {
   "cell_type": "code",
   "execution_count": 19,
   "metadata": {},
   "outputs": [],
   "source": [
    "sd = SplitData.split_by_func(il,partial(random_splitter, p_valid=0.1))"
   ]
  },
  {
   "cell_type": "code",
   "execution_count": 20,
   "metadata": {},
   "outputs": [
    {
     "data": {
      "text/plain": [
       "SplitData\n",
       "Train: TextList (89896 items)\n",
       "[PosixPath('/Users/vks/.fastai/data/imdb/test/neg/1821_4.txt'), PosixPath('/Users/vks/.fastai/data/imdb/test/neg/9487_1.txt'), PosixPath('/Users/vks/.fastai/data/imdb/test/neg/4604_4.txt'), PosixPath('/Users/vks/.fastai/data/imdb/test/neg/2828_2.txt'), PosixPath('/Users/vks/.fastai/data/imdb/test/neg/10890_1.txt'), PosixPath('/Users/vks/.fastai/data/imdb/test/neg/8070_2.txt'), PosixPath('/Users/vks/.fastai/data/imdb/test/neg/1027_4.txt'), PosixPath('/Users/vks/.fastai/data/imdb/test/neg/8248_3.txt'), PosixPath('/Users/vks/.fastai/data/imdb/test/neg/4290_4.txt'), PosixPath('/Users/vks/.fastai/data/imdb/test/neg/10096_1.txt')...]\n",
       "Path: /Users/vks/.fastai/data/imdb\n",
       "Valid: TextList (10104 items)\n",
       "[PosixPath('/Users/vks/.fastai/data/imdb/test/neg/3351_4.txt'), PosixPath('/Users/vks/.fastai/data/imdb/test/neg/10397_1.txt'), PosixPath('/Users/vks/.fastai/data/imdb/test/neg/12453_2.txt'), PosixPath('/Users/vks/.fastai/data/imdb/test/neg/11828_1.txt'), PosixPath('/Users/vks/.fastai/data/imdb/test/neg/11094_3.txt'), PosixPath('/Users/vks/.fastai/data/imdb/test/neg/3680_1.txt'), PosixPath('/Users/vks/.fastai/data/imdb/test/neg/8190_2.txt'), PosixPath('/Users/vks/.fastai/data/imdb/test/neg/8504_2.txt'), PosixPath('/Users/vks/.fastai/data/imdb/test/neg/10150_2.txt'), PosixPath('/Users/vks/.fastai/data/imdb/test/neg/2209_4.txt')...]\n",
       "Path: /Users/vks/.fastai/data/imdb"
      ]
     },
     "execution_count": 20,
     "metadata": {},
     "output_type": "execute_result"
    }
   ],
   "source": [
    "sd"
   ]
  },
  {
   "cell_type": "code",
   "execution_count": 21,
   "metadata": {},
   "outputs": [
    {
     "data": {
      "text/plain": [
       "'I have seen this movie and I did not care for this movie anyhow. I would not think about going to Paris because I do not like this country and its national capital. I do not like to learn french anyhow because I do not understand their language. Why would I go to France when I rather go to Germany or the United Kingdom? Germany and the United Kingdom are the nations I tolerate. Apparently the Olsen Twins do not understand the French language just like me. Therefore I will not bother the France trip no matter what. I might as well stick to the United Kingdom and meet single women and play video games if there is a video arcade. That is all.'"
      ]
     },
     "execution_count": 21,
     "metadata": {},
     "output_type": "execute_result"
    }
   ],
   "source": [
    "sd.train[1]"
   ]
  },
  {
   "cell_type": "code",
   "execution_count": 22,
   "metadata": {},
   "outputs": [
    {
     "data": {
      "text/plain": [
       "'Dante would of been mortified, if he knew that his masterpiece was being ACTED OUT PUPPETS!!! Also the actors who played the puppets are sell outs. Due to the fact that playing a puppet is not acting it is just basically doing nothing. No one really will care who the puppet was. people only care who played a major role in like an actual movie. this is just annoying how you could mock such an amazing man and his belief, by this dumb little movie. This should be a crime and.... I cant believe you would ruin a book like that. I thought the movie was absolutely ridiculous and should be destroyed!!!! It totally ruins what your suppose to be getting from reading it. Your just making it a big joke.'"
      ]
     },
     "execution_count": 22,
     "metadata": {},
     "output_type": "execute_result"
    }
   ],
   "source": [
    "sd.valid[1]"
   ]
  },
  {
   "cell_type": "markdown",
   "metadata": {},
   "source": [
    "### Tokenization"
   ]
  },
  {
   "cell_type": "markdown",
   "metadata": {},
   "source": [
    "We need to tokenize the dataset first, which is splitting a sentence in individual tokens. Those tokens are the basic words or punctuation signs with a few tweaks: don't for instance is split between do and n't. We will use a processor for this, in conjunction with the spacy library."
   ]
  },
  {
   "cell_type": "code",
   "execution_count": 23,
   "metadata": {},
   "outputs": [],
   "source": [
    "#export\n",
    "import spacy,html"
   ]
  },
  {
   "cell_type": "markdown",
   "metadata": {},
   "source": [
    "Before even tokenizeing, we will apply a bit of preprocessing on the texts to clean them up (we saw the one up there had some HTML code). These rules are applied before we split the sentences in tokens."
   ]
  },
  {
   "cell_type": "code",
   "execution_count": 24,
   "metadata": {},
   "outputs": [],
   "source": [
    "#export\n",
    "#special tokens\n",
    "UNK, PAD, BOS, EOS, TK_REP, TK_WREP, TK_UP, TK_MAJ = \"xxunk xxpad xxbos xxeos xxrep xxwrep xxup xxmaj\".split()\n",
    "\n",
    "def sub_br(t):\n",
    "    \"Replaces the <br /> by \\n\"\n",
    "    re_br = re.compile(r'<\\s*br\\s*/?>', re.IGNORECASE)\n",
    "    return re_br.sub(\"\\n\", t)\n",
    "\n",
    "def spec_add_spaces(t):\n",
    "    \"Add spaces around / and #\"\n",
    "    return re.sub(r'([/#])', r' \\1 ', t)\n",
    "\n",
    "def rm_useless_spaces(t):\n",
    "    \"Remove multiple spaces\"\n",
    "    return re.sub(' {2,}', ' ', t)\n",
    "\n",
    "def replace_rep(t):\n",
    "    \"Replace repetitions at the character level: cccc -> TK_REP 4 c\"\n",
    "    def _replace_rep(m:Collection[str]) -> str:\n",
    "        c,cc = m.groups()\n",
    "        return f' {TK_REP} {len(cc)+1} {c} '\n",
    "    re_rep = re.compile(r'(\\S)(\\1{3,})')\n",
    "    return re_rep.sub(_replace_rep, t)\n",
    "    \n",
    "def replace_wrep(t):\n",
    "    \"Replace word repetitions: word word word -> TK_WREP 3 word\"\n",
    "    def _replace_wrep(m:Collection[str]) -> str:\n",
    "        c,cc = m.groups()\n",
    "        return f' {TK_WREP} {len(cc.split())+1} {c} '\n",
    "    re_wrep = re.compile(r'(\\b\\w+\\W+)(\\1{3,})')\n",
    "    return re_wrep.sub(_replace_wrep, t)\n",
    "\n",
    "def fixup_text(x):\n",
    "    \"Various messy things we've seen in documents\"\n",
    "    re1 = re.compile(r'  +')\n",
    "    x = x.replace('#39;', \"'\").replace('amp;', '&').replace('#146;', \"'\").replace(\n",
    "        'nbsp;', ' ').replace('#36;', '$').replace('\\\\n', \"\\n\").replace('quot;', \"'\").replace(\n",
    "        '<br />', \"\\n\").replace('\\\\\"', '\"').replace('<unk>',UNK).replace(' @.@ ','.').replace(\n",
    "        ' @-@ ','-').replace('\\\\', ' \\\\ ')\n",
    "    return re1.sub(' ', html.unescape(x))\n",
    "    \n",
    "default_pre_rules = [fixup_text, replace_rep, replace_wrep, spec_add_spaces, rm_useless_spaces, sub_br]\n",
    "default_spec_tok = [UNK, PAD, BOS, EOS, TK_REP, TK_WREP, TK_UP, TK_MAJ]"
   ]
  },
  {
   "cell_type": "code",
   "execution_count": 25,
   "metadata": {},
   "outputs": [
    {
     "data": {
      "text/plain": [
       "' xxrep 4 c '"
      ]
     },
     "execution_count": 25,
     "metadata": {},
     "output_type": "execute_result"
    }
   ],
   "source": [
    "replace_rep('cccc')"
   ]
  },
  {
   "cell_type": "code",
   "execution_count": 26,
   "metadata": {},
   "outputs": [
    {
     "data": {
      "text/plain": [
       "' xxwrep 5 word  '"
      ]
     },
     "execution_count": 26,
     "metadata": {},
     "output_type": "execute_result"
    }
   ],
   "source": [
    "replace_wrep('word word word word word ')"
   ]
  },
  {
   "cell_type": "markdown",
   "metadata": {},
   "source": [
    "These rules are applies after the tokenization on the list of tokens."
   ]
  },
  {
   "cell_type": "code",
   "execution_count": 27,
   "metadata": {},
   "outputs": [],
   "source": [
    "#export\n",
    "def replace_all_caps(x):\n",
    "    \"Replace tokens in ALL CAPS by their lower version and add `TK_UP` before.\"\n",
    "    res = []\n",
    "    for t in x:\n",
    "        if t.isupper() and len(t) > 1: res.append(TK_UP); res.append(t.lower())\n",
    "        else: res.append(t)\n",
    "    return res\n",
    "\n",
    "def deal_caps(x):\n",
    "    \"Replace all Capitalized tokens in by their lower version and add `TK_MAJ` before.\"\n",
    "    res = []\n",
    "    for t in x:\n",
    "        if t == '': continue\n",
    "        if t[0].isupper() and len(t) > 1 and t[1:].islower(): res.append(TK_MAJ)\n",
    "        res.append(t.lower())\n",
    "    return res\n",
    "\n",
    "def add_eos_bos(x): return [BOS] + x + [EOS]\n",
    "\n",
    "default_post_rules = [deal_caps, replace_all_caps, add_eos_bos]"
   ]
  },
  {
   "cell_type": "code",
   "execution_count": 28,
   "metadata": {},
   "outputs": [
    {
     "data": {
      "text/plain": [
       "['I', 'xxup', 'am', 'xxup', 'shouting']"
      ]
     },
     "execution_count": 28,
     "metadata": {},
     "output_type": "execute_result"
    }
   ],
   "source": [
    "replace_all_caps(['I', 'AM', 'SHOUTING'])"
   ]
  },
  {
   "cell_type": "code",
   "execution_count": 29,
   "metadata": {},
   "outputs": [
    {
     "data": {
      "text/plain": [
       "['xxmaj', 'my', 'name', 'is', 'xxmaj', 'jeremy']"
      ]
     },
     "execution_count": 29,
     "metadata": {},
     "output_type": "execute_result"
    }
   ],
   "source": [
    "deal_caps(['My', 'name', 'is', 'Jeremy'])"
   ]
  },
  {
   "cell_type": "code",
   "execution_count": 30,
   "metadata": {},
   "outputs": [],
   "source": [
    "#export\n",
    "from spacy.symbols import ORTH\n",
    "from concurrent.futures import ProcessPoolExecutor\n",
    "\n",
    "def parallel(func, arr, max_workers=4):\n",
    "    if max_workers<2: results = list(progress_bar(map(func, enumerate(arr)), total=len(arr)))\n",
    "    else:\n",
    "        with ProcessPoolExecutor(max_workers=max_workers) as ex:\n",
    "            return list(progress_bar(ex.map(func, enumerate(arr)), total=len(arr)))\n",
    "    if any([o is not None for o in results]): return results"
   ]
  },
  {
   "cell_type": "code",
   "execution_count": 31,
   "metadata": {},
   "outputs": [],
   "source": [
    "#export\n",
    "class TokenizeProcessor(Processor):\n",
    "    def __init__(self, lang=\"en\", chunksize=2000, pre_rules=None, post_rules=None, max_workers=4): \n",
    "        self.chunksize,self.max_workers = chunksize,max_workers\n",
    "        self.tokenizer = spacy.blank(lang).tokenizer\n",
    "        for w in default_spec_tok:\n",
    "            self.tokenizer.add_special_case(w, [{ORTH: w}])\n",
    "        self.pre_rules  = default_pre_rules  if pre_rules  is None else pre_rules\n",
    "        self.post_rules = default_post_rules if post_rules is None else post_rules\n",
    "\n",
    "    def proc_chunk(self, args):\n",
    "        i,chunk = args\n",
    "        chunk = [compose(t, self.pre_rules) for t in chunk]\n",
    "        docs = [[d.text for d in doc] for doc in self.tokenizer.pipe(chunk)]\n",
    "        docs = [compose(t, self.post_rules) for t in docs]\n",
    "        return docs\n",
    "\n",
    "    def __call__(self, items): \n",
    "        toks = []\n",
    "        if isinstance(items[0], Path): items = [read_file(i) for i in items]\n",
    "        chunks = [items[i: i+self.chunksize] for i in (range(0, len(items), self.chunksize))]\n",
    "        toks = parallel(self.proc_chunk, chunks, max_workers=self.max_workers)\n",
    "        return sum(toks, [])\n",
    "    \n",
    "    def proc1(self, item): return self.proc_chunk([toks])[0]\n",
    "    \n",
    "    def deprocess(self, toks): return [self.deproc1(tok) for tok in toks]\n",
    "    def deproc1(self, tok):    return \" \".join(tok)"
   ]
  },
  {
   "cell_type": "code",
   "execution_count": 32,
   "metadata": {},
   "outputs": [],
   "source": [
    "tp = TokenizeProcessor()"
   ]
  },
  {
   "cell_type": "code",
   "execution_count": 33,
   "metadata": {},
   "outputs": [
    {
     "data": {
      "text/plain": [
       "'Subspecies is set in Romania where two American college students Michele (Laura Mae Tate) & Lillian (Michelle McBride) arrive to study local folklore with the aid of local friend Mara (Irina Movila). There they rent rooms in a hotel & become curious '"
      ]
     },
     "execution_count": 33,
     "metadata": {},
     "output_type": "execute_result"
    }
   ],
   "source": [
    "txt[:250]"
   ]
  },
  {
   "cell_type": "code",
   "execution_count": 34,
   "metadata": {},
   "outputs": [
    {
     "data": {
      "text/plain": [
       "\"Alan Rickman & Emma Thompson give good performances with southern/New Orleans accents in this detective flick. It's worth seeing for their scenes- and Rickman's scene with Hal Holbrook. These three actors mannage to entertain us no matter what the movie, it seems. The plot for the movie shows potential, but one gets the impression in watching the film that it was not pulled off as well as it could have been. The fact that it is cluttered by a rather uninteresting subplot and mostly uninteresting kidnappers really muddles things. The movie is worth a view- if for nothing more than entertaining performances by Rickman, Thompson, and Holbrook.\""
      ]
     },
     "execution_count": 34,
     "metadata": {},
     "output_type": "execute_result"
    }
   ],
   "source": [
    "sd.train[0]"
   ]
  },
  {
   "cell_type": "code",
   "execution_count": 35,
   "metadata": {},
   "outputs": [
    {
     "data": {
      "text/html": [
       "\n",
       "    <div>\n",
       "        <style>\n",
       "            /* Turns off some styling */\n",
       "            progress {\n",
       "                /* gets rid of default border in Firefox and Opera. */\n",
       "                border: none;\n",
       "                /* Needs to be in here for Safari polyfill so background images work as expected. */\n",
       "                background-size: auto;\n",
       "            }\n",
       "            .progress-bar-interrupted, .progress-bar-interrupted::-webkit-progress-bar {\n",
       "                background: #F44336;\n",
       "            }\n",
       "        </style>\n",
       "      <progress value='1' class='' max='1', style='width:300px; height:20px; vertical-align: middle;'></progress>\n",
       "      100.00% [1/1 00:00<00:00]\n",
       "    </div>\n",
       "    "
      ],
      "text/plain": [
       "<IPython.core.display.HTML object>"
      ]
     },
     "metadata": {},
     "output_type": "display_data"
    },
    {
     "data": {
      "text/plain": [
       "[['xxbos',\n",
       "  'xxmaj',\n",
       "  'alan',\n",
       "  'xxmaj',\n",
       "  'rickman',\n",
       "  '&',\n",
       "  'xxmaj',\n",
       "  'emma',\n",
       "  'xxmaj',\n",
       "  'thompson',\n",
       "  'give',\n",
       "  'good',\n",
       "  'performances',\n",
       "  'with',\n",
       "  'southern',\n",
       "  '/',\n",
       "  'xxmaj',\n",
       "  'new',\n",
       "  'xxmaj',\n",
       "  'orleans',\n",
       "  'accents',\n",
       "  'in',\n",
       "  'this',\n",
       "  'detective',\n",
       "  'flick',\n",
       "  '.',\n",
       "  'xxmaj',\n",
       "  'it',\n",
       "  \"'s\",\n",
       "  'worth',\n",
       "  'seeing',\n",
       "  'for',\n",
       "  'their',\n",
       "  'scenes-',\n",
       "  'and',\n",
       "  'xxmaj',\n",
       "  'rickman',\n",
       "  \"'s\",\n",
       "  'scene',\n",
       "  'with',\n",
       "  'xxmaj',\n",
       "  'hal',\n",
       "  'xxmaj',\n",
       "  'holbrook',\n",
       "  '.',\n",
       "  'xxmaj',\n",
       "  'these',\n",
       "  'three',\n",
       "  'actors',\n",
       "  'mannage',\n",
       "  'to',\n",
       "  'entertain',\n",
       "  'us',\n",
       "  'no',\n",
       "  'matter',\n",
       "  'what',\n",
       "  'the',\n",
       "  'movie',\n",
       "  ',',\n",
       "  'it',\n",
       "  'seems',\n",
       "  '.',\n",
       "  'xxmaj',\n",
       "  'the',\n",
       "  'plot',\n",
       "  'for',\n",
       "  'the',\n",
       "  'movie',\n",
       "  'shows',\n",
       "  'potential',\n",
       "  ',',\n",
       "  'but',\n",
       "  'one',\n",
       "  'gets',\n",
       "  'the',\n",
       "  'impression',\n",
       "  'in',\n",
       "  'watching',\n",
       "  'the',\n",
       "  'film',\n",
       "  'that',\n",
       "  'it',\n",
       "  'was',\n",
       "  'not',\n",
       "  'pulled',\n",
       "  'off',\n",
       "  'as',\n",
       "  'well',\n",
       "  'as',\n",
       "  'it',\n",
       "  'could',\n",
       "  'have',\n",
       "  'been',\n",
       "  '.',\n",
       "  'xxmaj',\n",
       "  'the',\n",
       "  'fact',\n",
       "  'that',\n",
       "  'it',\n",
       "  'is',\n",
       "  'cluttered',\n",
       "  'by',\n",
       "  'a',\n",
       "  'rather',\n",
       "  'uninteresting',\n",
       "  'subplot',\n",
       "  'and',\n",
       "  'mostly',\n",
       "  'uninteresting',\n",
       "  'kidnappers',\n",
       "  'really',\n",
       "  'muddles',\n",
       "  'things',\n",
       "  '.',\n",
       "  'xxmaj',\n",
       "  'the',\n",
       "  'movie',\n",
       "  'is',\n",
       "  'worth',\n",
       "  'a',\n",
       "  'view-',\n",
       "  'if',\n",
       "  'for',\n",
       "  'nothing',\n",
       "  'more',\n",
       "  'than',\n",
       "  'entertaining',\n",
       "  'performances',\n",
       "  'by',\n",
       "  'xxmaj',\n",
       "  'rickman',\n",
       "  ',',\n",
       "  'xxmaj',\n",
       "  'thompson',\n",
       "  ',',\n",
       "  'and',\n",
       "  'xxmaj',\n",
       "  'holbrook',\n",
       "  '.',\n",
       "  'xxeos'],\n",
       " ['xxbos',\n",
       "  'i',\n",
       "  'have',\n",
       "  'seen',\n",
       "  'this',\n",
       "  'movie',\n",
       "  'and',\n",
       "  'i',\n",
       "  'did',\n",
       "  'not',\n",
       "  'care',\n",
       "  'for',\n",
       "  'this',\n",
       "  'movie',\n",
       "  'anyhow',\n",
       "  '.',\n",
       "  'i',\n",
       "  'would',\n",
       "  'not',\n",
       "  'think',\n",
       "  'about',\n",
       "  'going',\n",
       "  'to',\n",
       "  'xxmaj',\n",
       "  'paris',\n",
       "  'because',\n",
       "  'i',\n",
       "  'do',\n",
       "  'not',\n",
       "  'like',\n",
       "  'this',\n",
       "  'country',\n",
       "  'and',\n",
       "  'its',\n",
       "  'national',\n",
       "  'capital',\n",
       "  '.',\n",
       "  'i',\n",
       "  'do',\n",
       "  'not',\n",
       "  'like',\n",
       "  'to',\n",
       "  'learn',\n",
       "  'french',\n",
       "  'anyhow',\n",
       "  'because',\n",
       "  'i',\n",
       "  'do',\n",
       "  'not',\n",
       "  'understand',\n",
       "  'their',\n",
       "  'language',\n",
       "  '.',\n",
       "  'xxmaj',\n",
       "  'why',\n",
       "  'would',\n",
       "  'i',\n",
       "  'go',\n",
       "  'to',\n",
       "  'xxmaj',\n",
       "  'france',\n",
       "  'when',\n",
       "  'i',\n",
       "  'rather',\n",
       "  'go',\n",
       "  'to',\n",
       "  'xxmaj',\n",
       "  'germany',\n",
       "  'or',\n",
       "  'the',\n",
       "  'xxmaj',\n",
       "  'united',\n",
       "  'xxmaj',\n",
       "  'kingdom',\n",
       "  '?',\n",
       "  'xxmaj',\n",
       "  'germany',\n",
       "  'and',\n",
       "  'the',\n",
       "  'xxmaj',\n",
       "  'united',\n",
       "  'xxmaj',\n",
       "  'kingdom',\n",
       "  'are',\n",
       "  'the',\n",
       "  'nations',\n",
       "  'i',\n",
       "  'tolerate',\n",
       "  '.',\n",
       "  'xxmaj',\n",
       "  'apparently',\n",
       "  'the',\n",
       "  'xxmaj',\n",
       "  'olsen',\n",
       "  'xxmaj',\n",
       "  'twins',\n",
       "  'do',\n",
       "  'not',\n",
       "  'understand',\n",
       "  'the',\n",
       "  'xxmaj',\n",
       "  'french',\n",
       "  'language',\n",
       "  'just',\n",
       "  'like',\n",
       "  'me',\n",
       "  '.',\n",
       "  'xxmaj',\n",
       "  'therefore',\n",
       "  'i',\n",
       "  'will',\n",
       "  'not',\n",
       "  'bother',\n",
       "  'the',\n",
       "  'xxmaj',\n",
       "  'france',\n",
       "  'trip',\n",
       "  'no',\n",
       "  'matter',\n",
       "  'what',\n",
       "  '.',\n",
       "  'i',\n",
       "  'might',\n",
       "  'as',\n",
       "  'well',\n",
       "  'stick',\n",
       "  'to',\n",
       "  'the',\n",
       "  'xxmaj',\n",
       "  'united',\n",
       "  'xxmaj',\n",
       "  'kingdom',\n",
       "  'and',\n",
       "  'meet',\n",
       "  'single',\n",
       "  'women',\n",
       "  'and',\n",
       "  'play',\n",
       "  'video',\n",
       "  'games',\n",
       "  'if',\n",
       "  'there',\n",
       "  'is',\n",
       "  'a',\n",
       "  'video',\n",
       "  'arcade',\n",
       "  '.',\n",
       "  'xxmaj',\n",
       "  'that',\n",
       "  'is',\n",
       "  'all',\n",
       "  '.',\n",
       "  'xxeos'],\n",
       " ['xxbos',\n",
       "  'xxmaj',\n",
       "  'in',\n",
       "  'xxmaj',\n",
       "  'los',\n",
       "  'xxmaj',\n",
       "  'angeles',\n",
       "  ',',\n",
       "  'the',\n",
       "  'alcoholic',\n",
       "  'and',\n",
       "  'lazy',\n",
       "  'xxmaj',\n",
       "  'hank',\n",
       "  'xxmaj',\n",
       "  'chinaski',\n",
       "  '(',\n",
       "  'xxmaj',\n",
       "  'matt',\n",
       "  'xxmaj',\n",
       "  'dillon',\n",
       "  ')',\n",
       "  'performs',\n",
       "  'a',\n",
       "  'wide',\n",
       "  'range',\n",
       "  'of',\n",
       "  'non',\n",
       "  '-',\n",
       "  'qualified',\n",
       "  'functions',\n",
       "  'just',\n",
       "  'to',\n",
       "  'get',\n",
       "  'enough',\n",
       "  'money',\n",
       "  'to',\n",
       "  'drink',\n",
       "  'and',\n",
       "  'gamble',\n",
       "  'in',\n",
       "  'horse',\n",
       "  'races',\n",
       "  '.',\n",
       "  'xxmaj',\n",
       "  'his',\n",
       "  'primary',\n",
       "  'and',\n",
       "  'only',\n",
       "  'objective',\n",
       "  'is',\n",
       "  'writing',\n",
       "  'and',\n",
       "  'having',\n",
       "  'sexy',\n",
       "  'with',\n",
       "  'dirty',\n",
       "  'women',\n",
       "  '.',\n",
       "  '\\n\\n',\n",
       "  '\"',\n",
       "  'xxmaj',\n",
       "  'factotum',\n",
       "  '\"',\n",
       "  'is',\n",
       "  'an',\n",
       "  'uninteresting',\n",
       "  ',',\n",
       "  'pointless',\n",
       "  'and',\n",
       "  'extremely',\n",
       "  'boring',\n",
       "  'movie',\n",
       "  'about',\n",
       "  'an',\n",
       "  'irresponsible',\n",
       "  'drunken',\n",
       "  'vagrant',\n",
       "  'that',\n",
       "  'works',\n",
       "  'a',\n",
       "  'couple',\n",
       "  'of',\n",
       "  'days',\n",
       "  'or',\n",
       "  'weeks',\n",
       "  'just',\n",
       "  'to',\n",
       "  'get',\n",
       "  'enough',\n",
       "  'money',\n",
       "  'to',\n",
       "  'buy',\n",
       "  'spirits',\n",
       "  'and',\n",
       "  'gamble',\n",
       "  ',',\n",
       "  'being',\n",
       "  'immediately',\n",
       "  'fired',\n",
       "  'due',\n",
       "  'to',\n",
       "  'his',\n",
       "  'reckless',\n",
       "  'behavior',\n",
       "  '.',\n",
       "  'xxmaj',\n",
       "  'in',\n",
       "  'accordance',\n",
       "  'with',\n",
       "  'imdb',\n",
       "  ',',\n",
       "  'this',\n",
       "  'character',\n",
       "  'would',\n",
       "  'be',\n",
       "  'the',\n",
       "  'fictional',\n",
       "  'alter',\n",
       "  '-',\n",
       "  'ego',\n",
       "  'of',\n",
       "  'the',\n",
       "  'author',\n",
       "  'xxmaj',\n",
       "  'charles',\n",
       "  'xxmaj',\n",
       "  'bukowski',\n",
       "  ',',\n",
       "  'and',\n",
       "  'based',\n",
       "  'on',\n",
       "  'this',\n",
       "  'story',\n",
       "  ',',\n",
       "  'i',\n",
       "  'will',\n",
       "  'certainly',\n",
       "  'never',\n",
       "  'read',\n",
       "  'any',\n",
       "  'of',\n",
       "  'his',\n",
       "  'novels',\n",
       "  '.',\n",
       "  'xxmaj',\n",
       "  'honestly',\n",
       "  ',',\n",
       "  'if',\n",
       "  'the',\n",
       "  'viewer',\n",
       "  'likes',\n",
       "  'this',\n",
       "  'theme',\n",
       "  'of',\n",
       "  'alcoholic',\n",
       "  'couples',\n",
       "  ',',\n",
       "  'better',\n",
       "  'off',\n",
       "  'watching',\n",
       "  'the',\n",
       "  'touching',\n",
       "  'and',\n",
       "  'heartbreaking',\n",
       "  'xxmaj',\n",
       "  'hector',\n",
       "  'xxmaj',\n",
       "  'babenco',\n",
       "  \"'s\",\n",
       "  '\"',\n",
       "  'xxmaj',\n",
       "  'ironweed',\n",
       "  '\"',\n",
       "  'or',\n",
       "  'xxmaj',\n",
       "  'marco',\n",
       "  'xxmaj',\n",
       "  'ferreri',\n",
       "  \"'s\",\n",
       "  '\"',\n",
       "  'xxmaj',\n",
       "  'storie',\n",
       "  'di',\n",
       "  'xxmaj',\n",
       "  'ordinaria',\n",
       "  'xxmaj',\n",
       "  'follia',\n",
       "  '\"',\n",
       "  'that',\n",
       "  'is',\n",
       "  'based',\n",
       "  'on',\n",
       "  'the',\n",
       "  'life',\n",
       "  'of',\n",
       "  'the',\n",
       "  'same',\n",
       "  'writer',\n",
       "  '.',\n",
       "  'xxmaj',\n",
       "  'my',\n",
       "  'vote',\n",
       "  'is',\n",
       "  'four',\n",
       "  '.',\n",
       "  '\\n\\n',\n",
       "  'xxmaj',\n",
       "  'title',\n",
       "  '(',\n",
       "  'xxmaj',\n",
       "  'brazil',\n",
       "  ')',\n",
       "  ':',\n",
       "  '\"',\n",
       "  'xxmaj',\n",
       "  'factotum',\n",
       "  '\\x96',\n",
       "  'xxmaj',\n",
       "  'sem',\n",
       "  'xxmaj',\n",
       "  'destino',\n",
       "  '\"',\n",
       "  '(',\n",
       "  '\"',\n",
       "  'xxmaj',\n",
       "  'factotum',\n",
       "  '\\x96',\n",
       "  'xxmaj',\n",
       "  'without',\n",
       "  'xxmaj',\n",
       "  'destiny',\n",
       "  '\"',\n",
       "  ')',\n",
       "  'xxeos']]"
      ]
     },
     "execution_count": 35,
     "metadata": {},
     "output_type": "execute_result"
    }
   ],
   "source": [
    "tp(sd.train[:3])"
   ]
  },
  {
   "cell_type": "code",
   "execution_count": 36,
   "metadata": {},
   "outputs": [],
   "source": [
    "#export\n",
    "import collections\n",
    "\n",
    "class NumericalizeProcessor(Processor):\n",
    "    def __init__(self, vocab=None, max_vocab=60000, min_freq=2): \n",
    "        self.vocab,self.max_vocab,self.min_freq = vocab,max_vocab,min_freq\n",
    "    \n",
    "    def __call__(self, items):\n",
    "        #The vocab is defined on the first use.\n",
    "        if self.vocab is None:\n",
    "            freq = Counter(p for o in items for p in o)\n",
    "            self.vocab = [o for o,c in freq.most_common(self.max_vocab) if c >= self.min_freq]\n",
    "            for o in reversed(default_spec_tok):\n",
    "                if o in self.vocab: self.vocab.remove(o)\n",
    "                self.vocab.insert(0, o)\n",
    "        if getattr(self, 'otoi', None) is None:\n",
    "            self.otoi = collections.defaultdict(int,{v:k for k,v in enumerate(self.vocab)}) \n",
    "        return [self.proc1(o) for o in items]\n",
    "    def proc1(self, item):  return [self.otoi[o] for o in item]\n",
    "    \n",
    "    def deprocess(self, idxs):\n",
    "        assert self.vocab is not None\n",
    "        return [self.deproc1(idx) for idx in idxs]\n",
    "    \n",
    "    def deproc1(self, idx): return [self.vocab[i] for i in idx]"
   ]
  },
  {
   "cell_type": "code",
   "execution_count": 37,
   "metadata": {},
   "outputs": [],
   "source": [
    "proc_tok,proc_num = TokenizeProcessor(max_workers=8),NumericalizeProcessor()"
   ]
  },
  {
   "cell_type": "code",
   "execution_count": 38,
   "metadata": {},
   "outputs": [
    {
     "data": {
      "text/html": [
       "\n",
       "    <div>\n",
       "        <style>\n",
       "            /* Turns off some styling */\n",
       "            progress {\n",
       "                /* gets rid of default border in Firefox and Opera. */\n",
       "                border: none;\n",
       "                /* Needs to be in here for Safari polyfill so background images work as expected. */\n",
       "                background-size: auto;\n",
       "            }\n",
       "            .progress-bar-interrupted, .progress-bar-interrupted::-webkit-progress-bar {\n",
       "                background: #F44336;\n",
       "            }\n",
       "        </style>\n",
       "      <progress value='45' class='' max='45', style='width:300px; height:20px; vertical-align: middle;'></progress>\n",
       "      100.00% [45/45 05:07<00:00]\n",
       "    </div>\n",
       "    "
      ],
      "text/plain": [
       "<IPython.core.display.HTML object>"
      ]
     },
     "metadata": {},
     "output_type": "display_data"
    },
    {
     "data": {
      "text/html": [
       "\n",
       "    <div>\n",
       "        <style>\n",
       "            /* Turns off some styling */\n",
       "            progress {\n",
       "                /* gets rid of default border in Firefox and Opera. */\n",
       "                border: none;\n",
       "                /* Needs to be in here for Safari polyfill so background images work as expected. */\n",
       "                background-size: auto;\n",
       "            }\n",
       "            .progress-bar-interrupted, .progress-bar-interrupted::-webkit-progress-bar {\n",
       "                background: #F44336;\n",
       "            }\n",
       "        </style>\n",
       "      <progress value='6' class='' max='6', style='width:300px; height:20px; vertical-align: middle;'></progress>\n",
       "      100.00% [6/6 00:37<00:00]\n",
       "    </div>\n",
       "    "
      ],
      "text/plain": [
       "<IPython.core.display.HTML object>"
      ]
     },
     "metadata": {},
     "output_type": "display_data"
    },
    {
     "name": "stdout",
     "output_type": "stream",
     "text": [
      "CPU times: user 35.3 s, sys: 13.5 s, total: 48.7 s\n",
      "Wall time: 6min 21s\n"
     ]
    }
   ],
   "source": [
    "%time ll = label_by_func(sd, lambda y: 0, proc_x = [proc_tok,proc_num])"
   ]
  },
  {
   "cell_type": "code",
   "execution_count": 39,
   "metadata": {},
   "outputs": [
    {
     "data": {
      "text/plain": [
       "([2,\n",
       "  7,\n",
       "  1849,\n",
       "  7,\n",
       "  9668,\n",
       "  204,\n",
       "  7,\n",
       "  3620,\n",
       "  7,\n",
       "  4400,\n",
       "  220,\n",
       "  67,\n",
       "  376,\n",
       "  27,\n",
       "  2408,\n",
       "  124,\n",
       "  7,\n",
       "  183,\n",
       "  7,\n",
       "  5666,\n",
       "  2634,\n",
       "  17,\n",
       "  19,\n",
       "  1190,\n",
       "  502,\n",
       "  9,\n",
       "  7,\n",
       "  16,\n",
       "  22,\n",
       "  293,\n",
       "  334,\n",
       "  28,\n",
       "  80,\n",
       "  36149,\n",
       "  11,\n",
       "  7,\n",
       "  9668,\n",
       "  22,\n",
       "  150,\n",
       "  27,\n",
       "  7,\n",
       "  4485,\n",
       "  7,\n",
       "  17557,\n",
       "  9,\n",
       "  7,\n",
       "  151,\n",
       "  299,\n",
       "  171,\n",
       "  0,\n",
       "  14,\n",
       "  2811,\n",
       "  201,\n",
       "  74,\n",
       "  516,\n",
       "  64,\n",
       "  8,\n",
       "  29,\n",
       "  10,\n",
       "  16,\n",
       "  210,\n",
       "  9,\n",
       "  7,\n",
       "  8,\n",
       "  131,\n",
       "  28,\n",
       "  8,\n",
       "  29,\n",
       "  295,\n",
       "  1048,\n",
       "  10,\n",
       "  30,\n",
       "  42,\n",
       "  241,\n",
       "  8,\n",
       "  1458,\n",
       "  17,\n",
       "  168,\n",
       "  8,\n",
       "  31,\n",
       "  20,\n",
       "  16,\n",
       "  25,\n",
       "  37,\n",
       "  2020,\n",
       "  141,\n",
       "  26,\n",
       "  89,\n",
       "  26,\n",
       "  16,\n",
       "  96,\n",
       "  41,\n",
       "  98,\n",
       "  9,\n",
       "  7,\n",
       "  8,\n",
       "  212,\n",
       "  20,\n",
       "  16,\n",
       "  15,\n",
       "  16092,\n",
       "  47,\n",
       "  12,\n",
       "  269,\n",
       "  2717,\n",
       "  3370,\n",
       "  11,\n",
       "  673,\n",
       "  2717,\n",
       "  11596,\n",
       "  83,\n",
       "  39742,\n",
       "  198,\n",
       "  9,\n",
       "  7,\n",
       "  8,\n",
       "  29,\n",
       "  15,\n",
       "  293,\n",
       "  12,\n",
       "  0,\n",
       "  63,\n",
       "  28,\n",
       "  181,\n",
       "  68,\n",
       "  93,\n",
       "  435,\n",
       "  376,\n",
       "  47,\n",
       "  7,\n",
       "  9668,\n",
       "  10,\n",
       "  7,\n",
       "  4400,\n",
       "  10,\n",
       "  11,\n",
       "  7,\n",
       "  17557,\n",
       "  9,\n",
       "  3],\n",
       " 0)"
      ]
     },
     "execution_count": 39,
     "metadata": {},
     "output_type": "execute_result"
    }
   ],
   "source": [
    "ll.train[0]"
   ]
  },
  {
   "cell_type": "code",
   "execution_count": 40,
   "metadata": {},
   "outputs": [
    {
     "data": {
      "text/plain": [
       "\"xxbos xxmaj alan xxmaj rickman & xxmaj emma xxmaj thompson give good performances with southern / xxmaj new xxmaj orleans accents in this detective flick . xxmaj it 's worth seeing for their scenes- and xxmaj rickman 's scene with xxmaj hal xxmaj holbrook . xxmaj these three actors xxunk to entertain us no matter what the movie , it seems . xxmaj the plot for the movie shows potential , but one gets the impression in watching the film that it was not pulled off as well as it could have been . xxmaj the fact that it is cluttered by a rather uninteresting subplot and mostly uninteresting kidnappers really muddles things . xxmaj the movie is worth a xxunk if for nothing more than entertaining performances by xxmaj rickman , xxmaj thompson , and xxmaj holbrook . xxeos\""
      ]
     },
     "execution_count": 40,
     "metadata": {},
     "output_type": "execute_result"
    }
   ],
   "source": [
    "ll.train.x_obj(0)"
   ]
  },
  {
   "cell_type": "code",
   "execution_count": 41,
   "metadata": {},
   "outputs": [],
   "source": [
    "pickle.dump(ll, open(path/'ld.pkl', 'wb'))"
   ]
  },
  {
   "cell_type": "code",
   "execution_count": 42,
   "metadata": {},
   "outputs": [],
   "source": [
    "ll = pickle.load(open(path/'ld.pkl', 'rb'))"
   ]
  },
  {
   "cell_type": "code",
   "execution_count": 43,
   "metadata": {
    "scrolled": true
   },
   "outputs": [
    {
     "data": {
      "text/plain": [
       "SplitData\n",
       "Train: LabeledData\n",
       "x: TextList (89896 items)\n",
       "[[2, 7, 1849, 7, 9668, 204, 7, 3620, 7, 4400, 220, 67, 376, 27, 2408, 124, 7, 183, 7, 5666, 2634, 17, 19, 1190, 502, 9, 7, 16, 22, 293, 334, 28, 80, 36149, 11, 7, 9668, 22, 150, 27, 7, 4485, 7, 17557, 9, 7, 151, 299, 171, 0, 14, 2811, 201, 74, 516, 64, 8, 29, 10, 16, 210, 9, 7, 8, 131, 28, 8, 29, 295, 1048, 10, 30, 42, 241, 8, 1458, 17, 168, 8, 31, 20, 16, 25, 37, 2020, 141, 26, 89, 26, 16, 96, 41, 98, 9, 7, 8, 212, 20, 16, 15, 16092, 47, 12, 269, 2717, 3370, 11, 673, 2717, 11596, 83, 39742, 198, 9, 7, 8, 29, 15, 293, 12, 0, 63, 28, 181, 68, 93, 435, 376, 47, 7, 9668, 10, 7, 4400, 10, 11, 7, 17557, 9, 3], [2, 18, 41, 130, 19, 29, 11, 18, 88, 37, 481, 28, 19, 29, 6711, 9, 18, 73, 37, 122, 59, 182, 14, 7, 1508, 106, 18, 58, 37, 53, 19, 664, 11, 112, 2024, 5704, 9, 18, 58, 37, 53, 14, 871, 703, 6711, 106, 18, 58, 37, 407, 80, 1080, 9, 7, 154, 73, 18, 161, 14, 7, 2101, 69, 18, 269, 161, 14, 7, 2509, 55, 8, 7, 2185, 7, 4678, 66, 7, 2509, 11, 8, 7, 2185, 7, 4678, 38, 8, 5976, 18, 7781, 9, 7, 679, 8, 7, 7720, 7, 3623, 58, 37, 407, 8, 7, 703, 1080, 57, 53, 87, 9, 7, 1577, 18, 105, 37, 1309, 8, 7, 2101, 1273, 74, 516, 64, 9, 18, 251, 26, 89, 1307, 14, 8, 7, 2185, 7, 4678, 11, 910, 687, 368, 11, 318, 397, 1498, 63, 54, 15, 12, 397, 18035, 9, 7, 20, 15, 44, 9, 3], [2, 7, 17, 7, 2939, 7, 3410, 10, 8, 4632, 11, 3073, 7, 5235, 7, 27534, 36, 7, 2186, 7, 7475, 33, 5086, 12, 1865, 2032, 13, 697, 23, 10813, 9915, 57, 14, 99, 215, 306, 14, 2722, 11, 12429, 17, 1721, 5500, 9, 7, 40, 4139, 11, 82, 5166, 15, 521, 11, 278, 1249, 27, 1586, 368, 9, 24, 21, 7, 23913, 21, 15, 48, 2717, 10, 1143, 11, 578, 365, 29, 59, 48, 8895, 3715, 31155, 20, 532, 12, 381, 13, 499, 55, 2212, 57, 14, 99, 215, 306, 14, 815, 4679, 11, 12429, 10, 129, 1235, 3872, 713, 14, 40, 9248, 1971, 9, 7, 17, 20898, 27, 940, 10, 19, 123, 73, 43, 8, 3014, 5469, 23, 3930, 13, 8, 2085, 7, 1218, 7, 15903, 10, 11, 450, 34, 19, 81, 10, 18, 105, 444, 134, 369, 120, 13, 40, 2903, 9, 7, 1220, 10, 63, 8, 519, 1197, 19, 777, 13, 4632, 4077, 10, 146, 141, 168, 8, 1352, 11, 4929, 7, 9346, 7, 19954, 22, 21, 7, 0, 21, 55, 7, 10880, 7, 0, 22, 21, 7, 58502, 8064, 7, 0, 7, 0, 21, 20, 15, 450, 34, 8, 136, 13, 8, 187, 566, 9, 7, 77, 1953, 15, 691, 9, 24, 7, 439, 36, 7, 3324, 33, 95, 21, 7, 23913, 537, 7, 58503, 7, 52531, 21, 36, 21, 7, 23913, 537, 7, 229, 7, 5106, 21, 33, 3], [2, 7, 19, 31, 15, 32156, 361, 27, 21, 7, 48166, 0, 3069, 7, 22976, 92, 7065, 0, 7, 0, 21, 11, 217, 125, 580, 12, 189, 14, 43, 4494, 17, 8, 116, 13, 80, 290, 9497, 9, 7, 107, 10, 217, 125, 38, 70, 477, 188, 1951, 252, 16, 267, 14, 84, 628, 64, 22, 1409, 9, 7, 346, 10, 1067, 31, 60, 2265, 11, 32, 38, 875, 14, 126, 12, 2324, 31, 188, 173, 21, 7, 9611, 7, 0, 4554, 7, 0, 21, 91, 327, 14, 41, 12, 146, 6455, 9, 7, 1295, 10, 18, 234, 2702, 2265, 30, 28, 8, 697, 23, 13087, 61, 54, 19, 15, 35, 12, 458, 9, 7, 151, 290, 702, 10, 216, 10, 38, 37, 8, 2054, 13, 8, 231, 31, 1191, 188, 57, 8, 7387, 5139, 129, 8265, 691, 2664, 330, 9, 24, 7, 26, 28, 8, 31, 10, 16, 22, 59, 8, 5221, 13, 7, 1656, 7, 5419, 9, 7, 19, 15, 12, 693, 458, 10, 26, 7, 1081, 7, 2496, 308, 59, 26, 94, 53, 7, 5419, 26, 7, 4273, 7, 6063, 9, 7, 17, 74, 116, 1684, 91, 39, 185, 53, 7, 5419, 9, 7, 39, 22, 1003, 8, 6758, 10, 60, 8, 377, 1103, 1410, 11, 415, 11, 15, 57, 37, 76, 520, 17, 120, 116, 36, 1722, 87, 34, 19, 10, 18, 257, 48, 7, 298, 7, 494, 1550, 11, 90, 38, 1517, 14, 140, 151, 456, 13, 198, 50, 33, 9, 7, 8, 164, 136, 7, 5419, 25, 12, 7, 2797, 7, 315, 769, 11, 593, 53, 8, 459, 34, 8, 7, 1294, 7, 972, 10035, 2348, 8711, 9, 7, 895, 10, 797, 65, 101, 304, 14, 1644, 8, 584, 28, 7, 2496, 17, 8, 3350, 15, 57, 2325, 9, 7, 134, 177, 55, 253, 60, 7, 1081, 7, 2496, 2873, 200, 52, 5208, 50, 50, 7, 39, 25, 12, 503, 304, 92, 30, 444, 37, 12, 1119, 769, 55, 5208, 1656, 9, 24, 7, 17, 1635, 14, 8, 394, 1069, 10, 7, 1656, 7, 5419, 22, 338, 25, 17, 74, 116, 53, 19, 31, 9, 7, 16, 22, 594, 20, 8, 31, 1191, 38, 180, 17558, 17, 34, 8, 957, 12430, 59, 13565, 3952, 8, 338, 13, 10142, 10, 37, 7, 5419, 9, 7, 5419, 25, 339, 17, 7, 2683, 10, 9036, 36, 37, 7, 6977, 33, 47, 12, 4070, 13200, 27, 4809, 1886, 702, 188, 37, 12, 540, 13, 348, 27, 11597, 9, 7, 216, 10, 1945, 14, 110, 7008, 10, 64, 180, 525, 7, 5419, 36, 142, 127, 1815, 330, 33, 86, 4741, 4578, 188, 49, 32157, 11, 32157, 11, 32157, 14, 8637, 12, 3908, 36, 14, 74, 10742, 33, 11, 134, 2589, 6978, 80, 932, 55, 21712, 17, 8, 1652, 9, 7, 17, 101, 689, 10, 53, 7, 741, 7, 2683, 36, 49, 25, 690, 525, 47, 2718, 20899, 69, 2049, 27, 44685, 33, 39, 1088, 713, 14, 34625, 9, 7, 17, 8, 29, 46, 208, 181, 227, 1684, 92, 101, 93, 862, 7, 1656, 7, 5419, 25, 339, 9, 24, 7, 106, 8, 31, 3210, 240, 74, 7476, 14, 164, 494, 10, 16, 22, 53, 12, 494, 2176, 26, 4157, 51, 307, 51, 175, 1369, 55, 307, 27, 12, 4809, 1205, 6589, 9, 7, 154, 37, 103, 1483, 6893, 10, 990, 4005, 11, 8, 7, 3017, 6207, 153, 32, 199, 45, 16, 66, 50, 66, 50, 7, 1188, 51, 65, 547, 137, 11, 390, 1204, 10, 106, 8, 246, 15, 2146, 5859, 625, 10, 18, 58, 35, 405, 273, 126, 16, 9, 7, 16, 22, 57, 12, 614, 11, 2146, 935, 9, 3], [2, 18, 82, 950, 34, 83, 70, 67, 125, 11, 34, 2146, 1879, 9, 7, 77, 5249, 15, 14, 363, 100, 49, 205, 14, 84, 102, 125, 14, 1164, 80, 75, 23, 11, 306, 23, 6759, 9, 24, 18, 103, 205, 14, 544, 100, 3126, 80, 75, 34, 1230, 10, 11, 205, 14, 44686, 8, 212, 20, 8, 170, 124, 1253, 13, 151, 1230, 125, 197, 35, 99, 263, 27, 16, 28, 70, 214, 9, 7, 90, 105, 186, 61, 49, 32, 38, 11, 105, 1953, 27, 61, 2039, 23, 11, 34626, 9, 24, 7, 19, 31, 711, 759, 104, 8, 1230, 2695, 9, 24, 7, 8, 170, 11, 566, 15, 7, 321, 7, 29184, 9, 7, 16, 22, 234, 12, 97, 1981, 69, 8, 566, 15, 103, 8, 170, 9, 7, 296, 39, 511, 127, 964, 36150, 9, 7, 39, 155, 35, 99, 120, 9, 7, 52, 417, 8, 412, 23, 7, 321, 29184, 9, 7, 11, 63, 32, 84, 256, 344, 47, 109, 10, 836, 16, 9, 24, 18, 493, 35, 157, 256, 59, 8, 131, 23, 414, 41, 491, 9, 18, 257, 12, 139, 3723, 47, 108, 94, 8, 170, 1197, 14, 9498, 17, 14, 8, 357, 258, 22, 409, 69, 71, 15, 2485, 11, 2133, 9, 7, 151, 214, 6734, 688, 38, 12, 139, 9292, 11, 226, 157, 158, 59, 8, 1060, 13, 347, 13, 7, 595, 7, 29184, 9, 7, 296, 39, 155, 99, 9347, 363, 9, 24, 7, 215, 491, 9, 7, 16, 22, 625, 23, 58, 35, 474, 147, 75, 34, 16, 9, 3], [2, 7, 48167, 2464, 66, 50, 18, 167, 789, 30, 76, 28, 8, 1037, 22, 20, 22, 57, 116, 117, 911, 14, 43, 2590, 682, 92, 7, 32, 78, 1403, 8, 231, 8, 1062, 10525, 587, 106, 16, 25, 15085, 176, 118, 11, 264, 295, 10, 30, 20, 22, 98, 245, 301, 10, 52, 8, 709, 922, 14, 43, 12, 139, 360, 1241, 10, 37, 76, 68, 9087, 50, 7, 895, 10, 8, 107, 29, 85, 8, 1275, 13, 7, 1438, 7, 5602, 23, 12, 145, 49, 96, 76, 114, 6485, 0, 17, 4788, 0, 327, 7657, 50, 23, 20, 19, 42, 6784, 1466, 10, 52, 54, 25, 74, 62, 2370, 62, 17, 256, 20, 576, 10, 16, 57, 480, 674, 9, 24, 7, 3415, 18, 82, 236, 19, 301, 69, 18, 25, 710, 10, 30, 47, 115, 491, 129, 12, 681, 351, 13, 8, 231, 18, 417, 129, 5297, 9, 7, 14, 87, 10, 54, 15, 74, 709, 14, 7, 5840, 7, 329, 10, 57, 12, 5117, 2619, 20, 91, 35, 1788, 120, 25547, 1684, 9, 3], [2, 7, 2866, 10143, 36, 27, 15086, 21, 5021, 21, 223, 0, 14776, 2490, 10, 21, 7, 2139, 21, 3680, 12, 189, 13, 4686, 14, 867, 163, 11, 105, 261, 496, 141, 110, 794, 132, 30, 8, 425, 2988, 2649, 314, 11, 7, 915, 7, 19341, 10, 49, 10676, 40, 663, 17, 240, 190, 150, 10, 103, 427, 48, 1281, 1119, 255, 9, 12, 17769, 10, 14, 43, 271, 10, 30, 8, 68, 5282, 21, 7, 1226, 21, 10, 113, 127, 172, 330, 10, 15, 12, 3873, 1515, 951, 9, 18, 1493, 32, 126, 20, 317, 9, 36, 194, 384, 124, 262, 33, 3], [2, 7, 69, 7, 358, 15, 281, 14, 4687, 64, 48, 21, 1104, 418, 21, 15, 53, 10, 46, 1967, 52, 3221, 10, 1419, 16, 267, 1509, 689, 17, 8, 1659, 13, 8, 17298, 21, 1186, 21, 9, 24, 7, 227, 10, 120, 1186, 2312, 207, 281, 14, 11116, 17, 40, 12851, 45, 190, 1997, 9, 7, 271, 10, 46, 2845, 61, 17, 5539, 11, 1206, 1761, 537, 16, 22, 37, 53, 46, 38, 36, 52532, 4882, 33, 10144, 9293, 49, 134, 41, 12, 13088, 9, 24, 7, 895, 10, 63, 32, 38, 12, 1186, 32, 140, 44, 59, 7, 10262, 11, 7, 494, 11, 7, 2506, 11, 13, 287, 32, 199, 1377, 72, 14, 1316, 27, 1942, 715, 11, 12, 11498, 5540, 13, 111, 9, 7, 17770, 151, 198, 10, 53, 10, 44, 161, 312, 2838, 541, 10, 25548, 66, 24, 7, 895, 10, 32, 1236, 207, 27, 12, 12246, 44, 8, 75, 9, 7, 32, 38, 57, 12, 7066, 483, 13, 12, 32, 23, 140, 23, 64, 10, 20, 22, 108, 16, 15, 10, 29185, 44, 9, 24, 7, 11, 13, 287, 32, 3505, 10, 53, 307, 49, 134, 16093, 177, 10, 30, 32, 3505, 17770, 16, 22, 53, 592, 2838, 541, 10, 25548, 9, 7, 11, 32, 199, 284, 9, 7, 20, 15, 2773, 9, 24, 7, 11, 13, 287, 32, 78, 554, 537, 32, 199, 12, 5705, 9, 12, 5705, 49, 678, 75, 14, 2052, 52533, 1213, 1940, 39, 91, 35, 5060, 22977, 9, 7, 11, 1940, 39, 91, 35, 3505, 55, 2722, 3127, 106, 39, 1117, 12, 6944, 3439, 33279, 9, 24, 7, 11, 32, 1316, 12, 27535, 1112, 1400, 537, 7, 12056, 7, 2114, 9, 7, 89, 10, 18, 493, 35, 76, 950, 7, 2186, 7, 7169, 9, 7, 728, 7, 786, 60, 613, 8, 4184, 34, 8, 431, 491, 9, 24, 7, 19, 29, 15, 12, 20561, 13, 12, 7, 17088, 204, 7, 20562, 552, 1400, 36, 17, 101, 689, 6229, 1361, 13, 111, 33, 95, 21, 7, 1157, 10, 20, 22, 64, 18, 73, 43, 53, 63, 18, 25, 12, 1186, 9, 21, 7, 30, 394, 100, 11, 394, 7889, 17, 19, 436, 78, 37, 828, 8, 479, 13, 9791, 9, 3], [2, 7, 4710, 880, 8548, 7, 27536, 7, 36151, 15, 8847, 61, 13, 288, 27, 19, 5894, 701, 272, 1617, 11, 6486, 81, 20, 2474, 51, 12, 597, 618, 13, 934, 7135, 9, 7, 36151, 210, 14, 41, 58504, 10263, 75, 11, 7273, 28, 8, 107, 213, 26, 804, 7, 915, 7, 9399, 11, 7, 19640, 7, 9400, 300, 139, 798, 104, 80, 585, 10, 3936, 432, 19641, 11, 229, 1743, 9, 24, 7, 3550, 7599, 6863, 7, 6230, 21, 7, 11357, 21, 7, 24456, 532, 26, 48, 961, 145, 34, 12, 2121, 320, 20, 289, 97, 11, 241, 40, 331, 525, 17, 8, 1652, 9, 7, 39, 3070, 51, 1086, 11, 1235, 717, 61, 14, 514, 8, 331, 13, 8, 1190, 49, 525, 40, 9, 7, 3283, 13, 1617, 38, 58505, 14, 408, 109, 51, 404, 14, 8, 367, 13, 8, 1413, 49, 60, 98, 1658, 14, 175, 1526, 30, 73, 35, 32, 140, 17, 8, 125, 485, 403, 90, 41, 7, 11357, 21277, 2039, 536, 8, 1362, 36, 49, 218, 832, 20, 651, 12, 2671, 162, 14, 8, 350, 25, 12, 497, 837, 33, 153, 12, 1066, 13, 1617, 7820, 11, 22535, 142, 64, 211, 14, 213, 9, 7, 497, 5977, 66, 7, 32, 155, 84, 16, 9, 7, 16, 22, 44, 13, 20, 11, 68, 9, 24, 7, 20563, 7, 20900, 22, 372, 179, 91, 12, 547, 320, 13, 2127, 1489, 14, 8, 11598, 30, 8, 823, 15, 26857, 11, 28294, 11, 16, 23914, 8, 31, 13, 112, 782, 11, 1076, 9, 7, 26, 7, 24456, 10, 7, 17089, 7, 6487, 15, 8, 138, 169, 17, 8, 31, 8189, 14, 7782, 102, 2469, 26, 39, 7821, 51, 3821, 1308, 14, 2604, 9, 7, 151, 9499, 1188, 7, 486, 6189, 1029, 17, 4633, 11, 2399, 252, 112, 761, 747, 9, 7, 161, 7, 880, 176, 7, 27536, 9, 3], [2, 7, 270, 29, 144, 130, 9, 7, 270, 137, 117, 9, 18, 78, 37, 828, 12, 29, 462, 115, 19, 9, 7, 181, 14, 84, 9, 7, 74, 137, 45, 44, 9, 2298, 1336, 36, 171, 33, 155, 185, 28, 175, 320, 9, 18, 58506, 407, 49, 25, 394, 215, 14, 180, 300, 306, 104, 19, 29, 9, 24, 18, 167, 789, 28, 7, 2122, 7, 2740, 9, 7, 225, 43, 1198, 92, 18, 78, 37, 828, 108, 0, 40, 19072, 225, 43, 14, 4356, 651, 8, 320, 50, 24, 7, 8, 2111, 17, 8, 29, 92, 402, 46, 146, 1307, 14, 11888, 9, 24, 7, 26, 28, 8, 997, 145, 92, 64, 12, 471, 50, 7, 39, 146, 43, 300, 34, 12, 471, 11, 784, 54, 50, 18, 78, 84, 109, 129, 68, 1160, 45, 12966, 269, 93, 137, 9, 24, 7, 464, 705, 95, 7, 58, 37, 822, 92, 58, 37, 815, 50, 3]...]\n",
       "Path: /Users/vks/.fastai/data/imdb\n",
       "y: ItemList (89896 items)\n",
       "[0, 0, 0, 0, 0, 0, 0, 0, 0, 0...]\n",
       "Path: /Users/vks/.fastai/data/imdb\n",
       "\n",
       "Valid: LabeledData\n",
       "x: TextList (10104 items)\n",
       "[[2, 7, 69, 32, 185, 45, 8, 1013, 11, 369, 541, 59, 16, 48, 1106, 284, 552, 13, 29, 292, 14, 347, 93, 64, 32, 99, 148, 9, 7, 115, 193, 296, 18, 369, 8, 2719, 28, 8, 101, 29, 455, 21, 7, 0, 21, 317, 26, 54, 86, 127, 118, 13, 19, 439, 648, 59, 8, 187, 75, 27, 217, 1917, 1633, 20, 85, 1314, 772, 17, 1113, 9, 7, 216, 10, 897, 541, 59, 20, 29, 148, 18, 140, 18, 236, 19, 42, 11, 37, 20, 42, 11, 20, 29, 15, 76, 360, 64, 42, 73, 828, 12, 29, 27, 20, 439, 73, 43, 59, 9, 18, 105, 43, 1162, 10, 18, 531, 68, 13, 12, 1054, 552, 454, 11, 32, 99, 20, 17, 19, 29, 14, 65, 2567, 9, 7, 216, 10, 54, 15, 68, 541, 1149, 8, 8403, 11, 669, 1674, 26, 8, 654, 150, 13, 8, 100, 129, 603, 263, 47, 8, 14245, 45, 8, 475, 13, 8, 31, 105, 17925, 14, 9, 7, 8, 29, 103, 60, 8, 176, 777, 13, 378, 182, 1280, 46, 58, 37, 4130, 14, 41, 65, 957, 988, 10, 17, 19, 436, 16, 15, 17, 212, 12, 17632, 9, 7, 8, 101, 29, 18, 58, 37, 122, 83, 60, 20, 1314, 810, 419, 20, 5228, 232, 17, 8, 29, 11, 18, 84, 8, 581, 28, 19, 42, 15, 2001, 117, 10, 152, 16, 25, 57, 37, 8, 29, 18, 25, 1041, 9, 3], [2, 7, 5429, 73, 13, 98, 23965, 10, 63, 39, 695, 20, 40, 967, 25, 129, 902, 61, 4917, 50, 50, 50, 7, 103, 8, 171, 49, 276, 8, 4917, 38, 2103, 6026, 9, 7, 713, 14, 8, 212, 20, 419, 12, 3453, 15, 37, 137, 16, 15, 57, 690, 420, 181, 9, 7, 74, 42, 83, 105, 481, 49, 8, 3453, 25, 9, 100, 82, 481, 49, 276, 12, 693, 232, 17, 53, 48, 873, 29, 9, 19, 15, 57, 643, 108, 32, 96, 6521, 160, 48, 522, 145, 11, 40, 2655, 10, 47, 19, 1002, 139, 29, 9, 7, 19, 155, 43, 12, 778, 11, 4, 224, 9, 18, 197, 1150, 283, 32, 73, 2822, 12, 309, 53, 20, 9, 18, 218, 8, 29, 25, 453, 656, 11, 155, 43, 2508, 4, 224, 50, 7, 16, 482, 4226, 64, 147, 1364, 14, 43, 404, 51, 897, 16, 9, 7, 147, 57, 252, 16, 12, 219, 996, 9, 3], [2, 7, 1229, 7, 2231, 25, 48, 2153, 12719, 11, 1816, 36, 84, 483, 13, 46308, 11, 6427, 2702, 15304, 33, 10, 30, 32, 323, 134, 492, 16, 51, 56, 2367, 148, 9, 12, 164, 4006, 10, 1050, 47, 7, 1663, 7, 4441, 17, 40, 44, 23, 117, 23, 1160, 798, 14, 514, 141, 7654, 7, 1618, 7, 1339, 9, 24, 7, 8, 29, 1247, 112, 107, 1441, 14, 143, 141, 1249, 7, 1229, 69, 16, 1299, 56, 17, 12, 7538, 5041, 11, 115, 60, 56, 0, 1276, 21, 18, 260, 7, 43, 7, 6811, 36, 7, 63, 18, 7, 2411, 35, 7, 42874, 62, 7, 0, 16, 22, 44, 4289, 51, 54, 9, 7, 17, 56, 8917, 10, 7, 2231, 30664, 28, 8, 29, 22, 657, 21, 7, 23700, 62, 28, 7, 1092, 21, 106, 16, 25, 1501, 52, 32060, 188, 2956, 32, 96, 143, 16, 34, 7, 8, 7, 1019, 7, 1207, 9, 36, 7, 47, 8, 116, 10, 325, 8917, 60, 12, 4859, 23, 4572, 4523, 13, 7, 2231, 17, 12, 8260, 10, 247, 17748, 93, 256, 3], [2, 7, 3624, 7, 0, 9, 18, 476, 8, 309, 228, 11, 8342, 17360, 274, 42, 17, 662, 393, 11, 69, 18, 570, 20, 54, 25, 12, 721, 1445, 10, 18, 25, 70, 2360, 9, 24, 7, 422, 64, 12, 303, 203, 8, 485, 2201, 25, 9, 18, 122, 28, 87, 10, 19, 25, 8, 587, 69, 7, 12359, 2382, 129, 59, 592, 7848, 11, 68, 3753, 9, 24, 7, 52, 64, 25, 377, 27, 8, 228, 66, 7, 303, 87, 1568, 8, 764, 95, 384, 9, 7, 8, 121, 86, 16130, 3694, 9, 7, 17, 8, 1213, 10, 8, 7, 0, 86, 1280, 223, 1754, 23, 3005, 10, 8, 721, 196, 86, 45, 242, 3316, 9, 18, 417, 129, 6947, 69, 18, 107, 236, 8, 196, 4887, 9, 24, 262, 9, 7, 2883, 137, 124, 97, 521, 9, 18, 10230, 79, 25, 14, 1672, 52, 18, 167, 0, 104, 8, 22125, 3041, 20, 16, 25, 9, 7, 402, 16, 25, 8, 212, 20, 8, 26367, 605, 13, 8, 196, 12518, 8, 468, 20, 15, 45, 242, 1027, 565, 61, 13, 12, 2260, 340, 176, 106, 7, 10880, 23, 37, 174, 9, 7, 17, 212, 10, 18, 58, 35, 417, 12, 687, 2874, 587, 51, 8, 540, 11, 54, 86, 12, 191, 9, 7, 8, 171, 86, 444, 37, 1685, 47, 8, 521, 79, 25, 1969, 45, 112, 138, 11, 431, 0, 1167, 45, 112, 270, 9, 24, 388, 9, 7, 77, 1769, 46, 86, 31529, 27, 8, 355, 9, 7, 8, 485, 930, 13, 8, 7, 0, 644, 155, 41, 2566, 7, 0, 14, 1488, 8, 10043, 92, 7, 80, 1698, 85, 0, 20, 711, 1211, 79, 25, 8, 9482, 9, 24, 224, 9, 7, 162, 14, 8, 196, 23, 7, 2925, 47, 247, 25, 8, 1166, 303, 203, 10, 247, 51, 129, 8, 3901, 268, 17, 8, 1213, 10, 8, 138, 4592, 17, 8, 264, 228, 25, 21, 5374, 21, 9, 7, 103, 10, 18, 140, 7, 10189, 25, 48, 15217, 30, 54, 15, 12, 1555, 223, 21, 15217, 21, 11, 21, 2421, 21, 9, 24, 374, 9, 7, 42, 13, 8, 270, 654, 2638, 144, 9, 7, 88, 8, 238, 41, 14, 43, 20, 594, 66, 891, 9, 7, 11530, 893, 891, 10, 21, 447, 21, 106, 297, 344, 25, 10015, 203, 52, 154, 155, 35, 8, 38789, 360, 1104, 794, 4051, 12, 4083, 26, 12, 7783, 636, 51, 12, 866, 4217, 23, 848, 1533, 23, 141, 55, 861, 8, 586, 20, 25, 9, 24, 7, 253, 115, 10, 54, 41, 98, 1882, 303, 6942, 36, 7, 4406, 10, 3815, 33, 30, 17, 436, 18, 41, 35, 113, 560, 747, 23, 19, 143, 2118, 11, 25, 48, 6865, 14, 8, 309, 228, 16, 25, 461, 14, 43, 450, 51, 9, 3], [2, 7, 76, 7, 6108, 7, 16782, 22, 1275, 11, 8, 191, 36, 70, 191, 33, 67, 7, 703, 1919, 38, 2084, 14, 596, 19, 890, 579, 11, 365, 29, 50, 12, 1455, 9, 7, 8, 81, 15, 863, 11, 52, 15, 137, 9, 7, 19, 29, 25, 6570, 26, 8, 7, 703, 353, 13, 7, 8, 7, 3824, 10, 30, 8, 7, 3824, 60, 45, 242, 2099, 11, 752, 302, 92, 3], [2, 7, 63, 46, 85, 12, 7, 1715, 61, 13, 184, 18, 73, 13, 5908, 16, 9, 7, 313, 588, 17, 19, 31, 155, 43, 3006, 13, 533, 651, 306, 51, 8, 1033, 9, 18, 58, 35, 140, 108, 125, 53, 19, 99, 648, 7, 397, 55, 7, 964, 7, 1207, 9, 18, 257, 685, 17, 7, 2578, 7, 21040, 9, 7, 6286, 7, 8465, 25, 17, 16, 28, 59, 753, 249, 10, 52, 18, 197, 35, 99, 20, 1174, 45, 109, 9, 7, 82, 8, 418, 49, 3868, 109, 14, 43, 8, 342, 17, 16, 9, 7, 16, 15, 53, 7, 7824, 7, 4599, 17, 7, 2694, 9, 7, 54, 15, 74, 131, 567, 7, 21040, 2747, 11, 1419, 40, 443, 17, 8, 23703, 9, 7, 154, 46, 86, 2747, 28, 8, 6534, 13, 586, 82, 8, 170, 700, 9, 7, 46, 155, 13, 802, 19, 31, 17, 7, 10898, 11, 4033, 16, 28, 1009, 14, 408, 44, 8, 4757, 2366, 2322, 28, 8, 329, 9, 7, 54, 15, 181, 68, 14, 157, 59, 19, 31, 20, 44, 8, 101, 2050, 41, 433, 9, 18, 660, 18, 96, 836, 19, 29, 16, 4849, 77, 1205, 9, 3], [2, 18, 41, 35, 130, 128, 118, 462, 93, 19, 42, 9, 7, 8, 81, 364, 10, 8, 3637, 10, 8, 137, 95, 16, 22, 202, 50, 7, 8, 81, 57, 3277, 51, 12, 14, 627, 14, 2929, 229, 120, 3575, 3376, 17, 223, 9, 7, 190, 75, 32, 122, 32, 159, 1125, 158, 10, 30, 74, 95, 20, 25, 8, 116, 16, 25, 1413, 14, 43, 9, 7, 11, 154, 34, 729, 15, 8, 123, 20, 7, 4553, 7, 12129, 2217, 52, 17, 133, 27, 20, 74, 23, 74, 3645, 230, 36, 49, 180, 166, 310, 17, 8, 29, 7, 4434, 7, 145, 27, 7, 12845, 7, 5826, 50, 33, 66, 1412, 89, 10, 16, 22, 74, 7, 3194, 10, 13, 287, 92, 18, 41, 14, 936, 730, 432, 14, 99, 5268, 9, 7, 19, 29, 83, 15, 35, 3628, 215, 14, 936, 184, 432, 50, 7, 16, 22, 12, 737, 250, 67, 29, 27, 12, 2347, 81, 10, 52, 63, 32, 199, 72, 28, 20, 95, 32, 260, 41, 12, 1909, 9, 3], [2, 18, 220, 19, 29, 262, 429, 2976, 106, 13, 112, 1071, 3765, 131, 364, 9, 7, 229, 182, 104, 117, 94, 1535, 9, 24, 7, 8, 137, 17, 19, 29, 15, 410, 9, 7, 83, 410, 23, 1689, 10, 1990, 9, 24, 7, 8, 8674, 34, 143, 15, 863, 10, 52, 1604, 863, 20, 18, 78, 82, 609, 154, 46, 2589, 14, 383, 8674, 2751, 45, 44, 9, 16, 25, 594, 17, 8, 17949, 156, 20, 46, 323, 1937, 101, 100, 17, 14, 58, 8, 62, 179, 62, 9, 7, 46, 251, 26, 89, 41, 303, 8, 171, 58, 8, 3618, 11, 2072, 533, 12, 191, 6867, 9, 24, 18, 73, 785, 19, 31, 45, 44, 2323, 9, 24, 7, 8, 545, 33155, 775, 345, 14, 43, 158, 18, 7774, 14, 34, 77, 23056, 10, 112, 182, 14, 43, 12, 153, 177, 18, 78, 161, 162, 54, 28, 1130, 13, 19, 29, 565, 162, 104, 77, 347, 9, 24, 7, 785, 45, 44, 2323, 9, 7, 931, 32, 38, 555, 14, 672, 21, 7, 1395, 10, 112, 98, 12, 153, 253, 18, 159, 130, 12, 83, 7727, 29, 4, 224, 9, 21, 3], [2, 7, 52, 42, 272, 18, 25, 17, 8, 397, 1079, 282, 28, 12, 29, 9, 18, 411, 616, 19, 11, 1610, 16, 106, 16, 25, 12, 31, 18, 85, 35, 130, 55, 76, 570, 13, 9, 24, 7, 166, 18, 53, 1254, 118, 17, 769, 10, 30, 19, 15, 57, 4402, 10, 37, 76, 67, 28, 942, 9, 7, 1381, 129, 3160, 3160, 704, 11, 5437, 44, 1254, 31, 5790, 11, 410, 137, 16, 60, 8, 110, 4741, 11, 2752, 469, 18, 41, 144, 235, 616, 9, 7, 166, 558, 8, 3917, 6445, 78, 43, 981, 17, 12, 31, 11, 65, 3391, 78, 152, 43, 85, 10, 30, 37, 148, 9, 7, 1360, 512, 13, 367, 23, 113, 202, 9, 3], [2, 17793, 15, 206, 237, 856, 23, 851, 9, 7, 74, 693, 355, 10, 70, 191, 324, 302, 132, 30, 547, 137, 11, 12, 745, 13, 4928, 4140, 15, 215, 14, 7581, 814, 9, 7, 48, 13974, 0, 8, 884, 11, 6969, 8, 7, 729, 104, 48, 13176, 2435, 14, 8, 2303, 9, 7, 4928, 4761, 5922, 490, 4245, 9, 12, 2837, 14804, 0, 7, 1081, 7, 0, 44, 61, 14, 596, 8, 195, 51, 755, 17695, 26, 8, 4418, 24939, 38, 6204, 9, 7, 8, 4538, 15, 34, 14, 596, 4354, 51, 19, 10670, 9901, 132, 26, 89, 26, 2801, 40, 542, 10, 2892, 1208, 23, 331, 11, 264, 2492, 971, 9, 7, 8, 196, 1752, 95, 7, 31294, 7, 3216, 7, 38407, 10, 7, 8989, 7, 0, 10, 7, 4579, 7, 883, 11, 7, 2578, 7, 10178, 9, 3]...]\n",
       "Path: /Users/vks/.fastai/data/imdb\n",
       "y: ItemList (10104 items)\n",
       "[0, 0, 0, 0, 0, 0, 0, 0, 0, 0...]\n",
       "Path: /Users/vks/.fastai/data/imdb\n"
      ]
     },
     "execution_count": 43,
     "metadata": {},
     "output_type": "execute_result"
    }
   ],
   "source": [
    "ll"
   ]
  },
  {
   "cell_type": "markdown",
   "metadata": {},
   "source": [
    "### Language Modelling Databunch: Batching"
   ]
  },
  {
   "cell_type": "markdown",
   "metadata": {},
   "source": [
    "We have a bit of work to convert our LabelList in a DataBunch as we don't just want batches of IMDB reviews. We want to stream through all the texts concatenated. We also have to prepare the targets that are the newt words in the text. All of this is done with the next object called LM_PreLoader. At the beginning of each epoch, it'll shuffle the articles (if shuffle=True) and create a big stream by concatenating all of them. We divide this big stream in bs smaller streams. That we will read in chunks of bptt length."
   ]
  },
  {
   "cell_type": "code",
   "execution_count": 44,
   "metadata": {},
   "outputs": [],
   "source": [
    "#export\n",
    "# Just using those for illustration purposes, they're not used otherwise.\n",
    "from IPython.display import display,HTML\n",
    "import pandas as pd\n",
    "import numpy as np "
   ]
  },
  {
   "cell_type": "markdown",
   "metadata": {},
   "source": [
    "Then if we split it in 6 batches it would give something like this:"
   ]
  },
  {
   "cell_type": "code",
   "execution_count": 45,
   "metadata": {},
   "outputs": [
    {
     "data": {
      "text/html": [
       "\n",
       "    <div>\n",
       "        <style>\n",
       "            /* Turns off some styling */\n",
       "            progress {\n",
       "                /* gets rid of default border in Firefox and Opera. */\n",
       "                border: none;\n",
       "                /* Needs to be in here for Safari polyfill so background images work as expected. */\n",
       "                background-size: auto;\n",
       "            }\n",
       "            .progress-bar-interrupted, .progress-bar-interrupted::-webkit-progress-bar {\n",
       "                background: #F44336;\n",
       "            }\n",
       "        </style>\n",
       "      <progress value='1' class='' max='1', style='width:300px; height:20px; vertical-align: middle;'></progress>\n",
       "      100.00% [1/1 00:00<00:00]\n",
       "    </div>\n",
       "    "
      ],
      "text/plain": [
       "<IPython.core.display.HTML object>"
      ]
     },
     "metadata": {},
     "output_type": "display_data"
    }
   ],
   "source": [
    "stream = \"\"\"\n",
    "In this notebook, we will go back over the example of classifying movie reviews we studied in part 1 and dig deeper under the surface. \n",
    "First we will look at the processing steps necessary to convert text into numbers and how to customize it. By doing this, we'll have another example of the Processor used in the data block API.\n",
    "Then we will study how we build a language model and train it.\\n\n",
    "\"\"\"\n",
    "tokens = np.array(tp([stream])[0])"
   ]
  },
  {
   "cell_type": "markdown",
   "metadata": {},
   "source": [
    "Then if we have a bptt of 5, we would go over those three batches."
   ]
  },
  {
   "cell_type": "code",
   "execution_count": 46,
   "metadata": {},
   "outputs": [
    {
     "data": {
      "text/html": [
       "<table border=\"1\" class=\"dataframe\">\n",
       "  <tbody>\n",
       "    <tr>\n",
       "      <td>xxbos</td>\n",
       "      <td>\\n</td>\n",
       "      <td>xxmaj</td>\n",
       "      <td>in</td>\n",
       "      <td>this</td>\n",
       "      <td>notebook</td>\n",
       "      <td>,</td>\n",
       "      <td>we</td>\n",
       "      <td>will</td>\n",
       "      <td>go</td>\n",
       "      <td>back</td>\n",
       "      <td>over</td>\n",
       "      <td>the</td>\n",
       "      <td>example</td>\n",
       "      <td>of</td>\n",
       "    </tr>\n",
       "    <tr>\n",
       "      <td>classifying</td>\n",
       "      <td>movie</td>\n",
       "      <td>reviews</td>\n",
       "      <td>we</td>\n",
       "      <td>studied</td>\n",
       "      <td>in</td>\n",
       "      <td>part</td>\n",
       "      <td>1</td>\n",
       "      <td>and</td>\n",
       "      <td>dig</td>\n",
       "      <td>deeper</td>\n",
       "      <td>under</td>\n",
       "      <td>the</td>\n",
       "      <td>surface</td>\n",
       "      <td>.</td>\n",
       "    </tr>\n",
       "    <tr>\n",
       "      <td>\\n</td>\n",
       "      <td>xxmaj</td>\n",
       "      <td>first</td>\n",
       "      <td>we</td>\n",
       "      <td>will</td>\n",
       "      <td>look</td>\n",
       "      <td>at</td>\n",
       "      <td>the</td>\n",
       "      <td>processing</td>\n",
       "      <td>steps</td>\n",
       "      <td>necessary</td>\n",
       "      <td>to</td>\n",
       "      <td>convert</td>\n",
       "      <td>text</td>\n",
       "      <td>into</td>\n",
       "    </tr>\n",
       "    <tr>\n",
       "      <td>numbers</td>\n",
       "      <td>and</td>\n",
       "      <td>how</td>\n",
       "      <td>to</td>\n",
       "      <td>customize</td>\n",
       "      <td>it</td>\n",
       "      <td>.</td>\n",
       "      <td>xxmaj</td>\n",
       "      <td>by</td>\n",
       "      <td>doing</td>\n",
       "      <td>this</td>\n",
       "      <td>,</td>\n",
       "      <td>we</td>\n",
       "      <td>'ll</td>\n",
       "      <td>have</td>\n",
       "    </tr>\n",
       "    <tr>\n",
       "      <td>another</td>\n",
       "      <td>example</td>\n",
       "      <td>of</td>\n",
       "      <td>the</td>\n",
       "      <td>xxmaj</td>\n",
       "      <td>processor</td>\n",
       "      <td>used</td>\n",
       "      <td>in</td>\n",
       "      <td>the</td>\n",
       "      <td>data</td>\n",
       "      <td>block</td>\n",
       "      <td>api</td>\n",
       "      <td>.</td>\n",
       "      <td>\\n</td>\n",
       "      <td>xxmaj</td>\n",
       "    </tr>\n",
       "    <tr>\n",
       "      <td>then</td>\n",
       "      <td>we</td>\n",
       "      <td>will</td>\n",
       "      <td>study</td>\n",
       "      <td>how</td>\n",
       "      <td>we</td>\n",
       "      <td>build</td>\n",
       "      <td>a</td>\n",
       "      <td>language</td>\n",
       "      <td>model</td>\n",
       "      <td>and</td>\n",
       "      <td>train</td>\n",
       "      <td>it</td>\n",
       "      <td>.</td>\n",
       "      <td>\\n\\n</td>\n",
       "    </tr>\n",
       "  </tbody>\n",
       "</table>"
      ],
      "text/plain": [
       "<IPython.core.display.HTML object>"
      ]
     },
     "metadata": {},
     "output_type": "display_data"
    }
   ],
   "source": [
    "bs,seq_len = 6,15\n",
    "d_tokens = np.array([tokens[i*seq_len:(i+1)*seq_len] for i in range(bs)])\n",
    "df = pd.DataFrame(d_tokens)\n",
    "display(HTML(df.to_html(index=False,header=None)))"
   ]
  },
  {
   "cell_type": "markdown",
   "metadata": {},
   "source": [
    "Then if we have a bptt of 5, we would go over those three batches."
   ]
  },
  {
   "cell_type": "code",
   "execution_count": 47,
   "metadata": {},
   "outputs": [
    {
     "data": {
      "text/html": [
       "<table border=\"1\" class=\"dataframe\">\n",
       "  <tbody>\n",
       "    <tr>\n",
       "      <td>xxbos</td>\n",
       "      <td>\\n</td>\n",
       "      <td>xxmaj</td>\n",
       "      <td>in</td>\n",
       "      <td>this</td>\n",
       "    </tr>\n",
       "    <tr>\n",
       "      <td>classifying</td>\n",
       "      <td>movie</td>\n",
       "      <td>reviews</td>\n",
       "      <td>we</td>\n",
       "      <td>studied</td>\n",
       "    </tr>\n",
       "    <tr>\n",
       "      <td>\\n</td>\n",
       "      <td>xxmaj</td>\n",
       "      <td>first</td>\n",
       "      <td>we</td>\n",
       "      <td>will</td>\n",
       "    </tr>\n",
       "    <tr>\n",
       "      <td>numbers</td>\n",
       "      <td>and</td>\n",
       "      <td>how</td>\n",
       "      <td>to</td>\n",
       "      <td>customize</td>\n",
       "    </tr>\n",
       "    <tr>\n",
       "      <td>another</td>\n",
       "      <td>example</td>\n",
       "      <td>of</td>\n",
       "      <td>the</td>\n",
       "      <td>xxmaj</td>\n",
       "    </tr>\n",
       "    <tr>\n",
       "      <td>then</td>\n",
       "      <td>we</td>\n",
       "      <td>will</td>\n",
       "      <td>study</td>\n",
       "      <td>how</td>\n",
       "    </tr>\n",
       "  </tbody>\n",
       "</table>"
      ],
      "text/plain": [
       "<IPython.core.display.HTML object>"
      ]
     },
     "metadata": {},
     "output_type": "display_data"
    },
    {
     "data": {
      "text/html": [
       "<table border=\"1\" class=\"dataframe\">\n",
       "  <tbody>\n",
       "    <tr>\n",
       "      <td>notebook</td>\n",
       "      <td>,</td>\n",
       "      <td>we</td>\n",
       "      <td>will</td>\n",
       "      <td>go</td>\n",
       "    </tr>\n",
       "    <tr>\n",
       "      <td>in</td>\n",
       "      <td>part</td>\n",
       "      <td>1</td>\n",
       "      <td>and</td>\n",
       "      <td>dig</td>\n",
       "    </tr>\n",
       "    <tr>\n",
       "      <td>look</td>\n",
       "      <td>at</td>\n",
       "      <td>the</td>\n",
       "      <td>processing</td>\n",
       "      <td>steps</td>\n",
       "    </tr>\n",
       "    <tr>\n",
       "      <td>it</td>\n",
       "      <td>.</td>\n",
       "      <td>xxmaj</td>\n",
       "      <td>by</td>\n",
       "      <td>doing</td>\n",
       "    </tr>\n",
       "    <tr>\n",
       "      <td>processor</td>\n",
       "      <td>used</td>\n",
       "      <td>in</td>\n",
       "      <td>the</td>\n",
       "      <td>data</td>\n",
       "    </tr>\n",
       "    <tr>\n",
       "      <td>we</td>\n",
       "      <td>build</td>\n",
       "      <td>a</td>\n",
       "      <td>language</td>\n",
       "      <td>model</td>\n",
       "    </tr>\n",
       "  </tbody>\n",
       "</table>"
      ],
      "text/plain": [
       "<IPython.core.display.HTML object>"
      ]
     },
     "metadata": {},
     "output_type": "display_data"
    },
    {
     "data": {
      "text/html": [
       "<table border=\"1\" class=\"dataframe\">\n",
       "  <tbody>\n",
       "    <tr>\n",
       "      <td>back</td>\n",
       "      <td>over</td>\n",
       "      <td>the</td>\n",
       "      <td>example</td>\n",
       "      <td>of</td>\n",
       "    </tr>\n",
       "    <tr>\n",
       "      <td>deeper</td>\n",
       "      <td>under</td>\n",
       "      <td>the</td>\n",
       "      <td>surface</td>\n",
       "      <td>.</td>\n",
       "    </tr>\n",
       "    <tr>\n",
       "      <td>necessary</td>\n",
       "      <td>to</td>\n",
       "      <td>convert</td>\n",
       "      <td>text</td>\n",
       "      <td>into</td>\n",
       "    </tr>\n",
       "    <tr>\n",
       "      <td>this</td>\n",
       "      <td>,</td>\n",
       "      <td>we</td>\n",
       "      <td>'ll</td>\n",
       "      <td>have</td>\n",
       "    </tr>\n",
       "    <tr>\n",
       "      <td>block</td>\n",
       "      <td>api</td>\n",
       "      <td>.</td>\n",
       "      <td>\\n</td>\n",
       "      <td>xxmaj</td>\n",
       "    </tr>\n",
       "    <tr>\n",
       "      <td>and</td>\n",
       "      <td>train</td>\n",
       "      <td>it</td>\n",
       "      <td>.</td>\n",
       "      <td>\\n\\n</td>\n",
       "    </tr>\n",
       "  </tbody>\n",
       "</table>"
      ],
      "text/plain": [
       "<IPython.core.display.HTML object>"
      ]
     },
     "metadata": {},
     "output_type": "display_data"
    }
   ],
   "source": [
    "bs,bptt = 6,5\n",
    "for k in range(3):\n",
    "    d_tokens = np.array([tokens[i*seq_len + k*bptt:i*seq_len + (k+1)*bptt] for i in range(bs)])\n",
    "    df = pd.DataFrame(d_tokens)\n",
    "    display(HTML(df.to_html(index=False,header=None)))"
   ]
  },
  {
   "cell_type": "code",
   "execution_count": 48,
   "metadata": {},
   "outputs": [],
   "source": [
    "#export\n",
    "class LM_PreLoader():\n",
    "    \n",
    "    def __init__(self, data, bs=64, bptt=70, shuffle=False):\n",
    "        self.data, self.bs, self.bptt, self.shuffle = data, bs, bptt, shuffle\n",
    "        total_len = sum([len(x) for x in data.x])\n",
    "        self.n_batch = total_len // bs\n",
    "        self.batchify()\n",
    "        \n",
    "    def __len__(self): return ((self.n_batch-1) // self.bptt) * self.bs\n",
    "    \n",
    "    def __getitem__(self, idx):\n",
    "        source = self.batched_data[idx % self.bs]\n",
    "        seq_idx = (idx // self.bs) * self.bptt\n",
    "        return source[seq_idx:seq_idx+self.bptt],source[seq_idx+1:seq_idx+self.bptt+1]\n",
    "        \n",
    "    def batchify(self):\n",
    "        texts = self.data.x\n",
    "        if self.shuffle: texts = texts[torch.randperm(len(texts))]\n",
    "        stream = torch.cat([tensor(t) for t in texts])\n",
    "        self.batched_data = stream[:self.n_batch*self.bs].view(self.bs, self.n_batch)"
   ]
  },
  {
   "cell_type": "code",
   "execution_count": 49,
   "metadata": {},
   "outputs": [],
   "source": [
    "dl = DataLoader(LM_PreLoader(ll.valid, shuffle=True), batch_size=64)"
   ]
  },
  {
   "cell_type": "code",
   "execution_count": 50,
   "metadata": {},
   "outputs": [],
   "source": [
    "iter_dl = iter(dl)\n",
    "x1,y1 = next(iter_dl)\n",
    "x2,y2 = next(iter_dl)"
   ]
  },
  {
   "cell_type": "code",
   "execution_count": 51,
   "metadata": {},
   "outputs": [
    {
     "data": {
      "text/plain": [
       "(torch.Size([64, 70]), torch.Size([64, 70]))"
      ]
     },
     "execution_count": 51,
     "metadata": {},
     "output_type": "execute_result"
    }
   ],
   "source": [
    "x1.size(),y1.size()"
   ]
  },
  {
   "cell_type": "code",
   "execution_count": 52,
   "metadata": {},
   "outputs": [],
   "source": [
    "vocab = proc_num.vocab"
   ]
  },
  {
   "cell_type": "code",
   "execution_count": 53,
   "metadata": {},
   "outputs": [
    {
     "data": {
      "text/plain": [
       "\"xxbos i really tried to give this film a chance but when i realized that most of the film was being told by a bunch of boring officials walking around and talking on phones , i knew it was over . a lot of this film also looked like stock footage . xxmaj that 's just lame . \\n\\n xxmaj the camera person kept like doing these quick short zooms\""
      ]
     },
     "execution_count": 53,
     "metadata": {},
     "output_type": "execute_result"
    }
   ],
   "source": [
    "\" \".join(vocab[o] for o in x1[0])"
   ]
  },
  {
   "cell_type": "code",
   "execution_count": 54,
   "metadata": {},
   "outputs": [
    {
     "data": {
      "text/plain": [
       "\"i really tried to give this film a chance but when i realized that most of the film was being told by a bunch of boring officials walking around and talking on phones , i knew it was over . a lot of this film also looked like stock footage . xxmaj that 's just lame . \\n\\n xxmaj the camera person kept like doing these quick short zooms for\""
      ]
     },
     "execution_count": 54,
     "metadata": {},
     "output_type": "execute_result"
    }
   ],
   "source": [
    "\" \".join(vocab[o] for o in y1[0])"
   ]
  },
  {
   "cell_type": "code",
   "execution_count": 55,
   "metadata": {},
   "outputs": [
    {
     "data": {
      "text/plain": [
       "\"for no reason ! xxmaj it bothered me so much but i was just wondering why in the heck did they think it was a good idea . xxmaj it does n't add anything to a static scene of two people talking . xxmaj this is n't nypd xxmaj blue or some cop show or something . \\n\\n xxmaj how could they have not realized that telling this type a\""
      ]
     },
     "execution_count": 55,
     "metadata": {},
     "output_type": "execute_result"
    }
   ],
   "source": [
    "\" \".join(vocab[o] for o in x2[0])"
   ]
  },
  {
   "cell_type": "code",
   "execution_count": 56,
   "metadata": {},
   "outputs": [],
   "source": [
    "#export\n",
    "def get_lm_dls(train_ds, valid_ds, bs, bptt, **kwargs):\n",
    "    return (DataLoader(LM_PreLoader(train_ds, bs, bptt, shuffle=True), batch_size=bs, **kwargs),\n",
    "            DataLoader(LM_PreLoader(valid_ds, bs, bptt, shuffle=False), batch_size=2*bs, **kwargs))\n",
    "\n",
    "def lm_databunchify(sd, bs, bptt, **kwargs):\n",
    "    return DataBunch(*get_lm_dls(sd.train, sd.valid, bs, bptt, **kwargs))"
   ]
  },
  {
   "cell_type": "code",
   "execution_count": 57,
   "metadata": {},
   "outputs": [],
   "source": [
    "bs,bptt = 64,70\n",
    "data = lm_databunchify(ll, bs, bptt)"
   ]
  },
  {
   "cell_type": "code",
   "execution_count": 58,
   "metadata": {},
   "outputs": [
    {
     "data": {
      "text/plain": [
       "<lib.nb_04.DataBunch at 0x1a24dceb70>"
      ]
     },
     "execution_count": 58,
     "metadata": {},
     "output_type": "execute_result"
    }
   ],
   "source": [
    "data"
   ]
  },
  {
   "cell_type": "code",
   "execution_count": null,
   "metadata": {},
   "outputs": [],
   "source": []
  },
  {
   "cell_type": "markdown",
   "metadata": {},
   "source": [
    "### Text Classification DataBunch: Batching"
   ]
  },
  {
   "cell_type": "code",
   "execution_count": 59,
   "metadata": {},
   "outputs": [],
   "source": [
    "proc_cat = CategoryProcessor()"
   ]
  },
  {
   "cell_type": "code",
   "execution_count": 60,
   "metadata": {},
   "outputs": [
    {
     "data": {
      "text/html": [
       "\n",
       "    <div>\n",
       "        <style>\n",
       "            /* Turns off some styling */\n",
       "            progress {\n",
       "                /* gets rid of default border in Firefox and Opera. */\n",
       "                border: none;\n",
       "                /* Needs to be in here for Safari polyfill so background images work as expected. */\n",
       "                background-size: auto;\n",
       "            }\n",
       "            .progress-bar-interrupted, .progress-bar-interrupted::-webkit-progress-bar {\n",
       "                background: #F44336;\n",
       "            }\n",
       "        </style>\n",
       "      <progress value='13' class='' max='13', style='width:300px; height:20px; vertical-align: middle;'></progress>\n",
       "      100.00% [13/13 02:16<00:00]\n",
       "    </div>\n",
       "    "
      ],
      "text/plain": [
       "<IPython.core.display.HTML object>"
      ]
     },
     "metadata": {},
     "output_type": "display_data"
    },
    {
     "data": {
      "text/html": [
       "\n",
       "    <div>\n",
       "        <style>\n",
       "            /* Turns off some styling */\n",
       "            progress {\n",
       "                /* gets rid of default border in Firefox and Opera. */\n",
       "                border: none;\n",
       "                /* Needs to be in here for Safari polyfill so background images work as expected. */\n",
       "                background-size: auto;\n",
       "            }\n",
       "            .progress-bar-interrupted, .progress-bar-interrupted::-webkit-progress-bar {\n",
       "                background: #F44336;\n",
       "            }\n",
       "        </style>\n",
       "      <progress value='13' class='' max='13', style='width:300px; height:20px; vertical-align: middle;'></progress>\n",
       "      100.00% [13/13 01:10<00:00]\n",
       "    </div>\n",
       "    "
      ],
      "text/plain": [
       "<IPython.core.display.HTML object>"
      ]
     },
     "metadata": {},
     "output_type": "display_data"
    }
   ],
   "source": [
    "il = TextList.from_files(path, include=['train', 'test'])\n",
    "sd = SplitData.split_by_func(il, partial(grandparent_splitter, valid_name='test'))\n",
    "ll = label_by_func(sd, parent_labeler, proc_x = [proc_tok, proc_num], proc_y=proc_cat)"
   ]
  },
  {
   "cell_type": "code",
   "execution_count": 61,
   "metadata": {},
   "outputs": [],
   "source": [
    "pickle.dump(ll, open(path/'ll_clas.pkl', 'wb'))"
   ]
  },
  {
   "cell_type": "code",
   "execution_count": 62,
   "metadata": {},
   "outputs": [],
   "source": [
    "ll = pickle.load(open(path/'ll_clas.pkl', 'rb'))"
   ]
  },
  {
   "cell_type": "code",
   "execution_count": null,
   "metadata": {},
   "outputs": [],
   "source": []
  },
  {
   "cell_type": "code",
   "execution_count": 63,
   "metadata": {},
   "outputs": [
    {
     "data": {
      "text/plain": [
       "[('xxbos xxmaj well ... tremors i , the original started off in 1990 and i found the movie quite enjoyable to watch . however , they proceeded to make tremors ii and iii . xxmaj trust me , those movies started going downhill right after they finished the first one , i mean , ass blasters ? ? ? xxmaj now , only xxmaj god himself is capable of answering the question \" why in xxmaj gods name would they create another one of these dumpster dives of a movie ? \" xxmaj tremors iv can not be considered a bad movie , in fact it can not be even considered an epitome of a bad movie , for it lives up to more than that . xxmaj as i attempted to sit though it , i noticed that my eyes started to bleed , and i hoped profusely that the little girl from the ring would crawl through the tv and kill me . did they really think that dressing the people who had stared in the other movies up as though they we \\'re from the wild west would make the movie ( with the exact same occurrences ) any better ? honestly , i would never suggest buying this movie , i mean , there are cheaper ways to find things that burn well . xxeos',\n",
       "  'neg'),\n",
       " (\"xxbos i saw this film a while back and it 's still at the top of my ' favorite movies ' list . xxmaj it is amazingly put together and what really makes the film are the detailed tid bits ( such as the ' xxmaj cafe xxmaj xxunk ' coffee crate being reused as a cup to wash her grandsons hair ) that people are n't seeing because you will not understand this movie unless you are hispanic . xxmaj this is just one of those films that is very culturally specific and particular . xxmaj please do not bash this film if you have no prior knowledge of what foundation it 's being built upon . i completely see what the writer / director was going for , and he hit the target perfectly ! xxmaj this film is highly deserving of a better rating . xxeos\",\n",
       "  'pos')]"
      ]
     },
     "execution_count": 63,
     "metadata": {},
     "output_type": "execute_result"
    }
   ],
   "source": [
    "[(ll.train.x_obj(i), ll.train.y_obj(i)) for i in [1,12552]]"
   ]
  },
  {
   "cell_type": "code",
   "execution_count": 64,
   "metadata": {},
   "outputs": [
    {
     "data": {
      "text/plain": [
       "['neg', 'pos']"
      ]
     },
     "execution_count": 64,
     "metadata": {},
     "output_type": "execute_result"
    }
   ],
   "source": [
    "proc_cat.vocab"
   ]
  },
  {
   "cell_type": "code",
   "execution_count": null,
   "metadata": {},
   "outputs": [],
   "source": []
  },
  {
   "cell_type": "code",
   "execution_count": 65,
   "metadata": {},
   "outputs": [],
   "source": [
    "#export \n",
    "from torch.utils.data import Sampler"
   ]
  },
  {
   "cell_type": "markdown",
   "metadata": {},
   "source": [
    "For the validation set, we will simply sort the samples by length, and we begin with the longest ones for memory reasons (it's better to always have the biggest tensors first)."
   ]
  },
  {
   "cell_type": "code",
   "execution_count": 66,
   "metadata": {},
   "outputs": [],
   "source": [
    "class SortSampler(Sampler):\n",
    "    \n",
    "    def __init__(self, data_source, key):\n",
    "        self.data_source, self.key = data_source, key\n",
    "        \n",
    "    def __len__(self):\n",
    "        return len(self.data_source)\n",
    "    \n",
    "    def __iter__(self):\n",
    "        return iter(sorted(list(range(len(self.data_source))), key=self.key, reverse=True))"
   ]
  },
  {
   "cell_type": "markdown",
   "metadata": {},
   "source": [
    "For the training set, we want some kind of randomness on top of this. So first, we shuffle the texts and build megabatches of size 50 * bs. We sort those megabatches by length before splitting them in 50 minibatches. That way we will have randomized batches of roughly the same length.\n",
    "\n",
    "Then we make sure to have the biggest batch first and shuffle the order of the other batches. We also make sure the last batch stays at the end because its size is probably lower than batch size."
   ]
  },
  {
   "cell_type": "code",
   "execution_count": 67,
   "metadata": {},
   "outputs": [],
   "source": [
    "#export\n",
    "class SortishSampler(Sampler):\n",
    "    def __init__(self, data_source, key, bs):\n",
    "        self.data_source,self.key,self.bs = data_source,key,bs\n",
    "\n",
    "    def __len__(self) -> int: return len(self.data_source)\n",
    "\n",
    "    def __iter__(self):\n",
    "        idxs = torch.randperm(len(self.data_source))\n",
    "        megabatches = [idxs[i:i+self.bs*50] for i in range(0, len(idxs), self.bs*50)]\n",
    "        sorted_idx = torch.cat([tensor(sorted(s, key=self.key, reverse=True)) for s in megabatches])\n",
    "        batches = [sorted_idx[i:i+self.bs] for i in range(0, len(sorted_idx), self.bs)]\n",
    "        max_idx = torch.argmax(tensor([self.key(ck[0]) for ck in batches]))  # find the chunk with the largest key,\n",
    "        batches[0],batches[max_idx] = batches[max_idx],batches[0]            # then make sure it goes first.\n",
    "        batch_idxs = torch.randperm(len(batches)-2)\n",
    "        sorted_idx = torch.cat([batches[i+1] for i in batch_idxs]) if len(batches) > 1 else LongTensor([])\n",
    "        sorted_idx = torch.cat([batches[0], sorted_idx, batches[-1]])\n",
    "        return iter(sorted_idx)"
   ]
  },
  {
   "cell_type": "markdown",
   "metadata": {},
   "source": [
    "Padding: we had the padding token (that as an id of 1) at the end of each sequence to make them all the same size when batching them. Note that we need padding at the end to be able to use PyTorch convenience functions that will let us ignore that padding (see 12c)."
   ]
  },
  {
   "cell_type": "code",
   "execution_count": null,
   "metadata": {},
   "outputs": [],
   "source": []
  },
  {
   "cell_type": "code",
   "execution_count": null,
   "metadata": {},
   "outputs": [],
   "source": []
  },
  {
   "cell_type": "code",
   "execution_count": 68,
   "metadata": {},
   "outputs": [],
   "source": [
    "#export\n",
    "def pad_collate(samples, pad_idx=1, pad_first=False):\n",
    "    max_len = max([len(s[0]) for s in samples])\n",
    "    res = torch.zeros(len(samples), max_len).long() + pad_idx\n",
    "    for i,s in enumerate(samples):\n",
    "        if pad_first: res[i, -len(s[0]):] = torch.LongTensor(s[0])\n",
    "        else:         res[i, :len(s[0]) ] = torch.LongTensor(s[0])\n",
    "    return res, tensor([s[1] for s in samples])"
   ]
  },
  {
   "cell_type": "code",
   "execution_count": 69,
   "metadata": {},
   "outputs": [],
   "source": [
    "bs = 64\n",
    "train_sampler = SortishSampler(ll.train.x, key=lambda t: len(ll.train[int(t)][0]), bs=bs)\n",
    "train_dl = DataLoader(ll.train, batch_size=bs, sampler=train_sampler, collate_fn=pad_collate)"
   ]
  },
  {
   "cell_type": "code",
   "execution_count": 70,
   "metadata": {},
   "outputs": [],
   "source": [
    "iter_dl = iter(train_dl)\n",
    "x,y = next(iter_dl)"
   ]
  },
  {
   "cell_type": "code",
   "execution_count": 71,
   "metadata": {},
   "outputs": [
    {
     "data": {
      "text/plain": [
       "([3311, 2022, 1954, 1782, 1513], 1029)"
      ]
     },
     "execution_count": 71,
     "metadata": {},
     "output_type": "execute_result"
    }
   ],
   "source": [
    "lengths = []\n",
    "for i in range(x.size(0)): lengths.append(x.size(1) - (x[i]==1).sum().item())\n",
    "lengths[:5], lengths[-1]"
   ]
  },
  {
   "cell_type": "code",
   "execution_count": 72,
   "metadata": {},
   "outputs": [
    {
     "data": {
      "text/plain": [
       "([426, 426, 425, 425, 425], 407)"
      ]
     },
     "execution_count": 72,
     "metadata": {},
     "output_type": "execute_result"
    }
   ],
   "source": [
    "x,y = next(iter_dl)\n",
    "lengths = []\n",
    "for i in range(x.size(0)): lengths.append(x.size(1) - (x[i]==1).sum().item())\n",
    "lengths[:5], lengths[-1]"
   ]
  },
  {
   "cell_type": "code",
   "execution_count": 73,
   "metadata": {},
   "outputs": [
    {
     "data": {
      "text/plain": [
       "tensor([[   2,    7,   19,  ..., 7993,    9,    3],\n",
       "        [   2,   18,  167,  ..., 1613,    9,    3],\n",
       "        [   2,    7,   63,  ...,    9,    3,    1],\n",
       "        ...,\n",
       "        [   2,    7,   19,  ...,    1,    1,    1],\n",
       "        [   2,    7,   19,  ...,    1,    1,    1],\n",
       "        [   2,    7,  632,  ...,    1,    1,    1]])"
      ]
     },
     "execution_count": 73,
     "metadata": {},
     "output_type": "execute_result"
    }
   ],
   "source": [
    "x"
   ]
  },
  {
   "cell_type": "code",
   "execution_count": 74,
   "metadata": {},
   "outputs": [],
   "source": [
    "#export\n",
    "def get_clas_dls(train_ds, valid_ds, bs, **kwargs):\n",
    "    train_sampler = SortishSampler(train_ds.x, key=lambda t: len(train_ds.x[t]), bs=bs)\n",
    "    valid_sampler = SortSampler(valid_ds.x, key=lambda t: len(valid_ds.x[t]))\n",
    "    return (DataLoader(train_ds, batch_size=bs, sampler=train_sampler, collate_fn=pad_collate, **kwargs),\n",
    "            DataLoader(valid_ds, batch_size=bs*2, sampler=valid_sampler, collate_fn=pad_collate, **kwargs))\n",
    "\n",
    "def clas_databunchify(sd, bs, **kwargs):\n",
    "    return DataBunch(*get_clas_dls(sd.train, sd.valid, bs, **kwargs))"
   ]
  },
  {
   "cell_type": "code",
   "execution_count": null,
   "metadata": {},
   "outputs": [],
   "source": []
  },
  {
   "cell_type": "code",
   "execution_count": 75,
   "metadata": {},
   "outputs": [],
   "source": [
    "bs,bptt = 64,70\n",
    "data = clas_databunchify(ll, bs)"
   ]
  },
  {
   "cell_type": "code",
   "execution_count": null,
   "metadata": {},
   "outputs": [],
   "source": []
  },
  {
   "cell_type": "code",
   "execution_count": 76,
   "metadata": {},
   "outputs": [
    {
     "name": "stdout",
     "output_type": "stream",
     "text": [
      "Converted 05_datablocks_text.ipynb to lib/nb_05.py\r\n"
     ]
    }
   ],
   "source": [
    "!python notebook2script.py 05_datablocks_text.ipynb"
   ]
  },
  {
   "cell_type": "code",
   "execution_count": null,
   "metadata": {},
   "outputs": [],
   "source": []
  },
  {
   "cell_type": "code",
   "execution_count": null,
   "metadata": {},
   "outputs": [],
   "source": []
  },
  {
   "cell_type": "code",
   "execution_count": null,
   "metadata": {},
   "outputs": [],
   "source": []
  },
  {
   "cell_type": "code",
   "execution_count": null,
   "metadata": {},
   "outputs": [],
   "source": []
  }
 ],
 "metadata": {
  "kernelspec": {
   "display_name": "my-fastai",
   "language": "python",
   "name": "my-fastai"
  },
  "language_info": {
   "codemirror_mode": {
    "name": "ipython",
    "version": 3
   },
   "file_extension": ".py",
   "mimetype": "text/x-python",
   "name": "python",
   "nbconvert_exporter": "python",
   "pygments_lexer": "ipython3",
   "version": "3.6.8"
  }
 },
 "nbformat": 4,
 "nbformat_minor": 2
}
