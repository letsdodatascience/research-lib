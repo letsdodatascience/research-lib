{
 "cells": [
  {
   "cell_type": "code",
   "execution_count": 4,
   "metadata": {},
   "outputs": [
    {
     "name": "stdout",
     "output_type": "stream",
     "text": [
      "The autoreload extension is already loaded. To reload it, use:\n",
      "  %reload_ext autoreload\n"
     ]
    }
   ],
   "source": [
    "%load_ext autoreload\n",
    "%autoreload 2\n",
    "%matplotlib inline"
   ]
  },
  {
   "cell_type": "code",
   "execution_count": 5,
   "metadata": {},
   "outputs": [],
   "source": [
    "import sys\n",
    "sys.path.insert(0, '../')"
   ]
  },
  {
   "cell_type": "code",
   "execution_count": 6,
   "metadata": {},
   "outputs": [],
   "source": [
    "from lib.nb_07 import *"
   ]
  },
  {
   "cell_type": "code",
   "execution_count": null,
   "metadata": {},
   "outputs": [],
   "source": []
  },
  {
   "cell_type": "markdown",
   "metadata": {},
   "source": [
    "### Data"
   ]
  },
  {
   "cell_type": "code",
   "execution_count": 7,
   "metadata": {},
   "outputs": [],
   "source": [
    "path = datasets.Config().data_path()"
   ]
  },
  {
   "cell_type": "code",
   "execution_count": 8,
   "metadata": {},
   "outputs": [
    {
     "data": {
      "text/plain": [
       "PosixPath('/Users/vks/.fastai/data')"
      ]
     },
     "execution_count": 8,
     "metadata": {},
     "output_type": "execute_result"
    }
   ],
   "source": [
    "path"
   ]
  },
  {
   "cell_type": "code",
   "execution_count": 9,
   "metadata": {},
   "outputs": [
    {
     "data": {
      "text/html": [
       "<div>\n",
       "<style scoped>\n",
       "    .dataframe tbody tr th:only-of-type {\n",
       "        vertical-align: middle;\n",
       "    }\n",
       "\n",
       "    .dataframe tbody tr th {\n",
       "        vertical-align: top;\n",
       "    }\n",
       "\n",
       "    .dataframe thead th {\n",
       "        text-align: right;\n",
       "    }\n",
       "</style>\n",
       "<table border=\"1\" class=\"dataframe\">\n",
       "  <thead>\n",
       "    <tr style=\"text-align: right;\">\n",
       "      <th></th>\n",
       "      <th>en</th>\n",
       "      <th>fr</th>\n",
       "    </tr>\n",
       "  </thead>\n",
       "  <tbody>\n",
       "    <tr>\n",
       "      <th>0</th>\n",
       "      <td>What is light ?</td>\n",
       "      <td>Qu’est-ce que la lumière?</td>\n",
       "    </tr>\n",
       "    <tr>\n",
       "      <th>1</th>\n",
       "      <td>Who are we?</td>\n",
       "      <td>Où sommes-nous?</td>\n",
       "    </tr>\n",
       "    <tr>\n",
       "      <th>2</th>\n",
       "      <td>Where did we come from?</td>\n",
       "      <td>D'où venons-nous?</td>\n",
       "    </tr>\n",
       "    <tr>\n",
       "      <th>3</th>\n",
       "      <td>What would we do without it?</td>\n",
       "      <td>Que ferions-nous sans elle ?</td>\n",
       "    </tr>\n",
       "    <tr>\n",
       "      <th>4</th>\n",
       "      <td>What is the absolute location (latitude and lo...</td>\n",
       "      <td>Quelle sont les coordonnées (latitude et longi...</td>\n",
       "    </tr>\n",
       "    <tr>\n",
       "      <th>5</th>\n",
       "      <td>What is the major aboriginal group on Vancouve...</td>\n",
       "      <td>Quel est le groupe autochtone principal sur l’...</td>\n",
       "    </tr>\n",
       "    <tr>\n",
       "      <th>6</th>\n",
       "      <td>What are the advantages and disadvantages of u...</td>\n",
       "      <td>Quels sont les avantages et les désavantages d...</td>\n",
       "    </tr>\n",
       "    <tr>\n",
       "      <th>7</th>\n",
       "      <td>What types of land cover are associated with t...</td>\n",
       "      <td>À quel type de couverture des terres associez-...</td>\n",
       "    </tr>\n",
       "    <tr>\n",
       "      <th>8</th>\n",
       "      <td>What is the population of Canada?</td>\n",
       "      <td>Quelle est la population du Canada ?</td>\n",
       "    </tr>\n",
       "    <tr>\n",
       "      <th>9</th>\n",
       "      <td>Which province is the most populated?</td>\n",
       "      <td>Quelle est la province la plus peuplée ?</td>\n",
       "    </tr>\n",
       "  </tbody>\n",
       "</table>\n",
       "</div>"
      ],
      "text/plain": [
       "                                                  en  \\\n",
       "0                                    What is light ?   \n",
       "1                                        Who are we?   \n",
       "2                            Where did we come from?   \n",
       "3                       What would we do without it?   \n",
       "4  What is the absolute location (latitude and lo...   \n",
       "5  What is the major aboriginal group on Vancouve...   \n",
       "6  What are the advantages and disadvantages of u...   \n",
       "7  What types of land cover are associated with t...   \n",
       "8                  What is the population of Canada?   \n",
       "9              Which province is the most populated?   \n",
       "\n",
       "                                                  fr  \n",
       "0                          Qu’est-ce que la lumière?  \n",
       "1                                    Où sommes-nous?  \n",
       "2                                  D'où venons-nous?  \n",
       "3                       Que ferions-nous sans elle ?  \n",
       "4  Quelle sont les coordonnées (latitude et longi...  \n",
       "5  Quel est le groupe autochtone principal sur l’...  \n",
       "6  Quels sont les avantages et les désavantages d...  \n",
       "7  À quel type de couverture des terres associez-...  \n",
       "8               Quelle est la population du Canada ?  \n",
       "9           Quelle est la province la plus peuplée ?  "
      ]
     },
     "execution_count": 9,
     "metadata": {},
     "output_type": "execute_result"
    }
   ],
   "source": [
    "df = pd.read_csv(path/'questions_easy.csv')\n",
    "df.head(n=10)"
   ]
  },
  {
   "cell_type": "code",
   "execution_count": 10,
   "metadata": {},
   "outputs": [],
   "source": [
    "def label_txt2txt_sd(sd, proc_x=None, proc_y=None):\n",
    "    \n",
    "    #train\n",
    "    x_train = TextList([x for x, y in sd.train])\n",
    "    y_train = TextList([y for x, y in sd.train])\n",
    "    ll_train = LabeledData(x_train, y_train, proc_x=proc_x, proc_y=proc_y)\n",
    "    \n",
    "    #train\n",
    "    x_valid = TextList([x for x, y in sd.valid])\n",
    "    y_valid = TextList([y for x, y in sd.valid])\n",
    "    ll_valid = LabeledData(x_valid, y_valid, proc_x=proc_x, proc_y=proc_y)\n",
    "    \n",
    "    return SplitData(ll_train,ll_valid)"
   ]
  },
  {
   "cell_type": "code",
   "execution_count": 11,
   "metadata": {},
   "outputs": [],
   "source": [
    "def get_ll(df):\n",
    "    \n",
    "    raw_data = df.to_numpy()\n",
    "    \n",
    "    il = TextList(raw_data)\n",
    "    \n",
    "    random.seed(42)\n",
    "    sd = SplitData.split_by_func(il, partial(random_splitter, p_valid=0.05))\n",
    "    \n",
    "    proc_x = [TokenizeProcessor(lang=\"en\"), NumericalizeProcessor()]\n",
    "    proc_y = [TokenizeProcessor(lang=\"fr\"), NumericalizeProcessor()]\n",
    "    \n",
    "    return label_txt2txt_sd(sd, proc_x=proc_x, proc_y=proc_y)"
   ]
  },
  {
   "cell_type": "code",
   "execution_count": 12,
   "metadata": {},
   "outputs": [
    {
     "data": {
      "text/html": [
       "\n",
       "    <div>\n",
       "        <style>\n",
       "            /* Turns off some styling */\n",
       "            progress {\n",
       "                /* gets rid of default border in Firefox and Opera. */\n",
       "                border: none;\n",
       "                /* Needs to be in here for Safari polyfill so background images work as expected. */\n",
       "                background-size: auto;\n",
       "            }\n",
       "            .progress-bar-interrupted, .progress-bar-interrupted::-webkit-progress-bar {\n",
       "                background: #F44336;\n",
       "            }\n",
       "        </style>\n",
       "      <progress value='25' class='' max='25', style='width:300px; height:20px; vertical-align: middle;'></progress>\n",
       "      100.00% [25/25 00:07<00:00]\n",
       "    </div>\n",
       "    "
      ],
      "text/plain": [
       "<IPython.core.display.HTML object>"
      ]
     },
     "metadata": {},
     "output_type": "display_data"
    },
    {
     "data": {
      "text/html": [
       "\n",
       "    <div>\n",
       "        <style>\n",
       "            /* Turns off some styling */\n",
       "            progress {\n",
       "                /* gets rid of default border in Firefox and Opera. */\n",
       "                border: none;\n",
       "                /* Needs to be in here for Safari polyfill so background images work as expected. */\n",
       "                background-size: auto;\n",
       "            }\n",
       "            .progress-bar-interrupted, .progress-bar-interrupted::-webkit-progress-bar {\n",
       "                background: #F44336;\n",
       "            }\n",
       "        </style>\n",
       "      <progress value='25' class='' max='25', style='width:300px; height:20px; vertical-align: middle;'></progress>\n",
       "      100.00% [25/25 00:44<00:00]\n",
       "    </div>\n",
       "    "
      ],
      "text/plain": [
       "<IPython.core.display.HTML object>"
      ]
     },
     "metadata": {},
     "output_type": "display_data"
    },
    {
     "data": {
      "text/html": [
       "\n",
       "    <div>\n",
       "        <style>\n",
       "            /* Turns off some styling */\n",
       "            progress {\n",
       "                /* gets rid of default border in Firefox and Opera. */\n",
       "                border: none;\n",
       "                /* Needs to be in here for Safari polyfill so background images work as expected. */\n",
       "                background-size: auto;\n",
       "            }\n",
       "            .progress-bar-interrupted, .progress-bar-interrupted::-webkit-progress-bar {\n",
       "                background: #F44336;\n",
       "            }\n",
       "        </style>\n",
       "      <progress value='2' class='' max='2', style='width:300px; height:20px; vertical-align: middle;'></progress>\n",
       "      100.00% [2/2 00:01<00:00]\n",
       "    </div>\n",
       "    "
      ],
      "text/plain": [
       "<IPython.core.display.HTML object>"
      ]
     },
     "metadata": {},
     "output_type": "display_data"
    },
    {
     "data": {
      "text/html": [
       "\n",
       "    <div>\n",
       "        <style>\n",
       "            /* Turns off some styling */\n",
       "            progress {\n",
       "                /* gets rid of default border in Firefox and Opera. */\n",
       "                border: none;\n",
       "                /* Needs to be in here for Safari polyfill so background images work as expected. */\n",
       "                background-size: auto;\n",
       "            }\n",
       "            .progress-bar-interrupted, .progress-bar-interrupted::-webkit-progress-bar {\n",
       "                background: #F44336;\n",
       "            }\n",
       "        </style>\n",
       "      <progress value='2' class='' max='2', style='width:300px; height:20px; vertical-align: middle;'></progress>\n",
       "      100.00% [2/2 00:05<00:00]\n",
       "    </div>\n",
       "    "
      ],
      "text/plain": [
       "<IPython.core.display.HTML object>"
      ]
     },
     "metadata": {},
     "output_type": "display_data"
    }
   ],
   "source": [
    "ll = get_ll(df)"
   ]
  },
  {
   "cell_type": "code",
   "execution_count": 13,
   "metadata": {},
   "outputs": [],
   "source": [
    "ll.train.proc_x[-1].otoi = None\n",
    "ll.train.proc_x[-1].otoi = collections.defaultdict(int,{v:k for k,v in enumerate(ll.train.proc_x[-1].vocab)})\n",
    "\n",
    "ll.train.proc_y[-1].otoi = None\n",
    "ll.train.proc_y[-1].otoi = collections.defaultdict(int,{v:k for k,v in enumerate(ll.train.proc_y[-1].vocab)})"
   ]
  },
  {
   "cell_type": "code",
   "execution_count": 14,
   "metadata": {},
   "outputs": [
    {
     "data": {
      "text/plain": [
       "((11580, 11580), (11580, 11580))"
      ]
     },
     "execution_count": 14,
     "metadata": {},
     "output_type": "execute_result"
    }
   ],
   "source": [
    "(len(ll.train.proc_x[-1].vocab), len(ll.train.proc_x[-1].otoi)), (len(ll.valid.proc_x[-1].vocab), len(ll.valid.proc_x[-1].otoi))"
   ]
  },
  {
   "cell_type": "code",
   "execution_count": 15,
   "metadata": {},
   "outputs": [
    {
     "data": {
      "text/plain": [
       "((15147, 15147), (15147, 15147))"
      ]
     },
     "execution_count": 15,
     "metadata": {},
     "output_type": "execute_result"
    }
   ],
   "source": [
    "(len(ll.train.proc_y[-1].vocab), len(ll.train.proc_y[-1].otoi)), (len(ll.valid.proc_y[-1].vocab), len(ll.valid.proc_y[-1].otoi))"
   ]
  },
  {
   "cell_type": "code",
   "execution_count": 16,
   "metadata": {},
   "outputs": [
    {
     "data": {
      "text/plain": [
       "((<lib.nb_05.NumericalizeProcessor at 0x1a2244f2b0>,\n",
       "  <lib.nb_05.NumericalizeProcessor at 0x1a2244f2b0>),\n",
       " (<lib.nb_05.NumericalizeProcessor at 0x1a1e7416d8>,\n",
       "  <lib.nb_05.NumericalizeProcessor at 0x1a1e7416d8>))"
      ]
     },
     "execution_count": 16,
     "metadata": {},
     "output_type": "execute_result"
    }
   ],
   "source": [
    "(ll.train.proc_x[-1], ll.valid.proc_x[-1]), (ll.train.proc_y[-1], ll.valid.proc_y[-1])"
   ]
  },
  {
   "cell_type": "code",
   "execution_count": 17,
   "metadata": {},
   "outputs": [],
   "source": [
    "en_vocab = ll.train.proc_x[-1].vocab\n",
    "fr_vocab = ll.train.proc_y[-1].vocab"
   ]
  },
  {
   "cell_type": "code",
   "execution_count": 18,
   "metadata": {},
   "outputs": [
    {
     "data": {
      "text/plain": [
       "(11580, 15147)"
      ]
     },
     "execution_count": 18,
     "metadata": {},
     "output_type": "execute_result"
    }
   ],
   "source": [
    "len(en_vocab), len(fr_vocab)"
   ]
  },
  {
   "cell_type": "code",
   "execution_count": 76,
   "metadata": {},
   "outputs": [
    {
     "data": {
      "text/plain": [
       "('xxbos xxmaj what percentage of the xxmaj canadian population is male ? xxeos',\n",
       " 'xxbos xxmaj quel est le pourcentage d’ hommes au sein de la population canadienne ? xxeos')"
      ]
     },
     "execution_count": 76,
     "metadata": {},
     "output_type": "execute_result"
    }
   ],
   "source": [
    "idx=15\n",
    "ll.train.x_obj(idx), ll.train.y_obj(idx)"
   ]
  },
  {
   "cell_type": "code",
   "execution_count": 20,
   "metadata": {},
   "outputs": [],
   "source": [
    "def cleanup_ll(ll, length=30):\n",
    "    \"Delets the questions where there length is greater than length\"\n",
    "    for i, (x, y) in enumerate(zip(ll.train.x, ll.train.y)):\n",
    "        if len(x) > length or len(y) > length:\n",
    "            del ll.train.x[i]\n",
    "            del ll.train.y[i]\n",
    "            \n",
    "    for i, (x, y) in enumerate(zip(ll.valid.x, ll.valid.y)):\n",
    "        if len(x) > length or len(y) > length:\n",
    "            del ll.valid.x[i]\n",
    "            del ll.valid.y[i]\n",
    "    \n",
    "    return ll "
   ]
  },
  {
   "cell_type": "code",
   "execution_count": 21,
   "metadata": {},
   "outputs": [],
   "source": [
    "ll = cleanup_ll(ll, length=30)"
   ]
  },
  {
   "cell_type": "code",
   "execution_count": 22,
   "metadata": {},
   "outputs": [
    {
     "data": {
      "text/plain": [
       "SplitData\n",
       "Train: LabeledData\n",
       "x: TextList (45119 items)\n",
       "[[2, 7, 10, 14, 1412, 8, 3], [2, 7, 40, 62, 49, 267, 48, 8, 3], [2, 7, 10, 43, 49, 20, 465, 42, 8, 3], [2, 7, 10, 14, 9, 3659, 1070, 50, 4756, 13, 6423, 47, 11, 7, 5713, 17, 7, 2310, 13, 7, 7401, 8, 3], [2, 7, 10, 14, 9, 331, 294, 263, 27, 7, 3324, 7, 2248, 8, 3], [2, 7, 10, 16, 9, 406, 13, 906, 11, 296, 52, 1337, 5714, 1413, 18, 1129, 5714, 8, 3], [2, 7, 10, 154, 11, 538, 955, 16, 407, 39, 9, 2935, 2050, 8, 3], [2, 7, 10, 14, 9, 323, 11, 7, 46, 8, 3], [2, 7, 37, 744, 63, 9, 687, 323, 3482, 8, 3], [2, 7, 37, 744, 14, 9, 838, 7402, 8, 3]...]\n",
       "Path: .\n",
       "y: TextList (45119 items)\n",
       "[[2, 7, 45, 18, 44, 19, 12, 2061, 8, 3], [2, 29, 65, 9212, 11, 62, 8, 3], [2, 7, 19, 11317, 11, 62, 294, 67, 8, 3], [2, 7, 39, 20, 10, 4069, 61, 4593, 14, 7812, 54, 9, 7, 0, 17, 16, 7, 964, 11, 7, 7813, 11, 0, 8, 3], [2, 7, 34, 18, 13, 238, 1300, 667, 38, 27, 2697, 9, 7, 4314, 8, 3], [2, 7, 26, 20, 10, 115, 14, 10, 2601, 35, 177, 32, 6258, 22, 520, 2517, 16, 32, 6258, 22, 2313, 2314, 8, 3], [2, 16, 34, 148, 9, 1914, 15, 856, 7814, 11, 31, 10, 2890, 3511, 8, 3], [2, 7, 39, 18, 12, 297, 25, 7, 59, 8, 3], [2, 7, 39, 18, 12, 736, 737, 12, 52, 2793, 3684, 9, 297, 8, 3], [2, 7, 39, 18, 12, 736, 12, 360, 0, 8, 3]...]\n",
       "Path: .\n",
       "\n",
       "Valid: LabeledData\n",
       "x: TextList (2325 items)\n",
       "[[2, 7, 24, 16, 49, 8, 3], [2, 7, 37, 744, 14, 9, 73, 7402, 8, 3], [2, 7, 37, 1482, 14, 9, 838, 7402, 8, 3], [2, 7, 10, 14, 7, 46, 59, 323, 3482, 8, 3], [2, 7, 10, 14, 18, 7, 1590, 55, 7, 0, 241, 8, 3], [2, 7, 24, 14, 9, 7, 4456, 8, 3], [2, 7, 10, 14, 9, 7, 441, 19, 7, 5715, 7, 184, 7, 202, 50, 4760, 47, 8, 3], [2, 7, 40, 33, 38, 124, 56, 44, 191, 13, 101, 19, 249, 8, 3], [2, 7, 10, 16, 7, 0, 2322, 8, 3], [2, 7, 10, 14, 9, 7, 1738, 7, 7408, 7, 3870, 8, 3]...]\n",
       "Path: .\n",
       "y: TextList (2325 items)\n",
       "[[2, 7, 65, 708, 11, 62, 8, 3], [2, 7, 39, 18, 12, 736, 12, 52, 0, 8, 3], [2, 7, 39, 18, 13, 1143, 13, 360, 0, 8, 3], [2, 7, 39, 18, 12, 3684, 9, 12, 297, 328, 8, 3], [2, 7, 377, 998, 43, 7, 0, 95, 7, 0, 0, 8, 3], [2, 7, 40, 18, 44, 40, 32, 4595, 8, 3], [2, 7, 45, 18, 44, 19, 13, 7, 263, 15, 185, 755, 9, 27, 4073, 61, 6262, 54, 8, 3], [2, 7, 65, 107, 199, 15, 100, 42, 159, 9, 12, 11588, 7, 684, 30, 10, 566, 333, 25, 7, 59, 8, 3], [2, 7, 40, 18, 44, 19, 10, 5347, 0, 8, 3], [2, 7, 40, 18, 44, 19, 13, 4598, 29, 6265, 3106, 8, 3]...]\n",
       "Path: .\n"
      ]
     },
     "execution_count": 22,
     "metadata": {},
     "output_type": "execute_result"
    }
   ],
   "source": [
    "ll"
   ]
  },
  {
   "cell_type": "code",
   "execution_count": 23,
   "metadata": {},
   "outputs": [],
   "source": [
    "def seq2seq_collate(samples, pad_idx=1, pad_first=True, backwards=False):\n",
    "    \"Function that collect samples and adds padding. Flips token order if needed\"\n",
    "    #print(samples[0])\n",
    "    #samples = to_data(samples)\n",
    "    max_len_x,max_len_y = max([len(s[0]) for s in samples]),max([len(s[1]) for s in samples])\n",
    "    res_x = torch.zeros(len(samples), max_len_x).long() + pad_idx\n",
    "    res_y = torch.zeros(len(samples), max_len_y).long() + pad_idx\n",
    "    if backwards: pad_first = not pad_first\n",
    "    for i,s in enumerate(samples):\n",
    "        if pad_first: \n",
    "            res_x[i,-len(s[0]):],res_y[i,-len(s[1]):] = torch.LongTensor(s[0]),torch.LongTensor(s[1])\n",
    "        else:         \n",
    "            res_x[i,:len(s[0]):],res_y[i,:len(s[1]):] = torch.LongTensor(s[0]),torch.LongTensor(s[1])\n",
    "    if backwards: res_x,res_y = res_x.flip(1),res_y.flip(1)\n",
    "    return res_x,res_y"
   ]
  },
  {
   "cell_type": "code",
   "execution_count": 24,
   "metadata": {},
   "outputs": [],
   "source": [
    "def get_se2seq_dls(ll, train_bs, val_bs, pad_idx=1, pad_first=False, backwards=False, c_fn=seq2seq_collate):\n",
    "    datasets=[ll.train, ll.valid]\n",
    "    collate_fn = partial(c_fn, pad_idx=pad_idx, pad_first=pad_first, backwards=backwards)\n",
    "    train_sampler = SortishSampler(datasets[0].x, key=lambda t: len(datasets[0][t][0]), bs=bs//2)\n",
    "    train_dl = DataLoader(datasets[0], batch_size=train_bs, sampler=train_sampler, \n",
    "                          collate_fn=seq2seq_collate,drop_last=True)\n",
    "    \n",
    "    dataloaders = [train_dl]\n",
    "    for ds in datasets[1:]:\n",
    "        lengths = [len(t) for t in ds.x.items]\n",
    "        sampler = SortSampler(ds.x, key=lengths.__getitem__)\n",
    "        dataloaders.append(DataLoader(ds, batch_size=val_bs, sampler=sampler, collate_fn=collate_fn))\n",
    "        \n",
    "    return dataloaders"
   ]
  },
  {
   "cell_type": "markdown",
   "metadata": {},
   "source": [
    "Save labelled data object for later use to save time."
   ]
  },
  {
   "cell_type": "code",
   "execution_count": 78,
   "metadata": {},
   "outputs": [],
   "source": [
    "pickle.dump(ll, open('./ll.pkl', 'wb'))"
   ]
  },
  {
   "cell_type": "code",
   "execution_count": 79,
   "metadata": {},
   "outputs": [],
   "source": [
    "ll = pickle.load( open('./ll.pkl', 'rb'))"
   ]
  },
  {
   "cell_type": "code",
   "execution_count": 25,
   "metadata": {},
   "outputs": [],
   "source": [
    "bs = 64\n",
    "train_dl, valid_dl = get_se2seq_dls(ll, bs, bs*2)\n",
    "\n",
    "def seq2seq_databunch(ll, bs=64):\n",
    "    return DataBunch(*get_se2seq_dls(ll, bs, bs*2))\n",
    "\n",
    "data = seq2seq_databunch(ll)"
   ]
  },
  {
   "cell_type": "code",
   "execution_count": 26,
   "metadata": {},
   "outputs": [
    {
     "data": {
      "text/plain": [
       "<lib.nb_04.DataBunch at 0x1a2a619550>"
      ]
     },
     "execution_count": 26,
     "metadata": {},
     "output_type": "execute_result"
    }
   ],
   "source": [
    "data"
   ]
  },
  {
   "cell_type": "code",
   "execution_count": 27,
   "metadata": {},
   "outputs": [],
   "source": [
    "x,y = next(iter(data.train_dl))"
   ]
  },
  {
   "cell_type": "code",
   "execution_count": 28,
   "metadata": {},
   "outputs": [
    {
     "data": {
      "text/plain": [
       "(torch.Size([64, 120]), torch.Size([64, 158]))"
      ]
     },
     "execution_count": 28,
     "metadata": {},
     "output_type": "execute_result"
    }
   ],
   "source": [
    "x.shape, y.shape"
   ]
  },
  {
   "cell_type": "markdown",
   "metadata": {},
   "source": [
    "### Models"
   ]
  },
  {
   "cell_type": "markdown",
   "metadata": {
    "heading_collapsed": true
   },
   "source": [
    "##### Pretrained Embeddings"
   ]
  },
  {
   "cell_type": "code",
   "execution_count": 29,
   "metadata": {
    "hidden": true
   },
   "outputs": [],
   "source": [
    "import fastText as ft"
   ]
  },
  {
   "cell_type": "code",
   "execution_count": 30,
   "metadata": {
    "hidden": true
   },
   "outputs": [],
   "source": [
    "emb_path = Path(\"./../../ft_embedding/\")"
   ]
  },
  {
   "cell_type": "code",
   "execution_count": 31,
   "metadata": {
    "hidden": true
   },
   "outputs": [],
   "source": [
    "fr_vecs = ft.load_model(str((emb_path/'cc.fr.300.bin')))\n",
    "en_vecs = ft.load_model(str((emb_path/'cc.en.300.bin')))"
   ]
  },
  {
   "cell_type": "code",
   "execution_count": 32,
   "metadata": {
    "hidden": true
   },
   "outputs": [],
   "source": [
    "def create_emb(vecs, otoi, em_sz=300, mult=1.):\n",
    "    emb = nn.Embedding(len(otoi), em_sz, padding_idx=1)\n",
    "    wgts = emb.weight.data\n",
    "    vec_dic = {w:vecs.get_word_vector(w) for w in vecs.get_words()}\n",
    "    miss = []\n",
    "    count = 0\n",
    "    for w,i in otoi.items():\n",
    "        try: wgts[i] = tensor(vec_dic[w])\n",
    "        except: \n",
    "            count +=1\n",
    "            miss.append(w)\n",
    "    print(f\"Missed Vocab items: {count}, vocab has {(count/len(otoi))*100}% missing tokens\")\n",
    "    return emb, vec_dic, miss"
   ]
  },
  {
   "cell_type": "code",
   "execution_count": null,
   "metadata": {
    "hidden": true
   },
   "outputs": [],
   "source": []
  },
  {
   "cell_type": "code",
   "execution_count": 33,
   "metadata": {
    "hidden": true
   },
   "outputs": [
    {
     "name": "stdout",
     "output_type": "stream",
     "text": [
      "Encoder has 11580 vocab tokens\n",
      "Decoder has 15147 vocab tokens\n"
     ]
    }
   ],
   "source": [
    "print(f\"Encoder has {len(data.train_dl.dataset.proc_x[-1].otoi)} vocab tokens\")\n",
    "print(f\"Decoder has {len(data.train_dl.dataset.proc_y[-1].otoi)} vocab tokens\")"
   ]
  },
  {
   "cell_type": "code",
   "execution_count": 34,
   "metadata": {
    "hidden": true
   },
   "outputs": [
    {
     "name": "stdout",
     "output_type": "stream",
     "text": [
      "Missed Vocab items: 624, vocab has 5.3886010362694305% missing tokens\n",
      "Missed Vocab items: 851, vocab has 5.618274245725226% missing tokens\n"
     ]
    }
   ],
   "source": [
    "emb_enc, enc_vec_dic, enc_miss_tokens = create_emb(en_vecs, data.train_dl.dataset.proc_x[-1].otoi)\n",
    "emb_dec, dec_vec_dic, dec_miss_tokens = create_emb(fr_vecs, data.train_dl.dataset.proc_y[-1].otoi)"
   ]
  },
  {
   "cell_type": "code",
   "execution_count": 35,
   "metadata": {
    "hidden": true
   },
   "outputs": [],
   "source": [
    "model_path = Path(\"./\")\n",
    "os.makedirs(model_path/\"models\", exist_ok=True)"
   ]
  },
  {
   "cell_type": "code",
   "execution_count": 36,
   "metadata": {
    "hidden": true
   },
   "outputs": [],
   "source": [
    "torch.save(emb_enc, model_path/'models'/'en_emb.pth')\n",
    "torch.save(emb_dec, model_path/'models'/'fr_emb.pth')"
   ]
  },
  {
   "cell_type": "markdown",
   "metadata": {
    "hidden": true
   },
   "source": [
    "Let's free up some RAM"
   ]
  },
  {
   "cell_type": "code",
   "execution_count": 37,
   "metadata": {
    "hidden": true
   },
   "outputs": [],
   "source": [
    "del fr_vecs\n",
    "del en_vecs"
   ]
  },
  {
   "cell_type": "code",
   "execution_count": null,
   "metadata": {
    "hidden": true
   },
   "outputs": [],
   "source": []
  },
  {
   "cell_type": "markdown",
   "metadata": {},
   "source": [
    "#### Basic Seq2Seq"
   ]
  },
  {
   "cell_type": "code",
   "execution_count": 38,
   "metadata": {},
   "outputs": [],
   "source": [
    "from fastai.text.models.qrnn import QRNN, QRNNLayer"
   ]
  },
  {
   "cell_type": "markdown",
   "metadata": {},
   "source": [
    "![](./../images/seq2seq.png)"
   ]
  },
  {
   "cell_type": "code",
   "execution_count": 39,
   "metadata": {},
   "outputs": [
    {
     "data": {
      "text/plain": [
       "defaultdict(int,\n",
       "            {'xxunk': 0,\n",
       "             'xxpad': 1,\n",
       "             'xxbos': 2,\n",
       "             'xxeos': 3,\n",
       "             'xxrep': 4,\n",
       "             'xxwrep': 5,\n",
       "             'xxup': 6,\n",
       "             'xxmaj': 7,\n",
       "             '?': 8,\n",
       "             'the': 9,\n",
       "             'what': 10,\n",
       "             'of': 11,\n",
       "             'to': 12,\n",
       "             'and': 13,\n",
       "             'is': 14,\n",
       "             'in': 15,\n",
       "             'are': 16,\n",
       "             ',': 17,\n",
       "             'a': 18,\n",
       "             'for': 19,\n",
       "             'do': 20,\n",
       "             'why': 21,\n",
       "             'be': 22,\n",
       "             'you': 23,\n",
       "             'who': 24,\n",
       "             'or': 25,\n",
       "             '-': 26,\n",
       "             'on': 27,\n",
       "             'this': 28,\n",
       "             'that': 29,\n",
       "             'have': 30,\n",
       "             'your': 31,\n",
       "             'when': 32,\n",
       "             'can': 33,\n",
       "             'should': 34,\n",
       "             'will': 35,\n",
       "             'does': 36,\n",
       "             'which': 37,\n",
       "             'i': 38,\n",
       "             'with': 39,\n",
       "             'where': 40,\n",
       "             'if': 41,\n",
       "             'it': 42,\n",
       "             'would': 43,\n",
       "             'about': 44,\n",
       "             '\"': 45,\n",
       "             'canada': 46,\n",
       "             ')': 47,\n",
       "             'from': 48,\n",
       "             'we': 49,\n",
       "             '(': 50,\n",
       "             'not': 51,\n",
       "             'an': 52,\n",
       "             'by': 53,\n",
       "             'as': 54,\n",
       "             '/': 55,\n",
       "             'information': 56,\n",
       "             'health': 57,\n",
       "             'these': 58,\n",
       "             \"'s\": 59,\n",
       "             'was': 60,\n",
       "             'they': 61,\n",
       "             'did': 62,\n",
       "             'has': 63,\n",
       "             'their': 64,\n",
       "             'other': 65,\n",
       "             'were': 66,\n",
       "             'at': 67,\n",
       "             'been': 68,\n",
       "             '’s': 69,\n",
       "             'program': 70,\n",
       "             'new': 71,\n",
       "             'use': 72,\n",
       "             'most': 73,\n",
       "             'how': 74,\n",
       "             'need': 75,\n",
       "             'my': 76,\n",
       "             'role': 77,\n",
       "             'government': 78,\n",
       "             'more': 79,\n",
       "             'between': 80,\n",
       "             'public': 81,\n",
       "             'could': 82,\n",
       "             'canadian': 83,\n",
       "             'people': 84,\n",
       "             'research': 85,\n",
       "             'our': 86,\n",
       "             'there': 87,\n",
       "             'impact': 88,\n",
       "             'work': 89,\n",
       "             'happens': 90,\n",
       "             'used': 91,\n",
       "             'so': 92,\n",
       "             'mean': 93,\n",
       "             'such': 94,\n",
       "             'important': 95,\n",
       "             'policy': 96,\n",
       "             'being': 97,\n",
       "             'done': 98,\n",
       "             'its': 99,\n",
       "             'some': 100,\n",
       "             'services': 101,\n",
       "             'any': 102,\n",
       "             'think': 103,\n",
       "             'level': 104,\n",
       "             'time': 105,\n",
       "             'make': 106,\n",
       "             'development': 107,\n",
       "             'service': 108,\n",
       "             'process': 109,\n",
       "             'take': 110,\n",
       "             'community': 111,\n",
       "             'kind': 112,\n",
       "             'available': 113,\n",
       "             'all': 114,\n",
       "             'national': 115,\n",
       "             'project': 116,\n",
       "             'best': 117,\n",
       "             'into': 118,\n",
       "             'like': 119,\n",
       "             'benefits': 120,\n",
       "             'support': 121,\n",
       "             'them': 122,\n",
       "             'under': 123,\n",
       "             'find': 124,\n",
       "             'system': 125,\n",
       "             'required': 126,\n",
       "             'get': 127,\n",
       "             'one': 128,\n",
       "             'change': 129,\n",
       "             'activities': 130,\n",
       "             'management': 131,\n",
       "             'changes': 132,\n",
       "             'made': 133,\n",
       "             'future': 134,\n",
       "             'place': 135,\n",
       "             'main': 136,\n",
       "             'type': 137,\n",
       "             'issues': 138,\n",
       "             'first': 139,\n",
       "             'ensure': 140,\n",
       "             'international': 141,\n",
       "             'care': 142,\n",
       "             'business': 143,\n",
       "             'current': 144,\n",
       "             'social': 145,\n",
       "             'help': 146,\n",
       "             'factors': 147,\n",
       "             'risk': 148,\n",
       "             'rights': 149,\n",
       "             'than': 150,\n",
       "             'doing': 151,\n",
       "             'key': 152,\n",
       "             'organization': 153,\n",
       "             'types': 154,\n",
       "             'measures': 155,\n",
       "             'taken': 156,\n",
       "             'women': 157,\n",
       "             'european': 158,\n",
       "             'might': 159,\n",
       "             'funding': 160,\n",
       "             'training': 161,\n",
       "             'know': 162,\n",
       "             'out': 163,\n",
       "             'plan': 164,\n",
       "             'see': 165,\n",
       "             'environmental': 166,\n",
       "             \"n't\": 167,\n",
       "             'now': 168,\n",
       "             'apply': 169,\n",
       "             'up': 170,\n",
       "             'years': 171,\n",
       "             'those': 172,\n",
       "             'needs': 173,\n",
       "             'different': 174,\n",
       "             'following': 175,\n",
       "             'want': 176,\n",
       "             'challenges': 177,\n",
       "             'results': 178,\n",
       "             'act': 179,\n",
       "             'objectives': 180,\n",
       "             'tax': 181,\n",
       "             'federal': 182,\n",
       "             'application': 183,\n",
       "             'human': 184,\n",
       "             'country': 185,\n",
       "             'next': 186,\n",
       "             'us': 187,\n",
       "             'each': 188,\n",
       "             'economic': 189,\n",
       "             'after': 190,\n",
       "             'programs': 191,\n",
       "             'effects': 192,\n",
       "             'access': 193,\n",
       "             'knowledge': 194,\n",
       "             'countries': 195,\n",
       "             'needed': 196,\n",
       "             'data': 197,\n",
       "             'impacts': 198,\n",
       "             'world': 199,\n",
       "             'products': 200,\n",
       "             'food': 201,\n",
       "             'resources': 202,\n",
       "             'steps': 203,\n",
       "             'term': 204,\n",
       "             'within': 205,\n",
       "             'over': 206,\n",
       "             'may': 207,\n",
       "             'play': 208,\n",
       "             'trade': 209,\n",
       "             'had': 210,\n",
       "             'cost': 211,\n",
       "             'must': 212,\n",
       "             'involved': 213,\n",
       "             'education': 214,\n",
       "             'status': 215,\n",
       "             'terms': 216,\n",
       "             'working': 217,\n",
       "             'way': 218,\n",
       "             'responsible': 219,\n",
       "             'say': 220,\n",
       "             'life': 221,\n",
       "             'specific': 222,\n",
       "             'difference': 223,\n",
       "             'costs': 224,\n",
       "             'area': 225,\n",
       "             'potential': 226,\n",
       "             'order': 227,\n",
       "             'requirements': 228,\n",
       "             'language': 229,\n",
       "             'areas': 230,\n",
       "             'sector': 231,\n",
       "             'go': 232,\n",
       "             'effect': 233,\n",
       "             'effective': 234,\n",
       "             'industry': 235,\n",
       "             'considered': 236,\n",
       "             'decision': 237,\n",
       "             'eligible': 238,\n",
       "             'provide': 239,\n",
       "             'appropriate': 240,\n",
       "             'product': 241,\n",
       "             'action': 242,\n",
       "             'during': 243,\n",
       "             'canadians': 244,\n",
       "             \"'\": 245,\n",
       "             'financial': 246,\n",
       "             'conditions': 247,\n",
       "             'year': 248,\n",
       "             'children': 249,\n",
       "             'long': 250,\n",
       "             'non': 251,\n",
       "             'happen': 252,\n",
       "             'implications': 253,\n",
       "             'situation': 254,\n",
       "             'report': 255,\n",
       "             'family': 256,\n",
       "             'protection': 257,\n",
       "             'form': 258,\n",
       "             'then': 259,\n",
       "             'water': 260,\n",
       "             'related': 261,\n",
       "             'assessment': 262,\n",
       "             'group': 263,\n",
       "             'market': 264,\n",
       "             'commission': 265,\n",
       "             'two': 266,\n",
       "             'come': 267,\n",
       "             '–': 268,\n",
       "             'europe': 269,\n",
       "             'address': 270,\n",
       "             'going': 271,\n",
       "             'member': 272,\n",
       "             'part': 273,\n",
       "             'consider': 274,\n",
       "             'no': 275,\n",
       "             ':': 276,\n",
       "             'through': 277,\n",
       "             'expect': 278,\n",
       "             'criteria': 279,\n",
       "             'respect': 280,\n",
       "             'good': 281,\n",
       "             'while': 282,\n",
       "             'relationship': 283,\n",
       "             'eu': 284,\n",
       "             'value': 285,\n",
       "             'quality': 286,\n",
       "             'communities': 287,\n",
       "             'policies': 288,\n",
       "             'kinds': 289,\n",
       "             'right': 290,\n",
       "             'risks': 291,\n",
       "             'before': 292,\n",
       "             'approach': 293,\n",
       "             'aboriginal': 294,\n",
       "             'his': 295,\n",
       "             'using': 296,\n",
       "             'benefit': 297,\n",
       "             'based': 298,\n",
       "             'environment': 299,\n",
       "             'job': 300,\n",
       "             'date': 301,\n",
       "             'experience': 302,\n",
       "             'better': 303,\n",
       "             'company': 304,\n",
       "             'groups': 305,\n",
       "             'proposed': 306,\n",
       "             'agreement': 307,\n",
       "             'purpose': 308,\n",
       "             'he': 309,\n",
       "             'levels': 310,\n",
       "             'barriers': 311,\n",
       "             'general': 312,\n",
       "             'security': 313,\n",
       "             'problems': 314,\n",
       "             'issue': 315,\n",
       "             'look': 316,\n",
       "             'learning': 317,\n",
       "             'number': 318,\n",
       "             'position': 319,\n",
       "             'makes': 320,\n",
       "             'projects': 321,\n",
       "             'employment': 322,\n",
       "             'population': 323,\n",
       "             'practices': 324,\n",
       "             'n’t': 325,\n",
       "             'strategy': 326,\n",
       "             'her': 327,\n",
       "             'states': 328,\n",
       "             'evidence': 329,\n",
       "             'regarding': 330,\n",
       "             'major': 331,\n",
       "             'making': 332,\n",
       "             'state': 333,\n",
       "             'members': 334,\n",
       "             'society': 335,\n",
       "             'goals': 336,\n",
       "             'strategies': 337,\n",
       "             'personal': 338,\n",
       "             'department': 339,\n",
       "             'employees': 340,\n",
       "             'person': 341,\n",
       "             'safety': 342,\n",
       "             'law': 343,\n",
       "             'legal': 344,\n",
       "             'learn': 345,\n",
       "             'achieve': 346,\n",
       "             'improve': 347,\n",
       "             'priorities': 348,\n",
       "             'rate': 349,\n",
       "             'regulations': 350,\n",
       "             'receive': 351,\n",
       "             'necessary': 352,\n",
       "             'political': 353,\n",
       "             'given': 354,\n",
       "             'contact': 355,\n",
       "             'activity': 356,\n",
       "             'period': 357,\n",
       "             'school': 358,\n",
       "             'provided': 359,\n",
       "             'else': 360,\n",
       "             'but': 361,\n",
       "             'income': 362,\n",
       "             'result': 363,\n",
       "             'initiative': 364,\n",
       "             'implementation': 365,\n",
       "             'actions': 366,\n",
       "             'name': 367,\n",
       "             'percentage': 368,\n",
       "             'well': 369,\n",
       "             'developing': 370,\n",
       "             'study': 371,\n",
       "             'success': 372,\n",
       "             'same': 373,\n",
       "             'whether': 374,\n",
       "             'included': 375,\n",
       "             'drug': 376,\n",
       "             'individual': 377,\n",
       "             'learned': 378,\n",
       "             'youth': 379,\n",
       "             'special': 380,\n",
       "             'become': 381,\n",
       "             'return': 382,\n",
       "             'including': 383,\n",
       "             'investment': 384,\n",
       "             'progress': 385,\n",
       "             'both': 386,\n",
       "             'tools': 387,\n",
       "             'only': 388,\n",
       "             'others': 389,\n",
       "             'particular': 390,\n",
       "             'performance': 391,\n",
       "             'local': 392,\n",
       "             'review': 393,\n",
       "             'cultural': 394,\n",
       "             'common': 395,\n",
       "             'agency': 396,\n",
       "             'today': 397,\n",
       "             'values': 398,\n",
       "             'high': 399,\n",
       "             'consequences': 400,\n",
       "             'standards': 401,\n",
       "             'opportunities': 402,\n",
       "             'expected': 403,\n",
       "             'framework': 404,\n",
       "             'me': 405,\n",
       "             'advantages': 406,\n",
       "             'associated': 407,\n",
       "             'possible': 408,\n",
       "             'questions': 409,\n",
       "             'air': 410,\n",
       "             'offer': 411,\n",
       "             'responsibilities': 412,\n",
       "             'likely': 413,\n",
       "             'reporting': 414,\n",
       "             'mechanisms': 415,\n",
       "             'organizations': 416,\n",
       "             'participation': 417,\n",
       "             'evaluation': 418,\n",
       "             'property': 419,\n",
       "             'child': 420,\n",
       "             'skills': 421,\n",
       "             'pay': 422,\n",
       "             'outcomes': 423,\n",
       "             'capacity': 424,\n",
       "             'put': 425,\n",
       "             'home': 426,\n",
       "             'own': 427,\n",
       "             'case': 428,\n",
       "             'sources': 429,\n",
       "             'problem': 430,\n",
       "             'natural': 431,\n",
       "             'technology': 432,\n",
       "             'things': 433,\n",
       "             'institutions': 434,\n",
       "             'lessons': 435,\n",
       "             'young': 436,\n",
       "             'day': 437,\n",
       "             'rules': 438,\n",
       "             'give': 439,\n",
       "             'further': 440,\n",
       "             'council': 441,\n",
       "             'exist': 442,\n",
       "             'amount': 443,\n",
       "             'committee': 444,\n",
       "             'site': 445,\n",
       "             'protect': 446,\n",
       "             'systems': 447,\n",
       "             'e': 448,\n",
       "             'taking': 449,\n",
       "             'interest': 450,\n",
       "             'responsibility': 451,\n",
       "             'priority': 452,\n",
       "             'governments': 453,\n",
       "             'meet': 454,\n",
       "             'initiatives': 455,\n",
       "             'contribution': 456,\n",
       "             'three': 457,\n",
       "             'many': 458,\n",
       "             'currently': 459,\n",
       "             'money': 460,\n",
       "             'against': 461,\n",
       "             'regional': 462,\n",
       "             'question': 463,\n",
       "             'survey': 464,\n",
       "             'without': 465,\n",
       "             'she': 466,\n",
       "             'view': 467,\n",
       "             'successful': 468,\n",
       "             'foreign': 469,\n",
       "             'planning': 470,\n",
       "             'union': 471,\n",
       "             'increase': 472,\n",
       "             'start': 473,\n",
       "             'total': 474,\n",
       "             'strengths': 475,\n",
       "             'processes': 476,\n",
       "             'provincial': 477,\n",
       "             'official': 478,\n",
       "             'office': 479,\n",
       "             'legislation': 480,\n",
       "             'additional': 481,\n",
       "             'private': 482,\n",
       "             'age': 483,\n",
       "             'gender': 484,\n",
       "             'practice': 485,\n",
       "             'global': 486,\n",
       "             'existing': 487,\n",
       "             'nature': 488,\n",
       "             'documents': 489,\n",
       "             'forms': 490,\n",
       "             'already': 491,\n",
       "             'reduce': 492,\n",
       "             'promote': 493,\n",
       "             'ca': 494,\n",
       "             'develop': 495,\n",
       "             'relevant': 496,\n",
       "             'roles': 497,\n",
       "             'assistance': 498,\n",
       "             'various': 499,\n",
       "             'privacy': 500,\n",
       "             'list': 501,\n",
       "             'regulatory': 502,\n",
       "             'whom': 503,\n",
       "             'sustainable': 504,\n",
       "             'bring': 505,\n",
       "             'subject': 506,\n",
       "             'elements': 507,\n",
       "             'disease': 508,\n",
       "             'another': 509,\n",
       "             'region': 510,\n",
       "             'ways': 511,\n",
       "             'nations': 512,\n",
       "             'medical': 513,\n",
       "             '\\u2028': 514,\n",
       "             'obtain': 515,\n",
       "             'regulation': 516,\n",
       "             'aspects': 517,\n",
       "             'treatment': 518,\n",
       "             'control': 519,\n",
       "             'participate': 520,\n",
       "             'field': 521,\n",
       "             'end': 522,\n",
       "             'past': 523,\n",
       "             'feel': 524,\n",
       "             'account': 525,\n",
       "             'plans': 526,\n",
       "             'am': 527,\n",
       "             'claim': 528,\n",
       "             'media': 529,\n",
       "             '1': 530,\n",
       "             'budget': 531,\n",
       "             'here': 532,\n",
       "             'found': 533,\n",
       "             'events': 534,\n",
       "             'contribute': 535,\n",
       "             'reasons': 536,\n",
       "             'options': 537,\n",
       "             'land': 538,\n",
       "             'tell': 539,\n",
       "             'point': 540,\n",
       "             'much': 541,\n",
       "             'line': 542,\n",
       "             'happened': 543,\n",
       "             'targets': 544,\n",
       "             'principles': 545,\n",
       "             'rates': 546,\n",
       "             'culture': 547,\n",
       "             'concerns': 548,\n",
       "             'still': 549,\n",
       "             'decisions': 550,\n",
       "             'outside': 551,\n",
       "             'include': 552,\n",
       "             'authority': 553,\n",
       "             'positive': 554,\n",
       "             'delivery': 555,\n",
       "             'board': 556,\n",
       "             'set': 557,\n",
       "             'among': 558,\n",
       "             'example': 559,\n",
       "             'context': 560,\n",
       "             'drugs': 561,\n",
       "             'section': 562,\n",
       "             'small': 563,\n",
       "             'basis': 564,\n",
       "             'regard': 565,\n",
       "             'scope': 566,\n",
       "             'relation': 567,\n",
       "             '‘': 568,\n",
       "             'matter': 569,\n",
       "             'patients': 570,\n",
       "             'design': 571,\n",
       "             'achieved': 572,\n",
       "             'live': 573,\n",
       "             'individuals': 574,\n",
       "             'primary': 575,\n",
       "             'present': 576,\n",
       "             'opinion': 577,\n",
       "             'conflict': 578,\n",
       "             'workers': 579,\n",
       "             'proposal': 580,\n",
       "             'having': 581,\n",
       "             'face': 582,\n",
       "             'someone': 583,\n",
       "             'affected': 584,\n",
       "             'force': 585,\n",
       "             'students': 586,\n",
       "             'identified': 587,\n",
       "             'self': 588,\n",
       "             'parliament': 589,\n",
       "             'climate': 590,\n",
       "             'characteristics': 591,\n",
       "             'companies': 592,\n",
       "             'standard': 593,\n",
       "             'methods': 594,\n",
       "             'growth': 595,\n",
       "             'approaches': 596,\n",
       "             '—': 597,\n",
       "             'men': 598,\n",
       "             'leave': 599,\n",
       "             'keep': 600,\n",
       "             'internet': 601,\n",
       "             'focus': 602,\n",
       "             'able': 603,\n",
       "             'guidelines': 604,\n",
       "             'employee': 605,\n",
       "             'affect': 606,\n",
       "             'negotiations': 607,\n",
       "             'military': 608,\n",
       "             'citizens': 609,\n",
       "             'heritage': 610,\n",
       "             'effectiveness': 611,\n",
       "             'file': 612,\n",
       "             'useful': 613,\n",
       "             'asked': 614,\n",
       "             'partners': 615,\n",
       "             'pension': 616,\n",
       "             'differences': 617,\n",
       "             'changed': 618,\n",
       "             'weaknesses': 619,\n",
       "             'influence': 620,\n",
       "             'implementing': 621,\n",
       "             'languages': 622,\n",
       "             'obligations': 623,\n",
       "             'developed': 624,\n",
       "             'species': 625,\n",
       "             'production': 626,\n",
       "             'electronic': 627,\n",
       "             'implemented': 628,\n",
       "             'code': 629,\n",
       "             'court': 630,\n",
       "             'covered': 631,\n",
       "             'families': 632,\n",
       "             ';': 633,\n",
       "             'last': 634,\n",
       "             'authorities': 635,\n",
       "             'energy': 636,\n",
       "             'traditional': 637,\n",
       "             'lead': 638,\n",
       "             'participants': 639,\n",
       "             '%': 640,\n",
       "             'living': 641,\n",
       "             'capital': 642,\n",
       "             'real': 643,\n",
       "             'gst': 644,\n",
       "             'cf': 645,\n",
       "             'require': 646,\n",
       "             'labour': 647,\n",
       "             'records': 648,\n",
       "             'power': 649,\n",
       "             'goods': 650,\n",
       "             'payments': 651,\n",
       "             'staff': 652,\n",
       "             'applied': 653,\n",
       "             'co': 654,\n",
       "             'registered': 655,\n",
       "             'interests': 656,\n",
       "             'advice': 657,\n",
       "             'travel': 658,\n",
       "             'involvement': 659,\n",
       "             'minister': 660,\n",
       "             'parties': 661,\n",
       "             'structure': 662,\n",
       "             'partner': 663,\n",
       "             'guide': 664,\n",
       "             'agreements': 665,\n",
       "             'understanding': 666,\n",
       "             'trends': 667,\n",
       "             'forces': 668,\n",
       "             'means': 669,\n",
       "             'technical': 670,\n",
       "             'stakeholders': 671,\n",
       "             'average': 672,\n",
       "             'response': 673,\n",
       "             'innovation': 674,\n",
       "             'rural': 675,\n",
       "             'physical': 676,\n",
       "             'fund': 677,\n",
       "             'team': 678,\n",
       "             'clinical': 679,\n",
       "             'deal': 680,\n",
       "             'five': 681,\n",
       "             'communication': 682,\n",
       "             'gaps': 683,\n",
       "             'model': 684,\n",
       "             'analysis': 685,\n",
       "             'fish': 686,\n",
       "             'highest': 687,\n",
       "             'businesses': 688,\n",
       "             'towards': 689,\n",
       "             'professional': 690,\n",
       "             'building': 691,\n",
       "             'definition': 692,\n",
       "             'university': 693,\n",
       "             'second': 694,\n",
       "             'sport': 695,\n",
       "             'patent': 696,\n",
       "             '2006': 697,\n",
       "             'measure': 698,\n",
       "             'since': 699,\n",
       "             'reason': 700,\n",
       "             'received': 701,\n",
       "             'less': 702,\n",
       "             'agencies': 703,\n",
       "             'ask': 704,\n",
       "             'meeting': 705,\n",
       "             'prevent': 706,\n",
       "             'healthy': 707,\n",
       "             'source': 708,\n",
       "             'determine': 709,\n",
       "             'decide': 710,\n",
       "             'choose': 711,\n",
       "             'economy': 712,\n",
       "             'meant': 713,\n",
       "             'institution': 714,\n",
       "             'recommendations': 715,\n",
       "             'foods': 716,\n",
       "             'annual': 717,\n",
       "             'implement': 718,\n",
       "             'monitoring': 719,\n",
       "             'departments': 720,\n",
       "             'document': 721,\n",
       "             'back': 722,\n",
       "             'content': 723,\n",
       "             'greatest': 724,\n",
       "             'payment': 725,\n",
       "             'objective': 726,\n",
       "             'happening': 727,\n",
       "             'extent': 728,\n",
       "             'side': 729,\n",
       "             'believe': 730,\n",
       "             'event': 731,\n",
       "             'patient': 732,\n",
       "             'really': 733,\n",
       "             'added': 734,\n",
       "             'transfer': 735,\n",
       "             'registration': 736,\n",
       "             'just': 737,\n",
       "             'unit': 738,\n",
       "             'procedures': 739,\n",
       "             'centre': 740,\n",
       "             'third': 741,\n",
       "             'call': 742,\n",
       "             'hst': 743,\n",
       "             'province': 744,\n",
       "             'overall': 745,\n",
       "             'defence': 746,\n",
       "             'funds': 747,\n",
       "             'credit': 748,\n",
       "             'even': 749,\n",
       "             'material': 750,\n",
       "             'compliance': 751,\n",
       "             'consumers': 752,\n",
       "             'request': 753,\n",
       "             'maximum': 754,\n",
       "             'low': 755,\n",
       "             'claims': 756,\n",
       "             'free': 757,\n",
       "             'vision': 758,\n",
       "             'search': 759,\n",
       "             'insurance': 760,\n",
       "             'applications': 761,\n",
       "             'domestic': 762,\n",
       "             'paid': 763,\n",
       "             'selection': 764,\n",
       "             'balance': 765,\n",
       "             'features': 766,\n",
       "             'copyright': 767,\n",
       "             'strategic': 768,\n",
       "             'addressed': 769,\n",
       "             'ethical': 770,\n",
       "             'uses': 771,\n",
       "             'body': 772,\n",
       "             'target': 773,\n",
       "             'nation': 774,\n",
       "             'critical': 775,\n",
       "             'test': 776,\n",
       "             'significant': 777,\n",
       "             'causes': 778,\n",
       "             'fit': 779,\n",
       "             'behind': 780,\n",
       "             'sectors': 781,\n",
       "             'infrastructure': 782,\n",
       "             'french': 783,\n",
       "             'create': 784,\n",
       "             'exposure': 785,\n",
       "             'cooperation': 786,\n",
       "             'employer': 787,\n",
       "             'proportion': 788,\n",
       "             'studies': 789,\n",
       "             'whose': 790,\n",
       "             'down': 791,\n",
       "             'concerned': 792,\n",
       "             'resource': 793,\n",
       "             'similar': 794,\n",
       "             'established': 795,\n",
       "             'far': 796,\n",
       "             'encourage': 797,\n",
       "             'mandate': 798,\n",
       "             'particularly': 799,\n",
       "             'degree': 800,\n",
       "             'build': 801,\n",
       "             'convention': 802,\n",
       "             'minimum': 803,\n",
       "             'hold': 804,\n",
       "             'dialogue': 805,\n",
       "             'sort': 806,\n",
       "             'consumer': 807,\n",
       "             'components': 808,\n",
       "             'completed': 809,\n",
       "             'city': 810,\n",
       "             'full': 811,\n",
       "             'negative': 812,\n",
       "             'efforts': 813,\n",
       "             'represent': 814,\n",
       "             'alternative': 815,\n",
       "             'stage': 816,\n",
       "             'procedure': 817,\n",
       "             'complete': 818,\n",
       "             'contract': 819,\n",
       "             'follow': 820,\n",
       "             'career': 821,\n",
       "             'bill': 822,\n",
       "             'provisions': 823,\n",
       "             'materials': 824,\n",
       "             'off': 825,\n",
       "             'looking': 826,\n",
       "             'experiences': 827,\n",
       "             'park': 828,\n",
       "             'financing': 829,\n",
       "             'stop': 830,\n",
       "             'submit': 831,\n",
       "             'intellectual': 832,\n",
       "             'integration': 833,\n",
       "             'whole': 834,\n",
       "             'adverse': 835,\n",
       "             'instruments': 836,\n",
       "             'scientific': 837,\n",
       "             'least': 838,\n",
       "             'contributed': 839,\n",
       "             'once': 840,\n",
       "             'send': 841,\n",
       "             'concern': 842,\n",
       "             'known': 843,\n",
       "             'expectations': 844,\n",
       "             'also': 845,\n",
       "             'technologies': 846,\n",
       "             'longer': 847,\n",
       "             'views': 848,\n",
       "             'arrangements': 849,\n",
       "             'agenda': 850,\n",
       "             'leadership': 851,\n",
       "             'around': 852,\n",
       "             'programme': 853,\n",
       "             'supply': 854,\n",
       "             'competition': 855,\n",
       "             'ones': 856,\n",
       "             'network': 857,\n",
       "             'equipment': 858,\n",
       "             'option': 859,\n",
       "             'together': 860,\n",
       "             'identify': 861,\n",
       "             'workplace': 862,\n",
       "             'difficult': 863,\n",
       "             'early': 864,\n",
       "             'register': 865,\n",
       "             'share': 866,\n",
       "             'begin': 867,\n",
       "             'due': 868,\n",
       "             'outcome': 869,\n",
       "             'exactly': 870,\n",
       "             'researchers': 871,\n",
       "             'organizational': 872,\n",
       "             'occur': 873,\n",
       "             'prevention': 874,\n",
       "             'indicators': 875,\n",
       "             'coming': 876,\n",
       "             'rather': 877,\n",
       "             'reports': 878,\n",
       "             'operations': 879,\n",
       "             'statements': 880,\n",
       "             'models': 881,\n",
       "             'relative': 882,\n",
       "             'reported': 883,\n",
       "             'attention': 884,\n",
       "             'regions': 885,\n",
       "             'partnership': 886,\n",
       "             'size': 887,\n",
       "             'designated': 888,\n",
       "             'often': 889,\n",
       "             'purposes': 890,\n",
       "             'civil': 891,\n",
       "             'cancer': 892,\n",
       "             'treaty': 893,\n",
       "             'corporate': 894,\n",
       "             'users': 895,\n",
       "             'higher': 896,\n",
       "             'integrated': 897,\n",
       "             'awareness': 898,\n",
       "             'reach': 899,\n",
       "             'limits': 900,\n",
       "             'above': 901,\n",
       "             'assess': 902,\n",
       "             'reserve': 903,\n",
       "             'complaint': 904,\n",
       "             'genetic': 905,\n",
       "             'disadvantages': 906,\n",
       "             'single': 907,\n",
       "             'suggest': 908,\n",
       "             'united': 909,\n",
       "             'permit': 910,\n",
       "             'recent': 911,\n",
       "             'operational': 912,\n",
       "             'testing': 913,\n",
       "             'ozone': 914,\n",
       "             'receiving': 915,\n",
       "             'networks': 916,\n",
       "             'party': 917,\n",
       "             'external': 918,\n",
       "             'licence': 919,\n",
       "             'industrial': 920,\n",
       "             'provinces': 921,\n",
       "             'contributions': 922,\n",
       "             'export': 923,\n",
       "             'governance': 924,\n",
       "             'recommend': 925,\n",
       "             'educational': 926,\n",
       "             'clients': 927,\n",
       "             'unique': 928,\n",
       "             'basic': 929,\n",
       "             'open': 930,\n",
       "             'web': 931,\n",
       "             'deliver': 932,\n",
       "             'commercial': 933,\n",
       "             'symptoms': 934,\n",
       "             'advantage': 935,\n",
       "             'achieving': 936,\n",
       "             'situations': 937,\n",
       "             'partnerships': 938,\n",
       "             'history': 939,\n",
       "             'laws': 940,\n",
       "             'recommended': 941,\n",
       "             'improvements': 942,\n",
       "             'minority': 943,\n",
       "             'ip': 944,\n",
       "             'goal': 945,\n",
       "             'markets': 946,\n",
       "             'distribution': 947,\n",
       "             'cases': 948,\n",
       "             'short': 949,\n",
       "             'per': 950,\n",
       "             'reasonable': 951,\n",
       "             'works': 952,\n",
       "             'accountability': 953,\n",
       "             'cra': 954,\n",
       "             'cover': 955,\n",
       "             'something': 956,\n",
       "             'criminal': 957,\n",
       "             'certain': 958,\n",
       "             '10': 959,\n",
       "             'across': 960,\n",
       "             'sites': 961,\n",
       "             'acceptable': 962,\n",
       "             'client': 963,\n",
       "             'reference': 964,\n",
       "             'housing': 965,\n",
       "             'promotion': 966,\n",
       "             'understand': 967,\n",
       "             'large': 968,\n",
       "             'discrimination': 969,\n",
       "             'price': 970,\n",
       "             'border': 971,\n",
       "             'allow': 972,\n",
       "             'providing': 973,\n",
       "             'move': 974,\n",
       "             'increasing': 975,\n",
       "             'north': 976,\n",
       "             'games': 977,\n",
       "             'themselves': 978,\n",
       "             'located': 979,\n",
       "             'safe': 980,\n",
       "             'notice': 981,\n",
       "             'talk': 982,\n",
       "             'bank': 983,\n",
       "             '2007': 984,\n",
       "             'demand': 985,\n",
       "             'effectively': 986,\n",
       "             '2005': 987,\n",
       "             'message': 988,\n",
       "             'describes': 989,\n",
       "             'violence': 990,\n",
       "             'decides': 991,\n",
       "             'substances': 992,\n",
       "             'especially': 993,\n",
       "             'smoking': 994,\n",
       "             'anything': 995,\n",
       "             'thing': 996,\n",
       "             'great': 997,\n",
       "             'method': 998,\n",
       "             'equity': 999,\n",
       "             ...})"
      ]
     },
     "execution_count": 39,
     "metadata": {},
     "output_type": "execute_result"
    }
   ],
   "source": [
    "data.train_dl.dataset.proc_x[-1].otoi"
   ]
  },
  {
   "cell_type": "code",
   "execution_count": 40,
   "metadata": {},
   "outputs": [
    {
     "data": {
      "text/plain": [
       "(2, 1)"
      ]
     },
     "execution_count": 40,
     "metadata": {},
     "output_type": "execute_result"
    }
   ],
   "source": [
    "data.train_dl.dataset.proc_x[-1].otoi['xxbos'], data.train_dl.dataset.proc_x[-1].otoi['xxpad']"
   ]
  },
  {
   "cell_type": "code",
   "execution_count": 41,
   "metadata": {},
   "outputs": [
    {
     "data": {
      "text/plain": [
       "torch.Size([11580, 300])"
      ]
     },
     "execution_count": 41,
     "metadata": {},
     "output_type": "execute_result"
    }
   ],
   "source": [
    "emb_enc.weight.size()"
   ]
  },
  {
   "cell_type": "code",
   "execution_count": 55,
   "metadata": {},
   "outputs": [],
   "source": [
    "class Basic_Seq2SeqQRNN(nn.Module):\n",
    "    \n",
    "    def __init__(self, emb_enc, emb_dec, n_hid, max_len, n_layers=2, p_inp:float=0.15, p_enc:float=0.25, \n",
    "                 p_dec:float=0.1, p_out:float=0.35, p_hid:float=0.05, bos_idx:int=2, pad_idx:int=1):\n",
    "        \n",
    "        super().__init__()\n",
    "        \n",
    "        self.n_layers,self.n_hid,self.max_len,self.bos_idx,self.pad_idx = n_layers,n_hid,max_len,bos_idx,pad_idx\n",
    "        \n",
    "        self.enc_emb = emb_enc\n",
    "        #self.enc_emb_dp = nn.Dropout(p_inp)\n",
    "        self.encoder = QRNN(emb_enc.weight.size()[1], n_hid, n_layers=n_layers, dropout=p_enc)\n",
    "        self.out_enc = nn.Linear(n_hid, emb_enc.weight.size(1), bias=False)\n",
    "        \n",
    "        self.hid_dp = nn.Dropout(p_hid)\n",
    "        \n",
    "        self.emb_dec = emb_dec\n",
    "        self.decoder = QRNN(emb_dec.weight.size(1), emb_dec.weight.size(1), n_layers=n_layers, dropout=p_dec)\n",
    "        self.out_drop = nn.Dropout(p_out)\n",
    "        self.out = nn.Linear(emb_dec.weight.size()[1], emb_dec.weight.size()[0])\n",
    "        self.out.weight.data = self.emb_dec.weight.data\n",
    "        \n",
    "    def forward(self, inp):\n",
    "        \n",
    "        bs, sl = inp.size()\n",
    "        \n",
    "        self.encoder.reset()\n",
    "        self.decoder.reset() \n",
    "        \n",
    "        hid = self.initHidden(bs)\n",
    "        \n",
    "        emb = self.enc_emb(inp)\n",
    "        enc_out, hid = self.encoder(emb)\n",
    "        hid = self.out_enc(self.hid_dp(hid))\n",
    "        \n",
    "        dec_inp = inp.new_zeros(bs).long() + self.bos_idx\n",
    "#         print(f\"dec_inp shape: {dec_inp.shape}\")\n",
    "        outs = []\n",
    "        \n",
    "        for i in range(self.max_len):\n",
    "            emb = self.emb_dec(dec_inp).unsqueeze(1)\n",
    "#             print(f\"dec_emb shape: {emb.shape}\")\n",
    "            out, hid = self.decoder(emb, hid)\n",
    "            out = self.out(self.out_drop(out[:,0]))\n",
    "            outs.append(out)\n",
    "            #print(f\"out_shape{out.shape}\")\n",
    "            dec_inp = out.max(1)[1]\n",
    "            if (dec_inp==self.pad_idx).all():\n",
    "                if not self.training:\n",
    "                    print(f\"reached here: breaking at: {self.max_len}\")\n",
    "                break\n",
    "        return torch.stack(outs, dim=1)\n",
    "        \n",
    "        \n",
    "    def initHidden(self, bs): return next(self.parameters()).new_zeros(self.n_layers, bs, self.n_hid)"
   ]
  },
  {
   "cell_type": "markdown",
   "metadata": {
    "heading_collapsed": true
   },
   "source": [
    "##### verify inps and outs"
   ]
  },
  {
   "cell_type": "code",
   "execution_count": 100,
   "metadata": {
    "hidden": true
   },
   "outputs": [
    {
     "data": {
      "text/plain": [
       "(torch.Size([64, 120]), torch.Size([64, 158]))"
      ]
     },
     "execution_count": 100,
     "metadata": {},
     "output_type": "execute_result"
    }
   ],
   "source": [
    "x,y = next(iter(data.train_dl))\n",
    "x.shape, y.shape"
   ]
  },
  {
   "cell_type": "code",
   "execution_count": 101,
   "metadata": {
    "hidden": true
   },
   "outputs": [],
   "source": [
    "m = Basic_Seq2SeqQRNN(emb_enc, emb_dec, 256, 30, n_layers=2)"
   ]
  },
  {
   "cell_type": "code",
   "execution_count": 102,
   "metadata": {
    "hidden": true,
    "scrolled": true
   },
   "outputs": [],
   "source": [
    "outs = m(x)"
   ]
  },
  {
   "cell_type": "code",
   "execution_count": 103,
   "metadata": {
    "hidden": true
   },
   "outputs": [
    {
     "data": {
      "text/plain": [
       "(torch.Size([64, 30, 11580]), torch.Size([64, 158]))"
      ]
     },
     "execution_count": 103,
     "metadata": {},
     "output_type": "execute_result"
    }
   ],
   "source": [
    "outs.shape, y.shape"
   ]
  },
  {
   "cell_type": "markdown",
   "metadata": {
    "heading_collapsed": true
   },
   "source": [
    "##### seq2seq_loss and seq2seq_acc"
   ]
  },
  {
   "cell_type": "code",
   "execution_count": 43,
   "metadata": {
    "hidden": true
   },
   "outputs": [],
   "source": [
    "def seq2seq_loss(out, targ, pad_idx=1):\n",
    "    #print(out.shape, targ.shape)\n",
    "    bs,targ_len = targ.size()\n",
    "    _,out_len,vs = out.size()\n",
    "    if targ_len>out_len: out  = F.pad(out,  (0,0,0,targ_len-out_len,0,0), value=pad_idx)\n",
    "    if out_len>targ_len: targ = F.pad(targ, (0,out_len-targ_len,0,0), value=pad_idx)\n",
    "    #print(out.shape, targ.shape)\n",
    "    return cross_entropy_flat(out, targ)\n",
    "\n",
    "def seq2seq_acc(out, targ, pad_idx=1):\n",
    "    bs,targ_len = targ.size()\n",
    "    _,out_len,vs = out.size()\n",
    "    if targ_len>out_len: out  = F.pad(out,  (0,0,0,targ_len-out_len,0,0), value=pad_idx)\n",
    "    if out_len>targ_len: targ = F.pad(targ, (0,out_len-targ_len,0,0), value=pad_idx)\n",
    "    out = out.argmax(2)\n",
    "    return (out==targ).float().mean()"
   ]
  },
  {
   "cell_type": "code",
   "execution_count": null,
   "metadata": {
    "hidden": true
   },
   "outputs": [],
   "source": []
  },
  {
   "cell_type": "markdown",
   "metadata": {
    "heading_collapsed": true
   },
   "source": [
    "##### LRFind"
   ]
  },
  {
   "cell_type": "code",
   "execution_count": 62,
   "metadata": {
    "hidden": true
   },
   "outputs": [],
   "source": [
    "emb_enc = torch.load(model_path/'models'/'en_emb.pth')\n",
    "emb_dec = torch.load(model_path/'models'/'fr_emb.pth')"
   ]
  },
  {
   "cell_type": "code",
   "execution_count": 64,
   "metadata": {
    "hidden": true
   },
   "outputs": [],
   "source": [
    "cbs = [partial(AvgStatsCallback,seq2seq_acc),\n",
    "       partial(CudaCallback, get_device()), \n",
    "       Recorder,\n",
    "       LR_Find,\n",
    "       ProgressCallback]"
   ]
  },
  {
   "cell_type": "code",
   "execution_count": 65,
   "metadata": {
    "hidden": true
   },
   "outputs": [],
   "source": [
    "model = Basic_Seq2SeqQRNN(emb_enc, emb_dec, 256, 30, n_layers=2)\n",
    "learn = Learner(model, data, loss_func=seq2seq_loss, cb_funcs=cbs, opt_func=adam_opt())\n",
    "\n",
    "torch.save(learn.model.state_dict(), path/\"init_model.pth\")"
   ]
  },
  {
   "cell_type": "code",
   "execution_count": 66,
   "metadata": {
    "hidden": true
   },
   "outputs": [
    {
     "data": {
      "text/html": [
       "<table border=\"1\" class=\"dataframe\">\n",
       "  <thead>\n",
       "    <tr style=\"text-align: left;\">\n",
       "      <th>epoch</th>\n",
       "      <th>train_loss</th>\n",
       "      <th>train_seq2seq_acc</th>\n",
       "      <th>valid_loss</th>\n",
       "      <th>valid_seq2seq_acc</th>\n",
       "      <th>time</th>\n",
       "    </tr>\n",
       "  </thead>\n",
       "  <tbody>\n",
       "  </tbody>\n",
       "</table>"
      ],
      "text/plain": [
       "<IPython.core.display.HTML object>"
      ]
     },
     "metadata": {},
     "output_type": "display_data"
    }
   ],
   "source": [
    "learn.fit(1)"
   ]
  },
  {
   "cell_type": "code",
   "execution_count": 69,
   "metadata": {
    "hidden": true
   },
   "outputs": [
    {
     "data": {
      "image/png": "[encoded data removed]",
      "text/plain": [
       "<Figure size 432x288 with 1 Axes>"
      ]
     },
     "metadata": {
      "needs_background": "light"
     },
     "output_type": "display_data"
    }
   ],
   "source": [
    "learn.recorder.plot(skip_last=5)"
   ]
  },
  {
   "cell_type": "code",
   "execution_count": 68,
   "metadata": {
    "hidden": true
   },
   "outputs": [
    {
     "data": {
      "image/png": "[encoded data removed]",
      "text/plain": [
       "<Figure size 432x288 with 1 Axes>"
      ]
     },
     "metadata": {
      "needs_background": "light"
     },
     "output_type": "display_data"
    }
   ],
   "source": [
    "learn.recorder.plot_lr()"
   ]
  },
  {
   "cell_type": "code",
   "execution_count": null,
   "metadata": {
    "hidden": true
   },
   "outputs": [],
   "source": []
  },
  {
   "cell_type": "code",
   "execution_count": null,
   "metadata": {
    "hidden": true
   },
   "outputs": [],
   "source": []
  },
  {
   "cell_type": "markdown",
   "metadata": {},
   "source": [
    "##### Training the Model"
   ]
  },
  {
   "cell_type": "code",
   "execution_count": 102,
   "metadata": {},
   "outputs": [],
   "source": [
    "cbs = [partial(AvgStatsCallback,seq2seq_acc),\n",
    "       partial(CudaCallback, get_device()), \n",
    "       Recorder,\n",
    "       partial(SaveModelCallback, every=\"improvement\", savename=\"basic_seq2seq_model\"),\n",
    "       partial(GradientClipping, clip=0.1),\n",
    "       ProgressCallback]"
   ]
  },
  {
   "cell_type": "code",
   "execution_count": 103,
   "metadata": {},
   "outputs": [],
   "source": [
    "emb_enc = torch.load(model_path/'models'/'en_emb.pth')\n",
    "emb_dec = torch.load(model_path/'models'/'fr_emb.pth')"
   ]
  },
  {
   "cell_type": "code",
   "execution_count": 104,
   "metadata": {},
   "outputs": [],
   "source": [
    "model = Basic_Seq2SeqQRNN(emb_enc, emb_dec, 256, 30, n_layers=2)\n",
    "learn = Learner(model, data, loss_func=seq2seq_loss, cb_funcs=cbs, opt_func=sgd_mom_opt)\n",
    "# load the model for which the lr_find was run\n",
    "#learn.model.load_state_dict(torch.load(path/\"init_model.pth\", map_location=get_device()))"
   ]
  },
  {
   "cell_type": "code",
   "execution_count": null,
   "metadata": {},
   "outputs": [],
   "source": []
  },
  {
   "cell_type": "code",
   "execution_count": 105,
   "metadata": {},
   "outputs": [],
   "source": [
    "#export\n",
    "def cos_1cycle_anneal(start, high, end):\n",
    "    return [sched_cos(start, high), sched_cos(high, end)]"
   ]
  },
  {
   "cell_type": "code",
   "execution_count": 106,
   "metadata": {},
   "outputs": [],
   "source": [
    "lr = 1e-2 # 1e-2 #"
   ]
  },
  {
   "cell_type": "code",
   "execution_count": 107,
   "metadata": {},
   "outputs": [],
   "source": [
    "sched_lr  = combine_scheds([0.3,0.7], cos_1cycle_anneal(lr/10., lr, lr/1e5))\n",
    "sched_mom = combine_scheds([0.3,0.7], cos_1cycle_anneal(0.8, 0.7, 0.8))\n",
    "cbsched = [ParamScheduler('lr', sched_lr) ]#, ParamScheduler('mom', sched_mom)]"
   ]
  },
  {
   "cell_type": "code",
   "execution_count": 108,
   "metadata": {},
   "outputs": [
    {
     "data": {
      "text/html": [
       "<table border=\"1\" class=\"dataframe\">\n",
       "  <thead>\n",
       "    <tr style=\"text-align: left;\">\n",
       "      <th>epoch</th>\n",
       "      <th>train_loss</th>\n",
       "      <th>train_seq2seq_acc</th>\n",
       "      <th>valid_loss</th>\n",
       "      <th>valid_seq2seq_acc</th>\n",
       "      <th>time</th>\n",
       "    </tr>\n",
       "  </thead>\n",
       "  <tbody>\n",
       "    <tr>\n",
       "      <td>0</td>\n",
       "      <td>9.454783</td>\n",
       "      <td>0.008528</td>\n",
       "      <td>9.205265</td>\n",
       "      <td>0.038033</td>\n",
       "      <td>38:57</td>\n",
       "    </tr>\n",
       "  </tbody>\n",
       "</table>"
      ],
      "text/plain": [
       "<IPython.core.display.HTML object>"
      ]
     },
     "metadata": {},
     "output_type": "display_data"
    },
    {
     "name": "stdout",
     "output_type": "stream",
     "text": [
      "Better model found at epoch 0 with valid_loss value: 9.205264616935484.\n",
      "Loaded the best model found at Epoch:0\n"
     ]
    },
    {
     "ename": "KeyboardInterrupt",
     "evalue": "",
     "output_type": "error",
     "traceback": [
      "\u001b[0;31m---------------------------------------------------------------------------\u001b[0m",
      "\u001b[0;31mKeyboardInterrupt\u001b[0m                         Traceback (most recent call last)",
      "\u001b[0;32m<ipython-input-108-ec5f4fa4f8ca>\u001b[0m in \u001b[0;36m<module>\u001b[0;34m\u001b[0m\n\u001b[1;32m      1\u001b[0m \u001b[0;31m#learn.fit(1)\u001b[0m\u001b[0;34m\u001b[0m\u001b[0;34m\u001b[0m\u001b[0;34m\u001b[0m\u001b[0m\n\u001b[0;32m----> 2\u001b[0;31m \u001b[0mlearn\u001b[0m\u001b[0;34m.\u001b[0m\u001b[0mfit\u001b[0m\u001b[0;34m(\u001b[0m\u001b[0;36m3\u001b[0m\u001b[0;34m,\u001b[0m \u001b[0mcbs\u001b[0m\u001b[0;34m=\u001b[0m\u001b[0mcbsched\u001b[0m\u001b[0;34m)\u001b[0m\u001b[0;34m\u001b[0m\u001b[0;34m\u001b[0m\u001b[0m\n\u001b[0m",
      "\u001b[0;32m~/Desktop/deep-unsupervised-learning/fai-part2/research-lib/nbs/lib/nb_02.py\u001b[0m in \u001b[0;36mfit\u001b[0;34m(self, epochs, cbs, reset_opt)\u001b[0m\n\u001b[1;32m    212\u001b[0m             \u001b[0;32mfor\u001b[0m \u001b[0mepoch\u001b[0m \u001b[0;32min\u001b[0m \u001b[0mrange\u001b[0m\u001b[0;34m(\u001b[0m\u001b[0mepochs\u001b[0m\u001b[0;34m)\u001b[0m\u001b[0;34m:\u001b[0m\u001b[0;34m\u001b[0m\u001b[0;34m\u001b[0m\u001b[0m\n\u001b[1;32m    213\u001b[0m                 \u001b[0mself\u001b[0m\u001b[0;34m.\u001b[0m\u001b[0mdo_begin_epoch\u001b[0m\u001b[0;34m(\u001b[0m\u001b[0mepoch\u001b[0m\u001b[0;34m)\u001b[0m\u001b[0;34m\u001b[0m\u001b[0;34m\u001b[0m\u001b[0m\n\u001b[0;32m--> 214\u001b[0;31m                 \u001b[0;32mif\u001b[0m \u001b[0;32mnot\u001b[0m \u001b[0mself\u001b[0m\u001b[0;34m(\u001b[0m\u001b[0;34m'begin_epoch'\u001b[0m\u001b[0;34m)\u001b[0m\u001b[0;34m:\u001b[0m \u001b[0mself\u001b[0m\u001b[0;34m.\u001b[0m\u001b[0mall_batches\u001b[0m\u001b[0;34m(\u001b[0m\u001b[0;34m)\u001b[0m\u001b[0;34m\u001b[0m\u001b[0;34m\u001b[0m\u001b[0m\n\u001b[0m\u001b[1;32m    215\u001b[0m \u001b[0;34m\u001b[0m\u001b[0m\n\u001b[1;32m    216\u001b[0m                 \u001b[0;32mwith\u001b[0m \u001b[0mtorch\u001b[0m\u001b[0;34m.\u001b[0m\u001b[0mno_grad\u001b[0m\u001b[0;34m(\u001b[0m\u001b[0;34m)\u001b[0m\u001b[0;34m:\u001b[0m\u001b[0;34m\u001b[0m\u001b[0;34m\u001b[0m\u001b[0m\n",
      "\u001b[0;32m~/Desktop/deep-unsupervised-learning/fai-part2/research-lib/nbs/lib/nb_02.py\u001b[0m in \u001b[0;36mall_batches\u001b[0;34m(self)\u001b[0m\n\u001b[1;32m    191\u001b[0m         \u001b[0mself\u001b[0m\u001b[0;34m.\u001b[0m\u001b[0miters\u001b[0m \u001b[0;34m=\u001b[0m \u001b[0mlen\u001b[0m\u001b[0;34m(\u001b[0m\u001b[0mself\u001b[0m\u001b[0;34m.\u001b[0m\u001b[0mdl\u001b[0m\u001b[0;34m)\u001b[0m\u001b[0;34m\u001b[0m\u001b[0;34m\u001b[0m\u001b[0m\n\u001b[1;32m    192\u001b[0m         \u001b[0;32mtry\u001b[0m\u001b[0;34m:\u001b[0m\u001b[0;34m\u001b[0m\u001b[0;34m\u001b[0m\u001b[0m\n\u001b[0;32m--> 193\u001b[0;31m             \u001b[0;32mfor\u001b[0m \u001b[0mi\u001b[0m\u001b[0;34m,\u001b[0m\u001b[0;34m(\u001b[0m\u001b[0mxb\u001b[0m\u001b[0;34m,\u001b[0m\u001b[0myb\u001b[0m\u001b[0;34m)\u001b[0m \u001b[0;32min\u001b[0m \u001b[0menumerate\u001b[0m\u001b[0;34m(\u001b[0m\u001b[0mself\u001b[0m\u001b[0;34m.\u001b[0m\u001b[0mdl\u001b[0m\u001b[0;34m)\u001b[0m\u001b[0;34m:\u001b[0m \u001b[0mself\u001b[0m\u001b[0;34m.\u001b[0m\u001b[0mone_batch\u001b[0m\u001b[0;34m(\u001b[0m\u001b[0mi\u001b[0m\u001b[0;34m,\u001b[0m \u001b[0mxb\u001b[0m\u001b[0;34m,\u001b[0m \u001b[0myb\u001b[0m\u001b[0;34m)\u001b[0m\u001b[0;34m\u001b[0m\u001b[0;34m\u001b[0m\u001b[0m\n\u001b[0m\u001b[1;32m    194\u001b[0m         \u001b[0;32mexcept\u001b[0m \u001b[0mCancelEpochException\u001b[0m\u001b[0;34m:\u001b[0m \u001b[0mself\u001b[0m\u001b[0;34m(\u001b[0m\u001b[0;34m'after_cancel_epoch'\u001b[0m\u001b[0;34m)\u001b[0m\u001b[0;34m\u001b[0m\u001b[0;34m\u001b[0m\u001b[0m\n\u001b[1;32m    195\u001b[0m \u001b[0;34m\u001b[0m\u001b[0m\n",
      "\u001b[0;32m~/Desktop/deep-unsupervised-learning/fai-part2/research-lib/nbs/lib/nb_02.py\u001b[0m in \u001b[0;36mone_batch\u001b[0;34m(self, i, xb, yb)\u001b[0m\n\u001b[1;32m    182\u001b[0m             \u001b[0mself\u001b[0m\u001b[0;34m.\u001b[0m\u001b[0mloss\u001b[0m \u001b[0;34m=\u001b[0m \u001b[0mself\u001b[0m\u001b[0;34m.\u001b[0m\u001b[0mloss_func\u001b[0m\u001b[0;34m(\u001b[0m\u001b[0mself\u001b[0m\u001b[0;34m.\u001b[0m\u001b[0mpred\u001b[0m\u001b[0;34m,\u001b[0m \u001b[0mself\u001b[0m\u001b[0;34m.\u001b[0m\u001b[0myb\u001b[0m\u001b[0;34m)\u001b[0m\u001b[0;34m;\u001b[0m \u001b[0mself\u001b[0m\u001b[0;34m(\u001b[0m\u001b[0;34m'after_loss'\u001b[0m\u001b[0;34m)\u001b[0m\u001b[0;34m\u001b[0m\u001b[0;34m\u001b[0m\u001b[0m\n\u001b[1;32m    183\u001b[0m             \u001b[0;32mif\u001b[0m \u001b[0;32mnot\u001b[0m \u001b[0mself\u001b[0m\u001b[0;34m.\u001b[0m\u001b[0min_train\u001b[0m\u001b[0;34m:\u001b[0m \u001b[0;32mreturn\u001b[0m\u001b[0;34m\u001b[0m\u001b[0;34m\u001b[0m\u001b[0m\n\u001b[0;32m--> 184\u001b[0;31m             \u001b[0mself\u001b[0m\u001b[0;34m.\u001b[0m\u001b[0mloss\u001b[0m\u001b[0;34m.\u001b[0m\u001b[0mbackward\u001b[0m\u001b[0;34m(\u001b[0m\u001b[0;34m)\u001b[0m\u001b[0;34m;\u001b[0m                           \u001b[0mself\u001b[0m\u001b[0;34m(\u001b[0m\u001b[0;34m'after_backward'\u001b[0m\u001b[0;34m)\u001b[0m\u001b[0;34m\u001b[0m\u001b[0;34m\u001b[0m\u001b[0m\n\u001b[0m\u001b[1;32m    185\u001b[0m             \u001b[0mself\u001b[0m\u001b[0;34m.\u001b[0m\u001b[0mopt\u001b[0m\u001b[0;34m.\u001b[0m\u001b[0mstep\u001b[0m\u001b[0;34m(\u001b[0m\u001b[0;34m)\u001b[0m\u001b[0;34m;\u001b[0m                                \u001b[0mself\u001b[0m\u001b[0;34m(\u001b[0m\u001b[0;34m'after_step'\u001b[0m\u001b[0;34m)\u001b[0m\u001b[0;34m\u001b[0m\u001b[0;34m\u001b[0m\u001b[0m\n\u001b[1;32m    186\u001b[0m             \u001b[0mself\u001b[0m\u001b[0;34m.\u001b[0m\u001b[0mopt\u001b[0m\u001b[0;34m.\u001b[0m\u001b[0mzero_grad\u001b[0m\u001b[0;34m(\u001b[0m\u001b[0;34m)\u001b[0m\u001b[0;34m\u001b[0m\u001b[0;34m\u001b[0m\u001b[0m\n",
      "\u001b[0;32m~/anaconda3/envs/my-fastai/lib/python3.6/site-packages/torch/tensor.py\u001b[0m in \u001b[0;36mbackward\u001b[0;34m(self, gradient, retain_graph, create_graph)\u001b[0m\n\u001b[1;32m    105\u001b[0m                 \u001b[0mproducts\u001b[0m\u001b[0;34m.\u001b[0m \u001b[0mDefaults\u001b[0m \u001b[0mto\u001b[0m\u001b[0;31m \u001b[0m\u001b[0;31m`\u001b[0m\u001b[0;31m`\u001b[0m\u001b[0;32mFalse\u001b[0m\u001b[0;31m`\u001b[0m\u001b[0;31m`\u001b[0m\u001b[0;34m.\u001b[0m\u001b[0;34m\u001b[0m\u001b[0;34m\u001b[0m\u001b[0m\n\u001b[1;32m    106\u001b[0m         \"\"\"\n\u001b[0;32m--> 107\u001b[0;31m         \u001b[0mtorch\u001b[0m\u001b[0;34m.\u001b[0m\u001b[0mautograd\u001b[0m\u001b[0;34m.\u001b[0m\u001b[0mbackward\u001b[0m\u001b[0;34m(\u001b[0m\u001b[0mself\u001b[0m\u001b[0;34m,\u001b[0m \u001b[0mgradient\u001b[0m\u001b[0;34m,\u001b[0m \u001b[0mretain_graph\u001b[0m\u001b[0;34m,\u001b[0m \u001b[0mcreate_graph\u001b[0m\u001b[0;34m)\u001b[0m\u001b[0;34m\u001b[0m\u001b[0;34m\u001b[0m\u001b[0m\n\u001b[0m\u001b[1;32m    108\u001b[0m \u001b[0;34m\u001b[0m\u001b[0m\n\u001b[1;32m    109\u001b[0m     \u001b[0;32mdef\u001b[0m \u001b[0mregister_hook\u001b[0m\u001b[0;34m(\u001b[0m\u001b[0mself\u001b[0m\u001b[0;34m,\u001b[0m \u001b[0mhook\u001b[0m\u001b[0;34m)\u001b[0m\u001b[0;34m:\u001b[0m\u001b[0;34m\u001b[0m\u001b[0;34m\u001b[0m\u001b[0m\n",
      "\u001b[0;32m~/anaconda3/envs/my-fastai/lib/python3.6/site-packages/torch/autograd/__init__.py\u001b[0m in \u001b[0;36mbackward\u001b[0;34m(tensors, grad_tensors, retain_graph, create_graph, grad_variables)\u001b[0m\n\u001b[1;32m     91\u001b[0m     Variable._execution_engine.run_backward(\n\u001b[1;32m     92\u001b[0m         \u001b[0mtensors\u001b[0m\u001b[0;34m,\u001b[0m \u001b[0mgrad_tensors\u001b[0m\u001b[0;34m,\u001b[0m \u001b[0mretain_graph\u001b[0m\u001b[0;34m,\u001b[0m \u001b[0mcreate_graph\u001b[0m\u001b[0;34m,\u001b[0m\u001b[0;34m\u001b[0m\u001b[0;34m\u001b[0m\u001b[0m\n\u001b[0;32m---> 93\u001b[0;31m         allow_unreachable=True)  # allow_unreachable flag\n\u001b[0m\u001b[1;32m     94\u001b[0m \u001b[0;34m\u001b[0m\u001b[0m\n\u001b[1;32m     95\u001b[0m \u001b[0;34m\u001b[0m\u001b[0m\n",
      "\u001b[0;31mKeyboardInterrupt\u001b[0m: "
     ]
    }
   ],
   "source": [
    "#learn.fit(1)\n",
    "learn.fit(3, cbs=cbsched)"
   ]
  },
  {
   "cell_type": "code",
   "execution_count": null,
   "metadata": {},
   "outputs": [],
   "source": []
  },
  {
   "cell_type": "code",
   "execution_count": null,
   "metadata": {},
   "outputs": [],
   "source": [
    "def get_predictions(learn):\n",
    "    learn.model.eval()\n",
    "    inputs, targets, outputs = [],[],[]\n",
    "    \n",
    "    with torch.no_grad():\n",
    "        for xb,yb in progress_bar(learn.data.valid_dl):\n",
    "            print(f\"inps: {xb.shape}\")\n",
    "            out = learn.model(xb)\n",
    "            print(f\"outs: {out.shape}\")\n",
    "            for x in xb:\n",
    "                inputs.append(learn.data.train_dl.dataset.obj([x],0, learn.data.train_dl.dataset.proc_x))\n",
    "#                 targets.append(learn.data.train_dl.dataset.obj([y],0, learn.data.train_dl.dataset.proc_y))\n",
    "#                 outputs.append(learn.data.train_dl.dataset.obj([z.argmax(1)],0, learn.data.train_dl.dataset.proc_y))\n",
    "                \n",
    "            for y in yb:\n",
    "#                 inputs.append(learn.data.train_dl.dataset.obj([x],0, learn.data.train_dl.dataset.proc_x))\n",
    "                targets.append(learn.data.train_dl.dataset.obj([y],0, learn.data.train_dl.dataset.proc_y))\n",
    "#                 outputs.append(learn.data.train_dl.dataset.obj([z.argmax(1)],0, learn.data.train_dl.dataset.proc_y))\n",
    "                \n",
    "            for z in out:\n",
    "#                 inputs.append(learn.data.train_dl.dataset.obj([x],0, learn.data.train_dl.dataset.proc_x))\n",
    "#                 targets.append(learn.data.train_dl.dataset.obj([y],0, learn.data.train_dl.dataset.proc_y))\n",
    "                outputs.append(learn.data.train_dl.dataset.obj([z.argmax(1)],0, learn.data.train_dl.dataset.proc_y))\n",
    "\n",
    "    return inputs, targets, outputs"
   ]
  },
  {
   "cell_type": "code",
   "execution_count": null,
   "metadata": {
    "scrolled": true
   },
   "outputs": [],
   "source": [
    "inputs, targets, outputs = get_predictions(learn)"
   ]
  },
  {
   "cell_type": "code",
   "execution_count": null,
   "metadata": {},
   "outputs": [],
   "source": [
    "seek = 3\n",
    "inputs[seek], targets[seek], outputs[seek]"
   ]
  },
  {
   "cell_type": "code",
   "execution_count": null,
   "metadata": {},
   "outputs": [],
   "source": [
    "seek = 30\n",
    "inputs[seek], targets[seek], outputs[seek]"
   ]
  },
  {
   "cell_type": "code",
   "execution_count": null,
   "metadata": {},
   "outputs": [],
   "source": [
    "seek = 300\n",
    "inputs[seek], targets[seek], outputs[seek]"
   ]
  },
  {
   "cell_type": "code",
   "execution_count": null,
   "metadata": {},
   "outputs": [],
   "source": []
  },
  {
   "cell_type": "code",
   "execution_count": null,
   "metadata": {},
   "outputs": [],
   "source": []
  },
  {
   "cell_type": "code",
   "execution_count": null,
   "metadata": {},
   "outputs": [],
   "source": []
  },
  {
   "cell_type": "code",
   "execution_count": null,
   "metadata": {},
   "outputs": [],
   "source": []
  },
  {
   "cell_type": "code",
   "execution_count": null,
   "metadata": {},
   "outputs": [],
   "source": []
  }
 ],
 "metadata": {
  "kernelspec": {
   "display_name": "my-fastai",
   "language": "python",
   "name": "my-fastai"
  },
  "language_info": {
   "codemirror_mode": {
    "name": "ipython",
    "version": 3
   },
   "file_extension": ".py",
   "mimetype": "text/x-python",
   "name": "python",
   "nbconvert_exporter": "python",
   "pygments_lexer": "ipython3",
   "version": "3.6.8"
  }
 },
 "nbformat": 4,
 "nbformat_minor": 2
}
